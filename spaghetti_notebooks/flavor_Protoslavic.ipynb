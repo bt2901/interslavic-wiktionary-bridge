{
 "cells": [
  {
   "cell_type": "code",
   "execution_count": 323,
   "id": "0211d6ce",
   "metadata": {},
   "outputs": [],
   "source": [
    "import json\n",
    "\n"
   ]
  },
  {
   "cell_type": "code",
   "execution_count": 350,
   "id": "77a14337",
   "metadata": {},
   "outputs": [
    {
     "data": {
      "text/plain": [
       "'[{\"rųka\": \"rǫka\", \"svěća\": \"svěťa\", \"prěd\": \"perdъ\", \"pěsȯk\": \"pěsъkъ\", \"noć\": \"noťь\", \"dȯžď\": \"dъždžь\", \"gråd\": \"gordъ\", \"dŕžati\": \"dьržati\", \"pės\": \"pьsъ\", \"grlo\": \"gъrdlo\", \"język\": \"ęzykъ\", \"glåva\": \"golva\", \"mlěko\": \"melko\", \"pųť\": \"pǫtь\", \"byti\": \"byti\", \"tȯlsty\": \"tъlstъ\", \"dobry\": \"dobrъ\", \"kråva\": \"korva\", \"brěg\": \"bergъ\", \"dȯlg\": \"dьlgъ\", \"smŕť\": \"sъmьrtь\", \"orųďje\": \"orǫdьje\", \"moliti\": \"modliti\", \"vųtroba\": \"ǫtroba\", \"trg\": \"tъrgъ\", \"dėnj\": \"dьnь\", \"krčma\": \"kъrčьma\", \"pavųk\": \"paǫkъ\", \"mlådy\": \"moldъ\", \"svět\": \"světъ\", \"rěka\": \"rěka\", \"među\": \"meďu\", \"vȯlk\": \"vьlkъ\", \"kosť\": \"kostь\", \"kȯlbasa\": \"kъlbasa\", \"sȯn\": \"sъnъ\", \"otėc\": \"otьcь\", \"ljubiti\": \"ľubiti\", \"svęty\": \"svętъ\", \"knęź\": \"kъnędzь\", \"caŕ\": \"carь\"}, [\"byti\", \"dobry\", \"svět\", \"rěka\", \"język\", \"svęty\", \"pųť\", \"rųka\", \"vųtroba\", \"pavųk\", \"otėc\", \"pės\", \"sȯn\", \"pěsȯk\", \"gråd\", \"kråva\", \"glåva\", \"mlådy\", \"brěg\", \"prěd\", \"mlěko\", \"trg\", \"krčma\", \"dŕžati\", \"smŕť\", \"dȯlg\", \"kȯlbasa\", \"tȯlsty\", \"vȯlk\", \"kupjų\", \"zemja\", \"ljubiti\", \"hvaljeńje\", \"dėnj\", \"hrånjeńje\", \"caŕ\", \"tvorjeńje\", \"kosť\", \"dȯžď\", \"loś\", \"knęź\", \"prošų\", \"tęžeńje\", \"svěća\", \"noć\", \"među\", \"ščetka\", \"moliti\", \"grlo\", \"glåva\", \"jego\", \"usiĺje\", \"dělańje\", \"primoŕje\", \"žiťje\", \"orųďje\", \"podlěśje\"]]'"
      ]
     },
     "execution_count": 350,
     "metadata": {},
     "output_type": "execute_result"
    }
   ],
   "source": [
    "json.dumps([ALL_MATCHES, JAN_EXAMPLES], ensure_ascii=False)"
   ]
  },
  {
   "cell_type": "code",
   "execution_count": 499,
   "id": "2520ca09",
   "metadata": {},
   "outputs": [
    {
     "data": {
      "text/plain": [
       "{'rųka': 'rǫka',\n",
       " 'svěća': 'svěťa',\n",
       " 'prěd': 'perdъ',\n",
       " 'pěsȯk': 'pěsъkъ',\n",
       " 'noć': 'noťь',\n",
       " 'dȯžď': 'dъždžь',\n",
       " 'gråd': 'gordъ',\n",
       " 'dŕžati': 'dьržati',\n",
       " 'pės': 'pьsъ',\n",
       " 'grlo': 'gъrdlo',\n",
       " 'język': 'ęzykъ',\n",
       " 'glåva': 'golva',\n",
       " 'mlěko': 'melko',\n",
       " 'pųť': 'pǫtь',\n",
       " 'byti': 'byti',\n",
       " 'tȯlsty': 'tъlstъ',\n",
       " 'dobry': 'dobrъ',\n",
       " 'kråva': 'korva',\n",
       " 'brěg': 'bergъ',\n",
       " 'dȯlg': 'dьlgъ',\n",
       " 'smŕť': 'sъmьrtь',\n",
       " 'orųďje': 'orǫdьje',\n",
       " 'moliti': 'modliti',\n",
       " 'vųtroba': 'ǫtroba',\n",
       " 'trg': 'tъrgъ',\n",
       " 'dėnj': 'dьnь',\n",
       " 'krčma': 'kъrčьma',\n",
       " 'pavųk': 'paǫkъ',\n",
       " 'mlådy': 'moldъ',\n",
       " 'svět': 'světъ',\n",
       " 'rěka': 'rěka',\n",
       " 'među': 'meďu',\n",
       " 'vȯlk': 'vьlkъ',\n",
       " 'kosť': 'kostь',\n",
       " 'kȯlbasa': 'kъlbasa',\n",
       " 'sȯn': 'sъnъ',\n",
       " 'otėc': 'otьcь',\n",
       " 'ljubiti': 'ľubiti',\n",
       " 'svęty': 'svętъ',\n",
       " 'knęź': 'kъnędzь',\n",
       " 'caŕ': 'carь',\n",
       " 'loś': 'olsь',\n",
       " 'zemja': 'zemľa',\n",
       " 'žiťje': 'žitьje',\n",
       " 'tvorjeńje': 'tvořenьje',\n",
       " 'hrånjeńje': 'xorňenьje',\n",
       " 'tęžeńje': 'tęženьje',\n",
       " 'hvaljeńje': 'xvaľenьje',\n",
       " 'usiĺje': 'usilьje',\n",
       " 'primoŕje': 'primorьje',\n",
       " 'podlěśje': 'podlěsьje',\n",
       " 'dělańje': 'dělanьje',\n",
       " 'jego': 'jego',\n",
       " 'ščetka': '(š)četъka',\n",
       " 'kupjų': 'kupľǫ',\n",
       " 'prošų': 'prošǫ'}"
      ]
     },
     "execution_count": 499,
     "metadata": {},
     "output_type": "execute_result"
    }
   ],
   "source": [
    "ALL_MATCHES"
   ]
  },
  {
   "cell_type": "code",
   "execution_count": 324,
   "id": "32a28cd7",
   "metadata": {},
   "outputs": [],
   "source": [
    "with open(\"wiktionary_extended_new.json\", \"r\", encoding=\"utf8\") as f:\n",
    "    words_data = json.load(f)\n"
   ]
  },
  {
   "cell_type": "code",
   "execution_count": 330,
   "id": "9c57a907",
   "metadata": {},
   "outputs": [
    {
     "data": {
      "text/plain": [
       "(13323, 3692)"
      ]
     },
     "execution_count": 330,
     "metadata": {},
     "output_type": "execute_result"
    }
   ],
   "source": [
    "all_reconstructions = set()\n",
    "reconstructed_articles = {}\n",
    "\n",
    "for k, v in words_data.items():\n",
    "    if v['Related_Slavic']:\n",
    "        all_reconstructions |= set([x[1][1:] for x in v['Related_Slavic']])\n",
    "    all_reconstructions.add(v['*'])\n",
    "    reconstructed_articles[v['*']] = v\n",
    "\n",
    "len(all_reconstructions), len(reconstructed_articles)"
   ]
  },
  {
   "cell_type": "code",
   "execution_count": null,
   "id": "c372734c",
   "metadata": {},
   "outputs": [],
   "source": [
    "all_reconstructions"
   ]
  },
  {
   "cell_type": "code",
   "execution_count": null,
   "id": "25311edc",
   "metadata": {},
   "outputs": [],
   "source": []
  },
  {
   "cell_type": "code",
   "execution_count": null,
   "id": "95e25b35",
   "metadata": {},
   "outputs": [],
   "source": []
  },
  {
   "cell_type": "code",
   "execution_count": 326,
   "id": "4de888c4",
   "metadata": {},
   "outputs": [
    {
     "data": {
      "text/plain": [
       "3687"
      ]
     },
     "execution_count": 326,
     "metadata": {},
     "output_type": "execute_result"
    }
   ],
   "source": [
    "len(data)"
   ]
  },
  {
   "cell_type": "code",
   "execution_count": 329,
   "id": "782ab4c7",
   "metadata": {},
   "outputs": [
    {
     "name": "stdout",
     "output_type": "stream",
     "text": [
      "puzdro\n",
      "bľьvati\n",
      "zemľa\n",
      "žerava\n",
      "sъrěsti\n"
     ]
    }
   ],
   "source": [
    "i = 0\n",
    "\n",
    "for k, v in words_data.items():\n",
    "    word = v['*']\n",
    "    #if \"ď\" in word:\n",
    "    #    print(word)\n",
    "    etm = v['Etymology']\n",
    "    etm = \"\".join(etm)\n",
    "    if \"epenthetic\" in etm:\n",
    "        # print(etm)\n",
    "        print(v['*'])\n",
    "        i += 1\n",
    "        if i == 50:\n",
    "            break"
   ]
  },
  {
   "cell_type": "code",
   "execution_count": 333,
   "id": "41ae8985",
   "metadata": {},
   "outputs": [
    {
     "data": {
      "text/plain": [
       "True"
      ]
     },
     "execution_count": 333,
     "metadata": {},
     "output_type": "execute_result"
    }
   ],
   "source": [
    "\n",
    "\"zemja\" in \"\".join(reconstructed_articles['zemľa']['Etymology'])"
   ]
  },
  {
   "cell_type": "code",
   "execution_count": 336,
   "id": "b4930638",
   "metadata": {},
   "outputs": [
    {
     "name": "stdout",
     "output_type": "stream",
     "text": [
      "onъ ['Pronoun', 'Determiner']\n",
      "věti ['Verb', 'Noun']\n",
      "čara ['Noun', 'Noun']\n",
      "pьrtь ['Noun', 'Noun']\n",
      "ony ['Pronoun', 'Determiner']\n",
      "da ['Particle', 'Conjunction']\n",
      "dobrъ dьnь ['Phrase', 'Noun']\n",
      "kotъka ['Noun', 'Noun']\n",
      "tǫžiti ['Verb', 'Verb']\n",
      "podъ ['Preposition', 'Noun']\n",
      "kukati ['Verb', 'Verb']\n",
      "ęga ['Noun', 'Noun']\n",
      "zьrěti ['Verb', 'Verb']\n",
      "kupiti ['Verb', 'Verb']\n",
      "že ['Conjunction', 'Particle']\n",
      "slonъ ['Noun', 'Noun']\n",
      "kosъ ['Noun', 'Adjective']\n",
      "pьrati ['Verb', 'Verb']\n",
      "strьmь ['Adjective', 'Adverb']\n",
      "polxъ ['Adjective', 'Noun']\n",
      "dьrča ['Noun', 'Noun']\n",
      "klonъ ['Noun', 'Noun']\n",
      "ova ['Determiner', 'Interjection', 'Noun']\n",
      "cělina ['Noun', 'Noun']\n",
      "roditi ['Verb', 'Verb']\n",
      "bogъ ['Noun', 'Noun', 'Adjective']\n",
      "paxati ['Verb', 'Verb']\n",
      "lopъ ['Noun', 'Noun']\n",
      "vortъ ['Noun', 'Noun']\n",
      "tьma ['Noun', 'Noun']\n",
      "vojь ['Noun', 'Noun']\n",
      "kurьcь ['Noun', 'Noun']\n",
      "konotopъ ['Noun', 'Noun']\n",
      "sverěpъ ['Noun', 'Adjective']\n",
      "prǫgъ ['Noun', 'Noun']\n",
      "žeravъ ['Adjective', 'Noun']\n",
      "dikъ ['Adjective', 'Noun']\n",
      "ščurъ ['Adjective', 'Noun']\n",
      "olni ['Noun', 'Adverb']\n",
      "ostrovъ ['Noun', 'Adjective']\n",
      "vyknǫti ['Verb', 'Verb']\n",
      "brězgati ['Verb', 'Verb']\n",
      "kъrma ['Noun', 'Noun']\n",
      "jь ['Determiner', 'Pronoun']\n",
      "kopiti ['Verb', 'Verb']\n",
      "olovo ['Noun', 'Noun']\n",
      "sějati ['Verb', 'Verb']\n",
      "gajь ['Noun', 'Noun']\n",
      "sokъ ['Noun', 'Noun']\n",
      "ǫzъ ['Adjective', 'Noun']\n",
      "o(b)tokъ ['Noun', 'Noun']\n",
      "-inъ ['Adjective', 'Noun']\n",
      "jarъ ['Adjective', 'Noun', 'Adjective', 'Noun']\n",
      "puxъ ['Noun', 'Noun']\n",
      "sětiti ['Verb', 'Verb']\n",
      "verskъ ['Noun', 'Noun']\n",
      "drugъ ['Adjective', 'Noun']\n",
      "porťa ['Noun', 'Noun']\n",
      "na ['Preposition', 'Interjection', 'Pronoun']\n",
      "mitъ ['Adjective', 'Noun']\n",
      "pasti ['Verb', 'Verb']\n",
      "kǫsъ ['Adjective', 'Noun']\n",
      "bukъ ['Noun', 'Noun']\n",
      "lajati ['Verb', 'Verb']\n",
      "xala ['Noun', 'Noun']\n",
      "a ['Conjunction', 'Interjection']\n",
      "oni ['Pronoun', 'Determiner']\n",
      "želěti ['Verb', 'Verb']\n",
      "ni ['Conjunction', 'Adverb']\n",
      "strujiti ['Verb', 'Verb']\n",
      "pьrěti ['Verb', 'Verb']\n",
      "čersъ ['Preposition', 'Noun']\n",
      "vaditi ['Verb', 'Verb', 'Verb']\n",
      "otъ ['Preposition', 'Noun']\n",
      "moldežь ['Noun', 'Noun']\n",
      "ono ['Pronoun', 'Determiner']\n",
      "sъvariti ['Verb', 'Verb']\n",
      "čuxъ ['Noun', 'Noun']\n",
      "varъ ['Noun', 'Noun']\n",
      "li ['Particle', 'Conjunction']\n",
      "torpъ ['Noun', 'Noun']\n",
      "verdьnъ ['Adjective', 'Adjective']\n",
      "vorgъ ['Noun', 'Noun']\n",
      "sluzь ['Noun', 'Noun']\n",
      "měniti ['Verb', 'Verb']\n",
      "ščirъ ['Noun', 'Adjective']\n",
      "kotiti ['Verb', 'Verb']\n",
      "sъporъ ['Noun', 'Adjective']\n",
      "běsъ ['Noun', 'Noun']\n",
      "kura ['Noun', 'Noun']\n",
      "kosatъ ['Adjective', 'Noun']\n",
      "zębnǫti ['Verb', 'Verb']\n",
      "kaliti ['Verb', 'Verb']\n",
      "moltъ ['Noun', 'Noun']\n",
      "mǫka ['Noun', 'Noun']\n",
      "vьrtъ ['Noun', 'Noun']\n",
      "pyrь ['Noun', 'Noun']\n",
      "kosa ['Noun', 'Noun']\n",
      "domъ ['Noun', 'Adverb']\n",
      "stajati ['Verb', 'Verb']\n",
      "drabъ ['Noun', 'Noun']\n",
      "blędь ['Adjective', 'Noun']\n",
      "borъ ['Noun', 'Noun']\n",
      "oně ['Pronoun', 'Determiner']\n",
      "žerti ['Verb', 'Verb']\n",
      "ablonь ['Noun', 'Adjective']\n",
      "brězgъ ['Noun', 'Noun']\n",
      "pariti ['Verb', 'Verb']\n",
      "reťi ['Verb', 'Verb']\n",
      "vodьnikъ ['Noun', 'Noun']\n",
      "granь ['Noun', 'Noun']\n",
      "dušiti ['Verb', 'Verb']\n",
      "polъ ['Noun', 'Noun']\n",
      "slizь ['Noun', 'Noun']\n",
      "žęti ['Verb', 'Verb']\n",
      "sěti ['Verb', 'Verb']\n",
      "dręzga ['Noun', 'Noun']\n",
      "vada ['Noun', 'Noun', 'Noun']\n",
      "vьlna ['Noun', 'Noun']\n",
      "dyšati ['Verb', 'Verb']\n",
      "prǫdъ ['Noun', 'Adjective']\n",
      "nizъ ['Adverb', 'Preposition']\n",
      "divъ ['Noun', 'Noun', 'Adjective', 'Adjective', 'Interjection']\n",
      "vapa ['Noun', 'Noun']\n",
      "čuxati ['Verb', 'Verb']\n",
      "variti ['Verb', 'Verb']\n",
      "sěvati ['Verb', 'Verb', 'Verb']\n",
      "lěpъ ['Noun', 'Adjective']\n",
      "topiti ['Verb', 'Verb']\n",
      "lěkъ ['Adjective', 'Noun']\n",
      "ona ['Pronoun', 'Determiner']\n",
      "ědъkъ ['Adjective', 'Adjective']\n",
      "sorka ['Noun', 'Noun']\n",
      "kuka ['Noun', 'Noun']\n",
      "vysь ['Noun', 'Noun']\n",
      "věďa ['Noun', 'Noun']\n",
      "loskъ ['Noun', 'Noun']\n",
      "děti ['Verb', 'Noun']\n",
      "otęgъčati ['Verb', 'Verb']\n",
      "bagrъ ['Adjective', 'Noun', 'Noun']\n",
      "berzъ ['Noun', 'Adjective']\n"
     ]
    }
   ],
   "source": [
    "from collections import Counter\n",
    "cnt = Counter()\n",
    "for k, v in reconstructed_articles.items():\n",
    "    cnt.update(v['POS'])\n",
    "    if len(v['POS']) > 1:\n",
    "        print(k, v['POS'])\n"
   ]
  },
  {
   "cell_type": "code",
   "execution_count": 337,
   "id": "db8a8867",
   "metadata": {},
   "outputs": [
    {
     "name": "stdout",
     "output_type": "stream",
     "text": [
      "Counter({'Noun': 2175, 'Verb': 913, 'Adjective': 444, 'Adverb': 55, 'Pronoun': 28, 'Preposition': 27, 'Determiner': 25, 'Conjunction': 13, 'Interjection': 12, 'Particle': 9, 'Numeral': 4, 'Phrase': 1, 'Postposition': 1})\n"
     ]
    }
   ],
   "source": [
    "print(cnt)"
   ]
  },
  {
   "cell_type": "code",
   "execution_count": null,
   "id": "ecdb41cc",
   "metadata": {},
   "outputs": [],
   "source": []
  },
  {
   "cell_type": "code",
   "execution_count": null,
   "id": "446fe4aa",
   "metadata": {},
   "outputs": [],
   "source": []
  },
  {
   "cell_type": "code",
   "execution_count": 338,
   "id": "6bf59eba",
   "metadata": {},
   "outputs": [],
   "source": [
    "from isv_nlp_utils.flavorization.replacer import VOWELS"
   ]
  },
  {
   "cell_type": "code",
   "execution_count": 339,
   "id": "abe3a32f",
   "metadata": {},
   "outputs": [],
   "source": [
    "from isv_nlp_utils.flavorization.parsing import parse_multireplacer_rules\n",
    "from isv_nlp_utils.flavorization.tokenizer import compute_annotated_tokens, pretty_stringify\n",
    "from isv_nlp_utils.flavorization.replacer import process_multireplacing, morphological_flavorise\n"
   ]
  },
  {
   "cell_type": "code",
   "execution_count": 340,
   "id": "a4e686ee",
   "metadata": {},
   "outputs": [],
   "source": [
    "from isv_nlp_utils.flavorization.selector import produce_string, filter_good_spellings, filter_lingua, init_detector, init_hunspell\n"
   ]
  },
  {
   "cell_type": "code",
   "execution_count": null,
   "id": "1cfbe54f",
   "metadata": {},
   "outputs": [],
   "source": []
  },
  {
   "cell_type": "code",
   "execution_count": null,
   "id": "587929b7",
   "metadata": {
    "scrolled": true
   },
   "outputs": [],
   "source": [
    "\n"
   ]
  },
  {
   "cell_type": "code",
   "execution_count": 341,
   "id": "38260c2e",
   "metadata": {},
   "outputs": [],
   "source": [
    "from isv_nlp_utils.flavorization.tokenizer import tokens_to_exhaustive_string_list"
   ]
  },
  {
   "cell_type": "code",
   "execution_count": 342,
   "id": "24e75ce1",
   "metadata": {},
   "outputs": [],
   "source": [
    "\n",
    "from isv_nlp_utils import constants\n",
    "from isv_nlp_utils.slovnik import get_slovnik\n",
    "# from isv_translate import translate_sentence, postprocess_translation_details, prepare_parsing\n",
    "\n",
    "from ast import literal_eval\n",
    "import os\n",
    "import glob\n"
   ]
  },
  {
   "cell_type": "code",
   "execution_count": 343,
   "id": "27b62728",
   "metadata": {},
   "outputs": [],
   "source": [
    "from razdel import sentenize\n"
   ]
  },
  {
   "cell_type": "code",
   "execution_count": 36,
   "id": "ae2b11ec",
   "metadata": {},
   "outputs": [],
   "source": [
    "%load_ext autoreload\n",
    "%autoreload 2"
   ]
  },
  {
   "cell_type": "code",
   "execution_count": 344,
   "id": "56cccd3a",
   "metadata": {},
   "outputs": [
    {
     "name": "stdout",
     "output_type": "stream",
     "text": [
      "Found 'slovnik.pkl' file, using it\n"
     ]
    }
   ],
   "source": [
    "slovnik = get_slovnik()\n",
    "slovnik = slovnik['words']\n",
    "\n",
    "morph = constants.create_etm_analyzer(r\"C:\\dev\\ISV_data_gathering\\\\\")\n"
   ]
  },
  {
   "cell_type": "code",
   "execution_count": 345,
   "id": "3a7f7bbe",
   "metadata": {},
   "outputs": [],
   "source": [
    "JAN_EXAMPLES = \"\"\"byti, dobry, svět, rěka, język, svęty, pųt́, rųka, \n",
    "vųtroba, pavųk, otėc, pės, sȯn, pěsȯk, gråd, kråva, glåva, mlådy, \n",
    "brěg, prěd, mlěko, trg, krčma, dŕžati, smŕt́, dȯlg, kȯlbasa, tȯlsty, vȯlk, kupjų, zemja, \n",
    "ljubiti, hvaljeńje, dėnj, hrånjeńje, caŕ, tvorjeńje, \n",
    "kost́, dȯžd́, loś, knęź, prošų, tęžeńje, svěća, noć, među, ščetka, moliti, grlo, glåva, jego, \n",
    "usiĺje, dělańje, primoŕje, žit́je, orųd́je, podlěśje\n",
    "\"\"\".replace(\"\\n\", \"\").replace(\"t́\", \"ť\").replace(\"d́\", \"ď\").split(', ')"
   ]
  },
  {
   "cell_type": "code",
   "execution_count": 461,
   "id": "b323081b",
   "metadata": {},
   "outputs": [],
   "source": [
    "rules_struct, declared_constants = parse_multireplacer_rules(\n",
    "        r\"C:\\dev\\razumlivost\\src\\flavorizers\\slow\\protoslavic.ts\"\n",
    "    )\n",
    "#rules_struct, declared_constants"
   ]
  },
  {
   "cell_type": "code",
   "execution_count": 453,
   "id": "a8be5542",
   "metadata": {},
   "outputs": [],
   "source": [
    "def f(word, rules_struct, declared_constants, pos_tag):\n",
    "    cap = False\n",
    "    space_after = \"\"\n",
    "    \n",
    "    slovnik_pos = \"\"\n",
    "    isv_lemma = None\n",
    "    variants = [ParseVariant(\n",
    "                    [word],\n",
    "                    pos_tag, slovnik_pos, isv_lemma,\n",
    "                    None, \"\", \n",
    "                    False\n",
    "                )]\n",
    "\n",
    "    ann_token = AnnotatedToken(\n",
    "        variants,\n",
    "        cap, space_after,\n",
    "    )\n",
    "    \n",
    "    tokens_base = [ann_token]\n",
    "    # tokens = morphological_flavorise(tokens_base, morph, flavor_rules[LANG])\n",
    "    tokens = process_multireplacing(tokens_base, rules_struct, declared_constants)\n",
    "    return tokens"
   ]
  },
  {
   "cell_type": "code",
   "execution_count": 432,
   "id": "c1e42cbc",
   "metadata": {},
   "outputs": [
    {
     "data": {
      "text/plain": [
       "'bolj'"
      ]
     },
     "execution_count": 432,
     "metadata": {},
     "output_type": "execute_result"
    }
   ],
   "source": [
    "word = 'těnь'\n",
    "word = 'bolь'\n",
    "pretty_stringify(\n",
    "    f(word, rules_struct, declared_constants, {\"\"})\n",
    ")"
   ]
  },
  {
   "cell_type": "code",
   "execution_count": 457,
   "id": "b28411be",
   "metadata": {},
   "outputs": [
    {
     "data": {
      "text/plain": [
       "'[zemja|zemlja]'"
      ]
     },
     "execution_count": 457,
     "metadata": {},
     "output_type": "execute_result"
    }
   ],
   "source": [
    "pretty_stringify(\n",
    "    f(\"zemľa\", rules_struct, declared_constants, {\"\"})\n",
    ")"
   ]
  },
  {
   "cell_type": "code",
   "execution_count": 435,
   "id": "38747d9d",
   "metadata": {},
   "outputs": [
    {
     "data": {
      "text/plain": [
       "False"
      ]
     },
     "execution_count": 435,
     "metadata": {},
     "output_type": "execute_result"
    }
   ],
   "source": [
    "morph.word_is_known(\"oko\")"
   ]
  },
  {
   "cell_type": "code",
   "execution_count": 417,
   "id": "75400621",
   "metadata": {},
   "outputs": [
    {
     "data": {
      "text/plain": [
       "(3692, 1771)"
      ]
     },
     "execution_count": 417,
     "metadata": {},
     "output_type": "execute_result"
    }
   ],
   "source": [
    "len(reconstructed_articles), 1771"
   ]
  },
  {
   "cell_type": "code",
   "execution_count": 448,
   "id": "6d844988",
   "metadata": {},
   "outputs": [
    {
     "name": "stdout",
     "output_type": "stream",
     "text": [
      "bľukati\n",
      "bľuzgati\n",
      "bľusti\n",
      "bľьvati\n",
      "dobľь\n",
      "sabľa\n",
      "stьbľь\n",
      "korabľь\n",
      "bľuščь\n",
      "bľuti\n",
      "dobľestь\n",
      "skobľь\n",
      "bľudo\n",
      "dobľestьnъ\n"
     ]
    }
   ],
   "source": [
    "for word, data in reconstructed_articles.items():\n",
    "    if \"bľ\" in word:\n",
    "        print(word)\n"
   ]
  },
  {
   "cell_type": "code",
   "execution_count": 456,
   "id": "3fc7755a",
   "metadata": {},
   "outputs": [
    {
     "name": "stdout",
     "output_type": "stream",
     "text": [
      "telťi\n",
      "velťi\n",
      "OK! vlěkti\n",
      "pǫťi\n",
      "dъťi\n",
      "lęťi\n",
      "OK! lęgti\n",
      "peťi\n",
      "OK! pekti\n",
      "striťi\n",
      "OK! strigti\n",
      "tęťi\n",
      "běťi\n",
      "OK! běgti\n",
      "sterťi\n",
      "OK! strěgti\n",
      "verťi\n",
      "vьrťi\n",
      "moťi\n",
      "OK! mogti\n",
      "leťi\n",
      "OK! legti\n",
      "reťi\n",
      "OK! rekti\n",
      "teťi\n",
      "OK! tekti\n",
      "sěťi\n",
      "OK! sěkti\n",
      "-ťi\n",
      "stiťi\n",
      "žeťi\n",
      "OK! žegti\n",
      "loťika\n",
      "berťi\n",
      "sęťi\n"
     ]
    }
   ],
   "source": [
    "for word, data in reconstructed_articles.items():\n",
    "    if \"ťi\" in word:\n",
    "        print(word)\n",
    "        tokens = f(word, rules_struct, declared_constants, \"\")\n",
    "\n",
    "        for var in tokens[0].variants[0].text_variants:\n",
    "            if any(\n",
    "                    morph.word_is_known(var1.replace(\"đ\", \"dʒ\")) for var1 in \n",
    "                    [var, \n",
    "                     var.replace(\"ȯ\", \"o\"), var.replace(\"ė\", \"e\"), \n",
    "                     var.replace(\"nj\", \"n\"), var.replace(\"lj\", \"l\"),\n",
    "                     var.replace(\"ď\", \"d\"), var.replace(\"ť\", \"t\"), var.replace(\"å\", \"a\"), var.replace(\"ų\", \"u\"),\n",
    "                     var.replace(\"ś\", \"s\"), var.replace(\"ź\", \"z\"), var.replace(\"ŕ\", \"r\")\n",
    "                    ]\n",
    "            ):\n",
    "                print(\"OK!\", var)\n"
   ]
  },
  {
   "cell_type": "code",
   "execution_count": null,
   "id": "4b9aa5cb",
   "metadata": {},
   "outputs": [],
   "source": []
  },
  {
   "cell_type": "code",
   "execution_count": 462,
   "id": "00bd88ae",
   "metadata": {},
   "outputs": [
    {
     "name": "stdout",
     "output_type": "stream",
     "text": [
      "četyre četyre 28\n",
      "jьti iti 31\n",
      "rъžь rȯž 31\n",
      "kamy kamy 26\n",
      "tъlkъ tȯlk 32\n",
      "dъťi dgti 27\n",
      "trьje tŕje 28\n",
      "oko oko 37\n",
      "bělica bělica 27\n",
      "xoměstorъ homěstor 30\n",
      "Sъvarogъ svarog 28\n",
      "stьklo sťklo 31\n",
      "stъlbъ stȯlb 28\n",
      "volxъ vlåh 28\n",
      "Vęťeslavъ vęćeslav 35\n",
      "gaťę gaćę 29\n",
      "dъxorь dhoŕ 27\n",
      "otъ ot 27\n",
      "čelověkъ čelověk 27\n",
      "smьjati smijati 26\n",
      "bьčela bčela 28\n",
      "ľudьje ljudije 26\n",
      "nebesьskъ nebeśsky 31\n",
      "květъ květ 26\n",
      "mlinъ mlin 28\n",
      "gvězda gvězda 29\n",
      "mъrky mrky 28\n",
      "slověnьskъ slověnjsky 26\n",
      "arębъ jaręb 36\n",
      "ablъko jablko 27\n"
     ]
    },
    {
     "data": {
      "text/plain": [
       "1983"
      ]
     },
     "execution_count": 462,
     "metadata": {},
     "output_type": "execute_result"
    }
   ],
   "source": [
    "slovnik_matches = {}\n",
    "unknown = set()\n",
    "\n",
    "for word, data in reconstructed_articles.items():\n",
    "    pos_tag = \"Adjective\" if \"Adjective\" in data[\"POS\"] else \"\"\n",
    "    tokens = f(word, rules_struct, declared_constants, pos_tag)\n",
    "\n",
    "    for var in tokens[0].variants[0].text_variants:\n",
    "        if any(\n",
    "                morph.word_is_known(var1.replace(\"đ\", \"dʒ\")) for var1 in \n",
    "                [var, \n",
    "                 var.replace(\"ȯ\", \"o\"), var.replace(\"ė\", \"e\"), \n",
    "                 var.replace(\"ě\", \"e\"), var.replace(\"ę\", \"e\"), var.replace(\"ė\", \"e\"),\n",
    "                 var.replace(\"nj\", \"n\"), var.replace(\"lj\", \"l\"),\n",
    "                 var.replace(\"ď\", \"d\"), var.replace(\"ť\", \"t\"), var.replace(\"å\", \"a\"), var.replace(\"ų\", \"u\"),\n",
    "                 var.replace(\"ś\", \"s\"), var.replace(\"ź\", \"z\"), var.replace(\"ŕ\", \"r\")\n",
    "                ]\n",
    "        ):\n",
    "            slovnik_matches[var] = word\n",
    "            break\n",
    "    else:\n",
    "        if len(data) > 25:\n",
    "            print(word, var, len(data))\n",
    "        if len(data) > 10:\n",
    "            unknown.add(word)\n",
    "\n",
    "len(slovnik_matches)"
   ]
  },
  {
   "cell_type": "code",
   "execution_count": 497,
   "id": "6dc29b56",
   "metadata": {},
   "outputs": [
    {
     "data": {
      "text/plain": [
       "{'pro',\n",
       " 'xlěbьnikъ',\n",
       " 'puxlъ',\n",
       " 'skubati',\n",
       " 'lazivo',\n",
       " 'bratьcь',\n",
       " '-kati',\n",
       " 'otъskakati',\n",
       " 'rъžь',\n",
       " 'piťa',\n",
       " 'o(b)tekъ',\n",
       " 'cicati',\n",
       " 'kъmenь',\n",
       " 'šibenica',\n",
       " 'gaťę',\n",
       " 'zijati',\n",
       " 'capati',\n",
       " 'vęťьjь',\n",
       " 'domasědъ',\n",
       " 'řuti',\n",
       " 'ǫsъ',\n",
       " 'ǫty',\n",
       " 'jьgrьcь',\n",
       " 'rějati',\n",
       " 'ǫtьlъ',\n",
       " 'bělonogъ',\n",
       " 'tysǫti',\n",
       " 'galiti',\n",
       " 'kosnǫti',\n",
       " 'sъtrava',\n",
       " 'svinъ',\n",
       " 'batogъ',\n",
       " 'glьjь',\n",
       " 'pasynъkъ',\n",
       " 'boľьjь',\n",
       " 'otъverti',\n",
       " 'paxati',\n",
       " 'rǫbiti',\n",
       " 'gъbnǫti',\n",
       " 'bobyrь',\n",
       " 'kojiti',\n",
       " 'polxъ',\n",
       " 'pьrga',\n",
       " 'bǫbarъ',\n",
       " 'žьvati',\n",
       " 'ękati',\n",
       " 'krosno',\n",
       " 'kysělъ',\n",
       " 'strupъ',\n",
       " 'pa-',\n",
       " '-jь',\n",
       " 'rešeto',\n",
       " 'pilьnъ',\n",
       " 'niknǫti',\n",
       " 'pitati',\n",
       " 'otrǫba',\n",
       " 'pьsati',\n",
       " 'prętati',\n",
       " 'čьstьnota',\n",
       " 'licemĕrъ',\n",
       " 'xa',\n",
       " 'koterъjь',\n",
       " 'vada',\n",
       " 'ěrę',\n",
       " 'mъrky',\n",
       " '-išče',\n",
       " 'gliba',\n",
       " 'kasati',\n",
       " 'xorǫgy',\n",
       " 'pazъ',\n",
       " 'xlěbovъ',\n",
       " 'žigъ',\n",
       " 'božiťь',\n",
       " 'moča',\n",
       " 'koxati',\n",
       " 'mьrzěti',\n",
       " 'drobězgъ',\n",
       " 'pakostь',\n",
       " 'tvarь',\n",
       " 'badati',\n",
       " 'rъděti',\n",
       " 'ladъ',\n",
       " 'bratrъ',\n",
       " 'orstiti',\n",
       " 'ežica',\n",
       " 'torkъ',\n",
       " 'ǫtъka',\n",
       " 'bel(e)niti',\n",
       " 'zapъrtъkъ',\n",
       " 'ežikъ',\n",
       " 'uvy',\n",
       " 'děra',\n",
       " 'ně-',\n",
       " 'orǫdьje',\n",
       " 'měniti',\n",
       " 'cьrky',\n",
       " 'sitъ',\n",
       " 'cělina',\n",
       " 'virъ',\n",
       " 'polmy',\n",
       " 'polsa',\n",
       " 'dъťьka',\n",
       " 'ǫziti',\n",
       " 'mъknǫti',\n",
       " 'lъžica',\n",
       " 'piskořь',\n",
       " 'lǫkъno',\n",
       " 'bьltati',\n",
       " 'vьśǫdu',\n",
       " 'kopanь',\n",
       " '-ogъ',\n",
       " 'noriti',\n",
       " 'krętati',\n",
       " 'lǫgъ',\n",
       " 'tvьrdь',\n",
       " 'strumy',\n",
       " 'ryxlъ',\n",
       " 'pleťe',\n",
       " 'ǫdica',\n",
       " 'ǫzlъ',\n",
       " 'vysь',\n",
       " 'měxyrь',\n",
       " 'rǫgati',\n",
       " 'živica',\n",
       " 'sloniti',\n",
       " 'lękati',\n",
       " 'blizъ',\n",
       " 'gořьjь',\n",
       " 'gaziti',\n",
       " 'ętry',\n",
       " 'vaditi',\n",
       " 'zanovětь',\n",
       " 'udъ',\n",
       " 'bronъ',\n",
       " 'bujati',\n",
       " 'cěpiti',\n",
       " 'kǫťa',\n",
       " 'tǫda',\n",
       " 'grakati',\n",
       " 'šurь',\n",
       " 'koťьka',\n",
       " 'dьnьsь',\n",
       " 'češuja',\n",
       " 'vorbьľь',\n",
       " 'dripa',\n",
       " '-tьje',\n",
       " '-iťь',\n",
       " 'čьstiti',\n",
       " 'skarędъ',\n",
       " 'pora',\n",
       " 'korvajь',\n",
       " 'jьzuti',\n",
       " '(s)mъlžь',\n",
       " 'ǫdolьje',\n",
       " 'myslěti',\n",
       " 'mlinъ',\n",
       " 'ǫbьlъ',\n",
       " 'mьžuriti',\n",
       " 'gnětiti',\n",
       " 'svekry',\n",
       " 'bratrьja',\n",
       " 'golǫbъ',\n",
       " '-xъ',\n",
       " 'dobľestьnъ',\n",
       " 'dristati',\n",
       " 'kokošь',\n",
       " 'svěťьnikъ',\n",
       " 'lyžьka',\n",
       " 'smьrděti',\n",
       " 'kǫdrь',\n",
       " 'granь',\n",
       " '-ьce',\n",
       " 'dęgľь',\n",
       " 'roďьstvo',\n",
       " 'žužeľь',\n",
       " 'pьstrъ',\n",
       " 'kuznьcь',\n",
       " 'daďь bože',\n",
       " 'xvojьka',\n",
       " 'trьje',\n",
       " 'Mokošь',\n",
       " 'trepetъ',\n",
       " '-ьca',\n",
       " 'tьšča',\n",
       " 'krina',\n",
       " 'čeršьňa',\n",
       " 'boltina',\n",
       " 'žeravľь',\n",
       " 'strъjь',\n",
       " 'věďa',\n",
       " 'račiti',\n",
       " 'xvojьnъ',\n",
       " 'ěstva',\n",
       " 'znojь',\n",
       " 'ežakъ',\n",
       " 'žьrdь',\n",
       " 'smaliti',\n",
       " 'jьstъba',\n",
       " 'žuti',\n",
       " 'strǫkъ',\n",
       " 'lepěnъ',\n",
       " 'oťьtnǫti',\n",
       " 'persky',\n",
       " 'stroka',\n",
       " 'gъmyzъ',\n",
       " 'ščupati',\n",
       " 'nastrojь',\n",
       " 'bordavъka',\n",
       " 'blęsti',\n",
       " 'kъrčьmařь',\n",
       " 'ablъko',\n",
       " 'maslěnъ',\n",
       " 'cěvь',\n",
       " '(s)kvьrčěti',\n",
       " 'solnina',\n",
       " 'sčemiti',\n",
       " '-ьcь',\n",
       " 'grьměti',\n",
       " 'skula',\n",
       " 'odolěnъ',\n",
       " 'zъlodějь',\n",
       " 'vьrsta',\n",
       " 'nicati',\n",
       " 'lěnъ',\n",
       " 'edlъka',\n",
       " 'zelьje',\n",
       " 'kuprъ',\n",
       " 'xopiti',\n",
       " 'pazurъ',\n",
       " '-měrъ',\n",
       " 'jьzbyti',\n",
       " 'ľudьje',\n",
       " 'konopь',\n",
       " 'xlěbьnъ',\n",
       " 'žica',\n",
       " 'sǫdakъ',\n",
       " 'bažiti',\n",
       " 'teneto',\n",
       " 'korabľь',\n",
       " 'majati',\n",
       " 'nebьce',\n",
       " 'svidъ',\n",
       " 'beržan(in)ъ',\n",
       " 'otъ',\n",
       " 'glyba',\n",
       " 'pritъča',\n",
       " 'tępati',\n",
       " 'o(b)rǫžьje',\n",
       " 'věščь',\n",
       " 'okačь',\n",
       " 'čьsokolivěkъ',\n",
       " 'gliva',\n",
       " 'Vęťeslavъ',\n",
       " 'zobati',\n",
       " 'šujь',\n",
       " 'kuča',\n",
       " 'kъsьnъ',\n",
       " 'konъ',\n",
       " 'nъ',\n",
       " 'sverěpъ',\n",
       " 'nebesьskъ',\n",
       " 'solďьjь',\n",
       " 'xrobakъ',\n",
       " 'obvida',\n",
       " 'trьvoga',\n",
       " 'jevinъ',\n",
       " 'regti',\n",
       " 'porxъno',\n",
       " 'gomola',\n",
       " 'běditi',\n",
       " 'koty',\n",
       " 'šulo',\n",
       " 'směati',\n",
       " 'xuliti',\n",
       " 'per-',\n",
       " 'stožěrъ',\n",
       " 'mьlkъ',\n",
       " 'ajьčьnica',\n",
       " 'solpъ',\n",
       " 'mosędzь',\n",
       " 'tisъ',\n",
       " 'pravьdьnъ',\n",
       " 'pětьlъ',\n",
       " 'gabati',\n",
       " 'ěrina',\n",
       " 'prǫglo',\n",
       " 'postъ',\n",
       " 'sito',\n",
       " 'toliti',\n",
       " 'sъsьlъ',\n",
       " 'merti',\n",
       " 'godina',\n",
       " '-ь',\n",
       " 'čapati',\n",
       " 'bělъ bogъ',\n",
       " 'sъxnǫti',\n",
       " 'drěkъ',\n",
       " 'dražiti',\n",
       " 'věverъka',\n",
       " 'kyčiti',\n",
       " 'gornostajь',\n",
       " 'guščerъ',\n",
       " 'sijati',\n",
       " 'ščuplъ',\n",
       " 'kamy',\n",
       " 'orlьja',\n",
       " 'dьrati',\n",
       " 'pъrtiti',\n",
       " 'tъkъmo',\n",
       " 'ręsьnica',\n",
       " 'měžiti',\n",
       " 'dobľestь',\n",
       " 'klepati',\n",
       " 'mьgnovenьje',\n",
       " 'grajati',\n",
       " '-aľь',\n",
       " 'květъ',\n",
       " 'bьčela',\n",
       " 'lisa',\n",
       " 'remy',\n",
       " 'dьľьjь',\n",
       " 'porporъ',\n",
       " 'ǫtorъ',\n",
       " 'dobrina',\n",
       " 'zębnǫti',\n",
       " 'sъrěsti',\n",
       " '-ьstvo',\n",
       " 'okunevъ',\n",
       " 'vojьnьnъ',\n",
       " 'skoba',\n",
       " '-inъ',\n",
       " 'kriti',\n",
       " 'stukъ',\n",
       " 'bělica',\n",
       " 'otrokъ',\n",
       " 'stьblь',\n",
       " 'ǫsěnica',\n",
       " 'zautrъkъ',\n",
       " 'eževъ',\n",
       " 'ǫtь',\n",
       " 'pьrxotь',\n",
       " 'pьzděti',\n",
       " 'pьlstь',\n",
       " 'čupъ',\n",
       " 'kosatъ',\n",
       " 'golěmъ',\n",
       " 'řutiti',\n",
       " 'rǫbъ',\n",
       " 'agnьcь',\n",
       " 'bigrъ',\n",
       " 'glumiti',\n",
       " 'gręsti',\n",
       " 'vijunъ',\n",
       " '-ę',\n",
       " 'vъnǫtrь',\n",
       " 'skuti',\n",
       " 'luskъ',\n",
       " 'perpelъ',\n",
       " '-ga',\n",
       " 'gořestь',\n",
       " 'šęga',\n",
       " 'spěxъ',\n",
       " 'xъrkati',\n",
       " 'tupati',\n",
       " 'bъrkati',\n",
       " 'zorkъ',\n",
       " 'posagъ',\n",
       " 'stegno',\n",
       " 'brьvьno',\n",
       " 'tyky',\n",
       " 'lučьjь',\n",
       " 'Sъvarogъ',\n",
       " 'korpa',\n",
       " 'morvъ',\n",
       " 'kviliti',\n",
       " 'bьrdo',\n",
       " 'nizъ',\n",
       " 'gavъkati',\n",
       " 'tъkačь',\n",
       " 'bedrьnьcь',\n",
       " 'vitь',\n",
       " '-ěnъ',\n",
       " 'vodьnikъ',\n",
       " 'gъpanъ',\n",
       " 'tъjьdьnь',\n",
       " 'verditi',\n",
       " 'batę',\n",
       " 'melivo',\n",
       " 'ězъ',\n",
       " 'sěmьjьstvo',\n",
       " 'terbiti',\n",
       " 'stěgъ',\n",
       " 'starějь',\n",
       " 'blьsknǫti',\n",
       " 'brojiti',\n",
       " 'sěnь',\n",
       " 'oko',\n",
       " 'gorditi',\n",
       " 'dubati',\n",
       " 'spěti',\n",
       " 'glota',\n",
       " 'tǫča',\n",
       " 'gǫzъ',\n",
       " 'mьstь',\n",
       " 'pakъ',\n",
       " 'tъ',\n",
       " 'lъskъ',\n",
       " 'skǫdьnъ',\n",
       " 'čerpaxa',\n",
       " 'o(b)aditi',\n",
       " 'bľьvati',\n",
       " 'čerslo',\n",
       " 'axati',\n",
       " 'žezlъ',\n",
       " 'nuriti',\n",
       " 'voliti',\n",
       " '-slo',\n",
       " 'bъzikati',\n",
       " 'ględati',\n",
       " 'dobľь',\n",
       " 'čьstьnъ',\n",
       " 'kъrdo',\n",
       " 'babrati',\n",
       " 'dura',\n",
       " 'krinica',\n",
       " 'čajica',\n",
       " 'mękyna',\n",
       " 'lęčь',\n",
       " 'vorbьjь',\n",
       " 'upъvati',\n",
       " 'gnusъ',\n",
       " 'otъverzti',\n",
       " 'borgъ',\n",
       " 'zola',\n",
       " 'bylьje',\n",
       " 'kъřь',\n",
       " 'nadeďa',\n",
       " 'mъrgati',\n",
       " 'cěsta',\n",
       " 'čakati',\n",
       " 'ortajь',\n",
       " 'ǫgъrinъ',\n",
       " 'desiti',\n",
       " 'dzělo',\n",
       " '-ti',\n",
       " 'sǫ-',\n",
       " 'čeznǫti',\n",
       " 'tęžiti',\n",
       " 'bъrkъ',\n",
       " '-isko',\n",
       " 'prosinьcь',\n",
       " 'kresidlo',\n",
       " 'zidъ',\n",
       " 'stanъ',\n",
       " 'běžati',\n",
       " 'kľučiti',\n",
       " 'duxъna',\n",
       " 'dьrzъ',\n",
       " 'maca',\n",
       " '-nьje',\n",
       " 'kosorь',\n",
       " 'svěťařь',\n",
       " 'droždža',\n",
       " 'pǫto',\n",
       " 'sudlica',\n",
       " 'kroma',\n",
       " 'vorbь',\n",
       " '-atъ',\n",
       " 'bělina',\n",
       " 'prikrъ',\n",
       " 'tolkъno',\n",
       " 'natь',\n",
       " 'xlǫdъ',\n",
       " 'rogozъ',\n",
       " 'mьrziti',\n",
       " 'otava',\n",
       " 'pustyni',\n",
       " '(s)tъrčati',\n",
       " 'poľaninъ',\n",
       " 'pěšьka',\n",
       " 'nъťьvy',\n",
       " 'glъxnǫti',\n",
       " 'dьněti',\n",
       " 'sǫpiti',\n",
       " 'komaxa',\n",
       " 'broščь',\n",
       " 'stьrkъ',\n",
       " 'gatati',\n",
       " 'ševeliti',\n",
       " 'Xъrsъ',\n",
       " 'teta',\n",
       " 'porkъ',\n",
       " 'šibъkъ',\n",
       " '(j)ęčьmy',\n",
       " 'strьžьnь',\n",
       " 'pragnǫti',\n",
       " '-ьba',\n",
       " 'bričь',\n",
       " 'glazъ',\n",
       " 'slověnьskъ',\n",
       " 'obuvь',\n",
       " 'jьvьlga',\n",
       " 'kolivěkъ',\n",
       " 'podьlostь',\n",
       " 'slověninъ',\n",
       " '-ovati',\n",
       " 'šьpъtъ',\n",
       " 'jьkriti',\n",
       " '-ъkъ',\n",
       " 'skvara',\n",
       " 'ablo',\n",
       " 'skornь',\n",
       " 'nicь',\n",
       " 'smagnǫti',\n",
       " 'botьjanъ',\n",
       " 'ničati',\n",
       " 'divizna',\n",
       " 'svinьja',\n",
       " 'toporъ',\n",
       " 'volxъ',\n",
       " 'vьrzati',\n",
       " 'pryskati',\n",
       " 'arębina',\n",
       " 'polšiti',\n",
       " 'kręnǫti',\n",
       " 'svьrdьlъ',\n",
       " 'osojь',\n",
       " 'gatiti',\n",
       " 'ajьko',\n",
       " 'smědъ',\n",
       " 'lišьka',\n",
       " 'peťera',\n",
       " 'cěva',\n",
       " 'kotьcь',\n",
       " 'čexъlъ',\n",
       " 'pečalь',\n",
       " 'xoxuľa',\n",
       " 'četa',\n",
       " 'soxa',\n",
       " 'kopanica',\n",
       " 'vasnь',\n",
       " 'iskrьňь',\n",
       " 'čǫbьrъ',\n",
       " 'xvojina',\n",
       " 'šibati',\n",
       " 'stavъ',\n",
       " 'skutъ',\n",
       " 'jьnъ',\n",
       " 'kruša',\n",
       " 'puxati',\n",
       " '-ťi',\n",
       " 'kъrkъ',\n",
       " 'kysati',\n",
       " 'tyti',\n",
       " 'studъ',\n",
       " 'krupьnъ',\n",
       " 'drokъ',\n",
       " 'gorazdъ',\n",
       " 'kľuka',\n",
       " 'xorna',\n",
       " 'stьrvь',\n",
       " 'strugъ',\n",
       " 'torpъ',\n",
       " 'ǫxati',\n",
       " 'dereza',\n",
       " 'dъxorь',\n",
       " 'ručajь',\n",
       " '-ikъ',\n",
       " '-dlo',\n",
       " 'sъrokъ',\n",
       " 'petьlъ',\n",
       " 'voržьda',\n",
       " 'čukati',\n",
       " 'kotьlikъ',\n",
       " 'turъ',\n",
       " 'uklěja',\n",
       " 'nyti',\n",
       " 'korgujь',\n",
       " 'oskъrdъ',\n",
       " 'dъťi',\n",
       " 'krošňa',\n",
       " 'Miroslavъ',\n",
       " 'bogъ daďь',\n",
       " 'snopъ',\n",
       " 'patriti',\n",
       " 'traviti',\n",
       " 'trǫsъ',\n",
       " 'ščirъ',\n",
       " 'nasoka',\n",
       " 'gryža',\n",
       " 'trěščati',\n",
       " 'koltъ',\n",
       " 'xoxolъ',\n",
       " 'mьzda',\n",
       " 'skovorda',\n",
       " 'ženъka',\n",
       " 'vьrtъ',\n",
       " 'bьrgъlězъ',\n",
       " 'smъrčьkъ',\n",
       " 'ovadъ',\n",
       " 'božurъ',\n",
       " 'sьčava',\n",
       " 'žeravъ',\n",
       " 'glěnь',\n",
       " 'obrъtь',\n",
       " 'teti',\n",
       " 'loskъ',\n",
       " 'čersъ',\n",
       " 'krьstiti',\n",
       " 'grotъ',\n",
       " 'smьjati',\n",
       " 'melьnica',\n",
       " 'luditi',\n",
       " 'ustьje',\n",
       " 'galъka',\n",
       " 'jьti',\n",
       " 'sъmьrtьnostь',\n",
       " 'starina',\n",
       " 'glumъ',\n",
       " 'sъsati',\n",
       " 'dǫbrava',\n",
       " 'Strybogъ',\n",
       " 'xabiti',\n",
       " 'tuliti',\n",
       " 'kъjь',\n",
       " 'pra-',\n",
       " 'retędzь',\n",
       " 'skobľь',\n",
       " 'soltina',\n",
       " 'bъrščь',\n",
       " 'aje',\n",
       " 'pustošь',\n",
       " 'skormъ',\n",
       " 'gynǫti',\n",
       " 'xolpъ',\n",
       " 'rarogъ',\n",
       " 'krъšiti',\n",
       " 'klětь',\n",
       " 'sębrъ',\n",
       " 'studenьcь',\n",
       " 'tekъ',\n",
       " 'xrьbьtъ',\n",
       " 'paziti',\n",
       " 'gъrdъ',\n",
       " 'loťika',\n",
       " 'čajati',\n",
       " 'čьvorъ',\n",
       " 'kъrpa',\n",
       " 'xoměkъ',\n",
       " 'bry',\n",
       " 'šьvьcь',\n",
       " 'pьlxъ',\n",
       " '-yni',\n",
       " 'olni',\n",
       " 'palica',\n",
       " 'ni-',\n",
       " 'věxa',\n",
       " 'trьvožьnъ',\n",
       " 'sъdorvьje',\n",
       " 'blekotъ',\n",
       " 'tъlkъ',\n",
       " 'lędo',\n",
       " 'zolkъ',\n",
       " 'tesъ',\n",
       " 'oťutiti',\n",
       " 'pyrъ',\n",
       " 'xlěbьcь',\n",
       " 'likъ',\n",
       " 'duriti',\n",
       " 'buza',\n",
       " 'ortь',\n",
       " 'kъlpь',\n",
       " 'těmę',\n",
       " 'ale',\n",
       " 'duxati',\n",
       " 'tuňь',\n",
       " 'muditi',\n",
       " 'bělьcь',\n",
       " 'devęsilъ',\n",
       " 'sěmo',\n",
       " 'balakati',\n",
       " 'kъrsъ',\n",
       " 'žiznь',\n",
       " 'lěnь',\n",
       " 'Voldiměrъ',\n",
       " 'dovьlěti',\n",
       " 'greby',\n",
       " 'kobьcь',\n",
       " 'bagati',\n",
       " 'stъlbъ',\n",
       " 'rězъkъ',\n",
       " 'tiňa',\n",
       " 'sluti',\n",
       " 'pirogъ',\n",
       " 'najьti',\n",
       " 'zaverti',\n",
       " 'želdica',\n",
       " 'zavada',\n",
       " 'ščelina',\n",
       " 'bělota',\n",
       " 'polnina',\n",
       " 'kľusę',\n",
       " 'sъčęstьje',\n",
       " 'pražiti',\n",
       " 'globa',\n",
       " 'paorbъkъ',\n",
       " 'čerpti',\n",
       " 'bujь',\n",
       " 'lubъ',\n",
       " 'želpati',\n",
       " 'orz-',\n",
       " 'olbǫdь',\n",
       " 'vьxъde',\n",
       " 'vъz-',\n",
       " 'vьrtъpъ',\n",
       " 'xoměstorъ',\n",
       " 'Trigolvъ',\n",
       " 'žely',\n",
       " 'kurica',\n",
       " 'bogъ',\n",
       " 'gověti',\n",
       " 'věščьba',\n",
       " 'torъ',\n",
       " 'grabrъ',\n",
       " 'čelověkъ',\n",
       " 'volšьskъ',\n",
       " 'ědъkъ',\n",
       " 'černъ',\n",
       " 'misa',\n",
       " 'jako',\n",
       " 'šata',\n",
       " 'kruxъ',\n",
       " 'gavědь',\n",
       " 'ǫdъka',\n",
       " 'skytati',\n",
       " 'pьšeno',\n",
       " 'axъ',\n",
       " 'dьrnǫti',\n",
       " 'aščerъka',\n",
       " 'tetervь',\n",
       " 'dъxъ',\n",
       " 'xlěbьnica',\n",
       " '-ьjь',\n",
       " 'konotopъ',\n",
       " 'trǫsiti',\n",
       " 'skvьrna',\n",
       " 'jьzmьlsti',\n",
       " 'somъ',\n",
       " 'mъldni',\n",
       " 'dьbrь',\n",
       " 'strьnadъ',\n",
       " 'sьrxy',\n",
       " 'truxlъ',\n",
       " 'sъnęti',\n",
       " 'pasěka',\n",
       " 'ni',\n",
       " 'nižьjь',\n",
       " 'dъxnǫti',\n",
       " 'šipъ',\n",
       " 'kǫda',\n",
       " 'pazduxa',\n",
       " 'ǫpyrь',\n",
       " 'čermъša',\n",
       " 'strъgati',\n",
       " 'novějь',\n",
       " 'xǫtь',\n",
       " 'rъtъ',\n",
       " 'blaznъ',\n",
       " 'glъtati',\n",
       " 'trošiti',\n",
       " 'ščьvati',\n",
       " 'roniti',\n",
       " 'ǫvozъ',\n",
       " 'badlovati',\n",
       " 'věťati',\n",
       " '-ařь',\n",
       " 'tučьnъ',\n",
       " 'kotorъ',\n",
       " 'ablonь',\n",
       " '-ežь',\n",
       " 'xyliti',\n",
       " 'čukъ',\n",
       " 'vyzъ',\n",
       " 'mьňьjь',\n",
       " 'oměgъ',\n",
       " 'dъmuxati',\n",
       " 'blędivъ',\n",
       " 'kuznь',\n",
       " 'ba',\n",
       " 'žerdlo',\n",
       " 'gorďa',\n",
       " 'braga',\n",
       " 'ličiti',\n",
       " 'cicь',\n",
       " 'něga',\n",
       " 'zmьjь',\n",
       " 'pěsnь',\n",
       " 'lisъ',\n",
       " 'zveno',\n",
       " 'ano',\n",
       " 'dьraka',\n",
       " 'košara',\n",
       " 'tьrpъkъ',\n",
       " 'stъpica',\n",
       " 'telťi',\n",
       " 'ręditi',\n",
       " 'prǫdъ',\n",
       " 'sъdorvъ',\n",
       " 'kъrtiti',\n",
       " 'loky',\n",
       " 'prěsnъ',\n",
       " 'dybati',\n",
       " 'plęsati',\n",
       " 'porťa',\n",
       " 'strьmъ',\n",
       " 'edinakъ',\n",
       " 'pyrьjь',\n",
       " '-ivo',\n",
       " 'ǫtica',\n",
       " 'sъbožьje',\n",
       " 'lędina',\n",
       " 'stьvolъ',\n",
       " 'rinǫti',\n",
       " 'zybati',\n",
       " 'pľьvati',\n",
       " 'stenati',\n",
       " 'žerbъ',\n",
       " 'pьkъlъ',\n",
       " '-ьskъ',\n",
       " 'obrusъ',\n",
       " 'tъjьžedьnь',\n",
       " 'žьrny',\n",
       " 'korkъ',\n",
       " 'brъkati',\n",
       " 'sirъ',\n",
       " 'otъvěťati',\n",
       " 'olčьnъ',\n",
       " 'čьbьrъ',\n",
       " 'xoxotati',\n",
       " 'želdь',\n",
       " 'globiti',\n",
       " 'lędvьje',\n",
       " 'xvěti',\n",
       " '-ostь',\n",
       " 'xala',\n",
       " 'česnъ',\n",
       " 'narěčьje',\n",
       " 'žьdati',\n",
       " 'batъ',\n",
       " 'boršьno',\n",
       " 'podъbělъ',\n",
       " '-ačь',\n",
       " 'trěskati',\n",
       " '-ьje',\n",
       " 'sъdoba',\n",
       " 'pędlo',\n",
       " 'kucъ',\n",
       " 'tъščь',\n",
       " 'kopněti',\n",
       " 'pǫtati',\n",
       " 'bolnьje',\n",
       " 'tušiti',\n",
       " 'čьrnъ bogъ',\n",
       " 'gъrčь',\n",
       " 'kvisti',\n",
       " 'věrьnostь',\n",
       " 'gyža',\n",
       " 'rogačь',\n",
       " 'linǫti',\n",
       " 'prędivo',\n",
       " 'pьjavъka',\n",
       " 'lъkno',\n",
       " 'varъ',\n",
       " 'korstělь',\n",
       " 'svorbъ',\n",
       " 'meltva',\n",
       " 'bakati',\n",
       " 'blьščati',\n",
       " 'ǫtę',\n",
       " 'lada',\n",
       " 'znobiti',\n",
       " 'Mьstislavъ',\n",
       " 'smuga',\n",
       " 'židъkъ',\n",
       " 'ulьjь',\n",
       " 'smoky',\n",
       " 'mana',\n",
       " 'sněžьnъ',\n",
       " 'čerti',\n",
       " 'stiťi',\n",
       " 'prijьti',\n",
       " 'počivati',\n",
       " 'zěpati',\n",
       " 'prijaznь',\n",
       " 'sъľubъ',\n",
       " 'běkati',\n",
       " 'kǫtati',\n",
       " 'kryša',\n",
       " 'luspa',\n",
       " 'pľugavъ',\n",
       " 'sukati',\n",
       " 'stьblo',\n",
       " 'zobь',\n",
       " 'slьza',\n",
       " 'pliska',\n",
       " 'čьrmьnъ',\n",
       " 'blizna',\n",
       " '-ica',\n",
       " 'slota',\n",
       " 'brudъ',\n",
       " 'paxnǫti',\n",
       " 'gajьka',\n",
       " 'pьrtь',\n",
       " 'draska',\n",
       " 'tomiti',\n",
       " 'gorďaninъ',\n",
       " 'pečatь',\n",
       " 'blizьnьcь',\n",
       " 'ruměnъ',\n",
       " '-tati',\n",
       " 'perkъ',\n",
       " 'jьlьmъ',\n",
       " 'tьrzati',\n",
       " 'kъrnъ',\n",
       " 'berťi',\n",
       " 'mъšica',\n",
       " 'lěxa',\n",
       " 'perina',\n",
       " 'kъduňa',\n",
       " 'lopъ',\n",
       " 'sьkyľь',\n",
       " 'zinǫti',\n",
       " 'četyre',\n",
       " 'solstь',\n",
       " 'kolivo',\n",
       " 'polzъ',\n",
       " 'galъ',\n",
       " 'drazniti',\n",
       " 'golvačь',\n",
       " 'aščerica',\n",
       " 'jazva',\n",
       " 'okovъ',\n",
       " 'stьdza',\n",
       " 'zьlčь',\n",
       " 'čьbanъ',\n",
       " 'baba ęga',\n",
       " 'trepati',\n",
       " 'pędь',\n",
       " 'gleznъ',\n",
       " 'kotьlьnica',\n",
       " 'sujь',\n",
       " 'borvъ',\n",
       " 'Gostislavъ',\n",
       " '-ьnъ',\n",
       " 'odrъ',\n",
       " 'baxati',\n",
       " 'bъdьňa',\n",
       " 'dьrvьňa',\n",
       " 'ǫgrъ',\n",
       " 'kobь',\n",
       " 'ajьčьnikъ',\n",
       " 'govęďь',\n",
       " 'slǫka',\n",
       " 'ěrьcь',\n",
       " 'lipъkъ',\n",
       " 'praščurъ',\n",
       " 'stьbľь',\n",
       " 'vapa',\n",
       " '-vъ',\n",
       " 'ěsnъ',\n",
       " 'svirati',\n",
       " 'mъdьlь',\n",
       " 'rězъ',\n",
       " 'xmara',\n",
       " 'ščuka',\n",
       " 'olnita',\n",
       " 'lopěnъ',\n",
       " 'sьrbati',\n",
       " 'grakъ',\n",
       " 'rěpьjь',\n",
       " 'lьnǫti',\n",
       " 'stьrnь',\n",
       " 'rězьba',\n",
       " 'glazъkъ',\n",
       " 'korpъ',\n",
       " 'xapati',\n",
       " 'vьršiti',\n",
       " '-ьja',\n",
       " 'molto',\n",
       " 'gręda',\n",
       " 'gvězda',\n",
       " 'axъkati',\n",
       " 'grǫziti',\n",
       " 'kušati',\n",
       " 'snubiti',\n",
       " 'plěšь',\n",
       " 'dъska',\n",
       " 'zvьněti',\n",
       " 'ǫtrь',\n",
       " 'gnobiti',\n",
       " ...}"
      ]
     },
     "execution_count": 497,
     "metadata": {},
     "output_type": "execute_result"
    }
   ],
   "source": [
    "unknown"
   ]
  },
  {
   "cell_type": "code",
   "execution_count": 458,
   "id": "ad9f03ed",
   "metadata": {},
   "outputs": [
    {
     "data": {
      "text/plain": [
       "[('t', 539),\n",
       " ('i', 532),\n",
       " ('a', 528),\n",
       " ('ь', 469),\n",
       " ('ъ', 463),\n",
       " ('r', 391),\n",
       " ('o', 370),\n",
       " ('s', 271),\n",
       " ('k', 269),\n",
       " ('l', 246)]"
      ]
     },
     "execution_count": 458,
     "metadata": {},
     "output_type": "execute_result"
    }
   ],
   "source": [
    "letters_cnt = Counter()\n",
    "\n",
    "for w in unknown:\n",
    "    letters_cnt.update(w)\n",
    "letters_cnt.most_common(10)"
   ]
  },
  {
   "cell_type": "code",
   "execution_count": null,
   "id": "95099511",
   "metadata": {},
   "outputs": [],
   "source": []
  },
  {
   "cell_type": "code",
   "execution_count": 460,
   "id": "b609d97f",
   "metadata": {},
   "outputs": [
    {
     "name": "stdout",
     "output_type": "stream",
     "text": [
      "pa- pa-\n",
      "-jь -j\n",
      "rešeto rešeto\n",
      "pilьnъ pilėn\n",
      "niknǫti niknųti\n",
      "pitati pitati\n",
      "otrǫba otrųba\n",
      "pьsati psati\n",
      "prętati prętati\n",
      "čьstьnota čėsťnota\n",
      "věverica věverica\n",
      "licemĕrъ licemĕr\n",
      "xa ha\n",
      "koterъjь kotery\n",
      "vada vada\n",
      "ěrę jěrę\n",
      "mъrky mrky\n",
      "-išče -išče\n",
      "gliba gliba\n",
      "kasati kasati\n"
     ]
    }
   ],
   "source": [
    "for w in list(unknown)[50:70]:\n",
    "    res = f(w, rules_struct, declared_constants, \"\")\n",
    "    print(w, pretty_stringify(res))\n"
   ]
  },
  {
   "cell_type": "code",
   "execution_count": null,
   "id": "cc3aee01",
   "metadata": {},
   "outputs": [],
   "source": []
  },
  {
   "cell_type": "code",
   "execution_count": null,
   "id": "06120a15",
   "metadata": {},
   "outputs": [],
   "source": []
  },
  {
   "cell_type": "code",
   "execution_count": 413,
   "id": "6b6e77c8",
   "metadata": {},
   "outputs": [
    {
     "data": {
      "text/plain": [
       "1741"
      ]
     },
     "execution_count": 413,
     "metadata": {},
     "output_type": "execute_result"
    }
   ],
   "source": [
    "len(slovnik_matches)"
   ]
  },
  {
   "cell_type": "code",
   "execution_count": 463,
   "id": "1185abe4",
   "metadata": {},
   "outputs": [
    {
     "name": "stdout",
     "output_type": "stream",
     "text": [
      "9631 2055\n"
     ]
    }
   ],
   "source": [
    "smatches2 = {}\n",
    "\n",
    "for word in all_reconstructions:\n",
    "    if word in reconstructed_articles:\n",
    "        continue\n",
    "    for pos_tag in [\"Adjective\", \"\"]:\n",
    "        tokens = f(word, rules_struct, declared_constants, pos_tag)\n",
    "\n",
    "        for var in tokens[0].variants[0].text_variants:\n",
    "            if any(\n",
    "                morph.word_is_known(var1.replace(\"đ\", \"dʒ\")) for var1 in \n",
    "                [var, \n",
    "                 var.replace(\"ȯ\", \"o\"), var.replace(\"ė\", \"e\"), \n",
    "                 var.replace(\"ě\", \"e\"), var.replace(\"ę\", \"e\"), var.replace(\"ė\", \"e\"),\n",
    "                 var.replace(\"nj\", \"n\"), var.replace(\"lj\", \"l\"),\n",
    "                 var.replace(\"ď\", \"d\"), var.replace(\"ť\", \"t\"), var.replace(\"å\", \"a\"), var.replace(\"ų\", \"u\"),\n",
    "                 var.replace(\"ś\", \"s\"), var.replace(\"ź\", \"z\"), var.replace(\"ŕ\", \"r\")\n",
    "            ]):\n",
    "                smatches2[var] = word\n",
    "                break\n",
    "\n",
    "print(len(all_reconstructions) - len(reconstructed_articles), len(smatches2))\n",
    "\n"
   ]
  },
  {
   "cell_type": "code",
   "execution_count": 371,
   "id": "cf8e3183",
   "metadata": {},
   "outputs": [
    {
     "data": {
      "text/plain": [
       "True"
      ]
     },
     "execution_count": 371,
     "metadata": {},
     "output_type": "execute_result"
    }
   ],
   "source": [
    "morph.word_is_known(\"zmija\")"
   ]
  },
  {
   "cell_type": "code",
   "execution_count": 373,
   "id": "277c51c0",
   "metadata": {},
   "outputs": [
    {
     "data": {
      "text/plain": [
       "14"
      ]
     },
     "execution_count": 373,
     "metadata": {},
     "output_type": "execute_result"
    }
   ],
   "source": []
  },
  {
   "cell_type": "code",
   "execution_count": 390,
   "id": "d6c4a144",
   "metadata": {},
   "outputs": [
    {
     "data": {
      "text/plain": [
       "True"
      ]
     },
     "execution_count": 390,
     "metadata": {},
     "output_type": "execute_result"
    }
   ],
   "source": [
    "from isv_nlp_utils.flavorization.replacer import check_constraint\n",
    "\n",
    "check_constraint(vat[0].variants[0], rules_struct[3])"
   ]
  },
  {
   "cell_type": "code",
   "execution_count": 397,
   "id": "f37ce5d0",
   "metadata": {},
   "outputs": [],
   "source": [
    "vat = f('mьrtvъ', rules_struct, declared_constants, {\"Adjective\"}) \n"
   ]
  },
  {
   "cell_type": "code",
   "execution_count": 398,
   "id": "4d146dbf",
   "metadata": {},
   "outputs": [
    {
     "data": {
      "text/plain": [
       "[AnnotatedToken(\n",
       "     variants=[ParseVariant(\n",
       "          text_variants=['mŕtvy'],\n",
       "          features={'Adjective'},\n",
       "          slovnik_pos='',\n",
       "          lemma=None,\n",
       "          isv_id=None,\n",
       "          genesis='',\n",
       "          was_force_processed=False\n",
       "      )],\n",
       "     capitalization=False,\n",
       "     space_after=''\n",
       " )]"
      ]
     },
     "execution_count": 398,
     "metadata": {},
     "output_type": "execute_result"
    }
   ],
   "source": [
    "vat"
   ]
  },
  {
   "cell_type": "code",
   "execution_count": 366,
   "id": "0e35f570",
   "metadata": {},
   "outputs": [],
   "source": [
    "# zmьja šьja"
   ]
  },
  {
   "cell_type": "code",
   "execution_count": 369,
   "id": "7ba96450",
   "metadata": {},
   "outputs": [
    {
     "data": {
      "text/plain": [
       "(['bezbråd'], 'bezbordъ')"
      ]
     },
     "execution_count": 369,
     "metadata": {},
     "output_type": "execute_result"
    }
   ],
   "source": [
    "tokens[0].variants[0].text_variants, word"
   ]
  },
  {
   "cell_type": "code",
   "execution_count": null,
   "id": "79b2aaa7",
   "metadata": {},
   "outputs": [],
   "source": []
  },
  {
   "cell_type": "code",
   "execution_count": 364,
   "id": "33dfb7ea",
   "metadata": {},
   "outputs": [],
   "source": [
    "ALL_MATCHES['loś'] = \"olsь\"\n",
    "ALL_MATCHES['zemja'] = \"zemľa\"\n",
    "ALL_MATCHES['žiťje'] = \"žitьje\"\n",
    "ALL_MATCHES['tvorjeńje'] = \"tvořenьje\"\n",
    "ALL_MATCHES['hrånjeńje'] = \"xorňenьje\"\n",
    "ALL_MATCHES['tęžeńje'] = \"tęženьje\" # \"tędzanьje\"\n",
    "ALL_MATCHES['hvaljeńje'] = \"xvaľenьje\"\n",
    "ALL_MATCHES['usiĺje'] = \"usilьje\"\n",
    "ALL_MATCHES['primoŕje'] = \"primorьje\"\n",
    "ALL_MATCHES['podlěśje'] = \"podlěsьje\"\n",
    "\n",
    "ALL_MATCHES['dělańje'] = \"dělanьje\"\n",
    "ALL_MATCHES['jego'] = \"jego\"\n",
    "ALL_MATCHES['ščetka'] = \"(š)četъka\"\n",
    "ALL_MATCHES['kupjų'] = \"kupľǫ\"\n",
    "ALL_MATCHES['prošų'] = \"prošǫ\"\n",
    "\n",
    "# kupľenьje\n",
    "\n",
    "#\n",
    "\n",
    "# "
   ]
  },
  {
   "cell_type": "code",
   "execution_count": 365,
   "id": "84783e4b",
   "metadata": {},
   "outputs": [
    {
     "data": {
      "text/plain": [
       "set()"
      ]
     },
     "execution_count": 365,
     "metadata": {},
     "output_type": "execute_result"
    }
   ],
   "source": [
    "set(JAN_EXAMPLES) - set(ALL_MATCHES.keys())"
   ]
  },
  {
   "cell_type": "code",
   "execution_count": null,
   "id": "730e2403",
   "metadata": {},
   "outputs": [],
   "source": []
  },
  {
   "cell_type": "code",
   "execution_count": 67,
   "id": "3347edcc",
   "metadata": {},
   "outputs": [],
   "source": [
    "CONST_RULE = S(\"const\") + Word(pyparsing.alphanums) + S(\"=\") + quoted_string + Opt(\";\").suppress()\n"
   ]
  },
  {
   "cell_type": "code",
   "execution_count": 70,
   "id": "21a5aeb1",
   "metadata": {},
   "outputs": [
    {
     "data": {
      "text/plain": [
       "('V', '[aeiouyęěǫъь]')"
      ]
     },
     "execution_count": 70,
     "metadata": {},
     "output_type": "execute_result"
    }
   ],
   "source": [
    "line = \"\"\"const V = '[aeiouyęěǫъь]';\"\"\"\n",
    "\n",
    "res = CONST_RULE.parseString(line)\n",
    "res[0], res[1]"
   ]
  },
  {
   "cell_type": "code",
   "execution_count": 71,
   "id": "45b275de",
   "metadata": {},
   "outputs": [
    {
     "data": {
      "text/plain": [
       "('V', '[aeiouyęěǫъь]')"
      ]
     },
     "execution_count": 71,
     "metadata": {},
     "output_type": "execute_result"
    }
   ],
   "source": [
    "k, v = res\n",
    "\n",
    "k, v"
   ]
  },
  {
   "cell_type": "code",
   "execution_count": 3,
   "id": "881547c5",
   "metadata": {},
   "outputs": [
    {
     "name": "stdout",
     "output_type": "stream",
     "text": [
      "pьsъ pЬsъ\n",
      "pьsy pьsy\n",
      "čьstьnъ čьstЬnъ\n",
      "čьstьny čЬstьny\n",
      "nъťьvy nЪťьvy\n",
      "šьvьcь šьvЬcь\n"
     ]
    }
   ],
   "source": [
    "VOWELS = 'aeiouyęěǫъь'\n",
    "CONSONANTS = 'bcdgjklmnprstvxzčďľňřśšťž'\n",
    "\n",
    "def classify_yers(word):\n",
    "    # See: https://en.wikipedia.org/wiki/Havlík%27s_law\n",
    "    vowels_pos = [i for i, s in enumerate(word) if s in VOWELS]\n",
    "    is_weak = True\n",
    "    classified_vowels = []\n",
    "    for i in reversed(vowels_pos):\n",
    "        vowel = word[i]\n",
    "        if vowel not in [\"ь\", \"ъ\"]:\n",
    "            is_weak = True\n",
    "        else:\n",
    "            vowel = vowel if is_weak else vowel.upper()\n",
    "            is_weak = not is_weak\n",
    "        classified_vowels.append(vowel)\n",
    "    word_as_arr = list(word)\n",
    "    for i, v in zip(vowels_pos, reversed(classified_vowels)):\n",
    "        word_as_arr[i] = v\n",
    "    return \"\".join(word_as_arr)\n",
    "\n",
    "# classify_yers('nъťьvy')\n",
    "\n",
    "for word in ['pьsъ', 'čьstьnъ', 'nъťьvy', 'šьvьcь']:\n",
    "    print(word, classify_yers(word))\n",
    "    if word[-1] == \"ъ\":\n",
    "        adj = \"\".join(word[:-1] + \"y\")\n",
    "        print(adj, classify_yers(adj))\n"
   ]
  },
  {
   "cell_type": "code",
   "execution_count": 4,
   "id": "f56932de",
   "metadata": {},
   "outputs": [
    {
     "data": {
      "text/plain": [
       "'aeiouyęěǫъь'"
      ]
     },
     "execution_count": 4,
     "metadata": {},
     "output_type": "execute_result"
    }
   ],
   "source": [
    "\"\".join(sorted('ьuęǫieěaъyo'))"
   ]
  },
  {
   "cell_type": "code",
   "execution_count": 237,
   "id": "eed3df95",
   "metadata": {},
   "outputs": [],
   "source": [
    "# https://en.wiktionary.org/wiki/Reconstruction:Proto-Slavic/zemľa\n",
    "\n",
    "# need to extract: all rodniks\n",
    "# ignore conjugation\n",
    "# noun\n",
    "# etm info"
   ]
  },
  {
   "cell_type": "code",
   "execution_count": 236,
   "id": "5496322f",
   "metadata": {},
   "outputs": [
    {
     "name": "stdout",
     "output_type": "stream",
     "text": [
      "pľugavъ\n",
      "{'*': 'pľugavъ', 'Old Ruthenian': ['плюгавый[1]'], 'Belarusian': ['плюгавы'], 'Ukrainian': ['плюгавий'], 'Russian': ['плюгавый'], 'Old Czech': ['plíhavý'], 'Czech': ['plihavý', 'plouhavý'], 'Polish': ['plugawy'], 'Slovak': ['pľuhavý']}\n",
      "pľuťe\n",
      "{'*': 'pľuťe', 'Old East Slavic': ['плюча (', '“lungs”', 'nom.pl.)'], 'Old Church Slavonic': ['плюща'], 'Čakavian': ['pľūćȁ'], 'Slovene': ['pljúča (“lungs”', 'nom.pl.) (tonal orthography)'], 'Old Czech': ['pľúcě (“lungs”', 'nom.pl.)'], 'Czech': ['plíce (“lungs”)'], 'Slovak': ['pľúca (“lungs”', 'nom.pl.)']}\n",
      "pľьvati\n",
      "{'*': 'pľьvati', 'Old East Slavic': ['пльвати'], 'Belarusian': ['пляваць', 'плюваць'], 'Russian': ['плевать'], 'Ukrainian': ['плювати'], 'Old Church Slavonic': ['пльвати'], 'Bulgarian': ['плюя', 'плювам'], 'Cyrillic': ['пљувати'], 'Latin': ['pljȕvati'], 'Slovene': ['pljúvati (tonal orthography)'], 'Czech': ['plít', 'plvat', 'plivat'], 'Kashubian': ['plëwac'], 'Polish': ['pluć', 'plwać (archaic)'], 'Slovak': ['pľuť'], 'Lower Sorbian': ['pluwaś'], 'Upper Sorbian': ['pluwać']}\n",
      "{'*': 'zemľa', 'Old East Slavic': ['землꙗ', 'землѧBelarusian'], 'Old Novgorodian': ['ꙁемлѧ'], 'Old Cyrillic': ['землꙗ'], 'Glagolitic': ['ⰸⰵⰿⰾⱑ'], 'Bulgarian': ['земя'], 'Macedonian': ['земја'], 'Cyrillic': ['зѐмља'], 'Latin': ['zèmlja'], 'Chakavian (Vrgada)': ['zemļȁ'], 'Chakavian (Orbanići)': ['zemljȁ'], 'Chakavian (Novi)': ['zemljȁ'], 'Kajkavian (Bednja)': ['zāmljȍ'], 'Slavomolisano': ['zemblja'], 'Slovene': ['zémlja (tonal orthography)'], 'Old Czech': ['země'], 'Czech': ['země', 'zem'], 'Kashubian': ['zemia', 'semia'], 'Polabian': ['zim’ă'], 'Polish': ['ziemia'], 'Silesian': ['ziymia'], 'Slovak': ['zem'], 'Lower Sorbian': ['zemja'], 'Upper Sorbian': ['zemja']}\n",
      "{'*': 'zemь', 'Old East Slavic': ['земь']}\n",
      "čapľa\n",
      "{'*': 'čapľa', 'Belarusian': ['чапля'], 'Russian': ['цапля', 'чапля', 'чапура'], 'Ukrainian': ['чапля'], 'Bulgarian': ['чапла'], 'Macedonian': ['чапја'], 'Cyrillic': ['чапља'], 'Latin': ['čȁplja'], 'Slovene': ['čȃplja (tonal orthography)'], 'Old Czech': ['čiepě', 'čěpě'], 'Czech': ['čáp', 'čapla'], 'Kashubian': ['czapla'], 'Polish': ['czapla'], 'Slovincian': ['čȧplă'], 'Upper Sorbian': ['čapla', 'čapula'], 'Lower Sorbian': ['capla']}\n",
      "dupľa\n",
      "{'*': 'dupľa', 'Russian': ['дупля'], 'Cyrillic': ['дупля'], 'Latin': ['dúplja'], 'Slovene': ['duplja'], 'Polish': ['dziupla']}\n",
      "{'*': 'zemьnъ', 'Belarusian': ['зямны'], 'Russian': ['земной'], 'Ukrainian': ['земний'], 'Old Cyrillic': ['земьнъ'], 'Bulgarian': ['земен'], 'Macedonian': ['земен'], 'Czech': ['zemní'], 'Polish': ['ziemny'], 'Slovak': ['zemný']}\n"
     ]
    }
   ],
   "source": [
    "for k, v in data.items():\n",
    "        word = v['*']\n",
    "        if \"pľ\" in word:\n",
    "            print(word)\n",
    "            print(v)\n",
    "        if \"zem\" in word:\n",
    "            print(v)"
   ]
  },
  {
   "cell_type": "code",
   "execution_count": 5,
   "id": "246a406a",
   "metadata": {},
   "outputs": [
    {
     "name": "stdout",
     "output_type": "stream",
     "text": [
      "nъťьvy nЪťьvy\n",
      "['ночвы f pl', 'ночовки', 'ночёвки']\n",
      "čьstьnъ čьstЬnъ\n",
      "čьstьny čЬstьny\n",
      "['честный', 'честной', 'чёсной (dialectal)']\n",
      "sъlučajь sъlučajь\n",
      "['случай']\n",
      "kъrzьno kЪrzьno\n",
      "['корзно']\n",
      "tъkačь tъkačь\n",
      "['ткач']\n",
      "jьnogъda jьnogъda\n",
      "['иногда', 'иногды', 'инолды']\n",
      "bezdušьnъ bezdušЬnъ\n",
      "bezdušьny bezdušьny\n",
      "['бездушный']\n",
      "směšьnъ směšЬnъ\n",
      "směšьny směšьny\n",
      "['смешной']\n",
      "strъjь strЪjь\n",
      "['стрый']\n",
      "xlěbьnikъ xlěbьnikъ\n",
      "xlěbьniky xlěbьniky\n",
      "['хлебник']\n"
     ]
    }
   ],
   "source": [
    "i = 0\n",
    "for k, v in data.items():\n",
    "    if \"ъ\" in v['*'] and \"ь\" in v['*']:\n",
    "        word = v['*']\n",
    "        if word[0] == \"-\": continue\n",
    "        if \"Russian\" not in v: continue\n",
    "\n",
    "        print(word, classify_yers(word))\n",
    "        if word[-1] == \"ъ\":\n",
    "            adj = \"\".join(word[:-1] + \"y\")\n",
    "            print(adj, classify_yers(adj))\n",
    "        print(v['Russian'])\n",
    "\n",
    "        i += 1\n",
    "        if i == 10:\n",
    "            break\n"
   ]
  },
  {
   "cell_type": "code",
   "execution_count": 6,
   "id": "0d707638",
   "metadata": {},
   "outputs": [
    {
     "name": "stdout",
     "output_type": "stream",
     "text": [
      "vorbь vorbь\n",
      "kosorь kosorь\n",
      "jarostь jarostь\n",
      "dětь dětь\n",
      "sъlučajь sъlučajь\n",
      "mazь mazь\n",
      "žužeľь žužeľь\n",
      "tъkačь tъkačь\n",
      "ručьjь ručЬjь\n",
      "gnojь gnojь\n",
      "stьrvь stЬrvь\n",
      "dьľьjь dьľЬjь\n",
      "orbotędzь orbotędzь\n",
      "kǫkoľь kǫkoľь\n",
      "komoňь komoňь\n",
      "gъrčь gЪrčь\n",
      "tvьrdь tvЬrdь\n",
      "kuznь kuznь\n",
      "mǫžь mǫžь\n",
      "xujь xujь\n",
      "uroďajь uroďajь\n",
      "tatь tatь\n",
      "šestь šestь\n",
      "lětь lětь\n",
      "zvěrь zvěrь\n",
      "strъjь strЪjь\n",
      "vojь vojь\n",
      "gnьsь gnЬsь\n",
      "plěsnь plěsnь\n",
      "męčь męčь\n",
      "osojь osojь\n",
      "linь linь\n",
      "padežь padežь\n",
      "solďьjь solďЬjь\n",
      "kotьcь kotЬcь\n",
      "mytělь mytělь\n",
      "bujь bujь\n",
      "xręščь xręščь\n",
      "pokojь pokojь\n",
      "čęstь čęstь\n"
     ]
    }
   ],
   "source": [
    "i = 0\n",
    "for k, v in data.items():\n",
    "    if \"ь\" == v['*'][-1]:\n",
    "        word = v['*']\n",
    "        print(word, classify_yers(word))\n",
    "\n",
    "        i += 1\n",
    "        if i == 40:\n",
    "            break\n"
   ]
  },
  {
   "cell_type": "code",
   "execution_count": null,
   "id": "fc5ba4ba",
   "metadata": {},
   "outputs": [],
   "source": []
  },
  {
   "cell_type": "code",
   "execution_count": 13,
   "id": "f57f2130",
   "metadata": {},
   "outputs": [
    {
     "name": "stdout",
     "output_type": "stream",
     "text": [
      "{'*': 'rebr̥ce', 'Russian': ['реберце', 'ребрецо'], 'Ukrainian': ['реберце'], 'Cyrillic': ['ребарце'], 'Latin': ['rebárce'], 'Bulgarian': ['ребърце']}\n",
      "{'*': 'stegn̥ce', 'Ukrainian': ['стегенце']}\n",
      "{'*': 'vědr̥ce', 'Russian': ['ведёрце'], 'Ukrainian': ['відерце']}\n",
      "{'*': 'stьkl̥ce', 'Russian': ['стекольце'], 'Ukrainian': ['шкельце']}\n",
      "{'*': 'dupl̥ce', 'Russian': ['дуплецо'], 'Ukrainian': ['дупельце']}\n",
      "{'*': 'vesl̥ce', 'Russian': ['весёльце'], 'Ukrainian': ['весельце']}\n"
     ]
    },
    {
     "data": {
      "text/plain": [
       "'ьjukśędľť(gǫimzvpřčel) ̥ěaďňžšъsbyrn-oxtc'"
      ]
     },
     "execution_count": 13,
     "metadata": {},
     "output_type": "execute_result"
    }
   ],
   "source": [
    "alphabet = set()\n",
    "for k, v in data.items():\n",
    "    alphabet |= set(v['*'].lower())\n",
    "    if CHAR in v['*']:\n",
    "        print(v)\n",
    "\n",
    "\"\".join(alphabet)"
   ]
  },
  {
   "cell_type": "code",
   "execution_count": 292,
   "id": "ae5c7ff9",
   "metadata": {},
   "outputs": [
    {
     "name": "stdout",
     "output_type": "stream",
     "text": [
      "vьrťi\n",
      "pǫťi\n",
      "peťi\n",
      "telťi\n",
      "sěťi\n",
      "žeťi\n",
      "leťi\n",
      "teťi\n",
      "-ťi\n",
      "verťi\n",
      "reťi\n",
      "sęťi\n",
      "stiťi\n",
      "dъťi\n",
      "striťi\n",
      "berťi\n",
      "loťika\n",
      "velťi\n",
      "lęťi\n",
      "tęťi\n",
      "sterťi\n",
      "moťi\n",
      "běťi\n"
     ]
    }
   ],
   "source": [
    "for k, v in data.items():\n",
    "    if \"ťi\" in v['*']:\n",
    "        print(v['*'])\n",
    "\n"
   ]
  },
  {
   "cell_type": "code",
   "execution_count": 295,
   "id": "5be5e8d8",
   "metadata": {},
   "outputs": [],
   "source": [
    "parses = morph.parse(\"język\")"
   ]
  },
  {
   "cell_type": "code",
   "execution_count": 300,
   "id": "6918afd2",
   "metadata": {},
   "outputs": [
    {
     "data": {
      "text/plain": [
       "['językov']"
      ]
     },
     "execution_count": 300,
     "metadata": {},
     "output_type": "execute_result"
    }
   ],
   "source": [
    "constants.inflect_carefully(morph, parses[0], {\"gent\", \"plur\"})\n"
   ]
  },
  {
   "cell_type": "code",
   "execution_count": 38,
   "id": "3081e3e9",
   "metadata": {},
   "outputs": [
    {
     "data": {
      "text/plain": [
       "' ()-bcdgjklmnprstvxzčďľňřśšťž'"
      ]
     },
     "execution_count": 38,
     "metadata": {},
     "output_type": "execute_result"
    }
   ],
   "source": [
    "\"\".join(x for x in sorted('ьjukśędľť(gǫimzvpřčel) ̥ěaďňžšъsbyrn-oxtc') if x not in VOWELS and x != CHAR)\n",
    "\n"
   ]
  },
  {
   "cell_type": "code",
   "execution_count": 12,
   "id": "03097a99",
   "metadata": {},
   "outputs": [],
   "source": [
    "CHAR = list(\" ̥\")[-1]"
   ]
  },
  {
   "cell_type": "code",
   "execution_count": 1,
   "id": "3716a132",
   "metadata": {},
   "outputs": [],
   "source": [
    "import sys\n",
    "sys.path.append(\"C:\\\\Users\\\\79165\\\\anaconda3\\\\envs\\\\slovnik\\\\lib\\\\site-packages\\\\\")\n",
    "\n",
    "sys.path.append(\"C://dev/ISV_data_gathering/\")\n",
    "sys.path.append(\"C://dev//ISV_NLP_utils//isv_nlp_utils/\")\n",
    "\n"
   ]
  },
  {
   "cell_type": "code",
   "execution_count": 76,
   "id": "4e91c2dc",
   "metadata": {},
   "outputs": [
    {
     "data": {
      "text/plain": [
       "'zx'"
      ]
     },
     "execution_count": 76,
     "metadata": {},
     "output_type": "execute_result"
    }
   ],
   "source": [
    "S = \"{C}\"\n",
    "\n",
    "co = {'C': \"[bcd]\"}\n",
    "co = {}\n",
    "\n",
    "\n",
    "\n",
    "S = \"zx\"\n",
    "S.format(**co)"
   ]
  },
  {
   "cell_type": "code",
   "execution_count": 102,
   "id": "d4c3a066",
   "metadata": {},
   "outputs": [
    {
     "name": "stdout",
     "output_type": "stream",
     "text": [
      "Processing c:\\dev\\isv_nlp_utils\n",
      "  Preparing metadata (setup.py): started\n",
      "  Preparing metadata (setup.py): finished with status 'done'\n",
      "Requirement already satisfied: pymorphy2>=0.9 in c:\\users\\79165\\anaconda3\\envs\\isvbase\\lib\\site-packages (from isv-nlp-utils==0.2.0) (0.9.1)\n",
      "Requirement already satisfied: docopt>=0.6 in c:\\users\\79165\\anaconda3\\envs\\isvbase\\lib\\site-packages (from pymorphy2>=0.9->isv-nlp-utils==0.2.0) (0.6.2)\n",
      "Requirement already satisfied: pymorphy2-dicts-ru<3.0,>=2.4 in c:\\users\\79165\\anaconda3\\envs\\isvbase\\lib\\site-packages (from pymorphy2>=0.9->isv-nlp-utils==0.2.0) (2.4.417127.4579844)\n",
      "Requirement already satisfied: dawg-python>=0.7.1 in c:\\users\\79165\\anaconda3\\envs\\isvbase\\lib\\site-packages (from pymorphy2>=0.9->isv-nlp-utils==0.2.0) (0.7.3)\n",
      "Building wheels for collected packages: isv-nlp-utils\n",
      "  Building wheel for isv-nlp-utils (setup.py): started\n",
      "  Building wheel for isv-nlp-utils (setup.py): finished with status 'done'\n",
      "  Created wheel for isv-nlp-utils: filename=isv_nlp_utils-0.2.0-py3-none-any.whl size=20113 sha256=9fac7d050848ef42f6ed2504cc55a7521068a217c4d6fb11cdac367175c92aa7\n",
      "  Stored in directory: C:\\Users\\79165\\AppData\\Local\\Temp\\pip-ephem-wheel-cache-zb9c1qqw\\wheels\\1a\\de\\8f\\3cfe9dc5a672a285ded44c2ed162923708bf3f26cd0695b47f\n",
      "Successfully built isv-nlp-utils\n",
      "Installing collected packages: isv-nlp-utils\n",
      "  Attempting uninstall: isv-nlp-utils\n",
      "    Found existing installation: isv-nlp-utils 0.2.0\n",
      "    Uninstalling isv-nlp-utils-0.2.0:\n",
      "      Successfully uninstalled isv-nlp-utils-0.2.0\n",
      "Successfully installed isv-nlp-utils-0.2.0\n"
     ]
    }
   ],
   "source": [
    "!pip install ISV_NLP_utils/"
   ]
  },
  {
   "cell_type": "code",
   "execution_count": 273,
   "id": "8a5e2c83",
   "metadata": {},
   "outputs": [
    {
     "data": {
      "text/plain": [
       "[AnnotatedToken(\n",
       "     variants=[ParseVariant(\n",
       "          text_variants=['orųďje'],\n",
       "          features='ADJ',\n",
       "          slovnik_pos='',\n",
       "          lemma=None,\n",
       "          isv_id=None,\n",
       "          genesis='',\n",
       "          was_force_processed=False\n",
       "      )],\n",
       "     capitalization=False,\n",
       "     space_after=''\n",
       " )]"
      ]
     },
     "execution_count": 273,
     "metadata": {},
     "output_type": "execute_result"
    }
   ],
   "source": [
    "word = 'orǫdьje'\n",
    "\n",
    "f(word, rules_struct, declared_constants)"
   ]
  },
  {
   "cell_type": "code",
   "execution_count": 241,
   "id": "9ffb9753",
   "metadata": {},
   "outputs": [
    {
     "data": {
      "text/plain": [
       "['ďny', 'dėnj']"
      ]
     },
     "execution_count": 241,
     "metadata": {},
     "output_type": "execute_result"
    }
   ],
   "source": [
    "word = 'dьnь'\n",
    "\n",
    "f(word, rules_struct, declared_constants)[0].variants[0].text_variants"
   ]
  },
  {
   "cell_type": "code",
   "execution_count": 221,
   "id": "93b26280",
   "metadata": {},
   "outputs": [
    {
     "data": {
      "text/plain": [
       "'dЬnь'"
      ]
     },
     "execution_count": 221,
     "metadata": {},
     "output_type": "execute_result"
    }
   ],
   "source": [
    "classify_yers(word)"
   ]
  },
  {
   "cell_type": "code",
   "execution_count": 242,
   "id": "05da52e3",
   "metadata": {},
   "outputs": [
    {
     "data": {
      "text/plain": [
       "['smŕť', 'sȯmrty']"
      ]
     },
     "execution_count": 242,
     "metadata": {},
     "output_type": "execute_result"
    }
   ],
   "source": [
    "word = 'sъmьrtь'\n",
    "\n",
    "\n",
    "f(word, rules_struct, declared_constants)[0].variants[0].text_variants"
   ]
  },
  {
   "cell_type": "code",
   "execution_count": null,
   "id": "8123d836",
   "metadata": {},
   "outputs": [],
   "source": []
  },
  {
   "cell_type": "code",
   "execution_count": 263,
   "id": "e566f2be",
   "metadata": {},
   "outputs": [
    {
     "data": {
      "text/plain": [
       "['caŕ', 'cary']"
      ]
     },
     "execution_count": 263,
     "metadata": {},
     "output_type": "execute_result"
    }
   ],
   "source": [
    "word = 'carь'\n",
    "\n",
    "f(word, rules_struct, declared_constants)[0].variants[0].text_variants"
   ]
  },
  {
   "cell_type": "code",
   "execution_count": 269,
   "id": "f4fa51b4",
   "metadata": {},
   "outputs": [
    {
     "data": {
      "text/plain": [
       "['tȯlst', 'tlsty']"
      ]
     },
     "execution_count": 269,
     "metadata": {},
     "output_type": "execute_result"
    }
   ],
   "source": [
    "word = 'tъlstъ'\n",
    "# tȯlsty \n",
    "f(word, rules_struct, declared_constants)[0].variants[0].text_variants"
   ]
  },
  {
   "cell_type": "code",
   "execution_count": 280,
   "id": "26f3b57c",
   "metadata": {},
   "outputs": [
    {
     "data": {
      "text/plain": [
       "['dȯždž', 'dždžy']"
      ]
     },
     "execution_count": 280,
     "metadata": {},
     "output_type": "execute_result"
    }
   ],
   "source": [
    "word = 'dъždžь'\n",
    "\n",
    "f(word, rules_struct, declared_constants)[0].variants[0].text_variants"
   ]
  },
  {
   "cell_type": "code",
   "execution_count": 283,
   "id": "70ab9b56",
   "metadata": {},
   "outputs": [
    {
     "data": {
      "text/plain": [
       "['låś', 'låsy']"
      ]
     },
     "execution_count": 283,
     "metadata": {},
     "output_type": "execute_result"
    }
   ],
   "source": [
    "word = 'olsь'\n",
    "\n",
    "f(word, rules_struct, declared_constants)[0].variants[0].text_variants"
   ]
  },
  {
   "cell_type": "code",
   "execution_count": 282,
   "id": "887634f4",
   "metadata": {},
   "outputs": [
    {
     "data": {
      "text/plain": [
       "['ďržati']"
      ]
     },
     "execution_count": 282,
     "metadata": {},
     "output_type": "execute_result"
    }
   ],
   "source": [
    "word = 'dьržati'\n",
    "\n",
    "f(word, rules_struct, declared_constants)[0].variants[0].text_variants"
   ]
  },
  {
   "cell_type": "code",
   "execution_count": 195,
   "id": "5257c587",
   "metadata": {},
   "outputs": [],
   "source": [
    "#regex.sub('{C}(ъ|ь)l{C}'.format(**declared_constants), '$1$2ȯl$3'.replace(\"$\", \"\\\\\"), word)\n"
   ]
  },
  {
   "cell_type": "code",
   "execution_count": 265,
   "id": "9515a5d3",
   "metadata": {},
   "outputs": [
    {
     "data": {
      "text/plain": [
       "'/wiki/Reconstruction:Proto-Slavic/praviti'"
      ]
     },
     "execution_count": 265,
     "metadata": {},
     "output_type": "execute_result"
    }
   ],
   "source": [
    "gъrdlo\n",
    "\n",
    "moliti modliti modliti\n",
    "vųtroby vųtroba ǫtroba"
   ]
  },
  {
   "cell_type": "code",
   "execution_count": 266,
   "id": "7fe6c223",
   "metadata": {},
   "outputs": [],
   "source": [
    "ADDITIONAL_CASES = {\n",
    "    1: {\"*\": \"carь\"}\n",
    "    # tȯlsty tlsty tъlstъ\n",
    "\n",
    "}"
   ]
  },
  {
   "cell_type": "code",
   "execution_count": 281,
   "id": "0150df09",
   "metadata": {},
   "outputs": [],
   "source": [
    "# https://en.wiktionary.org/wiki/Reconstruction:Proto-Slavic/zemľa\n",
    "\n",
    "# need to extract: all rodniks\n",
    "# ignore conjugation\n",
    "# noun\n",
    "# etm info"
   ]
  },
  {
   "cell_type": "code",
   "execution_count": 271,
   "id": "933ac3c8",
   "metadata": {},
   "outputs": [
    {
     "data": {
      "text/plain": [
       "'kъlbasa'"
      ]
     },
     "execution_count": 271,
     "metadata": {},
     "output_type": "execute_result"
    }
   ],
   "source": [
    "classify_yers(\"kъlbasa\")"
   ]
  },
  {
   "cell_type": "code",
   "execution_count": null,
   "id": "7d62088e",
   "metadata": {},
   "outputs": [],
   "source": [
    "kȯlbasa kъlbasa\n",
    "grlo gъrdlo\n"
   ]
  },
  {
   "cell_type": "code",
   "execution_count": null,
   "id": "c7d4f147",
   "metadata": {},
   "outputs": [],
   "source": [
    "među međa meďa\n"
   ]
  },
  {
   "cell_type": "code",
   "execution_count": null,
   "id": "0f4a6099",
   "metadata": {},
   "outputs": [],
   "source": []
  },
  {
   "cell_type": "code",
   "execution_count": 254,
   "id": "f42cbc8a",
   "metadata": {},
   "outputs": [
    {
     "data": {
      "text/plain": [
       "1"
      ]
     },
     "execution_count": 254,
     "metadata": {},
     "output_type": "execute_result"
    }
   ],
   "source": [
    "from rapidfuzz.string_metric import levenshtein\n",
    "\n",
    "levenshtein('dȯžď', 'dȯžd')"
   ]
  },
  {
   "cell_type": "code",
   "execution_count": 245,
   "id": "bf3a2460",
   "metadata": {},
   "outputs": [],
   "source": [
    "# 57 35\n"
   ]
  },
  {
   "cell_type": "code",
   "execution_count": 289,
   "id": "a6e627ae",
   "metadata": {},
   "outputs": [],
   "source": [
    "ALL_MATCHES = dict(matches)"
   ]
  },
  {
   "cell_type": "code",
   "execution_count": 287,
   "id": "3af51a06",
   "metadata": {},
   "outputs": [
    {
     "data": {
      "text/plain": [
       "set()"
      ]
     },
     "execution_count": 287,
     "metadata": {},
     "output_type": "execute_result"
    }
   ],
   "source": [
    "ALL_MATCHES.keys() - dict(matches).keys()"
   ]
  },
  {
   "cell_type": "code",
   "execution_count": 288,
   "id": "d7270013",
   "metadata": {},
   "outputs": [
    {
     "data": {
      "text/plain": [
       "{'dŕžati', 'dȯžď'}"
      ]
     },
     "execution_count": 288,
     "metadata": {},
     "output_type": "execute_result"
    }
   ],
   "source": [
    "dict(matches).keys() - ALL_MATCHES.keys()"
   ]
  },
  {
   "cell_type": "code",
   "execution_count": 275,
   "id": "7f325c4a",
   "metadata": {},
   "outputs": [
    {
     "data": {
      "text/plain": [
       "[('rųka', 'rǫka'),\n",
       " ('svěća', 'svěťa'),\n",
       " ('prěd', 'perdъ'),\n",
       " ('pěsȯk', 'pěsъkъ'),\n",
       " ('noć', 'noťь'),\n",
       " ('gråd', 'gordъ'),\n",
       " ('pės', 'pьsъ'),\n",
       " ('grlo', 'gъrdlo'),\n",
       " ('język', 'ęzykъ'),\n",
       " ('glåva', 'golva'),\n",
       " ('glåva', 'golva'),\n",
       " ('mlěko', 'melko'),\n",
       " ('pųť', 'pǫtь'),\n",
       " ('byti', 'byti'),\n",
       " ('tȯlsty', 'tъlstъ'),\n",
       " ('dobry', 'dobrъ'),\n",
       " ('kråva', 'korva'),\n",
       " ('brěg', 'bergъ'),\n",
       " ('dȯlg', 'dъlgъ'),\n",
       " ('smŕť', 'sъmьrtь'),\n",
       " ('orųďje', 'orǫdьje'),\n",
       " ('moliti', 'modliti'),\n",
       " ('vųtroba', 'ǫtroba'),\n",
       " ('dȯlg', 'dьlgъ'),\n",
       " ('trg', 'tъrgъ'),\n",
       " ('dėnj', 'dьnь'),\n",
       " ('krčma', 'kъrčьma'),\n",
       " ('pavųk', 'paǫkъ'),\n",
       " ('mlådy', 'moldъ'),\n",
       " ('svět', 'světъ'),\n",
       " ('rěka', 'rěka'),\n",
       " ('među', 'meďu'),\n",
       " ('vȯlk', 'vьlkъ'),\n",
       " ('kosť', 'kostь'),\n",
       " ('kȯlbasa', 'kъlbasa'),\n",
       " ('sȯn', 'sъnъ'),\n",
       " ('otėc', 'otьcь'),\n",
       " ('ljubiti', 'ľubiti'),\n",
       " ('svęty', 'svętъ'),\n",
       " ('knęź', 'kъnędzь'),\n",
       " ('caŕ', 'carь')]"
      ]
     },
     "execution_count": 275,
     "metadata": {},
     "output_type": "execute_result"
    }
   ],
   "source": [
    "matches"
   ]
  },
  {
   "cell_type": "code",
   "execution_count": 290,
   "id": "57f4254b",
   "metadata": {},
   "outputs": [
    {
     "name": "stdout",
     "output_type": "stream",
     "text": [
      "57 43\n"
     ]
    },
    {
     "data": {
      "text/plain": [
       "['kupjų',\n",
       " 'zemja',\n",
       " 'hvaljeńje',\n",
       " 'hrånjeńje',\n",
       " 'tvorjeńje',\n",
       " 'loś',\n",
       " 'prošų',\n",
       " 'tęžeńje',\n",
       " 'ščetka',\n",
       " 'jego',\n",
       " 'usiĺje',\n",
       " 'dělańje',\n",
       " 'primoŕje',\n",
       " 'žiťje',\n",
       " 'podlěśje']"
      ]
     },
     "execution_count": 290,
     "metadata": {},
     "output_type": "execute_result"
    }
   ],
   "source": [
    "print(len(JAN_EXAMPLES), len(matches))\n",
    "[e for e in JAN_EXAMPLES if e not in {x[0] for x in matches}]"
   ]
  },
  {
   "cell_type": "code",
   "execution_count": 230,
   "id": "7fa31092",
   "metadata": {},
   "outputs": [
    {
     "data": {
      "text/plain": [
       "'vųtroby pavųk smŕť kupjų zemja hvaljeńje denj hrånjeńje caŕ tvorjeńje dóžď loś prošų tęžeńje ščetka moliti grlo jego usiĺje dělańje primoŕje žiťje podlěśje'"
      ]
     },
     "execution_count": 230,
     "metadata": {},
     "output_type": "execute_result"
    }
   ],
   "source": [
    "\" \".join(\n",
    "[e for e in JAN_EXAMPLES if e not in {x[0] for x in matches}]\n",
    ")"
   ]
  },
  {
   "cell_type": "code",
   "execution_count": 231,
   "id": "9f8af903",
   "metadata": {},
   "outputs": [
    {
     "data": {
      "text/plain": [
       "23"
      ]
     },
     "execution_count": 231,
     "metadata": {},
     "output_type": "execute_result"
    }
   ],
   "source": [
    "len([e for e in JAN_EXAMPLES if e not in {x[0] for x in matches}])\n"
   ]
  },
  {
   "cell_type": "code",
   "execution_count": null,
   "id": "97548f3f",
   "metadata": {},
   "outputs": [],
   "source": []
  },
  {
   "cell_type": "code",
   "execution_count": null,
   "id": "4ea7c6c1",
   "metadata": {},
   "outputs": [],
   "source": [
    "usiĺje, dělańje, primoŕje, žit́je, orųd́je, podlěśje\t"
   ]
  },
  {
   "cell_type": "code",
   "execution_count": 137,
   "id": "10cfd0e0",
   "metadata": {},
   "outputs": [
    {
     "data": {
      "text/plain": [
       "25"
      ]
     },
     "execution_count": 137,
     "metadata": {},
     "output_type": "execute_result"
    }
   ],
   "source": [
    "len(matches)"
   ]
  },
  {
   "cell_type": "code",
   "execution_count": 134,
   "id": "0d111050",
   "metadata": {},
   "outputs": [
    {
     "data": {
      "text/plain": [
       "57"
      ]
     },
     "execution_count": 134,
     "metadata": {},
     "output_type": "execute_result"
    }
   ],
   "source": [
    "len(JAN_EXAMPLES)"
   ]
  },
  {
   "cell_type": "code",
   "execution_count": 132,
   "id": "debf6c70",
   "metadata": {},
   "outputs": [
    {
     "data": {
      "text/plain": [
       "['råb', 'råby']"
      ]
     },
     "execution_count": 132,
     "metadata": {},
     "output_type": "execute_result"
    }
   ],
   "source": []
  },
  {
   "cell_type": "code",
   "execution_count": 123,
   "id": "1f1dd558",
   "metadata": {},
   "outputs": [
    {
     "data": {
      "text/plain": [
       "[AnnotatedToken(\n",
       "     variants=[ParseVariant(\n",
       "          text_variants=['praviti'],\n",
       "          features='ADJ',\n",
       "          slovnik_pos='',\n",
       "          lemma=None,\n",
       "          isv_id=None,\n",
       "          genesis='',\n",
       "          was_force_processed=False\n",
       "      )],\n",
       "     capitalization=False,\n",
       "     space_after=''\n",
       " )]"
      ]
     },
     "execution_count": 123,
     "metadata": {},
     "output_type": "execute_result"
    }
   ],
   "source": [
    "tokens"
   ]
  },
  {
   "cell_type": "code",
   "execution_count": 484,
   "id": "fdcbf473",
   "metadata": {},
   "outputs": [],
   "source": [
    "PREFIXES = {}\n",
    "SUFFIXES = {}"
   ]
  },
  {
   "cell_type": "code",
   "execution_count": 488,
   "id": "3f7d498d",
   "metadata": {},
   "outputs": [],
   "source": [
    "for entry in all_reconstructions:\n",
    "    if entry == \"-orz\":\n",
    "        print([entry])\n",
    "    if \"-\" == entry[0]:\n",
    "        #print(entry, entry in reconstructed_articles)\n",
    "        SUFFIXES[entry] = None\n",
    "    if \"-\" == entry[-1]:# and entry in reconstructed_articles:\n",
    "        #print(entry, entry in reconstructed_articles)\n",
    "        PREFIXES[entry] = None\n"
   ]
  },
  {
   "cell_type": "code",
   "execution_count": 486,
   "id": "4f0b570d",
   "metadata": {},
   "outputs": [],
   "source": [
    "#\"orz-\" in all_reconstructions"
   ]
  },
  {
   "cell_type": "code",
   "execution_count": 487,
   "id": "16894741",
   "metadata": {},
   "outputs": [
    {
     "data": {
      "text/plain": [
       "{'vъz-': None,\n",
       " 'pa-': None,\n",
       " 'a-': None,\n",
       " 'ni-': None,\n",
       " 'orz-': None,\n",
       " 'ně-': None,\n",
       " 'vy-': None,\n",
       " 'sъ-': None,\n",
       " 'on-': None,\n",
       " 'sǫ-': None,\n",
       " 'per-': None,\n",
       " 'pra-': None,\n",
       " 'esvo-': None}"
      ]
     },
     "execution_count": 487,
     "metadata": {},
     "output_type": "execute_result"
    }
   ],
   "source": [
    "PREFIXES"
   ]
  },
  {
   "cell_type": "code",
   "execution_count": 489,
   "id": "33c3dd3b",
   "metadata": {},
   "outputs": [
    {
     "data": {
      "text/plain": [
       "True"
      ]
     },
     "execution_count": 489,
     "metadata": {},
     "output_type": "execute_result"
    }
   ],
   "source": [
    "\"do-\" in PREFIXES "
   ]
  },
  {
   "cell_type": "code",
   "execution_count": 483,
   "id": "6cf78a11",
   "metadata": {},
   "outputs": [],
   "source": [
    "PREFIXES[\"orz-\"]"
   ]
  },
  {
   "cell_type": "code",
   "execution_count": 494,
   "id": "e92c9b5d",
   "metadata": {},
   "outputs": [],
   "source": [
    "def convert(w):\n",
    "    return pretty_stringify(\n",
    "        f(w, rules_struct, declared_constants, {\"\"})\n",
    "    )"
   ]
  },
  {
   "cell_type": "code",
   "execution_count": 496,
   "id": "c32cb3f6",
   "metadata": {},
   "outputs": [
    {
     "name": "stdout",
     "output_type": "stream",
     "text": [
      "sъbožьje sbožije\n",
      "sъdoba sdoba\n",
      "sъmьrtь smŕť\n",
      "sъdorvъ sȯdråv\n",
      "sъčęstьje sčęstije\n"
     ]
    }
   ],
   "source": [
    "\n",
    "for w in \"sъbožьje sъdoba sъmьrtь sъdorvъ sъčęstьje\".split(\" \"):\n",
    "    print(w, convert(w))"
   ]
  },
  {
   "cell_type": "code",
   "execution_count": null,
   "id": "fd688163",
   "metadata": {},
   "outputs": [],
   "source": [
    "# rule: s -> z"
   ]
  },
  {
   "cell_type": "code",
   "execution_count": null,
   "id": "92800c85",
   "metadata": {},
   "outputs": [],
   "source": [
    "def morphemes_split(isv_word):\n",
    "    "
   ]
  },
  {
   "cell_type": "code",
   "execution_count": 491,
   "id": "fceebec5",
   "metadata": {},
   "outputs": [
    {
     "name": "stdout",
     "output_type": "stream",
     "text": [
      "do True False\n",
      "iz False False\n",
      "na True False\n",
      "nad False True\n",
      "nedo False False\n",
      "o True False\n",
      "ob True True\n",
      "ob True True\n",
      "obez False False\n",
      "od False False\n",
      "po True False\n",
      "pod False True\n",
      "prě False False\n",
      "prěd False False\n",
      "pri True False\n",
      "pro True False\n",
      "raz False False\n",
      "de False False\n",
      "s False True\n",
      "so False False\n",
      "su False False\n",
      "u True False\n",
      "v False True\n",
      "vo False False\n",
      "voz False False\n",
      "vy True False\n",
      "za True False\n"
     ]
    }
   ],
   "source": [
    "_ISV_PREFFIXES = [\"do\", \"iz\", \"na\", \"nad\", \"nedo\", \"o\", \"ob\", \"ob\", \"obez\", \"od\", \"po\", \"pod\", \"prě\", \"prěd\", \"pri\", \"pro\", \"raz\", \"de\", \"s\", \"so\", \"su\", \"u\", \"v\", \"vo\", \"voz\", \"vy\", \"za\",]\n",
    "ISV_PREFFIXES = {}\n",
    "\n",
    "for p in _ISV_PREFFIXES:\n",
    "    print(p, p + \"-\" in PREFIXES, p + \"ъ-\" in PREFIXES)"
   ]
  },
  {
   "cell_type": "code",
   "execution_count": 493,
   "id": "f7ded7e1",
   "metadata": {},
   "outputs": [
    {
     "name": "stdout",
     "output_type": "stream",
     "text": [
      "o(b)\n"
     ]
    }
   ],
   "source": [
    "for k, v in reconstructed_articles.items():\n",
    "    if \"*ob-\" in [x[1] for x in v[\"Related_Slavic\"]]:\n",
    "        # print(k)\n",
    "        pass\n",
    "    if \"*obъ-\" in [x[1] for x in v[\"Related_Slavic\"]]:\n",
    "        print(k)"
   ]
  },
  {
   "cell_type": "code",
   "execution_count": 473,
   "id": "c11ef216",
   "metadata": {},
   "outputs": [
    {
     "data": {
      "text/plain": [
       "{'*': 'zasluga',\n",
       " 'Etymology': ['Etymology',\n",
       "  '\\n',\n",
       "  '<p>A deverbal of <i class=\"Latinx mention\" lang=\"sla-pro\"><a class=\"new\" href=\"/w/index.php?title=Reconstruction:Proto-Slavic/zaslu%C5%BEiti&amp;action=edit&amp;redlink=1\" title=\"Reconstruction:Proto-Slavic/zaslužiti (page does not exist)\">*zaslužiti</a></i>, ultimately, derived from <i class=\"Latinx mention\" lang=\"sla-pro\"><a href=\"/wiki/Reconstruction:Proto-Slavic/sluga\" title=\"Reconstruction:Proto-Slavic/sluga\">*sluga</a></i>.\\n</p>',\n",
       "  '\\n'],\n",
       " 'Related_Slavic': [['/w/index.php?title=Reconstruction:Proto-Slavic/zaslu%C5%BEiti&action=edit&redlink=1',\n",
       "   '*zaslužiti'],\n",
       "  ['/wiki/Reconstruction:Proto-Slavic/sluga', '*sluga']],\n",
       " 'Related_NonSlavic': [],\n",
       " 'Old Ruthenian': ['заслуга'],\n",
       " 'Belarusian': ['заслуга'],\n",
       " 'Ukrainian': ['заслуга'],\n",
       " 'Russian': ['заслуга'],\n",
       " 'Bulgarian': ['заслуга'],\n",
       " 'Macedonian': ['заслуга'],\n",
       " 'Slovene': ['zaslúga'],\n",
       " 'Old Czech': ['zásluha'],\n",
       " 'Czech': ['zásluha'],\n",
       " 'Old Polish': ['zasługa'],\n",
       " 'Polish': ['zasługa'],\n",
       " 'Slovak': ['zásluha'],\n",
       " 'POS': ['Noun'],\n",
       " 'Noun': ['merit']}"
      ]
     },
     "execution_count": 473,
     "metadata": {},
     "output_type": "execute_result"
    }
   ],
   "source": [
    "v"
   ]
  },
  {
   "cell_type": "code",
   "execution_count": 82,
   "id": "e5957e70",
   "metadata": {},
   "outputs": [
    {
     "data": {
      "text/plain": [
       "{'C': '[bcdgjklmnprstvxzčďľňřśšťž]', 'V': '[aeiouyęěǫъь]'}"
      ]
     },
     "execution_count": 82,
     "metadata": {},
     "output_type": "execute_result"
    }
   ],
   "source": [
    "declared_constants"
   ]
  },
  {
   "cell_type": "code",
   "execution_count": 86,
   "id": "22e24e8f",
   "metadata": {},
   "outputs": [
    {
     "data": {
      "text/plain": [
       "'[bcdgjklmnprstvxzčďľňřśšťž]or[bcdgjklmnprstvxzčďľňřśšťž]'"
      ]
     },
     "execution_count": 86,
     "metadata": {},
     "output_type": "execute_result"
    }
   ],
   "source": [
    "\"{C}or{C}\".format(**declared_constants)"
   ]
  },
  {
   "cell_type": "code",
   "execution_count": 84,
   "id": "556a7c13",
   "metadata": {},
   "outputs": [
    {
     "data": {
      "text/plain": [
       "'[bcdgjklmnprstvxzčďľňřśšťž]'"
      ]
     },
     "execution_count": 84,
     "metadata": {},
     "output_type": "execute_result"
    }
   ],
   "source": [
    "declared_constants['C']"
   ]
  },
  {
   "cell_type": "code",
   "execution_count": 95,
   "id": "f0e30336",
   "metadata": {},
   "outputs": [
    {
     "ename": "error",
     "evalue": "invalid group reference",
     "output_type": "error",
     "traceback": [
      "\u001b[1;31m---------------------------------------------------------------------------\u001b[0m",
      "\u001b[1;31merror\u001b[0m                                     Traceback (most recent call last)",
      "Cell \u001b[1;32mIn[95], line 1\u001b[0m\n\u001b[1;32m----> 1\u001b[0m \u001b[43mprocess_multireplacing\u001b[49m\u001b[43m(\u001b[49m\u001b[43mtokens_base\u001b[49m\u001b[43m,\u001b[49m\u001b[43m \u001b[49m\u001b[43mrules_struct\u001b[49m\u001b[43m,\u001b[49m\u001b[43m \u001b[49m\u001b[43mdeclared_constants\u001b[49m\u001b[43m)\u001b[49m\n",
      "File \u001b[1;32m~\\anaconda3\\envs\\isvbase\\lib\\site-packages\\isv_nlp_utils\\flavorization\\replacer.py:244\u001b[0m, in \u001b[0;36mprocess_multireplacing\u001b[1;34m(tokens_data, rules, declared_constants, debug_indices)\u001b[0m\n\u001b[0;32m    242\u001b[0m \u001b[38;5;28;01mfor\u001b[39;00m k, w \u001b[38;5;129;01min\u001b[39;00m \u001b[38;5;28menumerate\u001b[39m(v\u001b[38;5;241m.\u001b[39mtext_variants):\n\u001b[0;32m    243\u001b[0m     \u001b[38;5;28;01mfor\u001b[39;00m one_subst \u001b[38;5;129;01min\u001b[39;00m subst:\n\u001b[1;32m--> 244\u001b[0m         cand \u001b[38;5;241m=\u001b[39m \u001b[43mcompiled\u001b[49m\u001b[38;5;241;43m.\u001b[39;49m\u001b[43msub\u001b[49m\u001b[43m(\u001b[49m\u001b[43mone_subst\u001b[49m\u001b[43m,\u001b[49m\u001b[43m \u001b[49m\u001b[43mw\u001b[49m\u001b[43m)\u001b[49m\n\u001b[0;32m    245\u001b[0m         candidates\u001b[38;5;241m.\u001b[39mappend(cand)\n\u001b[0;32m    246\u001b[0m v\u001b[38;5;241m.\u001b[39mtext_variants \u001b[38;5;241m=\u001b[39m \u001b[38;5;28mlist\u001b[39m(\u001b[38;5;28mset\u001b[39m(candidates))\n",
      "\u001b[1;31merror\u001b[0m: invalid group reference"
     ]
    }
   ],
   "source": [
    "process_multireplacing(tokens_base, rules_struct, declared_constants)\n"
   ]
  },
  {
   "cell_type": "code",
   "execution_count": 94,
   "id": "9a44a4c8",
   "metadata": {},
   "outputs": [
    {
     "data": {
      "text/plain": [
       "'råbъ'"
      ]
     },
     "execution_count": 94,
     "metadata": {},
     "output_type": "execute_result"
    }
   ],
   "source": [
    "import regex\n",
    "regex.sub( \n",
    "    \"^o([lr])([bcd])\", \n",
    "    '\\\\1å\\\\2',\n",
    "    word\n",
    ")\n"
   ]
  },
  {
   "cell_type": "code",
   "execution_count": 96,
   "id": "98281da7",
   "metadata": {},
   "outputs": [
    {
     "data": {
      "text/plain": [
       "'gråd'"
      ]
     },
     "execution_count": 96,
     "metadata": {},
     "output_type": "execute_result"
    }
   ],
   "source": [
    "import regex\n",
    "regex.sub( \n",
    "    \"([bcdg])o([lr])([bcd])\", \n",
    "    '\\\\1\\\\2å\\\\3',\n",
    "    \"gord\"\n",
    ")\n"
   ]
  },
  {
   "cell_type": "code",
   "execution_count": 89,
   "id": "7e597294",
   "metadata": {},
   "outputs": [
    {
     "data": {
      "text/plain": [
       "'orbъ'"
      ]
     },
     "execution_count": 89,
     "metadata": {},
     "output_type": "execute_result"
    }
   ],
   "source": [
    "word"
   ]
  },
  {
   "cell_type": "code",
   "execution_count": 50,
   "id": "59a9f8af",
   "metadata": {},
   "outputs": [],
   "source": [
    "from razdel import tokenize\n",
    "from isv_nlp_utils.flavorization.tokenizer import ParseVariant, AnnotatedToken"
   ]
  },
  {
   "cell_type": "code",
   "execution_count": 56,
   "id": "60dc8417",
   "metadata": {},
   "outputs": [
    {
     "data": {
      "text/plain": [
       "'nȯćvy'"
      ]
     },
     "execution_count": 56,
     "metadata": {},
     "output_type": "execute_result"
    }
   ],
   "source": []
  },
  {
   "cell_type": "code",
   "execution_count": 27,
   "id": "5e458a79",
   "metadata": {},
   "outputs": [],
   "source": [
    "from pyparsing import Group, Opt, Literal, Word, quoted_string, Suppress\n",
    "\n",
    "import pyparsing\n",
    "\n",
    "L = pyparsing.Literal\n",
    "S = Suppress\n",
    "\n",
    "chars = pyparsing.unicode.alphas"
   ]
  },
  {
   "cell_type": "code",
   "execution_count": null,
   "id": "f2f4c0b5",
   "metadata": {},
   "outputs": [],
   "source": []
  },
  {
   "cell_type": "code",
   "execution_count": 28,
   "id": "10301395",
   "metadata": {},
   "outputs": [],
   "source": [
    "\n",
    "case_content = (\n",
    "    quoted_string(\"isv_text\").setParseAction(pyparsing.removeQuotes) + S(\",\") + \n",
    "    quoted_string(\"target_text\").setParseAction(pyparsing.removeQuotes) + S(\",\") + \n",
    "    quoted_string(\"tags\").setParseAction(pyparsing.removeQuotes) + S(\",\") + \n",
    "    quoted_string(\"genesis\").setParseAction(pyparsing.removeQuotes)\n",
    ")\n",
    "\n",
    "\n",
    "element = (\n",
    "    Group(S(\"ok\") + S(\"(\") + case_content + S(\")\") + Opt(\";\").suppress())\n",
    ")\n",
    "\n",
    "\n",
    "parser = pyparsing.ZeroOrMore(element)# + S(\"});\")"
   ]
  },
  {
   "cell_type": "code",
   "execution_count": 29,
   "id": "b4194b88",
   "metadata": {},
   "outputs": [
    {
     "ename": "NameError",
     "evalue": "name 'test_file_content' is not defined",
     "output_type": "error",
     "traceback": [
      "\u001b[1;31m---------------------------------------------------------------------------\u001b[0m",
      "\u001b[1;31mNameError\u001b[0m                                 Traceback (most recent call last)",
      "Cell \u001b[1;32mIn[29], line 1\u001b[0m\n\u001b[1;32m----> 1\u001b[0m element\u001b[38;5;241m.\u001b[39mparseString(\u001b[38;5;124m\"\u001b[39m\u001b[38;5;124m\"\u001b[39m\u001b[38;5;241m.\u001b[39mjoin(\u001b[43mtest_file_content\u001b[49m))\n",
      "\u001b[1;31mNameError\u001b[0m: name 'test_file_content' is not defined"
     ]
    }
   ],
   "source": [
    "element.parseString(\"\".join(test_file_content))"
   ]
  },
  {
   "cell_type": "code",
   "execution_count": null,
   "id": "e07ea0cb",
   "metadata": {},
   "outputs": [],
   "source": [
    "print(\"\".join(test_file_content)[:1000])"
   ]
  },
  {
   "cell_type": "code",
   "execution_count": 30,
   "id": "48854dfa",
   "metadata": {},
   "outputs": [
    {
     "data": {
      "text/plain": [
       "ParseResults([ParseResults(['', '', '', ''], {}), ParseResults(['', '', '', ''], {})], {})"
      ]
     },
     "execution_count": 30,
     "metadata": {},
     "output_type": "execute_result"
    }
   ],
   "source": [
    "parser.parseString(\"\"\"\n",
    "ok(\"\", \"\", \"\", \"\");\n",
    "ok(\"\", \"\", \"\", \"\");\n",
    "\"\"\")"
   ]
  },
  {
   "cell_type": "code",
   "execution_count": 31,
   "id": "5a398b8a",
   "metadata": {},
   "outputs": [],
   "source": [
    "#direct-matches-cs.ts\n",
    "#direct-matches-sr.test.js\n",
    "#direct-matches-ru.test.js"
   ]
  },
  {
   "cell_type": "code",
   "execution_count": null,
   "id": "c86502d5",
   "metadata": {},
   "outputs": [],
   "source": []
  },
  {
   "cell_type": "code",
   "execution_count": null,
   "id": "160be034",
   "metadata": {},
   "outputs": [],
   "source": []
  },
  {
   "cell_type": "code",
   "execution_count": 32,
   "id": "4eb806e4",
   "metadata": {},
   "outputs": [],
   "source": [
    "test_file_content = []\n",
    "\n",
    "with open(r'C:\\dev\\razumlivost\\__e2e__\\direct-matches-ru.test.js', \"r\", encoding=\"utf8\") as f:\n",
    "    for line in f:\n",
    "        if \"ok\" in line and \"run.bind\" not in line:\n",
    "            test_file_content.append(line)\n"
   ]
  },
  {
   "cell_type": "code",
   "execution_count": 33,
   "id": "7cc44924",
   "metadata": {},
   "outputs": [],
   "source": [
    "test_cases_struct = parser.parseString(\"\".join(test_file_content))\n"
   ]
  },
  {
   "cell_type": "code",
   "execution_count": null,
   "id": "c6102095",
   "metadata": {},
   "outputs": [],
   "source": []
  },
  {
   "cell_type": "code",
   "execution_count": 34,
   "id": "1a1b7ab2",
   "metadata": {},
   "outputs": [
    {
     "data": {
      "text/plain": [
       "7566"
      ]
     },
     "execution_count": 34,
     "metadata": {},
     "output_type": "execute_result"
    }
   ],
   "source": [
    "len(test_cases_struct)"
   ]
  },
  {
   "cell_type": "code",
   "execution_count": 35,
   "id": "d4484e79",
   "metadata": {},
   "outputs": [],
   "source": [
    "def get_alpha(s):\n",
    "    return \"\".join(c for c in s if c.isalpha())"
   ]
  },
  {
   "cell_type": "code",
   "execution_count": 139,
   "id": "d87ebfe7",
   "metadata": {},
   "outputs": [],
   "source": [
    "rules_struct = {}\n",
    "flavor_rules = {}\n",
    "for LANG in ['ru', 'cs', 'sr']:\n",
    "    rules_struct[LANG] = parse_multireplacer_rules(\n",
    "        r\"C:\\dev\\razumlivost\\src\\flavorizers\\slow\\{}.ts\".format(LANG)\n",
    "    )\n",
    "    with open(r\"C:\\dev\\razumlivost\\src\\flavorizers\\morpho_{}.txt\".format(LANG), \"r\", encoding=\"utf8\") as f:\n",
    "        flavor_rules[LANG] = literal_eval(f.read())\n",
    "\n"
   ]
  },
  {
   "cell_type": "code",
   "execution_count": 140,
   "id": "571c4f63",
   "metadata": {},
   "outputs": [
    {
     "data": {
      "text/plain": [
       "'pisati'"
      ]
     },
     "execution_count": 140,
     "metadata": {},
     "output_type": "execute_result"
    }
   ],
   "source": [
    "import re\n",
    "\n",
    "re.sub(\"[፨]\", \"\", \"pisa፨ti\")"
   ]
  },
  {
   "cell_type": "code",
   "execution_count": 141,
   "id": "16a0803b",
   "metadata": {},
   "outputs": [],
   "source": [
    "# from itertools import product\n",
    "\n",
    "# from isv_nlp_utils.flavorization.tokenizer import all_token_text_variants\n",
    "\n",
    "# def tokens_to_exhaustive_string_list(tokens):\n",
    "#     all_texts_for_each_token = [all_token_text_variants(token) for token in tokens]\n",
    "#     spaces = [token.space_after for token in tokens]\n",
    "#     variants = [\n",
    "#        [text_var + space_after for text_var in token_variants]\n",
    "#        for (token_variants, space_after) in zip(all_texts_for_each_token, spaces)\n",
    "#     ]\n",
    "#     return product(*variants)\n"
   ]
  },
  {
   "cell_type": "code",
   "execution_count": 142,
   "id": "4ee811a6",
   "metadata": {},
   "outputs": [],
   "source": [
    "LANG = 'ru'"
   ]
  },
  {
   "cell_type": "code",
   "execution_count": 143,
   "id": "dcdfc021",
   "metadata": {},
   "outputs": [
    {
     "data": {
      "text/plain": [
       "([203, 7363], 0.9731694422416072)"
      ]
     },
     "execution_count": 143,
     "metadata": {},
     "output_type": "execute_result"
    }
   ],
   "source": [
    "counts = [0, 0]\n",
    "wrong_pos = []\n",
    "wrong_cases = []\n",
    "total_variants = 0\n",
    "\n",
    "for e in test_cases_struct[:]:\n",
    "    isv_form, expected_match, pos, genesis = e\n",
    "\n",
    "    tokens_base = compute_annotated_tokens(isv_form, morph, slovnik, fix_diacritics=False)\n",
    "    # tokens = morphological_flavorise(tokens_base, morph, flavor_rules[LANG])\n",
    "    tokens = process_multireplacing(tokens_base, rules_struct[LANG])\n",
    "\n",
    "    is_ok = any(\n",
    "        get_alpha(\"\".join(var).lower()) == get_alpha(expected_match.lower())\n",
    "        for var in tokens_to_exhaustive_string_list(tokens)\n",
    "    )\n",
    "    total_variants += sum(1 for _ in tokens_to_exhaustive_string_list(tokens))\n",
    "    counts[is_ok] += 1\n",
    "    if not is_ok:\n",
    "        wrong_pos.append((pos, genesis))\n",
    "        wrong_cases.append((isv_form, expected_match, pos, genesis, pretty_stringify(tokens), pretty_stringify(tokens_base)))\n",
    "    #         print(isv_form, expected_match, pos, genesis)\n",
    "    #         # print([t.text for t in tokens])\n",
    "    #         print(pretty_stringify(tokens))\n",
    "    #         i += 1\n",
    "    #         if i == 50:\n",
    "    #             break\n",
    "\n",
    "counts, counts[1] / sum(counts)"
   ]
  },
  {
   "cell_type": "code",
   "execution_count": 144,
   "id": "e65b20e6",
   "metadata": {},
   "outputs": [
    {
     "data": {
      "text/plain": [
       "[('abstrahovati',\n",
       "  'абстрагировать',\n",
       "  'v.tr. ipf./pf.',\n",
       "  'I',\n",
       "  '[абстрахировать|абстраховать|абстрахировати|абстраховати]',\n",
       "  'abstrah፨ovati'),\n",
       " ('bazovati na',\n",
       "  'базировать на',\n",
       "  'v.tr. ipf.',\n",
       "  'I',\n",
       "  '[базовать|базовати] на',\n",
       "  'baz፨ovati na፨'),\n",
       " ('bazovati sę na',\n",
       "  'базироваться на',\n",
       "  'v.refl. ipf.',\n",
       "  'I',\n",
       "  '[базовать|базовати] [ся|се] на',\n",
       "  'baz፨ovati s፨ę na፨'),\n",
       " ('fazovańje',\n",
       "  'фазирование',\n",
       "  'n.sg.',\n",
       "  'I',\n",
       "  '[фазованье|фазование]',\n",
       "  'fazovańj፨e'),\n",
       " ('formovańje',\n",
       "  'формирование',\n",
       "  'n.',\n",
       "  'I',\n",
       "  '[формованье|формование]',\n",
       "  '[form፨ovańje|formova፨ńje]'),\n",
       " ('gazovana voda',\n",
       "  'газированная вода',\n",
       "  'f.',\n",
       "  '',\n",
       "  '[газованная|газованая] [вода|вота]',\n",
       "  'gaz፨ovana vod፨a'),\n",
       " ('ignorovańje',\n",
       "  'игнорирование',\n",
       "  'n.sg.',\n",
       "  'I',\n",
       "  '[игнорованье|игнорование]',\n",
       "  '[ignor፨ovańje|ignorovańj፨e]'),\n",
       " ('orientovati sę',\n",
       "  'ориентироваться',\n",
       "  'v.refl. ipf.',\n",
       "  'I',\n",
       "  '[ориентовати|ориентовать] [ся|се]',\n",
       "  'orient፨ovati s፨ę'),\n",
       " ('projektovańje',\n",
       "  'проектирование',\n",
       "  'n.',\n",
       "  'I',\n",
       "  '[проектованье|проектование]',\n",
       "  '[projektova፨ńje|projekt፨ovańje]'),\n",
       " ('reklamovańje',\n",
       "  'рекламирование',\n",
       "  'n.',\n",
       "  'I',\n",
       "  '[рекламованье|рекламование]',\n",
       "  '[reklamova፨ńje|reklam፨ovańje]'),\n",
       " ('skonstruovany język',\n",
       "  'сконструированный язык',\n",
       "  'm.',\n",
       "  '',\n",
       "  'сконструованы [язийк|язойк|языйк]',\n",
       "  'skonstru፨ovany języ፨k')]"
      ]
     },
     "execution_count": 144,
     "metadata": {},
     "output_type": "execute_result"
    }
   ],
   "source": [
    "[w for w in wrong_cases if \"ирова\" in w[1]]"
   ]
  },
  {
   "cell_type": "code",
   "execution_count": 146,
   "id": "d53a6254",
   "metadata": {},
   "outputs": [
    {
     "data": {
      "text/plain": [
       "[('abstrahovati',\n",
       "  'абстрагировать',\n",
       "  'v.tr. ipf./pf.',\n",
       "  'I',\n",
       "  '[абстрахировать|абстраховать|абстрахировати|абстраховати]',\n",
       "  'abstrah፨ovati'),\n",
       " ('aha', 'ага', 'intj.', '', 'аха', 'aha፨'),\n",
       " ('bahamsky', 'багамский', 'adj.', '', '[бахамской|бахамский]', 'bahamsk፨y'),\n",
       " ('bližny', 'ближний', 'adj.', '', 'ближны', 'bližn፨y'),\n",
       " ('Bohemija', 'Богемия', 'f.sg.', '', 'Бохемия', 'bohemij፨a'),\n",
       " ('brť', 'борть', 'f.', '', 'брть', 'br፨ť'),\n",
       " ('brtnik', 'бортник', 'm.anim.', '', 'бртник', 'brtni፨k'),\n",
       " ('bųben', 'бубен', 'm.', '', '[]', '[]'),\n",
       " ('byk', 'бык', 'm.anim.', '', '[бойк|быйк|бийк]', 'by፨k'),\n",
       " ('crkȯvny',\n",
       "  'церковный',\n",
       "  'adj.',\n",
       "  '',\n",
       "  '[црковний|црковный|црковной]',\n",
       "  'crkȯvn፨y'),\n",
       " ('ćuđezemny',\n",
       "  'чужеземный',\n",
       "  'adj.',\n",
       "  '',\n",
       "  '[чуджеземны|чуждеземны|щужеземны|чужеземны|щуждеземны|щуджеземны]',\n",
       "  'ćuđezemn፨y'),\n",
       " ('črněti', 'чернеть', 'v.intr. ipf.', '', '[чрнети|чрнеть]', 'črně፨ti'),\n",
       " ('črniti', 'чернить', 'v.tr. ipf.', '', '[чрнить|чрнити]', 'črn፨iti'),\n",
       " ('črnogorsky',\n",
       "  'черногорский',\n",
       "  'adj.',\n",
       "  '',\n",
       "  '[чрногорской|чрногорский]',\n",
       "  'črnogorsk፨y'),\n",
       " ('črnota', 'чернота', 'f.', '', 'чрнота', 'črnot፨a'),\n",
       " ('črnuška', 'чернушка', 'f.', '', 'чрнушка', 'črnuš፨ka'),\n",
       " ('črpati', 'черпать', 'v.tr. ipf.', '', '[чрпать|чрпати]', 'črp፨ati'),\n",
       " ('črstvěti',\n",
       "  'черстветь',\n",
       "  'v.intr. ipf.',\n",
       "  '',\n",
       "  '[чрстветь|чрствети]',\n",
       "  'črstvě፨ti'),\n",
       " ('črta', 'черта', 'f.', '', '[чрта|тчртат]', '[črta፨|črt፨a]'),\n",
       " ('črvec', 'червец', 'm.anim.', '', 'чрвец', 'črv፨ec'),\n",
       " ('črvivy', 'червивый', 'adj.', '', '[чрвивой|чрвивий|чрвивый]', 'črviv፨y'),\n",
       " ('črvjak', 'червяк', 'm.anim.', '', '[чрвъяк|чрвяк|чрвляк]', 'črvja፨k'),\n",
       " ('daljny', 'дальний', 'adj.', '', 'дальны', 'daljn፨y'),\n",
       " ('domašny', 'домашний', 'adj.', '', 'домашны', 'domašn፨y'),\n",
       " ('drgnųti',\n",
       "  'дрогнуть',\n",
       "  'v.intr. pf.',\n",
       "  '',\n",
       "  '[дргнути|дргноти|дргнуть|дргноть]',\n",
       "  'drgn፨ųti'),\n",
       " ('drva', 'дрова', 'n.pl.', '', 'дрва', 'drv፨a'),\n",
       " ('drvosěk', 'дровосек', 'm.anim.', '', 'дрвосек', 'drvosě፨k'),\n",
       " ('držati', 'дрожать', 'v.intr. ipf.', '', '[држати|држать]', 'drž፨ati'),\n",
       " ('evropejsky', 'европейский', 'adj.', '', 'европейскы', 'evropejsk፨y'),\n",
       " ('fazovańje',\n",
       "  'фазирование',\n",
       "  'n.sg.',\n",
       "  'I',\n",
       "  '[фазованье|фазование]',\n",
       "  'fazovańj፨e'),\n",
       " ('formovańje',\n",
       "  'формирование',\n",
       "  'n.',\n",
       "  'I',\n",
       "  '[формованье|формование]',\n",
       "  '[form፨ovańje|formova፨ńje]'),\n",
       " ('glagoličny',\n",
       "  'глаголический',\n",
       "  'adj.',\n",
       "  '',\n",
       "  '[глаголическы|глаголичны]',\n",
       "  'glagoličn፨y'),\n",
       " ('gȯltańje',\n",
       "  'глотание',\n",
       "  'n.sg.',\n",
       "  '',\n",
       "  '[голтанье|голтание]',\n",
       "  '[gȯlta፨ńje|gȯltańj፨e]'),\n",
       " ('gȯltati', 'глотать', 'v.tr. ipf.', '', '[голтать|голтати]', 'gȯlta፨ti'),\n",
       " ('gȯltka', 'глотка', 'f.', '', 'голтка', 'gȯlt፨ka'),\n",
       " ('gȯltnųti',\n",
       "  'глотнуть',\n",
       "  'v.tr. pf.',\n",
       "  '',\n",
       "  '[голтноти|голтноть|голтнути|голтнуть]',\n",
       "  'gȯltn፨ųti'),\n",
       " ('gȯltȯk', 'глоток', 'm.', '', 'голток', 'gȯlt፨ȯk'),\n",
       " ('gråđansky',\n",
       "  'гражданский',\n",
       "  'adj.',\n",
       "  '',\n",
       "  '[граджанскы|городжанскы|гражданскы|горожанскы|гражанскы|горожданскы|горотжанскы]',\n",
       "  'gråđansk፨y'),\n",
       " ('grb', 'горб', 'm.', '', 'грб', 'grb፨'),\n",
       " ('grbaty', 'горбатый', 'adj.', '', '[грбатой|грбатий|грбатый]', 'grbat፨y'),\n",
       " ('grbiti sę',\n",
       "  'горбиться',\n",
       "  'v.refl. ipf.',\n",
       "  '',\n",
       "  '[грбити|грбить] [ся|се]',\n",
       "  'grb፨iti s፨ę'),\n",
       " ('grebenj', 'гребень', 'm.', '', 'гребенй', 'greben፨j'),\n",
       " ('grlica', 'горлица', 'f.', '', 'грлица', 'grlic፨a'),\n",
       " ('grlo', 'горло', 'n.', '', 'грло', 'grl፨o'),\n",
       " ('grsť', 'горсть', 'f.', '', 'грсть', 'grs፨ť'),\n",
       " ('grtanj', 'гортань', 'f.', '', 'гртань', 'grtanj፨'),\n",
       " ('haček', 'гачек', 'm.', '', 'хачек', 'hače፨k'),\n",
       " ('Haiti', 'Гаити', 'm.indecl.', '', 'Хаити', 'haiti፨'),\n",
       " ('hamburger', 'гамбургер', 'm.', 'D', 'хамбургер', 'hamburger፨'),\n",
       " ('handbol', 'гандбол', 'm.sg.', 'E', 'хандбол', 'handbol፨'),\n",
       " ('hierarhičny',\n",
       "  'иерархический',\n",
       "  'adj.',\n",
       "  'I',\n",
       "  '[гиераргичный|иераричний|иераричной|хиерархичной|гиераргичной|гиераргичний|иераричный|хиерархичний|хиерархической|хиерархический|иерарический|иерарической|гиераргической|хиерархичный|гиераргический]',\n",
       "  'hierarhičn፨y'),\n",
       " ('hierarhija',\n",
       "  'иерархия',\n",
       "  'f.',\n",
       "  'I',\n",
       "  '[гиераргия|хиерархия|иерария]',\n",
       "  'hierarhij፨a'),\n",
       " ('Honduras', 'Гондурас', 'm.sg.', '', 'Хондурас', 'honduras፨'),\n",
       " ('hondurassky',\n",
       "  'гондурасский',\n",
       "  'adj.',\n",
       "  '',\n",
       "  '[хондурасский|хондурасской]',\n",
       "  'hondurassk፨y'),\n",
       " ('Hrvat', 'хорват', 'm.anim.', '', 'Хрват', 'hrvat፨'),\n",
       " ('Hrvatija', 'Хорватия', 'f.sg.', '', 'Хрватия', 'hrvatij፨a'),\n",
       " ('hrvatsky', 'хорватский', 'adj.', '', '[хрватской|хрватский]', 'hrvatsk፨y'),\n",
       " ('hura', 'ура', 'intj.', '', 'хура', 'hura፨'),\n",
       " ('husit', 'гусит', 'm.anim.', '', 'хусит', 'husit፨'),\n",
       " ('ignorovańje',\n",
       "  'игнорирование',\n",
       "  'n.sg.',\n",
       "  'I',\n",
       "  '[игнорованье|игнорование]',\n",
       "  '[ignor፨ovańje|ignorovańj፨e]'),\n",
       " ('izčrknųti',\n",
       "  'вычеркнуть',\n",
       "  'v.tr. pf.',\n",
       "  '',\n",
       "  '[щркнуть|изчркнути|изчркноть|изчркноти|вычркнуть|щркнути|вычркноти|вычркнути|изчркнуть|щркноть|вычркноть|щркноти]',\n",
       "  'izčrkn፨ųti'),\n",
       " ('izlišny', 'излишний', 'adj.', '', '[слишны|излишны|вылишны]', 'izlišn፨y'),\n",
       " ('izrođeny',\n",
       "  'вырожденный',\n",
       "  'adj.',\n",
       "  '',\n",
       "  '[вырождены|выроʒены|срождены|выроджены|изрожены|срожены|изрождены|вырожены|изроʒены|изротжены|сроʒены|сроджены|сротжены|изроджены|выротжены]',\n",
       "  '[izro፨ʒeny|izrođen፨y]'),\n",
       " ('iztrgati',\n",
       "  'исторгать',\n",
       "  'v.tr. ipf.',\n",
       "  '',\n",
       "  '[вытргати|стргати|вытргать|изтргати|изтргать|истргати|стргать|истргать]',\n",
       "  'iztrga፨ti'),\n",
       " ('iztrgnųti',\n",
       "  'исторгнуть',\n",
       "  'v.tr. pf.',\n",
       "  '',\n",
       "  '[истргноти|стргноти|вытргнуть|изтргноть|изтргнуть|истргноть|истргнуть|изтргноти|изтргнути|стргнуть|вытргнути|вытргноть|истргнути|стргнути|стргноть|вытргноти]',\n",
       "  'iztrgn፨ųti'),\n",
       " ('jęčmenj', 'ячмень', 'm.', '', 'ячменй', 'jęčmen፨j'),\n",
       " ('język', 'язык', 'm.', '', '[язийк|язойк|языйк]', 'języ፨k'),\n",
       " ('kabelj', 'кабель', 'm.', 'I', '[]', '[]'),\n",
       " ('kamenj', 'камень', 'm.', '', 'каменй', 'kamen፨j'),\n",
       " ('kartofelj', 'картофель', 'm.', 'I', '[]', '[]'),\n",
       " ('kašelj', 'кашель', 'm.', '', '[]', '[]'),\n",
       " ('kazahsky', 'казахский', 'adj.', '', 'казахскы', 'kazahsk፨y'),\n",
       " ('korenj', 'корень', 'm.', '', 'коренй', 'koren፨j'),\n",
       " ('krčiti', 'корчить', 'v.tr. ipf.', '', '[крчить|крчити]', 'krč፨iti'),\n",
       " ('krčma', 'корчма', 'f.', '', 'крчма', 'krčm፨a'),\n",
       " ('kremenj', 'кремень', 'm.', '', 'кременй', 'kremen፨j'),\n",
       " ('krmiti', 'кормить', 'v.tr. ipf.', '', '[крмити|крмить]', 'krm፨iti'),\n",
       " ('krvavy', 'кровавый', 'adj.', '', '[крвавой|крвавий|крвавый]', 'krvav፨y'),\n",
       " ('krvoproliťje',\n",
       "  'кровопролитие',\n",
       "  'n.sg.',\n",
       "  '',\n",
       "  '[крвопролитие|крвопролитье]',\n",
       "  'krvoproliťj፨e'),\n",
       " ('krvotok', 'кровоток', 'm.', '', 'крвоток', 'krvoto፨k'),\n",
       " ('lětny', 'летний', 'adj.', '', 'летны', 'lětn፨y'),\n",
       " ('mědny', 'медный', 'adj.', '', 'медны', 'mědn፨y'),\n",
       " ('međugrådny',\n",
       "  'междугородный',\n",
       "  'adj.',\n",
       "  '',\n",
       "  '[меджугородны|междуградны|меджугоротны|межугоротны|межуградны|межугородны|меджуградны|междугородны|междугоротны]',\n",
       "  'međugrådn፨y'),\n",
       " ('međunarodny',\n",
       "  'международный',\n",
       "  'adj.',\n",
       "  '',\n",
       "  '[меджунаротны|меджународны|междунаротны|межународны|международны|межунаротны]',\n",
       "  'međunarodn፨y'),\n",
       " ('mrščiti', 'морщить', 'v.tr. ipf.', '', '[мрщить|мрщити]', 'mršč፨iti'),\n",
       " ('mrščiti sę',\n",
       "  'морщиться',\n",
       "  'v.refl. ipf.',\n",
       "  '',\n",
       "  '[мрщить|мрщити] [ся|се]',\n",
       "  'mršč፨iti s፨ę'),\n",
       " ('na javu', 'наяву', 'adv.', '', 'на []', 'na፨ []'),\n",
       " ('na vŕhu',\n",
       "  'наверху',\n",
       "  'adv.',\n",
       "  '',\n",
       "  'на [врохě|врьехě|вьерхě|верхě|въерхě|врёхě|врехě]',\n",
       "  'na፨ vŕ፨hu'),\n",
       " ('načinati',\n",
       "  'начинать',\n",
       "  'v.tr. ipf.',\n",
       "  '',\n",
       "  '[начиннаять|начинаять|начинаяти|начиннаяти]',\n",
       "  'načina፨ti'),\n",
       " ('načinati sę',\n",
       "  'начинаться',\n",
       "  'v.refl. ipf.',\n",
       "  '',\n",
       "  '[начиннаять|начинаять|начинаяти|начиннаяти] [ся|се]',\n",
       "  'načina፨ti s፨ę'),\n",
       " ('načrpati',\n",
       "  'начерпать',\n",
       "  'v.tr. pf.',\n",
       "  '',\n",
       "  '[начрпати|начрпать]',\n",
       "  'načrpa፨ti'),\n",
       " ('nakrmiti',\n",
       "  'накормить',\n",
       "  'v.tr. pf.',\n",
       "  '',\n",
       "  '[накрмити|накрмить]',\n",
       "  'nakrm፨iti'),\n",
       " ('napominati',\n",
       "  'напоминать',\n",
       "  'v.tr. ipf.',\n",
       "  '',\n",
       "  '[напоминнаяти|напоминаяти|напоминаять|напоминнаять]',\n",
       "  'napomina፨ti'),\n",
       " ('navětrny',\n",
       "  'наветренный',\n",
       "  'adj.',\n",
       "  '',\n",
       "  '[наветрний|наветрный|наветрной]',\n",
       "  'navětrn፨y'),\n",
       " ('navyk', 'навык', 'm.', '', '[навыйк|навийк|навойк]', 'navy፨k'),\n",
       " ('netopyŕ',\n",
       "  'нетопырь',\n",
       "  'm.anim.',\n",
       "  '',\n",
       "  '[нетопыйрь|нетопойрь|нетопийрь]',\n",
       "  'netopy፨ŕ'),\n",
       " ('nyněšny', 'нынешний', 'adj.', '', 'нынешны', 'nyněšn፨y'),\n",
       " ('objavjati',\n",
       "  'объявлять',\n",
       "  'v.tr. ipf.',\n",
       "  '',\n",
       "  '[обявяти|объявъяти|объявъять|облявлять|обявять|облявляти]',\n",
       "  'objavja፨ti'),\n",
       " ('objavjati sę',\n",
       "  'объявляться',\n",
       "  'v.refl. ipf.',\n",
       "  '',\n",
       "  '[обявяти|объявъяти|объявъять|облявлять|обявять|облявляти] [ся|се]',\n",
       "  'objavja፨ti s፨ę'),\n",
       " ('obrvati', 'оборвать', 'v.tr. pf.', '', '[обрвать|обрвати]', 'obrv፨ati'),\n",
       " ('očrniti', 'очернить', 'v.tr. pf.', '', '[очрнить|очрнити]', 'očrn፨iti'),\n",
       " ('očrnjati', 'очернять', 'v.tr. ipf.', '', '[очрняти|очрнять]', 'očrnja፨ti'),\n",
       " ('orientovati sę',\n",
       "  'ориентироваться',\n",
       "  'v.refl. ipf.',\n",
       "  'I',\n",
       "  '[ориентовати|ориентовать] [ся|се]',\n",
       "  'orient፨ovati s፨ę'),\n",
       " ('pastyŕ',\n",
       "  'пастырь',\n",
       "  'm.anim.',\n",
       "  '',\n",
       "  '[пастийрь|пастыйрь|пастойрь]',\n",
       "  'pasty፨ŕ'),\n",
       " ('penj', 'пень', 'm.', '', '[]', '[]'),\n",
       " ('podčrknųti',\n",
       "  'подчеркнуть',\n",
       "  'v.tr. pf.',\n",
       "  '',\n",
       "  '[потчркнути|подчркноти|потчркнуть|потчркноть|подчркноть|потчркноти|подчркнути|подчркнуть]',\n",
       "  'podčrkn፨ųti'),\n",
       " ('poddany',\n",
       "  'подданный',\n",
       "  'm.anim.',\n",
       "  '',\n",
       "  '[подданой|потданый|подданый|потданы|потданий|подданы|потданой|подданий]',\n",
       "  '[poddan፨y|podda፨ny]'),\n",
       " ('poldenj', 'полдень', 'm.', '', '[]', '[]'),\n",
       " ('polu-', 'полу-', 'prefix', '', 'полě-', 'pol፨u-'),\n",
       " ('poslědny',\n",
       "  'последний',\n",
       "  'adj.',\n",
       "  '',\n",
       "  '[посолодны|последны|поселедны|посолотны]',\n",
       "  'poslědn፨y'),\n",
       " ('požrtvovati',\n",
       "  'пожертвовать',\n",
       "  'v.tr. pf.',\n",
       "  '',\n",
       "  '[пожртвировать|пожртвовати|пожртвовать|пожртвировати]',\n",
       "  'požrtv፨ovati'),\n",
       " ('pra-', 'пра-', 'prefix', '', 'тпрат-', 'pra፨-'),\n",
       " ('prajęzyk',\n",
       "  'праязык',\n",
       "  'm.',\n",
       "  '',\n",
       "  '[праязойк|праязийк|праязыйк]',\n",
       "  'prajęzy፨k'),\n",
       " ('prědny',\n",
       "  'передний',\n",
       "  'adj.',\n",
       "  '',\n",
       "  '[предны|придны|передны|пердны]',\n",
       "  'prědn፨y'),\n",
       " ('prědposlědny',\n",
       "  'предпоследний',\n",
       "  'adj.',\n",
       "  '',\n",
       "  '[пердпоследны|пердпосолотны|придпосолотны|придпоселедны|пердпоселедны|предпоследны|передпосолотны|предпосолотны|предпоселедны|передпоследны|передпоселедны|придпосолодны|предпосолодны|пердпосолодны|передпосолодны|придпоследны]',\n",
       "  'prědposlědn፨y'),\n",
       " ('prěstrělka',\n",
       "  'перестрелка',\n",
       "  'f.',\n",
       "  '',\n",
       "  '[престрелка|перстерлка|перестерелка|пристрилка]',\n",
       "  'prěstrěl፨ka'),\n",
       " ('projektovańje',\n",
       "  'проектирование',\n",
       "  'n.',\n",
       "  'I',\n",
       "  '[проектованье|проектование]',\n",
       "  '[projektova፨ńje|projekt፨ovańje]'),\n",
       " ('pŕstenj',\n",
       "  'перстень',\n",
       "  'm.',\n",
       "  '',\n",
       "  '[пъерстенй|престенй|прёстенй|пьерстенй|простенй|перстенй|прьестенй]',\n",
       "  'pŕsten፨j'),\n",
       " ('rđavy', 'ржавый', 'adj.', '', '[рждавы|ржавы|рджавы]', 'rđav፨y'),\n",
       " ('reklamovańje',\n",
       "  'рекламирование',\n",
       "  'n.',\n",
       "  'I',\n",
       "  '[рекламованье|рекламование]',\n",
       "  '[reklamova፨ńje|reklam፨ovańje]'),\n",
       " ('ryś', 'рысь', 'm.anim.', '', '[рыйсь|ройсь|рийсь]', 'ry፨ś'),\n",
       " ('skrběti', 'скорбеть', 'v.intr. ipf.', '', '[скрбети|скрбеть]', 'skrb፨ěti'),\n",
       " ('slgati', 'солгать', 'v.intr. pf.', '', '[слгать|слгати]', 'sl፨gati'),\n",
       " ('smrkati sę',\n",
       "  'сморкаться',\n",
       "  'v.refl. ipf.',\n",
       "  '',\n",
       "  '[смркати|смркать] [ся|се]',\n",
       "  'smrka፨ti s፨ę'),\n",
       " ('smrščeny',\n",
       "  'сморщенный',\n",
       "  'adj.',\n",
       "  '',\n",
       "  '[смрщенной|смрщены|смрщений|смрщенний|смрщенный|смрщеный|смрщеной]',\n",
       "  '[smrščen፨y|smršč፨eny]'),\n",
       " ('smrščiti', 'сморщить', 'v.tr. pf.', '', '[смрщити|смрщить]', 'smršč፨iti'),\n",
       " ('smrščiti sę',\n",
       "  'сморщиться',\n",
       "  'v.refl. pf.',\n",
       "  '',\n",
       "  '[смрщити|смрщить] [ся|се]',\n",
       "  'smršč፨iti s፨ę'),\n",
       " ('sȯdŕžati',\n",
       "  'сдержать',\n",
       "  'v.tr. pf.',\n",
       "  '',\n",
       "  '[содрьежать|содрожати|сотьержать|сотрожати|сотрёжати|сотрожать|сотержати|содъержати|содьержать|сотрьежати|содрежать|сотрежати|сотрежать|сотержать|содрожать|сотъержать|сотъержати|сотьержати|сотрёжать|содрёжать|содъержать|содрёжати|содержати|содержать|содьержати|сотрьежать|содрежати|содрьежати]',\n",
       "  'sȯdŕža፨ti'),\n",
       " ('sȯglåsny', 'согласный', 'adj.', '', '[согласны|соголосны]', 'sȯglåsn፨y'),\n",
       " ('sȯlza', 'слеза', 'f.', '', 'солза', 'sȯlz፨a'),\n",
       " ('sȯžegti', 'сжечь', 'v.tr. pf.', '', 'сожечь', 'sȯž፨egti'),\n",
       " ('sŕbohrvatsky',\n",
       "  'сербохорватский',\n",
       "  'adj.',\n",
       "  '',\n",
       "  '[срёбохрватской|срьебохрватский|съербохрватский|срёбохрватский|срьебохрватской|сьербохрватской|сербохрватской|сребохрватской|съербохрватской|сробохрватский|сробохрватской|сребохрватский|сербохрватский|сьербохрватский]',\n",
       "  'sŕbohrvatsk፨y'),\n",
       " ('sŕbskohrvatsky',\n",
       "  'сербско-хорватский',\n",
       "  'adj.',\n",
       "  '',\n",
       "  '[срёбскохрватской|сребскохрватский|сербскохрватской|сребскохрватской|сьербскохрватский|сьербскохрватской|сербскохрватский|срьебскохрватской|съербскохрватский|срьебскохрватский|срёбскохрватский|сробскохрватский|сробскохрватской|съербскохрватской]',\n",
       "  'sŕbskohrvatsk፨y'),\n",
       " ('srědny',\n",
       "  'средний',\n",
       "  'adj.',\n",
       "  '',\n",
       "  '[сердны|сридны|середны|средны]',\n",
       "  'srědn፨y'),\n",
       " ('stonati',\n",
       "  'стонать',\n",
       "  'v.intr. ipf.',\n",
       "  '',\n",
       "  '[стонаять|стонаяти|стоннаять|стоннаяти]',\n",
       "  'stona፨ti'),\n",
       " ('stųpenj', 'ступень', 'm.', '', '[]', '[]'),\n",
       " ('styk', 'стык', 'm.', '', '[стойк|стыйк|стийк]', 'sty፨k'),\n",
       " ('superheroj', 'супергерой', 'm.anim.', '', 'суперхерой', 'superheroj፨'),\n",
       " ('šeršenj', 'шершень', 'm.anim.', '', 'шершенй', 'šeršen፨j'),\n",
       " ('tadžiksky', 'таджикский', 'adj.', '', 'таджикскы', 'tadžiksk፨y'),\n",
       " ('trgovati',\n",
       "  'торговать',\n",
       "  'v.intr. ipf.',\n",
       "  '',\n",
       "  '[трговать|трговати|тргировать|тргировати]',\n",
       "  'trg፨ovati'),\n",
       " ('trgovec', 'торговец', 'm.anim.', '', 'трговец', 'trgov፨ec'),\n",
       " ('trgovja', 'торговля', 'f.', '', '[трговля|трговъя|трговя]', 'trgov፨ja'),\n",
       " ('trgovy', 'торговый', 'adj.', '', '[трговый|трговой|трговий]', 'trgov፨y'),\n",
       " ('upyŕ', 'упырь', 'm.anim.', '', '[упийрь|упыйрь|упойрь]', 'upy፨ŕ'),\n",
       " ('uzbeksky', 'узбекский', 'adj.', '', 'узбекскы', 'uzbeksk፨y'),\n",
       " ('včerašny', 'вчерашний', 'adj.', '', 'вчерашны', 'včerašn፨y'),\n",
       " ('vněšny', 'внешний', 'adj.', '', 'внешны', 'vněšn፨y'),\n",
       " ('vnųtrny',\n",
       "  'внутренний',\n",
       "  'adj.',\n",
       "  '',\n",
       "  '[внутрний|внутрной|внутрный|внотрной|внотрний|внотрный]',\n",
       "  'vnųtrn፨y'),\n",
       " ('vȯzdȯhnųti',\n",
       "  'вздохнуть',\n",
       "  'v.intr. pf.',\n",
       "  '',\n",
       "  '[воздохноть|воздохноти|воздохнути|воздохнуть]',\n",
       "  'vȯzdȯhn፨ųti'),\n",
       " ('vȯzdyhati',\n",
       "  'вздыхать',\n",
       "  'v.intr. ipf.',\n",
       "  '',\n",
       "  '[воздыхать|воздыхати]',\n",
       "  'vȯzdyha፨ti'),\n",
       " ('vȯzlětati',\n",
       "  'взлетать',\n",
       "  'v.intr. ipf.',\n",
       "  '',\n",
       "  '[возелетати|возолотать|возолотати|возлетать|возлетати|возелетать]',\n",
       "  'vȯzlěta፨ti'),\n",
       " ('vȯzletěti',\n",
       "  'взлететь',\n",
       "  'v.intr. pf.',\n",
       "  '',\n",
       "  '[возлететь|возлетети]',\n",
       "  'vȯzle፨těti'),\n",
       " ('vȯzpominati',\n",
       "  'вспоминать',\n",
       "  'v.tr. ipf.',\n",
       "  '',\n",
       "  '[возпоминаять|возпоминаяти|воспоминнаять|воспоминнаяти|возпоминнаять|воспоминаять|возпоминнаяти|воспоминаяти]',\n",
       "  'vȯzpomina፨ti'),\n",
       " ('vȯzvod', 'взвод', 'm.', '', '[возвод|возвот]', 'vȯzvod፨'),\n",
       " ('vrčati', 'ворчать', 'v.intr. ipf.', '', '[врчати|врчать]', 'vrča፨ti'),\n",
       " ('vŕhovje',\n",
       "  'верховье',\n",
       "  'n.',\n",
       "  '',\n",
       "  '[врьеховье|вреховъе|врьехове|врехове|врьеховъе|врёховье|вьерховье|верхове|вроховъе|врохове|врёховъе|врёхове|въерховъе|вреховье|вроховье]',\n",
       "  'vŕhov፨je'),\n",
       " ('vrođeny',\n",
       "  'врожденный',\n",
       "  'adj.',\n",
       "  '',\n",
       "  '[врожены|врождены|вротжены|вроджены]',\n",
       "  'vrođen፨y'),\n",
       " ('vųzel', 'узел', 'm.', '', '[]', '[]'),\n",
       " ('vysmrkati sę',\n",
       "  'высморкаться',\n",
       "  'v.refl. pf.',\n",
       "  '',\n",
       "  '[высмркать|высмркати] [ся|се]',\n",
       "  'vysmrka፨ti s፨ę'),\n",
       " ('vysoky', 'высокий', 'adj.', '', '[выйсокий|вийсокий|войсокой]', 'vy፨soky'),\n",
       " ('zadny', 'задний', 'adj.', '', 'задны', 'zadn፨y'),\n",
       " ('zadržati',\n",
       "  'задрожать',\n",
       "  'v.intr. pf.',\n",
       "  '',\n",
       "  '[задржати|задржать]',\n",
       "  '፨zadržati'),\n",
       " ('zaklinati',\n",
       "  'заклинать',\n",
       "  'v.tr. ipf.',\n",
       "  '',\n",
       "  '[заклинаяти|заклиннаять|заклинаять|заклиннаяти]',\n",
       "  'zaklina፨ti'),\n",
       " ('zamrzati',\n",
       "  'замерзать',\n",
       "  'v.intr. ipf.',\n",
       "  '',\n",
       "  '[замрзати|замрзать]',\n",
       "  'zamrza፨ti'),\n",
       " ('žȯltěti', 'желтеть', 'v.intr. ipf.', '', '[жолтеть|жолтети]', 'žȯltě፨ti'),\n",
       " ('žȯlty', 'желтый', 'adj.', '', '[жолтой|жолтый|жолтий]', 'žȯlt፨y'),\n",
       " ('žrlo', 'жерло', 'n.', '', 'жрло', 'žrl፨o'),\n",
       " ('žrtva', 'жертва', 'f.', '', 'жртва', 'žrtv፨a'),\n",
       " ('žrtveny',\n",
       "  'жертвенный',\n",
       "  'adj.',\n",
       "  '',\n",
       "  '[жртвеной|жртвенный|жртвенной|жртвенний|жртвений|жртвеный]',\n",
       "  'žrtven፨y'),\n",
       " ('žrtvovati',\n",
       "  'жертвовать',\n",
       "  'v.tr. ipf.',\n",
       "  '',\n",
       "  '[жртвовать|жртвовати|жртвировати|жртвировать]',\n",
       "  'žrtv፨ovati')]"
      ]
     },
     "execution_count": 146,
     "metadata": {},
     "output_type": "execute_result"
    }
   ],
   "source": [
    "[w for w in wrong_cases if \" \" not in w[1]]"
   ]
  },
  {
   "cell_type": "code",
   "execution_count": null,
   "id": "1a205cf4",
   "metadata": {},
   "outputs": [],
   "source": []
  },
  {
   "cell_type": "code",
   "execution_count": 134,
   "id": "53abaa64",
   "metadata": {},
   "outputs": [
    {
     "data": {
      "text/plain": [
       "[('Varšavsky Dogovor',\n",
       "  'Варшавский договор',\n",
       "  'm.sg.',\n",
       "  '',\n",
       "  'Варшавскы Договор',\n",
       "  'varšavsk፨y dogovor፨'),\n",
       " ('včerašny', 'вчерашний', 'adj.', '', 'вчерашны', 'včerašn፨y'),\n",
       " ('viniteljny padež',\n",
       "  'винительный падеж',\n",
       "  'm.',\n",
       "  '',\n",
       "  'винительны падеж',\n",
       "  'viniteljn፨y padež፨'),\n",
       " ('visokosny god',\n",
       "  'високосный год',\n",
       "  'm.',\n",
       "  '',\n",
       "  'високосны [гот|год]',\n",
       "  '[visokosn፨y|visokos፨ny] god፨'),\n",
       " ('vněšny', 'внешний', 'adj.', '', 'внешны', 'vněšn፨y'),\n",
       " ('vnųtrny',\n",
       "  'внутренний',\n",
       "  'adj.',\n",
       "  '',\n",
       "  '[внутрний|внутрной|внутрный|внотрной|внотрний|внотрный]',\n",
       "  'vnųtrn፨y'),\n",
       " ('vȯzdȯhnųti',\n",
       "  'вздохнуть',\n",
       "  'v.intr. pf.',\n",
       "  '',\n",
       "  '[воздохноть|воздохноти|воздохнути|воздохнуть]',\n",
       "  'vȯzdȯhn፨ųti'),\n",
       " ('vȯzdyhati',\n",
       "  'вздыхать',\n",
       "  'v.intr. ipf.',\n",
       "  '',\n",
       "  '[воздыхать|воздыхати]',\n",
       "  'vȯzdyha፨ti'),\n",
       " ('vȯzlětati',\n",
       "  'взлетать',\n",
       "  'v.intr. ipf.',\n",
       "  '',\n",
       "  '[возелетати|возолотать|возолотати|возлетать|возлетати|возелетать]',\n",
       "  'vȯzlěta፨ti'),\n",
       " ('vȯzletěti',\n",
       "  'взлететь',\n",
       "  'v.intr. pf.',\n",
       "  '',\n",
       "  '[возлететь|возлетети]',\n",
       "  'vȯzle፨těti'),\n",
       " ('vȯzpominati',\n",
       "  'вспоминать',\n",
       "  'v.tr. ipf.',\n",
       "  '',\n",
       "  '[возпоминаять|возпоминаяти|воспоминнаять|воспоминнаяти|возпоминнаять|воспоминаять|возпоминнаяти|воспоминаяти]',\n",
       "  'vȯzpomina፨ti'),\n",
       " ('vȯzvod', 'взвод', 'm.', '', '[возвод|возвот]', 'vȯzvod፨'),\n",
       " ('vrčati', 'ворчать', 'v.intr. ipf.', '', '[врчати|врчать]', 'vrča፨ti'),\n",
       " ('vŕhovje',\n",
       "  'верховье',\n",
       "  'n.',\n",
       "  '',\n",
       "  '[врьеховье|вреховъе|врьехове|врехове|врьеховъе|врёховье|вьерховье|верхове|вроховъе|врохове|врёховъе|врёхове|въерховъе|вреховье|вроховье]',\n",
       "  'vŕhov፨je'),\n",
       " ('vrođeny',\n",
       "  'врожденный',\n",
       "  'adj.',\n",
       "  '',\n",
       "  '[врожены|врождены|вротжены|вроджены]',\n",
       "  'vrođen፨y'),\n",
       " ('vųzel', 'узел', 'm.', '', '[]', '[]'),\n",
       " ('vysmrkati sę',\n",
       "  'высморкаться',\n",
       "  'v.refl. pf.',\n",
       "  '',\n",
       "  '[высмркать|высмркати] [ся|се]',\n",
       "  'vysmrka፨ti s፨ę'),\n",
       " ('vysoky', 'высокий', 'adj.', '', '[выйсокий|вийсокий|войсокой]', 'vy፨soky'),\n",
       " ('zadny', 'задний', 'adj.', '', 'задны', 'zadn፨y'),\n",
       " ('zadržati',\n",
       "  'задрожать',\n",
       "  'v.intr. pf.',\n",
       "  '',\n",
       "  '[задржати|задржать]',\n",
       "  '፨zadržati')]"
      ]
     },
     "execution_count": 134,
     "metadata": {},
     "output_type": "execute_result"
    }
   ],
   "source": [
    "wrong_cases[-30:-10]"
   ]
  },
  {
   "cell_type": "code",
   "execution_count": 133,
   "id": "f6b858bd",
   "metadata": {},
   "outputs": [
    {
     "data": {
      "text/plain": [
       "203"
      ]
     },
     "execution_count": 133,
     "metadata": {},
     "output_type": "execute_result"
    }
   ],
   "source": [
    "len(wrong_cases)"
   ]
  },
  {
   "cell_type": "code",
   "execution_count": 122,
   "id": "f6120c87",
   "metadata": {},
   "outputs": [
    {
     "data": {
      "text/plain": [
       "[Parse(word='kosť', tag=OpencorporaTag('femn,NOUN nomn,sing'), normal_form='kosť', score=1.0, methods_stack=((DictionaryAnalyzer(), 'kosť', 56, 0),)),\n",
       " Parse(word='kosť', tag=OpencorporaTag('femn,NOUN accs,sing'), normal_form='kosť', score=1.0, methods_stack=((DictionaryAnalyzer(), 'kosť', 56, 2),))]"
      ]
     },
     "execution_count": 122,
     "metadata": {},
     "output_type": "execute_result"
    }
   ],
   "source": [
    "morph.parse(\"kost\")"
   ]
  },
  {
   "cell_type": "code",
   "execution_count": 117,
   "id": "7a2887ac",
   "metadata": {},
   "outputs": [
    {
     "data": {
      "text/plain": [
       "['banđ፨o']"
      ]
     },
     "execution_count": 117,
     "metadata": {},
     "output_type": "execute_result"
    }
   ],
   "source": [
    "from isv_nlp_utils.flavorization.tokenizer import all_token_text_variants\n",
    "\n",
    "all_token_text_variants(tokens_base)\n"
   ]
  },
  {
   "cell_type": "code",
   "execution_count": 111,
   "id": "c57f16f5",
   "metadata": {},
   "outputs": [
    {
     "data": {
      "text/plain": [
       "[('abstrahovati',\n",
       "  'абстрагировать',\n",
       "  'v.tr. ipf./pf.',\n",
       "  'I',\n",
       "  '[абстрахировать|абстраховать|абстрахировати|абстраховати]'),\n",
       " ('aha', 'ага', 'intj.', '', 'аха'),\n",
       " ('akcionerny kapital',\n",
       "  'акционерный капитал',\n",
       "  'm.sg.',\n",
       "  'I',\n",
       "  'акционерны капитал'),\n",
       " ('bahamsky', 'багамский', 'adj.', '', '[бахамской|бахамский]'),\n",
       " ('bandžo', 'банджо', 'n.', 'I', '[]'),\n",
       " ('bazovati na', 'базировать на', 'v.tr. ipf.', 'I', '[базовать|базовати] на'),\n",
       " ('bazovati sę na',\n",
       "  'базироваться на',\n",
       "  'v.refl. ipf.',\n",
       "  'I',\n",
       "  '[базовать|базовати] [ся|се] на'),\n",
       " ('bedreny', 'бедренный', 'adj.', '', '[бедреный|бедрений|бедреной]'),\n",
       " ('bližny', 'ближний', 'adj.', '', 'ближны'),\n",
       " ('Bohemija', 'Богемия', 'f.sg.', '', 'Бохемия'),\n",
       " ('brť', 'борть', 'f.', '', 'брть'),\n",
       " ('brtnik', 'бортник', 'm.anim.', '', 'бртник'),\n",
       " ('bųben', 'бубен', 'm.', '', '[]'),\n",
       " ('byk', 'бык', 'm.anim.', '', '[бойк|быйк|бийк]'),\n",
       " ('civilizovany',\n",
       "  'цивилизованный',\n",
       "  'adj.',\n",
       "  'I',\n",
       "  '[цивилизированый|цивилизированой|цивилизований|цивилизованый|цивилизованой|цивилизирований]'),\n",
       " ('crkȯvny', 'церковный', 'adj.', '', '[црковний|црковный|црковной]'),\n",
       " ('ćuđezemny',\n",
       "  'чужеземный',\n",
       "  'adj.',\n",
       "  '',\n",
       "  '[чуджеземны|чуждеземны|щужеземны|чужеземны|щуждеземны|щуджеземны]'),\n",
       " ('čajny paketik', 'чайный пакетик', 'm.', '', 'чайны пакетик'),\n",
       " ('črněti', 'чернеть', 'v.intr. ipf.', '', '[чрнети|чрнеть]'),\n",
       " ('črniti', 'чернить', 'v.tr. ipf.', '', '[чрнить|чрнити]'),\n",
       " ('črnogorsky', 'черногорский', 'adj.', '', '[чрногорской|чрногорский]'),\n",
       " ('črnota', 'чернота', 'f.', '', 'чрнота'),\n",
       " ('črnuška', 'чернушка', 'f.', '', 'чрнушка'),\n",
       " ('črpati', 'черпать', 'v.tr. ipf.', '', '[чрпать|чрпати]'),\n",
       " ('črstvěti', 'черстветь', 'v.intr. ipf.', '', '[чрстветь|чрствети]'),\n",
       " ('črta', 'черта', 'f.', '', '[чрта|тчртат]'),\n",
       " ('črvec', 'червец', 'm.anim.', '', 'чрвец'),\n",
       " ('črvivy', 'червивый', 'adj.', '', '[чрвивой|чрвивий|чрвивый]'),\n",
       " ('črvjak', 'червяк', 'm.anim.', '', '[чрвъяк|чрвяк|чрвляк]'),\n",
       " ('čuvstveny',\n",
       "  'чувственный',\n",
       "  'adj.',\n",
       "  '',\n",
       "  '[чувствений|чувственый|чувственой]'),\n",
       " ('daljny', 'дальний', 'adj.', '', 'дальны'),\n",
       " ('dany', 'данный', 'adj.', '', '[даны|даний|даный|даной]'),\n",
       " ('dateljny padež', 'дательный падеж', 'm.', '', 'дательны падеж')]"
      ]
     },
     "execution_count": 111,
     "metadata": {},
     "output_type": "execute_result"
    }
   ],
   "source": [
    "wrong_cases"
   ]
  },
  {
   "cell_type": "code",
   "execution_count": null,
   "id": "03b2b447",
   "metadata": {},
   "outputs": [],
   "source": []
  },
  {
   "cell_type": "code",
   "execution_count": 110,
   "id": "57b66346",
   "metadata": {},
   "outputs": [
    {
     "data": {
      "text/plain": [
       "False"
      ]
     },
     "execution_count": 110,
     "metadata": {},
     "output_type": "execute_result"
    }
   ],
   "source": [
    "morph.word_is_known(\"bandžo\")"
   ]
  },
  {
   "cell_type": "code",
   "execution_count": 109,
   "id": "b24cca2d",
   "metadata": {},
   "outputs": [
    {
     "data": {
      "text/plain": [
       "[Parse(word='džungla', tag=OpencorporaTag('femn,NOUN nomn,sing'), normal_form='džungla', score=1.0, methods_stack=((DictionaryAnalyzer(), 'džungla', 1, 0),))]"
      ]
     },
     "execution_count": 109,
     "metadata": {},
     "output_type": "execute_result"
    }
   ],
   "source": [
    "morph.parse(\"džungla\")"
   ]
  },
  {
   "cell_type": "code",
   "execution_count": 136,
   "id": "94e5e95c",
   "metadata": {},
   "outputs": [
    {
     "data": {
      "text/plain": [
       "[AnnotatedToken(\n",
       "     variants=[ParseVariant(\n",
       "          text_variants=['фазованье',\n",
       "           'фазование'],\n",
       "          features=OpencorporaTag('Sgtm,neut,sing,NOUN nomn,sing'),\n",
       "          slovnik_pos='n.sg.',\n",
       "          lemma='fazovańje',\n",
       "          isv_id=2731,\n",
       "          genesis='I',\n",
       "          was_force_processed=False\n",
       "      )],\n",
       "     capitalization=False,\n",
       "     space_after=''\n",
       " )]"
      ]
     },
     "execution_count": 136,
     "metadata": {},
     "output_type": "execute_result"
    }
   ],
   "source": [
    "tokens_base = compute_annotated_tokens(\"fazovańje\", morph, slovnik, fix_diacritics=False)\n",
    "# tokens = morphological_flavorise(tokens_base, morph, flavor_rules[LANG])\n",
    "tokens = process_multireplacing(tokens_base, rules_struct[LANG])\n",
    "tokens"
   ]
  },
  {
   "cell_type": "code",
   "execution_count": 124,
   "id": "527c447e",
   "metadata": {},
   "outputs": [
    {
     "data": {
      "text/plain": [
       "[AnnotatedToken(\n",
       "     variants=[ParseVariant(\n",
       "          text_variants=['kos፨ť'],\n",
       "          features=OpencorporaTag('femn,NOUN nomn,sing'),\n",
       "          slovnik_pos='f.',\n",
       "          lemma='kosť',\n",
       "          isv_id=5368,\n",
       "          genesis=nan,\n",
       "          was_force_processed=False\n",
       "      )],\n",
       "     capitalization=False,\n",
       "     space_after=''\n",
       " )]"
      ]
     },
     "execution_count": 124,
     "metadata": {},
     "output_type": "execute_result"
    }
   ],
   "source": [
    "tokens_base"
   ]
  },
  {
   "cell_type": "code",
   "execution_count": 86,
   "id": "acbdb8fb",
   "metadata": {},
   "outputs": [
    {
     "data": {
      "text/plain": [
       "[AnnotatedToken(\n",
       "     variants=[],\n",
       "     capitalization='title',\n",
       "     space_after=''\n",
       " )]"
      ]
     },
     "execution_count": 86,
     "metadata": {},
     "output_type": "execute_result"
    }
   ],
   "source": [
    "tokens"
   ]
  },
  {
   "cell_type": "code",
   "execution_count": 58,
   "id": "3df7d617",
   "metadata": {},
   "outputs": [
    {
     "data": {
      "text/plain": [
       "'[፨]'"
      ]
     },
     "execution_count": 58,
     "metadata": {},
     "output_type": "execute_result"
    }
   ],
   "source": [
    "rules_struct['ru'][53][2]"
   ]
  },
  {
   "cell_type": "code",
   "execution_count": 286,
   "id": "f5b62c27",
   "metadata": {},
   "outputs": [
    {
     "data": {
      "text/plain": [
       "[Parse(word='lěťje', tag=OpencorporaTag('neut,NOUN nomn,sing'), normal_form='lěťje', score=0.11764705882352941, methods_stack=((FakeDictionary(), 'lěťje', 86, 0), (KnownSuffixAnalyzer(min_word_length=4, score_multiplier=0.5), 'lěťje'))),\n",
       " Parse(word='lěťje', tag=OpencorporaTag('neut,NOUN accs,sing'), normal_form='lěťje', score=0.11764705882352941, methods_stack=((FakeDictionary(), 'lěťje', 86, 2), (KnownSuffixAnalyzer(min_word_length=4, score_multiplier=0.5), 'lěťje'))),\n",
       " Parse(word='lěťje', tag=OpencorporaTag('neut,NOUN sing,voct'), normal_form='lěťje', score=0.11764705882352941, methods_stack=((FakeDictionary(), 'lěťje', 86, 12), (KnownSuffixAnalyzer(min_word_length=4, score_multiplier=0.5), 'lěťje'))),\n",
       " Parse(word='lěťje', tag=OpencorporaTag('tran,VERB,perf NOUN,V2NOUN'), normal_form='lěti', score=0.058823529411764705, methods_stack=((FakeDictionary(), 'lěťje', 203, 33), (KnownSuffixAnalyzer(min_word_length=4, score_multiplier=0.5), 'lěťje'))),\n",
       " Parse(word='lěťje', tag=OpencorporaTag('intr,VERB,impf NOUN,V2NOUN'), normal_form='lěti', score=0.029411764705882353, methods_stack=((FakeDictionary(), 'lěťje', 363, 33), (KnownSuffixAnalyzer(min_word_length=4, score_multiplier=0.5), 'lěťje'))),\n",
       " Parse(word='lěťje', tag=OpencorporaTag('Refl,VERB,perf NOUN,V2NOUN'), normal_form='lěti', score=0.029411764705882353, methods_stack=((FakeDictionary(), 'lěťje', 398, 33), (KnownSuffixAnalyzer(min_word_length=4, score_multiplier=0.5), 'lěťje')))]"
      ]
     },
     "execution_count": 286,
     "metadata": {},
     "output_type": "execute_result"
    }
   ],
   "source": [
    "morph.parse(isv_form[1:])"
   ]
  },
  {
   "cell_type": "code",
   "execution_count": null,
   "id": "cc7dc03b",
   "metadata": {},
   "outputs": [],
   "source": []
  },
  {
   "cell_type": "code",
   "execution_count": 255,
   "id": "50fb55e6",
   "metadata": {},
   "outputs": [
    {
     "data": {
      "text/plain": [
       "['__annotations__',\n",
       " '__attributes__',\n",
       " '__class__',\n",
       " '__delattr__',\n",
       " '__dict__',\n",
       " '__dir__',\n",
       " '__doc__',\n",
       " '__eq__',\n",
       " '__format__',\n",
       " '__ge__',\n",
       " '__getattribute__',\n",
       " '__gt__',\n",
       " '__hash__',\n",
       " '__init__',\n",
       " '__init_subclass__',\n",
       " '__iter__',\n",
       " '__le__',\n",
       " '__lt__',\n",
       " '__module__',\n",
       " '__ne__',\n",
       " '__new__',\n",
       " '__reduce__',\n",
       " '__reduce_ex__',\n",
       " '__repr__',\n",
       " '__setattr__',\n",
       " '__sizeof__',\n",
       " '__slotnames__',\n",
       " '__str__',\n",
       " '__subclasshook__',\n",
       " '__weakref__',\n",
       " '_repr_pretty_',\n",
       " 'as_json',\n",
       " 'features',\n",
       " 'from_json',\n",
       " 'genesis',\n",
       " 'isv_id',\n",
       " 'lemma',\n",
       " 'slovnik_pos',\n",
       " 'text_variants']"
      ]
     },
     "execution_count": 255,
     "metadata": {},
     "output_type": "execute_result"
    }
   ],
   "source": [
    "dir(tokens_base[0].variants[0])"
   ]
  },
  {
   "cell_type": "code",
   "execution_count": 263,
   "id": "b93a7f17",
   "metadata": {},
   "outputs": [
    {
     "data": {
      "text/plain": [
       "['__annotations__',\n",
       " '__attributes__',\n",
       " '__class__',\n",
       " '__delattr__',\n",
       " '__dict__',\n",
       " '__dir__',\n",
       " '__doc__',\n",
       " '__eq__',\n",
       " '__format__',\n",
       " '__ge__',\n",
       " '__getattribute__',\n",
       " '__gt__',\n",
       " '__hash__',\n",
       " '__init__',\n",
       " '__init_subclass__',\n",
       " '__iter__',\n",
       " '__le__',\n",
       " '__lt__',\n",
       " '__module__',\n",
       " '__ne__',\n",
       " '__new__',\n",
       " '__reduce__',\n",
       " '__reduce_ex__',\n",
       " '__repr__',\n",
       " '__setattr__',\n",
       " '__sizeof__',\n",
       " '__slotnames__',\n",
       " '__str__',\n",
       " '__subclasshook__',\n",
       " '__weakref__',\n",
       " '_repr_pretty_',\n",
       " 'as_json',\n",
       " 'capitalization',\n",
       " 'from_json',\n",
       " 'genesis',\n",
       " 'space_after',\n",
       " 'variants']"
      ]
     },
     "execution_count": 263,
     "metadata": {},
     "output_type": "execute_result"
    }
   ],
   "source": [
    "dir(tokens_base[0])"
   ]
  },
  {
   "cell_type": "code",
   "execution_count": null,
   "id": "36a84ca3",
   "metadata": {},
   "outputs": [],
   "source": [
    "([865, 6701], 0.8856727464974887)\n"
   ]
  },
  {
   "cell_type": "code",
   "execution_count": 159,
   "id": "6e661e07",
   "metadata": {},
   "outputs": [
    {
     "name": "stdout",
     "output_type": "stream",
     "text": [
      "ajsberg айсберг m. D\n",
      "ambar амбар m. T\n",
      "badminton бадминтон m.sg. E\n",
      "bajt байт m. E\n",
      "bakenbardy бакенбарды f.pl. D\n",
      "barmen бармен m.anim. E\n",
      "basketbol баскетбол m.sg. E\n",
      "bejsbol бейсбол m.sg. E\n",
      "berserk берсерк m.anim. G\n",
      "bilbord билборд m. E\n",
      "biznes бизнес m. E\n",
      "biznesmen бизнесмен m.anim. E\n",
      "bobslej бобслей m. E\n",
      "brend бренд m. E\n",
      "bufer буфер m. E\n",
      "bufer obměna буфер обмена m. E\n",
      "bunt бунт m. D\n",
      "čat чат m. E\n",
      "čempion чемпион m.anim. E\n",
      "čempionat чемпионат m. E\n",
      "čip чип m. E\n",
      "čips чипс m. E\n",
      "dansing дансинг m. E\n",
      "displej дисплей m. E\n",
      "dizajn дизайн m. E\n",
      "džaz джаз m.sg. E\n",
      "džem джем m. E\n",
      "džoker джокер m.anim. E\n",
      "fajl файл m. E\n",
      "fehtovańje фехтование n.sg. D\n",
      "fitilj фитиль m. T\n",
      "fleška флешка f. E\n",
      "flomaster фломастер m. E\n",
      "futbol футбол m.sg. E\n",
      "gadžet гаджет m. E\n",
      "gangster гангстер m.anim. E\n",
      "gej гей m.anim. E\n",
      "grant грант m. E\n",
      "grejpfrut грейпфрут m. E\n",
      "hamburger гамбургер m. D\n",
      "handbol гандбол m.sg. E\n",
      "huligan хулиган m.anim. E\n",
      "jard ярд m. E\n",
      "kancler канцлер m.anim. G\n",
      "kat кат m. A\n",
      "kemping кемпинг m. E\n",
      "klavir клавир m. D\n",
      "kloun клоун m.anim. E\n",
      "klub клуб m. E\n",
      "komiks комикс m. E\n",
      "kondicioner кондиционер m. E\n",
      "kontejner контейнер m. E\n",
      "krah крах m. D\n",
      "kriket крикет m. E\n",
      "kroket крокет m. E\n",
      "kurort курорт m. D\n",
      "kviz квиз m. E\n",
      "lageŕ лагерь m. D\n",
      "lider лидер m.anim. E\n",
      "lift лифт m. E\n",
      "linčevati линчевать v.tr. ipf./pf. E\n",
      "marker маркер m. E\n",
      "marširovati маршировать v.intr. ipf. D\n",
      "maršrut маршрут m. D\n",
      "maršrutka маршрутка f. D\n",
      "matč матч m. E\n",
      "mejnstrim мейнстрим m.sg. E\n",
      "menedžer менеджер m.anim. E\n",
      "mjuzikl мюзикл m. E\n",
      "nadir надир m. A\n",
      "nasos насос m. S\n",
      "noćny klub ночной клуб m. E\n",
      "onlajn онлайн adv. E\n",
      "penthaus пентхаус m. E\n",
      "penthausny пентхаусный adj. E\n",
      "pidžin пиджин m. E\n",
      "piknik пикник m. E\n",
      "piroman пироман m.anim. i\n",
      "poni пони m.anim. E\n",
      "pulover пуловер m. E\n",
      "raund раунд m. E\n",
      "sajt сайт m. E\n",
      "selfi селфи m.indecl. E\n",
      "server сервер m. E\n",
      "sidr сидр m. E\n",
      "sikvel сиквел m. E\n",
      "skuter скутер m. E\n",
      "slajd слайд m. E\n",
      "sleng сленг m. E\n",
      "slogan слоган m. E\n",
      "straus страус m.anim. D\n",
      "strunny instrument струнный инструмент m. M\n",
      "strunny kvartet струнный квартет m. M\n",
      "šahta шахта f. D\n",
      "škaf шкаф m. D\n",
      "šlifovati шлифовать v.tr. ipf. D\n",
      "šljuz шлюз m. G\n",
      "šou шоу m.indecl. E\n",
      "štanga штанга f. D\n",
      "štat штат m. D\n",
      "tancevati танцевать v.intr. ipf. D\n",
      "tancor танцор m.anim. D\n",
      "tancorka танцорка f. D\n",
      "tanec танец m. D\n",
      "tatuovati татуировать v.tr. ipf./pf. E\n",
      "televiděńje телевидение n.sg. S\n",
      "tinejdžer тинейджер m.anim. E\n",
      "tost тост m. E\n",
      "toster тостер m. E\n",
      "trankvilizator транквилизатор m. E\n",
      "trejler трейлер m. E\n",
      "trener тренер m.anim. E\n",
      "trening тренинг m. E\n",
      "treningovy тренинговый adj. E\n",
      "trenovati тренировать v.tr. ipf. E\n",
      "tvid твид m. E\n",
      "udav удав m.anim. S\n",
      "valtorna валторна f. D\n",
      "valtornist валторнист m.anim. D\n",
      "veb-sajt веб-сайт m. E\n",
      "veb-strånica веб-страница f. E\n",
      "vebmaster вебмастер m.anim. E\n",
      "verbovati вербовать v.tr. ipf./pf. D\n",
      "viki вики f.indecl. E\n",
      "vintovka винтовка f. D\n",
      "viski виски m./f. E\n",
      "vist вист m. E\n",
      "volejbol волейбол m.sg. E\n",
      "vpivati впивать v.tr. ipf. S\n",
      "živopisec живописец m.anim. S\n",
      "žučji жучий adj. S\n",
      "žuk жук m.anim. S\n"
     ]
    },
    {
     "data": {
      "text/plain": [
       "Counter({'F': 5, 'I': 155, '': 3, 'D': 1, 'E': 2})"
      ]
     },
     "execution_count": 159,
     "metadata": {},
     "output_type": "execute_result"
    }
   ],
   "source": [
    "\n",
    "for e in test_cases_struct:\n",
    "    isv_form, expected_match, pos, genesis = e\n",
    "    if genesis not in [\"I\", \"\", \"F\"]:\n",
    "        print(isv_form, expected_match, pos, genesis)\n",
    "\n",
    "gen_cnt"
   ]
  },
  {
   "cell_type": "code",
   "execution_count": 160,
   "id": "4591d247",
   "metadata": {},
   "outputs": [
    {
     "data": {
      "text/plain": [
       "Counter({'F': 5, 'I': 155, '': 3, 'D': 1, 'E': 2})"
      ]
     },
     "execution_count": 160,
     "metadata": {},
     "output_type": "execute_result"
    }
   ],
   "source": [
    "gen_cnt = Counter()\n",
    "gen_cnt_all = Counter()\n",
    "\n",
    "for e in test_cases_struct:\n",
    "    isv_form, expected_match, pos, genesis = e\n",
    "    gen_cnt_all[genesis] += 1\n",
    "    if \"ирова\" in expected_match:\n",
    "        gen_cnt[genesis] += 1\n",
    "        #if genesis != \"I\":\n",
    "        #    print(isv_form, expected_match, pos, genesis)\n",
    "        if \"noun\" in pos:\n",
    "            print(isv_form, expected_match, pos, genesis)\n",
    "\n",
    "gen_cnt"
   ]
  },
  {
   "cell_type": "code",
   "execution_count": 170,
   "id": "05570483",
   "metadata": {},
   "outputs": [
    {
     "data": {
      "text/plain": [
       "16"
      ]
     },
     "execution_count": 170,
     "metadata": {},
     "output_type": "execute_result"
    }
   ],
   "source": [
    "paradigm_num = morph.parse(\"etičny\")[0][4][0][2]\n",
    "paradigm_num"
   ]
  },
  {
   "cell_type": "code",
   "execution_count": 192,
   "id": "2569e17f",
   "metadata": {},
   "outputs": [
    {
     "data": {
      "text/plain": [
       "(DictionaryAnalyzer(), 'etičnogo', 16, 6)"
      ]
     },
     "execution_count": 192,
     "metadata": {},
     "output_type": "execute_result"
    }
   ],
   "source": [
    "paradigm_num = morph.parse(\"etičny\")[0][4][0][2]\n",
    "\n",
    "morph.parse(\"etičnogo\")[0][4][0]"
   ]
  },
  {
   "cell_type": "code",
   "execution_count": 193,
   "id": "4be51e86",
   "metadata": {},
   "outputs": [
    {
     "data": {
      "text/plain": [
       "('', OpencorporaTag('ADJF masc,accs,sing,anim'), 'ogo')"
      ]
     },
     "execution_count": 193,
     "metadata": {},
     "output_type": "execute_result"
    }
   ],
   "source": [
    "paradigm[6]"
   ]
  },
  {
   "cell_type": "code",
   "execution_count": 185,
   "id": "9dd8e789",
   "metadata": {},
   "outputs": [],
   "source": [
    "isv_dict = morph._units[0][0].dict  # словарь, инициализированный данными для русского языка\n",
    "paradigm = isv_dict.build_paradigm_info(paradigm_num)\n",
    "stem = isv_dict.build_stem(isv_dict.paradigms[paradigm_num], 0, \"etičny\")\n",
    "\n"
   ]
  },
  {
   "cell_type": "code",
   "execution_count": null,
   "id": "a38ca567",
   "metadata": {},
   "outputs": [],
   "source": []
  },
  {
   "cell_type": "code",
   "execution_count": 194,
   "id": "9f11a303",
   "metadata": {},
   "outputs": [],
   "source": [
    "def extract_stem_prefix_suffix(word, word_parse, isv_dict):\n",
    "    \n",
    "    paradigm_num = word_parse[4][0][2]\n",
    "    form_num = word_parse[4][0][3]\n",
    "    paradigm = isv_dict.build_paradigm_info(paradigm_num)\n",
    "    stem = isv_dict.build_stem(isv_dict.paradigms[paradigm_num], form_num, word)\n",
    "\n",
    "    pref = paradigm[form_num][0]\n",
    "    suff = paradigm[form_num][2]\n",
    "    \n",
    "    return pref, stem, suff\n",
    "\n"
   ]
  },
  {
   "cell_type": "code",
   "execution_count": 197,
   "id": "24acf17e",
   "metadata": {},
   "outputs": [
    {
     "data": {
      "text/plain": [
       "('', 'putni', 'ku')"
      ]
     },
     "execution_count": 197,
     "metadata": {},
     "output_type": "execute_result"
    }
   ],
   "source": [
    "isv_dict = morph._units[0][0].dict\n",
    "\n",
    "word = \"putniku\"\n",
    "word_parse = morph.parse(word)[0]\n",
    "\n",
    "extract_stem_prefix_suffix(word, word_parse, isv_dict)"
   ]
  },
  {
   "cell_type": "code",
   "execution_count": 212,
   "id": "1b70bf4d",
   "metadata": {},
   "outputs": [
    {
     "data": {
      "text/plain": [
       "[Parse(word='krasnějši', tag=OpencorporaTag('ADJF COMP'), normal_form='krasny', score=1.0, methods_stack=((DictionaryAnalyzer(), 'krasnějši', 16, 49),)),\n",
       " Parse(word='krasnějši', tag=OpencorporaTag('ADJF masc,nomn,sing,anim'), normal_form='krasnějši', score=1.0, methods_stack=((DictionaryAnalyzer(), 'krasnějši', 104, 0),)),\n",
       " Parse(word='krasnějši', tag=OpencorporaTag('ADJF masc,nomn,sing,inan'), normal_form='krasnějši', score=1.0, methods_stack=((DictionaryAnalyzer(), 'krasnějši', 104, 3),)),\n",
       " Parse(word='krasnějši', tag=OpencorporaTag('ADJF masc,accs,sing,inan'), normal_form='krasnějši', score=1.0, methods_stack=((DictionaryAnalyzer(), 'krasnějši', 104, 9),)),\n",
       " Parse(word='krasnějši', tag=OpencorporaTag('ADJF masc,nomn,plur,anim'), normal_form='krasnějši', score=1.0, methods_stack=((DictionaryAnalyzer(), 'krasnějši', 104, 24),)),\n",
       " Parse(word='krasnějši', tag=OpencorporaTag('ADJF compb'), normal_form='krasnějši', score=1.0, methods_stack=((DictionaryAnalyzer(), 'krasnějši', 104, 48),))]"
      ]
     },
     "execution_count": 212,
     "metadata": {},
     "output_type": "execute_result"
    }
   ],
   "source": [
    "morph.parse(\"krasnějši\")"
   ]
  },
  {
   "cell_type": "code",
   "execution_count": 238,
   "id": "464093d0",
   "metadata": {},
   "outputs": [
    {
     "name": "stdout",
     "output_type": "stream",
     "text": [
      "podpisati = podpi + sati\n",
      "objavjati = objavja + ti\n",
      "objaviti = objav + iti\n",
      "putniku = putni + ku\n",
      "kazah = ka + zah\n",
      "prědskažeš = prědska + žeš\n",
      "podskaže = podska + že\n",
      "etičnogo = etičn + ogo\n",
      "dobrěje = dobrě + je\n",
      "běgti = bě + gti\n",
      "uběgti = ubě + gti\n",
      "nesti = nes + ti\n",
      "krasnějši = krasn + ějši\n",
      "etičnogo = etičn + ogo\n",
      "mužev = muž + ev\n",
      "antičnymi = antičn + ymi\n"
     ]
    }
   ],
   "source": [
    "for word in [\"podpisati\", \"objavjati\", \"objaviti\", \"putniku\", \"kazah\", \"prědskažeš\", \"podskaže\", \"etičnogo\", \"dobrěje\", \"běgti\", \"uběgti\", \"nesti\", \"krasnějši\", \"etičnogo\", \"mužev\", \"antičnymi\"]:\n",
    "\n",
    "    word_parse = morph.parse(word)[0]\n",
    "    extracted = extract_stem_prefix_suffix(word, word_parse, isv_dict)\n",
    "    if extracted[0]:\n",
    "        print(\n",
    "            word, \"=\", extracted[0], \"+\", extracted[1], \"+\", extracted[2]\n",
    "        )\n",
    "    else:\n",
    "        print(\n",
    "            word, \"=\", extracted[1], \"+\", extracted[2]\n",
    "        )"
   ]
  },
  {
   "cell_type": "code",
   "execution_count": 244,
   "id": "8f99d766",
   "metadata": {},
   "outputs": [
    {
     "data": {
      "text/plain": [
       "('', 'antičn', 'ymi')"
      ]
     },
     "execution_count": 244,
     "metadata": {},
     "output_type": "execute_result"
    }
   ],
   "source": [
    "extracted"
   ]
  },
  {
   "cell_type": "code",
   "execution_count": 225,
   "id": "e83c1778",
   "metadata": {},
   "outputs": [
    {
     "data": {
      "text/plain": [
       "[Parse(word='superheroj', tag=OpencorporaTag('masc,anim,NOUN nomn,sing'), normal_form='superheroj', score=1.0, methods_stack=((DictionaryAnalyzer(), 'superheroj', 65, 0),))]"
      ]
     },
     "execution_count": 225,
     "metadata": {},
     "output_type": "execute_result"
    }
   ],
   "source": [
    "morph.parse(\"superheroj\")"
   ]
  },
  {
   "cell_type": "code",
   "execution_count": 226,
   "id": "5ee50709",
   "metadata": {},
   "outputs": [
    {
     "data": {
      "text/plain": [
       "[Parse(word='heroj', tag=OpencorporaTag('masc,anim,NOUN nomn,sing'), normal_form='heroj', score=1.0, methods_stack=((DictionaryAnalyzer(), 'heroj', 65, 0),))]"
      ]
     },
     "execution_count": 226,
     "metadata": {},
     "output_type": "execute_result"
    }
   ],
   "source": [
    "morph.parse(\"heroj\")"
   ]
  },
  {
   "cell_type": "code",
   "execution_count": 224,
   "id": "7b5c2e5b",
   "metadata": {},
   "outputs": [
    {
     "ename": "IndexError",
     "evalue": "list index out of range",
     "output_type": "error",
     "traceback": [
      "\u001b[1;31m---------------------------------------------------------------------------\u001b[0m",
      "\u001b[1;31mIndexError\u001b[0m                                Traceback (most recent call last)",
      "\u001b[1;32m~\\AppData\\Local\\Temp\\ipykernel_18948\\2701226028.py\u001b[0m in \u001b[0;36m<module>\u001b[1;34m\u001b[0m\n\u001b[0;32m      1\u001b[0m \u001b[1;32mfor\u001b[0m \u001b[0mN\u001b[0m \u001b[1;32min\u001b[0m \u001b[0mrange\u001b[0m\u001b[1;33m(\u001b[0m\u001b[1;36m3000\u001b[0m\u001b[1;33m)\u001b[0m\u001b[1;33m:\u001b[0m\u001b[1;33m\u001b[0m\u001b[1;33m\u001b[0m\u001b[0m\n\u001b[1;32m----> 2\u001b[1;33m     \u001b[0mparadigm\u001b[0m \u001b[1;33m=\u001b[0m \u001b[0misv_dict\u001b[0m\u001b[1;33m.\u001b[0m\u001b[0mbuild_paradigm_info\u001b[0m\u001b[1;33m(\u001b[0m\u001b[0mN\u001b[0m\u001b[1;33m)\u001b[0m\u001b[1;33m\u001b[0m\u001b[1;33m\u001b[0m\u001b[0m\n\u001b[0m\u001b[0;32m      3\u001b[0m     \u001b[1;32mfor\u001b[0m \u001b[0melem\u001b[0m \u001b[1;32min\u001b[0m \u001b[0mparadigm\u001b[0m\u001b[1;33m:\u001b[0m\u001b[1;33m\u001b[0m\u001b[1;33m\u001b[0m\u001b[0m\n\u001b[0;32m      4\u001b[0m         \u001b[1;32mif\u001b[0m \u001b[0melem\u001b[0m\u001b[1;33m[\u001b[0m\u001b[1;36m0\u001b[0m\u001b[1;33m]\u001b[0m\u001b[1;33m:\u001b[0m\u001b[1;33m\u001b[0m\u001b[1;33m\u001b[0m\u001b[0m\n\u001b[0;32m      5\u001b[0m             \u001b[0mprint\u001b[0m\u001b[1;33m(\u001b[0m\u001b[0mN\u001b[0m\u001b[1;33m)\u001b[0m\u001b[1;33m\u001b[0m\u001b[1;33m\u001b[0m\u001b[0m\n",
      "\u001b[1;32m~\\anaconda3\\envs\\repdexai\\lib\\site-packages\\pymorphy2\\opencorpora_dict\\wrapper.py\u001b[0m in \u001b[0;36mbuild_paradigm_info\u001b[1;34m(self, para_id)\u001b[0m\n\u001b[0;32m     51\u001b[0m         \u001b[0mtuples\u001b[0m \u001b[0mrepresenting\u001b[0m \u001b[0mthe\u001b[0m \u001b[0mparadigm\u001b[0m\u001b[1;33m.\u001b[0m\u001b[1;33m\u001b[0m\u001b[1;33m\u001b[0m\u001b[0m\n\u001b[0;32m     52\u001b[0m         \"\"\"\n\u001b[1;32m---> 53\u001b[1;33m         \u001b[0mparadigm\u001b[0m \u001b[1;33m=\u001b[0m \u001b[0mself\u001b[0m\u001b[1;33m.\u001b[0m\u001b[0mparadigms\u001b[0m\u001b[1;33m[\u001b[0m\u001b[0mpara_id\u001b[0m\u001b[1;33m]\u001b[0m\u001b[1;33m\u001b[0m\u001b[1;33m\u001b[0m\u001b[0m\n\u001b[0m\u001b[0;32m     54\u001b[0m         \u001b[0mparadigm_len\u001b[0m \u001b[1;33m=\u001b[0m \u001b[0mlen\u001b[0m\u001b[1;33m(\u001b[0m\u001b[0mparadigm\u001b[0m\u001b[1;33m)\u001b[0m \u001b[1;33m//\u001b[0m \u001b[1;36m3\u001b[0m\u001b[1;33m\u001b[0m\u001b[1;33m\u001b[0m\u001b[0m\n\u001b[0;32m     55\u001b[0m         \u001b[0mres\u001b[0m \u001b[1;33m=\u001b[0m \u001b[1;33m[\u001b[0m\u001b[1;33m]\u001b[0m\u001b[1;33m\u001b[0m\u001b[1;33m\u001b[0m\u001b[0m\n",
      "\u001b[1;31mIndexError\u001b[0m: list index out of range"
     ]
    }
   ],
   "source": [
    "for N in range(3000):\n",
    "    paradigm = isv_dict.build_paradigm_info(N)\n",
    "    for elem in paradigm:\n",
    "        if elem[0]:\n",
    "            print(N)"
   ]
  },
  {
   "cell_type": "code",
   "execution_count": 236,
   "id": "617fb32b",
   "metadata": {},
   "outputs": [],
   "source": [
    "import pymorphy2\n",
    "\n",
    "m = pymorphy2.MorphAnalyzer()\n",
    "\n",
    "ru_dict = m._units[0][0].dict\n",
    "\n",
    "for N in range(1000):\n",
    "    paradigm = ru_dict.build_paradigm_info(N)\n",
    "    for elem in paradigm:\n",
    "        if elem[0] and elem[0] != \"по\" and elem[0] != \"наи\":\n",
    "            print(N, elem)"
   ]
  },
  {
   "cell_type": "code",
   "execution_count": 231,
   "id": "2d20e88a",
   "metadata": {},
   "outputs": [
    {
     "data": {
      "text/plain": [
       "[Parse(word='писать', tag=OpencorporaTag('INFN,impf,tran'), normal_form='писать', score=0.991735, methods_stack=((DictionaryAnalyzer(), 'писать', 2464, 0),)),\n",
       " Parse(word='писать', tag=OpencorporaTag('INFN,impf,intr'), normal_form='писать', score=0.008264, methods_stack=((DictionaryAnalyzer(), 'писать', 15, 0),))]"
      ]
     },
     "execution_count": 231,
     "metadata": {},
     "output_type": "execute_result"
    }
   ],
   "source": [
    "m.parse(\"писать\")"
   ]
  },
  {
   "cell_type": "code",
   "execution_count": 232,
   "id": "86215053",
   "metadata": {},
   "outputs": [
    {
     "data": {
      "text/plain": [
       "[Parse(word='подписать', tag=OpencorporaTag('INFN,perf,tran'), normal_form='подписать', score=1.0, methods_stack=((DictionaryAnalyzer(), 'подписать', 959, 0),))]"
      ]
     },
     "execution_count": 232,
     "metadata": {},
     "output_type": "execute_result"
    }
   ],
   "source": [
    "m.parse(\"подписать\")"
   ]
  },
  {
   "cell_type": "code",
   "execution_count": 233,
   "id": "7a71996d",
   "metadata": {},
   "outputs": [
    {
     "data": {
      "text/plain": [
       "[Parse(word='написать', tag=OpencorporaTag('INFN,perf,tran'), normal_form='написать', score=1.0, methods_stack=((DictionaryAnalyzer(), 'написать', 959, 0),))]"
      ]
     },
     "execution_count": 233,
     "metadata": {},
     "output_type": "execute_result"
    }
   ],
   "source": [
    "m.parse(\"написать\")"
   ]
  },
  {
   "cell_type": "code",
   "execution_count": 219,
   "id": "6ebe1ab5",
   "metadata": {},
   "outputs": [
    {
     "data": {
      "text/plain": [
       "[Parse(word='podskaže', tag=OpencorporaTag('tran,VERB,perf 3per,sing,pres'), normal_form='podskazati', score=0.75, methods_stack=((DictionaryAnalyzer(), 'skaže', 207, 8), (KnownPrefixAnalyzer(known_prefixes=<...>, min_remainder_length=3, score_multiplier=0.75), 'pod'))),\n",
       " Parse(word='podskaže', tag=OpencorporaTag('tran,VERB,impf 3per,sing,pres'), normal_form='podskazati', score=0.375, methods_stack=((DictionaryAnalyzer(), 'kaže', 90, 8), (UnknownPrefixAnalyzer(score_multiplier=0.5), 'ds'), (KnownPrefixAnalyzer(known_prefixes=<...>, min_remainder_length=3, score_multiplier=0.75), 'po'))),\n",
       " Parse(word='podskaže', tag=OpencorporaTag('Refl,VERB,impf 3per,sing,pres'), normal_form='podskazati', score=0.375, methods_stack=((DictionaryAnalyzer(), 'kaže', 335, 8), (UnknownPrefixAnalyzer(score_multiplier=0.5), 'ds'), (KnownPrefixAnalyzer(known_prefixes=<...>, min_remainder_length=3, score_multiplier=0.75), 'po')))]"
      ]
     },
     "execution_count": 219,
     "metadata": {},
     "output_type": "execute_result"
    }
   ],
   "source": [
    "morph.parse(\"podskaže\")"
   ]
  },
  {
   "cell_type": "code",
   "execution_count": 220,
   "id": "5d0c7528",
   "metadata": {},
   "outputs": [
    {
     "data": {
      "text/plain": [
       "False"
      ]
     },
     "execution_count": 220,
     "metadata": {},
     "output_type": "execute_result"
    }
   ],
   "source": [
    "morph.word_is_known(\"podskaže\")"
   ]
  },
  {
   "cell_type": "code",
   "execution_count": 206,
   "id": "5e54fe0c",
   "metadata": {},
   "outputs": [
    {
     "data": {
      "text/plain": [
       "Parse(word='tekti', tag=OpencorporaTag('intr,VERB,impf infn'), normal_form='tekti', score=1.0, methods_stack=((DictionaryAnalyzer(), 'tekti', 394, 0),))"
      ]
     },
     "execution_count": 206,
     "metadata": {},
     "output_type": "execute_result"
    }
   ],
   "source": []
  },
  {
   "cell_type": "code",
   "execution_count": null,
   "id": "8ff2e994",
   "metadata": {},
   "outputs": [],
   "source": []
  },
  {
   "cell_type": "code",
   "execution_count": 188,
   "id": "c264dd96",
   "metadata": {},
   "outputs": [
    {
     "data": {
      "text/plain": [
       "'pisat'"
      ]
     },
     "execution_count": 188,
     "metadata": {},
     "output_type": "execute_result"
    }
   ],
   "source": [
    "isv_dict.build_stem(isv_dict.paradigms[paradigm_num], 0, \"pisati\")"
   ]
  },
  {
   "cell_type": "code",
   "execution_count": 183,
   "id": "7035a55f",
   "metadata": {},
   "outputs": [
    {
     "data": {
      "text/plain": [
       "[Parse(word='opati', tag=OpencorporaTag('masc,anim,NOUN nomn,plur'), normal_form='opat', score=1.0, methods_stack=((DictionaryAnalyzer(), 'opati', 17, 1),)),\n",
       " Parse(word='opati', tag=OpencorporaTag('masc,anim,NOUN voct,plur'), normal_form='opat', score=1.0, methods_stack=((DictionaryAnalyzer(), 'opati', 17, 13),))]"
      ]
     },
     "execution_count": 183,
     "metadata": {},
     "output_type": "execute_result"
    }
   ],
   "source": [
    "morph.parse(\"opati\")"
   ]
  },
  {
   "cell_type": "code",
   "execution_count": 184,
   "id": "6572e519",
   "metadata": {},
   "outputs": [
    {
     "data": {
      "text/plain": [
       "[Parse(word='pirati', tag=OpencorporaTag('masc,anim,NOUN nomn,plur'), normal_form='pirat', score=1.0, methods_stack=((DictionaryAnalyzer(), 'pirati', 17, 1),)),\n",
       " Parse(word='pirati', tag=OpencorporaTag('masc,anim,NOUN voct,plur'), normal_form='pirat', score=1.0, methods_stack=((DictionaryAnalyzer(), 'pirati', 17, 13),))]"
      ]
     },
     "execution_count": 184,
     "metadata": {},
     "output_type": "execute_result"
    }
   ],
   "source": [
    "morph.parse(\"pirati\")"
   ]
  },
  {
   "cell_type": "code",
   "execution_count": 173,
   "id": "bd612b1f",
   "metadata": {},
   "outputs": [
    {
     "data": {
      "text/plain": [
       "'etičn'"
      ]
     },
     "execution_count": 173,
     "metadata": {},
     "output_type": "execute_result"
    }
   ],
   "source": [
    "stem"
   ]
  },
  {
   "cell_type": "code",
   "execution_count": 172,
   "id": "afa104b7",
   "metadata": {},
   "outputs": [
    {
     "name": "stdout",
     "output_type": "stream",
     "text": [
      "etičny ADJF masc,nomn,sing,anim\n",
      "etično ADJF neut,nomn,sing,anim\n",
      "etična ADJF nomn,sing,femn,anim\n",
      "etičny ADJF masc,nomn,sing,inan\n",
      "etično ADJF neut,nomn,sing,inan\n",
      "etična ADJF nomn,sing,femn,inan\n",
      "etičnogo ADJF masc,accs,sing,anim\n",
      "etično ADJF neut,accs,sing,anim\n",
      "etičnų ADJF accs,sing,femn,anim\n",
      "etičny ADJF masc,accs,sing,inan\n",
      "etično ADJF neut,accs,sing,inan\n",
      "etičnų ADJF accs,sing,femn,inan\n",
      "etičnogo ADJF masc,sing,gent\n",
      "etičnogo ADJF sing,neut,gent\n",
      "etičnoj ADJF sing,femn,gent\n",
      "etičnom ADJF masc,sing,loct\n",
      "etičnom ADJF sing,neut,loct\n",
      "etičnoj ADJF sing,femn,loct\n",
      "etičnomu ADJF datv,masc,sing\n",
      "etičnomu ADJF datv,sing,neut\n",
      "etičnoj ADJF datv,sing,femn\n",
      "etičnym ADJF ablt,masc,sing\n",
      "etičnym ADJF ablt,sing,neut\n",
      "etičnojų ADJF ablt,sing,femn\n",
      "etični ADJF masc,nomn,plur,anim\n",
      "etične ADJF neut,nomn,plur,anim\n",
      "etične ADJF nomn,plur,femn,anim\n",
      "etične ADJF masc,nomn,plur,inan\n",
      "etične ADJF neut,nomn,plur,inan\n",
      "etične ADJF nomn,plur,femn,inan\n",
      "etičnyh ADJF masc,accs,plur,anim\n",
      "etične ADJF neut,accs,plur,anim\n",
      "etične ADJF accs,plur,femn,anim\n",
      "etične ADJF masc,accs,plur,inan\n",
      "etične ADJF neut,accs,plur,inan\n",
      "etične ADJF accs,plur,femn,inan\n",
      "etičnyh ADJF masc,plur,gent\n",
      "etičnyh ADJF plur,neut,gent\n",
      "etičnyh ADJF plur,femn,gent\n",
      "etičnyh ADJF masc,plur,loct\n",
      "etičnyh ADJF plur,neut,loct\n",
      "etičnyh ADJF plur,femn,loct\n",
      "etičnym ADJF datv,masc,plur\n",
      "etičnym ADJF datv,plur,neut\n",
      "etičnym ADJF datv,plur,femn\n",
      "etičnymi ADJF ablt,masc,plur\n",
      "etičnymi ADJF ablt,plur,neut\n",
      "etičnymi ADJF ablt,plur,femn\n",
      "etičny ADJF compb\n",
      "etičnějši ADJF COMP\n",
      "etično ADJF ADVB,compb\n",
      "etičněje ADJF ADVB,COMP\n"
     ]
    }
   ],
   "source": [
    "for index, (_prefix, _tag, _suffix) in enumerate(paradigm):\n",
    "            word = _prefix + stem + _suffix\n",
    "            print(word, _tag)\n"
   ]
  },
  {
   "cell_type": "code",
   "execution_count": null,
   "id": "cd141c75",
   "metadata": {},
   "outputs": [],
   "source": []
  },
  {
   "cell_type": "code",
   "execution_count": 176,
   "id": "f08f859d",
   "metadata": {},
   "outputs": [
    {
     "name": "stdout",
     "output_type": "stream",
     "text": [
      "etičesky etičny\n",
      "etičesko etično\n",
      "etičeska etična\n",
      "etičesky etičny\n",
      "etičesko etično\n",
      "etičeska etična\n",
      "etičeskogo etičnogo\n",
      "etičesko etično\n",
      "etičeskų etičnų\n",
      "etičesky etičny\n",
      "etičesko etično\n",
      "etičeskų etičnų\n",
      "etičeskogo etičnogo\n",
      "etičeskogo etičnogo\n",
      "etičeskoj etičnoj\n",
      "etičeskom etičnom\n",
      "etičeskom etičnom\n",
      "etičeskoj etičnoj\n",
      "etičeskomu etičnomu\n",
      "etičeskomu etičnomu\n",
      "etičeskoj etičnoj\n",
      "etičeskym etičnym\n",
      "etičeskym etičnym\n",
      "etičeskojų etičnojų\n",
      "etičeski etični\n",
      "etičeske etične\n",
      "etičeske etične\n",
      "etičeske etične\n",
      "etičeske etične\n",
      "etičeske etične\n",
      "etičeskyh etičnyh\n",
      "etičeske etične\n",
      "etičeske etične\n",
      "etičeske etične\n",
      "etičeske etične\n",
      "etičeske etične\n",
      "etičeskyh etičnyh\n",
      "etičeskyh etičnyh\n",
      "etičeskyh etičnyh\n",
      "etičeskyh etičnyh\n",
      "etičeskyh etičnyh\n",
      "etičeskyh etičnyh\n",
      "etičeskym etičnym\n",
      "etičeskym etičnym\n",
      "etičeskym etičnym\n",
      "etičeskymi etičnymi\n",
      "etičeskymi etičnymi\n",
      "etičeskymi etičnymi\n",
      "etičesky etičny\n",
      "etičeskějši etičnějši\n",
      "etičesko etično\n",
      "etičeskěje etičněje\n"
     ]
    }
   ],
   "source": [
    "new_stem = \"etičesk\" \n",
    "for index, (_prefix, _tag, _suffix) in enumerate(paradigm):\n",
    "            new_word = _prefix + new_stem + _suffix\n",
    "            word = _prefix + stem + _suffix\n",
    "            print(new_word, word)\n"
   ]
  },
  {
   "cell_type": "code",
   "execution_count": 168,
   "id": "afbbc693",
   "metadata": {},
   "outputs": [
    {
     "data": {
      "text/plain": [
       "array('H', [2170, 1225, 3, 2170, 1225, 3, 1244, 1225, 2798, 2170, 1225, 2798, 1244, 1244, 1249, 1284, 1284, 1249, 1290, 1290, 1249, 2184, 2184, 1251, 534, 267, 267, 267, 267, 267, 2175, 267, 267, 267, 267, 267, 2175, 2175, 2175, 2175, 2175, 2175, 2184, 2184, 2184, 2185, 2185, 2185, 2170, 2568, 1225, 2567, 54, 55, 56, 57, 58, 59, 60, 61, 62, 63, 64, 65, 66, 67, 68, 69, 70, 71, 72, 73, 74, 75, 76, 77, 78, 79, 80, 81, 82, 83, 84, 85, 86, 87, 88, 89, 90, 91, 92, 93, 94, 95, 96, 97, 98, 99, 100, 101, 102, 103, 104, 105, 0, 0, 0, 0, 0, 0, 0, 0, 0, 0, 0, 0, 0, 0, 0, 0, 0, 0, 0, 0, 0, 0, 0, 0, 0, 0, 0, 0, 0, 0, 0, 0, 0, 0, 0, 0, 0, 0, 0, 0, 0, 0, 0, 0, 0, 0, 0, 0, 0, 0, 0, 0])"
      ]
     },
     "execution_count": 168,
     "metadata": {},
     "output_type": "execute_result"
    }
   ],
   "source": [
    "morph._units[0][0].dict.paradigms[16]"
   ]
  },
  {
   "cell_type": "code",
   "execution_count": 161,
   "id": "96f0ec88",
   "metadata": {},
   "outputs": [
    {
     "data": {
      "text/plain": [
       "[Parse(word='etičnymi', tag=OpencorporaTag('ADJF ablt,masc,plur'), normal_form='etičny', score=1.0, methods_stack=((DictionaryAnalyzer(), 'etičnymi', 16, 45),)),\n",
       " Parse(word='etičnymi', tag=OpencorporaTag('ADJF ablt,plur,neut'), normal_form='etičny', score=1.0, methods_stack=((DictionaryAnalyzer(), 'etičnymi', 16, 46),)),\n",
       " Parse(word='etičnymi', tag=OpencorporaTag('ADJF ablt,plur,femn'), normal_form='etičny', score=1.0, methods_stack=((DictionaryAnalyzer(), 'etičnymi', 16, 47),))]"
      ]
     },
     "execution_count": 161,
     "metadata": {},
     "output_type": "execute_result"
    }
   ],
   "source": [
    "morph.parse(\"etičnymi\")"
   ]
  },
  {
   "cell_type": "code",
   "execution_count": 158,
   "id": "64838bf4",
   "metadata": {},
   "outputs": [
    {
     "data": {
      "text/plain": [
       "Counter({'': 5306,\n",
       "         'I': 2021,\n",
       "         'F': 107,\n",
       "         'D': 26,\n",
       "         'T': 2,\n",
       "         'E': 89,\n",
       "         'G': 3,\n",
       "         'A': 2,\n",
       "         'S': 7,\n",
       "         'i': 1,\n",
       "         'M': 2})"
      ]
     },
     "execution_count": 158,
     "metadata": {},
     "output_type": "execute_result"
    }
   ],
   "source": [
    "gen_cnt_all"
   ]
  },
  {
   "cell_type": "code",
   "execution_count": 148,
   "id": "806f49de",
   "metadata": {},
   "outputs": [
    {
     "data": {
      "text/plain": [
       "15404"
      ]
     },
     "execution_count": 148,
     "metadata": {},
     "output_type": "execute_result"
    }
   ],
   "source": [
    "total_variants"
   ]
  },
  {
   "cell_type": "code",
   "execution_count": 145,
   "id": "1d2bba2c",
   "metadata": {},
   "outputs": [
    {
     "data": {
      "text/plain": [
       "[Parse(word='języku', tag=OpencorporaTag('masc,NOUN sing,loct'), normal_form='język', score=1.0, methods_stack=((DictionaryAnalyzer(), 'języku', 96, 6),)),\n",
       " Parse(word='języku', tag=OpencorporaTag('masc,NOUN datv,sing'), normal_form='język', score=1.0, methods_stack=((DictionaryAnalyzer(), 'języku', 96, 8),))]"
      ]
     },
     "execution_count": 145,
     "metadata": {},
     "output_type": "execute_result"
    }
   ],
   "source": [
    "morph.parse(\"języku\")"
   ]
  },
  {
   "cell_type": "code",
   "execution_count": 134,
   "id": "52ba6b86",
   "metadata": {},
   "outputs": [
    {
     "data": {
      "text/plain": [
       "'журналистика'"
      ]
     },
     "execution_count": 134,
     "metadata": {},
     "output_type": "execute_result"
    }
   ],
   "source": []
  },
  {
   "cell_type": "code",
   "execution_count": 132,
   "id": "902fc52c",
   "metadata": {},
   "outputs": [
    {
     "data": {
      "text/plain": [
       "0.9821570182394924"
      ]
     },
     "execution_count": 132,
     "metadata": {},
     "output_type": "execute_result"
    }
   ],
   "source": [
    "(counts[1] + len(KNOWN_FAILURES)) / sum(counts)"
   ]
  },
  {
   "cell_type": "code",
   "execution_count": 104,
   "id": "9652a9b5",
   "metadata": {},
   "outputs": [
    {
     "data": {
      "text/plain": [
       "238"
      ]
     },
     "execution_count": 104,
     "metadata": {},
     "output_type": "execute_result"
    }
   ],
   "source": [
    "sum(1 for c in wrong_cases if \" sę\" in c[0])"
   ]
  },
  {
   "cell_type": "code",
   "execution_count": 110,
   "id": "878afacb",
   "metadata": {},
   "outputs": [
    {
     "data": {
      "text/plain": [
       "161"
      ]
     },
     "execution_count": 110,
     "metadata": {},
     "output_type": "execute_result"
    }
   ],
   "source": [
    "sum(1 for c in wrong_cases if \"ирова\" in c[1])"
   ]
  },
  {
   "cell_type": "code",
   "execution_count": 144,
   "id": "cc5bfa89",
   "metadata": {},
   "outputs": [
    {
     "data": {
      "text/plain": [
       "[('bedreny', 'бедренный', 'adj.', '', '[бедреный|бедрений]'),\n",
       " ('civilizovany',\n",
       "  'цивилизованный',\n",
       "  'adj.',\n",
       "  'I',\n",
       "  '[цивилизованый|цивилизированый|цивилизований|цивилизирований]'),\n",
       " ('čuvstveny', 'чувственный', 'adj.', '', '[чувствений|чувственый]'),\n",
       " ('dany', 'данный', 'adj.', '', '[даный|даний]'),\n",
       " ('frustrovany', 'фрустрированный', 'adj.', 'I', 'фрустрованы'),\n",
       " ('garantovany',\n",
       "  'гарантированный',\n",
       "  'adj.',\n",
       "  'I',\n",
       "  '[гарантированый|гарантований|гарантованый|гарантирований]'),\n",
       " ('gazovana voda',\n",
       "  'газированная вода',\n",
       "  'f.',\n",
       "  '',\n",
       "  '[газованная|газованая] [вота|вода]'),\n",
       " ('informovany',\n",
       "  'информированный',\n",
       "  'adj.',\n",
       "  'I',\n",
       "  '[информированый|информований|информованый|информирований]'),\n",
       " ('iskreny', 'искренний', 'adj.', '', '[искреный|искрений]'),\n",
       " ('izbrany',\n",
       "  'выбранный',\n",
       "  'adj.',\n",
       "  '',\n",
       "  '[избраный|сбраный|избраний|выбраный|сбраний|выбраний]'),\n",
       " ('izmųčeny',\n",
       "  'измученный',\n",
       "  'adj.',\n",
       "  '',\n",
       "  '[смоченый|вымоченый|смученый|смучений|измочений|вымочений|смочений|измученый|измучений|вымученый|измоченый|вымучений]'),\n",
       " ('izolovany',\n",
       "  'изолированный',\n",
       "  'adj.',\n",
       "  'I',\n",
       "  '[изолированый|солований|солованый|изолирований|солирований|выолований|изолованый|выолирований|изолований|выолированый|выолованый|солированый]'),\n",
       " ('izrođeny',\n",
       "  'вырожденный',\n",
       "  'adj.',\n",
       "  '',\n",
       "  '[сродженый|изротжений|изроженый|сроженый|срожений|изрожений|срожденый|сроджений|сротженый|выроженый|изротженый|срождений|вырожденый|выротжений|вырожений|изроджений|вырождений|выротженый|выроджений|изрождений|сротжений|изродженый|выродженый|изрожденый]'),\n",
       " ('jedinstveny',\n",
       "  'единственный',\n",
       "  'adj.',\n",
       "  '',\n",
       "  '[отинственый|единствений|одинствений|единственый|отинствений|одинственый]'),\n",
       " ('konservovany',\n",
       "  'консервированный',\n",
       "  'adj.',\n",
       "  'I',\n",
       "  '[консервованый|консервированый|консервирований|консервований]'),\n",
       " ('navětrny', 'наветренный', 'adj.', '', '[наветрний|наветрный]'),\n",
       " ('naznačeny', 'назначенный', 'adj.', '', '[назначеный|назначений]'),\n",
       " ('nazvany', 'названный', 'adj.', '', '[названый|названий]'),\n",
       " ('nenaměrjeny',\n",
       "  'ненамеренный',\n",
       "  'adj.',\n",
       "  '',\n",
       "  '[ненамерьений|ненамерьеный|ненамереный|ненамерений]'),\n",
       " ('neobrazovany',\n",
       "  'необразованный',\n",
       "  'adj.',\n",
       "  '',\n",
       "  '[необразований|необразированый|необразованый|необразирований]'),\n",
       " ('neograničeny',\n",
       "  'неограниченный',\n",
       "  'adj.',\n",
       "  '',\n",
       "  '[неограниченый|неограничений]'),\n",
       " ('neslyhany', 'неслыханный', 'adj.', '', '[неслыханий|неслыханый]'),\n",
       " ('nesȯvŕšeny',\n",
       "  'несовершенный',\n",
       "  'adj.',\n",
       "  '',\n",
       "  '[несовьершеный|несоврошеный|несоврешений|несовершений|несоврьешеный|несовершеный|несовъершений|несовьершений|несоврёшеный|несоврешеный|несоврёшений|несоврьешений|несовъершеный|несоврошений]'),\n",
       " ('nesȯvŕšeny vid',\n",
       "  'несовершенный вид',\n",
       "  'm.',\n",
       "  '',\n",
       "  '[несовьершеный|несоврошеный|несоврешений|несовершений|несоврьешеный|несовершеный|несовъершений|несовьершений|несоврёшеный|несоврешеный|несоврёшений|несоврьешений|несовъершеный|несоврошений] вид'),\n",
       " ('nesųmněny',\n",
       "  'несомненный',\n",
       "  'adj.',\n",
       "  '',\n",
       "  '[несумненый|несомненый|несомнений|несумнений]'),\n",
       " ('nesvęzany',\n",
       "  'несвязанный',\n",
       "  'adj.',\n",
       "  '',\n",
       "  '[несвезаний|несвязаный|несвезаный|несвязаний]'),\n",
       " ('nezasluženy', 'незаслуженный', 'adj.', '', '[незаслуженый|незаслужений]'),\n",
       " ('obrazovany',\n",
       "  'образованный',\n",
       "  'adj.',\n",
       "  '',\n",
       "  '[образирований|образированый|образованый|образований]'),\n",
       " ('očarovany', 'очарованный', 'adj.', '', 'очарованы'),\n",
       " ('ograničeny', 'ограниченный', 'adj.', '', '[ограниченый|ограничений]'),\n",
       " ('oplačeny', 'оплаченный', 'adj.', '', '[оплачений|оплаченый]'),\n",
       " ('osnovany na', 'основанный на', 'adj.', '', 'основаны на'),\n",
       " ('poddany', 'подданный', 'm.anim.', '', '[потданы|подданы]'),\n",
       " ('pozlåćeny',\n",
       "  'позолоченный',\n",
       "  'adj.',\n",
       "  '',\n",
       "  '[позолоченый|позлаченый|позлащеный|позолочений|позлачений|позлащений|позолощеный|позолощений]'),\n",
       " ('prěpisany',\n",
       "  'переписанный',\n",
       "  'adj.',\n",
       "  '',\n",
       "  '[преписаны|переписаны|приписаны|перписаны]'),\n",
       " ('priučeny', 'приученный', 'adj.', '', '[приучений|приученый]'),\n",
       " ('racionalizovany', 'рационализированный', 'adj.', 'I', 'рационализованы'),\n",
       " ('rafinovany',\n",
       "  'рафинированный',\n",
       "  'adj.',\n",
       "  'I',\n",
       "  '[рафинированый|рафинирований|рафинований|рафинованый]'),\n",
       " ('rany', 'ранний', 'adj.', '', 'раны'),\n",
       " ('rodstveny',\n",
       "  'родственный',\n",
       "  'adj.',\n",
       "  '',\n",
       "  '[ротственый|ротствений|родствений|родственый]'),\n",
       " ('sjedeny',\n",
       "  'съеденный',\n",
       "  'adj.',\n",
       "  '',\n",
       "  '[сьеденый|седений|седеный|съеденый|сьедений|съедений]'),\n",
       " ('skonstruovany język',\n",
       "  'сконструированный язык',\n",
       "  'm.',\n",
       "  '',\n",
       "  'сконструованы язык'),\n",
       " ('směšany', 'смешанный', 'adj.', '', 'смешаны'),\n",
       " ('smrščeny', 'сморщенный', 'adj.', '', '[смрщеный|смрщений]'),\n",
       " ('sobstveny', 'собственный', 'adj.', '', '[собствений|собственый]'),\n",
       " ('sȯvŕšeny',\n",
       "  'совершенный',\n",
       "  'adj.',\n",
       "  '',\n",
       "  '[соврьешеный|совьершений|соврьешений|соврошеный|совершений|соврешений|соврёшеный|совершеный|совъершений|соврошений|совьершеный|совъершеный|соврешеный|соврёшений]'),\n",
       " ('sȯvŕšeny vid',\n",
       "  'совершенный вид',\n",
       "  'm.',\n",
       "  '',\n",
       "  '[соврьешеный|совьершений|соврьешений|соврошеный|совершений|соврешений|соврёшеный|совершеный|совъершений|соврошений|совьершеный|совъершеный|соврешеный|соврёшений] вид'),\n",
       " ('sųsrědotočeny',\n",
       "  'сосредоточенный',\n",
       "  'adj.',\n",
       "  '',\n",
       "  '[сусредоточений|сосридоточений|сусередоточеный|сосередоточеный|сосердоточеный|сосридоточеный|сосредоточений|сосредоточеный|сусердоточений|сосердоточений|сусередоточений|сусридоточений|сосередоточений|сусердоточеный|сусридоточеный|сусредоточеный]'),\n",
       " ('svęćeny',\n",
       "  'священный',\n",
       "  'adj.',\n",
       "  '',\n",
       "  '[свеченый|свячений|свещений|свещеный|свечений|свяченый|священый|священий]'),\n",
       " ('svęzany', 'связанный', 'adj.', '', '[свезаный|связаный|связаний|свезаний]'),\n",
       " ('šifrovany',\n",
       "  'шифрованный',\n",
       "  'adj.',\n",
       "  'I',\n",
       "  '[шифрирований|шифрований|шифрованый|шифрированый]'),\n",
       " ('šokovany',\n",
       "  'шокированный',\n",
       "  'adj.',\n",
       "  'I',\n",
       "  '[шокированый|шокованый|шокований|шокирований]'),\n",
       " ('udušeny', 'удушенный', 'adj.', '', '[удушений|удушеный]'),\n",
       " ('udvojeny', 'удвоенный', 'adj.', '', '[удвоений|удвоеный]'),\n",
       " ('uměrjeny', 'умеренный', 'adj.', '', '[умерьены|умерены]'),\n",
       " ('upȯlnomoćeny',\n",
       "  'уполномоченный',\n",
       "  'adj.',\n",
       "  '',\n",
       "  '[уполномощеный|уполномощений|уполномочений|уполномоченый]'),\n",
       " ('uspokojeny', 'успокоенный', 'adj.', '', '[успокоеный|успокоений]'),\n",
       " ('utraćeny',\n",
       "  'утраченный',\n",
       "  'adj.',\n",
       "  '',\n",
       "  '[утращений|утращеный|утраченый|утрачений]'),\n",
       " ('uvěrjeny', 'уверенный', 'adj.', '', '[уверьены|уверены]'),\n",
       " ('viděny', 'виденный', 'adj.', '', '[виденый|видений]'),\n",
       " ('vnųtrny',\n",
       "  'внутренний',\n",
       "  'adj.',\n",
       "  '',\n",
       "  '[внотрный|внутрный|внотрний|внутрний]'),\n",
       " ('vrođeny',\n",
       "  'врожденный',\n",
       "  'adj.',\n",
       "  '',\n",
       "  '[вроженый|врождений|вротжений|вродженый|врожденый|вроджений|вротженый|врожений]'),\n",
       " ('začarovany', 'зачарованный', 'adj.', '', 'зачарованы'),\n",
       " ('zainteresovany', 'заинтересованный', 'adj.', 'I', 'заинтересованы'),\n",
       " ('zapušćeny',\n",
       "  'запущенный',\n",
       "  'adj.',\n",
       "  '',\n",
       "  '[запушщеный|запущеный|запущений|запушщений]'),\n",
       " ('zasluženy', 'заслуженный', 'adj.', '', '[заслуженый|заслужений]'),\n",
       " ('zaspany', 'заспанный', 'adj.', '', '[заспаний|заспаный]'),\n",
       " ('žrtveny', 'жертвенный', 'adj.', '', '[жртвений|жртвеный]'),\n",
       " ('žrtveny byk', 'жертвенный бык', 'm.anim.', '', '[жртвений|жртвеный] бык')]"
      ]
     },
     "execution_count": 144,
     "metadata": {},
     "output_type": "execute_result"
    }
   ],
   "source": [
    "[c for c in wrong_cases if \"нн\" in c[1]]"
   ]
  },
  {
   "cell_type": "code",
   "execution_count": 113,
   "id": "7bbe1351",
   "metadata": {},
   "outputs": [
    {
     "data": {
      "text/plain": [
       "120"
      ]
     },
     "execution_count": 113,
     "metadata": {},
     "output_type": "execute_result"
    }
   ],
   "source": [
    "sum(1 for c in wrong_cases if \"еск\" in c[1])"
   ]
  },
  {
   "cell_type": "code",
   "execution_count": 137,
   "id": "824a45a6",
   "metadata": {},
   "outputs": [
    {
     "data": {
      "text/plain": [
       "738"
      ]
     },
     "execution_count": 137,
     "metadata": {},
     "output_type": "execute_result"
    }
   ],
   "source": [
    "KNOWN_FAILURES = [\n",
    "    c for c in wrong_cases \n",
    "    if (\n",
    "        \" sę\" in c[0] or  \"еск\" in c[1] or \"нн\" in c[1] or \"ирова\" in c[1] or \"ой\" in c[1] or \"гий\" in c[1]\n",
    "        or \"чск\" in c[-1]\n",
    "        or \"gti\" in c[0] or \"kti\" in c[0] or \"sti\" in c[0] or \"zti\" in c[0] or \"dti\" in c[0]\n",
    "        # or c[1].lower().replace(\"г\", \"х\") in c[-1].lower().replace(\"г\", \"х\")\n",
    "    )\n",
    "]\n",
    "len(KNOWN_FAILURES)"
   ]
  },
  {
   "cell_type": "code",
   "execution_count": 142,
   "id": "7bb2d1f1",
   "metadata": {},
   "outputs": [
    {
     "name": "stdout",
     "output_type": "stream",
     "text": [
      "101\n"
     ]
    },
    {
     "data": {
      "text/plain": [
       "[('brati', 'брать', 'v.tr. ipf.', '', 'брати'),\n",
       " ('brť', 'борть', 'f.', '', 'брть'),\n",
       " ('brtnik', 'бортник', 'm.anim.', '', 'бртник'),\n",
       " ('crkȯvny', 'церковный', 'adj.', '', '[црковний|црковный]'),\n",
       " ('črněti', 'чернеть', 'v.intr. ipf.', '', 'чрнеть'),\n",
       " ('črniti', 'чернить', 'v.tr. ipf.', '', 'чрнить'),\n",
       " ('črnogorsky', 'черногорский', 'adj.', '', 'чрногорский'),\n",
       " ('črnota', 'чернота', 'f.', '', 'чрнота'),\n",
       " ('črnuška', 'чернушка', 'f.', '', 'чрнушка'),\n",
       " ('črpati', 'черпать', 'v.tr. ipf.', '', 'чрпать'),\n",
       " ('črstvěti', 'черстветь', 'v.intr. ipf.', '', 'чрстветь'),\n",
       " ('črta', 'черта', 'f.', '', 'чрта'),\n",
       " ('črvec', 'червец', 'm.anim.', '', 'чрвец'),\n",
       " ('črvivy', 'червивый', 'adj.', '', 'чрвивый'),\n",
       " ('črvjak', 'червяк', 'm.anim.', '', '[чрвляк|чрвъяк|чрвяк]'),\n",
       " ('děti', 'дети', 'f.pl.', '', 'деть'),\n",
       " ('dosęgajemy', 'досягаемый', 'adj.', '', '[досегаемы|досягаемы]'),\n",
       " ('drgnųti', 'дрогнуть', 'v.intr. pf.', '', '[дргнуть|дргноть]'),\n",
       " ('drva', 'дрова', 'n.pl.', '', 'дрва'),\n",
       " ('drvosěk', 'дровосек', 'm.anim.', '', 'дрвосек'),\n",
       " ('držati', 'дрожать', 'v.intr. ipf.', '', 'држать'),\n",
       " ('gȯltańje', 'глотание', 'n.sg.', '', '[голтанье|голтание]'),\n",
       " ('gȯltati', 'глотать', 'v.tr. ipf.', '', 'голтать'),\n",
       " ('gȯltka', 'глотка', 'f.', '', 'голтка'),\n",
       " ('gȯltnųti', 'глотнуть', 'v.tr. pf.', '', '[голтнуть|голтноть]'),\n",
       " ('gȯltȯk', 'глоток', 'm.', '', 'голток'),\n",
       " ('grb', 'горб', 'm.', '', 'грб'),\n",
       " ('grbaty', 'горбатый', 'adj.', '', 'грбатый'),\n",
       " ('grěh', 'грех', 'm.', '', '[грею|герю|грию|геръю|герею]'),\n",
       " ('grlica', 'горлица', 'f.', '', 'грлица'),\n",
       " ('grlo', 'горло', 'n.', '', 'грло'),\n",
       " ('grsť', 'горсть', 'f.', '', 'грсть'),\n",
       " ('grtanj', 'гортань', 'f.', '', 'гртань'),\n",
       " ('Hrvat', 'хорват', 'm.anim.', '', 'Хрват'),\n",
       " ('Hrvatija', 'Хорватия', 'f.sg.', '', 'Хрватия'),\n",
       " ('hrvatsky', 'хорватский', 'adj.', '', 'хрватский'),\n",
       " ('izčrknųti',\n",
       "  'вычеркнуть',\n",
       "  'v.tr. pf.',\n",
       "  '',\n",
       "  '[щркнуть|изчркноть|вычркнуть|щркноть|вычркноть|изчркнуть]'),\n",
       " ('izsunųti',\n",
       "  'высунуть',\n",
       "  'v.tr. pf.',\n",
       "  '',\n",
       "  '[изсунотые|иссунутые|иссунотые|ссунутые|высунотые|изсунутые|высунутые|ссунотые]'),\n",
       " ('iztrgati',\n",
       "  'исторгать',\n",
       "  'v.tr. ipf.',\n",
       "  '',\n",
       "  '[стргать|истргать|вытргать|изтргать]'),\n",
       " ('iztrgnųti',\n",
       "  'исторгнуть',\n",
       "  'v.tr. pf.',\n",
       "  '',\n",
       "  '[вытргнуть|истргноть|стргноть|вытргноть|стргнуть|истргнуть|изтргнуть|изтргноть]'),\n",
       " ('jędrny reaktor', 'ядерный реактор', 'm.', '', '[ядрный|ядрний] реактор'),\n",
       " ('kokosovy orěh',\n",
       "  'кокосовый орех',\n",
       "  'm.',\n",
       "  '',\n",
       "  'кокосовы [орех|оерех|орих|оерх]'),\n",
       " ('krčiti', 'корчить', 'v.tr. ipf.', '', 'крчить'),\n",
       " ('krčma', 'корчма', 'f.', '', 'крчма'),\n",
       " ('krmiti', 'кормить', 'v.tr. ipf.', '', 'крмить'),\n",
       " ('krųgly', 'круглый', 'adj.', '', '[кроглы|круглы]'),\n",
       " ('krųgly stol', 'круглый стол', 'm.', '', '[кроглы|круглы] стол'),\n",
       " ('krvavy', 'кровавый', 'adj.', '', 'крвавый'),\n",
       " ('krvoproliťje', 'кровопролитие', 'n.sg.', '', '[крвопролитие|крвопролитье]'),\n",
       " ('krvotok', 'кровоток', 'm.', '', 'крвоток'),\n",
       " ('mrščiti', 'морщить', 'v.tr. ipf.', '', 'мрщить'),\n",
       " ('načrpati', 'начерпать', 'v.tr. pf.', '', 'начрпать'),\n",
       " ('nadųti', 'надуть', 'v.tr. pf.', '', '[надотые|надутые]'),\n",
       " ('nakrmiti', 'накормить', 'v.tr. pf.', '', 'накрмить'),\n",
       " ('objavjati', 'объявлять', 'v.tr. ipf.', '', '[облявлять|обявять|объявъять]'),\n",
       " ('obrvati', 'оборвать', 'v.tr. pf.', '', 'обрвать'),\n",
       " ('očrniti', 'очернить', 'v.tr. pf.', '', 'очрнить'),\n",
       " ('očrnjati', 'очернять', 'v.tr. ipf.', '', 'очрнять'),\n",
       " ('oděti', 'одеть', 'v.tr. pf.', '', '[отетые|одетые]'),\n",
       " ('pobiti', 'побить', 'v.intr. pf.', '', 'побитые'),\n",
       " ('podčrknųti',\n",
       "  'подчеркнуть',\n",
       "  'v.tr. pf.',\n",
       "  '',\n",
       "  '[подчркноть|подчркнуть|потчркноть|потчркнуть]'),\n",
       " ('podle', 'подле', 'prep.', '', '[подлые|потлые]'),\n",
       " ('požrtvovati', 'пожертвовать', 'v.tr. pf.', '', 'пожртвовать'),\n",
       " ('pra-', 'пра-', 'prefix', '', 'прат-'),\n",
       " ('prěstrělka',\n",
       "  'перестрелка',\n",
       "  'f.',\n",
       "  '',\n",
       "  '[перстерлка|пристрилка|перестерелка|престрелка]'),\n",
       " ('prisęžny', 'присяжный', 'm.anim.', '', '[присяжны|присежны]'),\n",
       " ('radi', 'ради', 'prep.', '', 'радые'),\n",
       " ('skrběti', 'скорбеть', 'v.intr. ipf.', '', 'скрбеть'),\n",
       " ('skryti', 'скрыть', 'v.tr. pf.', '', 'скрытые'),\n",
       " ('slgati', 'солгать', 'v.intr. pf.', '', 'слгать'),\n",
       " ('směh', 'смех', 'm.', '', 'смею'),\n",
       " ('smrščiti', 'сморщить', 'v.tr. pf.', '', 'смрщить'),\n",
       " ('smrščiti brvi', 'сморщить брови', 'v.intr. pf.', '', 'смрщить брви'),\n",
       " ('sȯdŕžati',\n",
       "  'сдержать',\n",
       "  'v.tr. pf.',\n",
       "  '',\n",
       "  '[содрёжать|содрежать|сотьержать|сотрежать|сотержать|сотъержать|содъержать|содрожать|содержать|содьержать|сотрьежать|сотрожать|сотрёжать|содрьежать]'),\n",
       " ('sȯlza', 'слеза', 'f.', '', 'солза'),\n",
       " ('sråvnimy', 'сравнимый', 'adj.', '', '[соровнимы|сравнимы]'),\n",
       " ('sŕbohrvatsky',\n",
       "  'сербохорватский',\n",
       "  'adj.',\n",
       "  '',\n",
       "  '[сробохрватский|сербохрватский|съербохрватский|сребохрватский|срьебохрватский|сьербохрватский|срёбохрватский]'),\n",
       " ('sŕbskohrvatsky',\n",
       "  'сербско-хорватский',\n",
       "  'adj.',\n",
       "  '',\n",
       "  '[сробскохрватский|срьебскохрватский|срёбскохрватский|съербскохрватский|сербскохрватский|сребскохрватский|сьербскохрватский]'),\n",
       " ('sŕditi',\n",
       "  'сердить',\n",
       "  'v.tr. ipf.',\n",
       "  '',\n",
       "  '[средитые|сьердитые|сротитые|съердитые|срёдитые|сродитые|срьедитые|срётитые|сердитые]'),\n",
       " ('tajny', 'тайный', 'adj.', '', 'тайны'),\n",
       " ('trgovati', 'торговать', 'v.intr. ipf.', '', 'трговать'),\n",
       " ('trgovec', 'торговец', 'm.anim.', '', 'трговец'),\n",
       " ('trgovja', 'торговля', 'f.', '', '[трговля|трговя|трговъя]'),\n",
       " ('trgovy', 'торговый', 'adj.', '', 'трговый'),\n",
       " ('ukryti', 'укрыть', 'v.tr. pf.', '', 'укрытые'),\n",
       " ('visokosny god', 'високосный год', 'm.', '', 'високосны [гот|год]'),\n",
       " ('vȯzdȯhnųti', 'вздохнуть', 'v.intr. pf.', '', '[воздохноть|воздохнуть]'),\n",
       " ('vȯzdyhati', 'вздыхать', 'v.intr. ipf.', '', 'воздыхать'),\n",
       " ('vȯzlětati',\n",
       "  'взлетать',\n",
       "  'v.intr. ipf.',\n",
       "  '',\n",
       "  '[возелетать|возолотать|возлетать]'),\n",
       " ('vȯzletěti', 'взлететь', 'v.intr. pf.', '', 'возлететь'),\n",
       " ('vȯzpominati', 'вспоминать', 'v.tr. ipf.', '', '[воспоминать|возпоминать]'),\n",
       " ('vȯzvod', 'взвод', 'm.', '', '[возвот|возвод]'),\n",
       " ('vrčati', 'ворчать', 'v.intr. ipf.', '', 'врчать'),\n",
       " ('vŕhovje',\n",
       "  'верховье',\n",
       "  'n.',\n",
       "  '',\n",
       "  '[врьехове|въерховъе|врехове|врёховъе|вреховъе|вьерховье|верхове|врёхове|врёховье|вреховье|врьеховъе|вроховъе|врохове|вроховье|врьеховье]'),\n",
       " ('zadržati', 'задрожать', 'v.intr. pf.', '', 'задржать'),\n",
       " ('zamrzati', 'замерзать', 'v.intr. ipf.', '', 'замрзать'),\n",
       " ('žȯltěti', 'желтеть', 'v.intr. ipf.', '', 'жолтеть'),\n",
       " ('žȯlty', 'желтый', 'adj.', '', 'жолтый'),\n",
       " ('žrlo', 'жерло', 'n.', '', 'жрло'),\n",
       " ('žrtva', 'жертва', 'f.', '', 'жртва')]"
      ]
     },
     "execution_count": 142,
     "metadata": {},
     "output_type": "execute_result"
    }
   ],
   "source": [
    "UNKNOWN_FAILURES = [\n",
    "    c for c in wrong_cases \n",
    "    if not(\n",
    "        \" sę\" in c[0] or  \"еск\" in c[1] or \"нн\" in c[1] or \"ирова\" in c[1] or \"ой\" in c[1] or \"гий\" in c[1] or \"хий\" in c[1]\n",
    "        or \"чск\" in c[-1]\n",
    "        or \"gti\" in c[0] or \"kti\" in c[0] or \"sti\" in c[0] or \"zti\" in c[0] or \"dti\" in c[0]\n",
    "        or c[1].lower().replace(\"г\", \"х\") in c[-1].lower().replace(\"г\", \"х\")\n",
    "    )\n",
    "]\n",
    "print(len(UNKNOWN_FAILURES))\n",
    "UNKNOWN_FAILURES[:100]"
   ]
  },
  {
   "cell_type": "code",
   "execution_count": 140,
   "id": "6f4a15b4",
   "metadata": {},
   "outputs": [
    {
     "data": {
      "text/plain": [
       "[AnnotatedToken(\n",
       "     text=['високосны'],\n",
       "     capitalization=False,\n",
       "     space_after=' ',\n",
       "     features=OpencorporaTag('masc,NOUN form-regl,nomn,plur'),\n",
       "     POS='NOUN',\n",
       "     slovnik_pos='',\n",
       "     lemma='visokosn',\n",
       "     isv_id=-1,\n",
       "     genesis='',\n",
       "     is_processed=False\n",
       " ),\n",
       " AnnotatedToken(\n",
       "     text=['гот',\n",
       "      'год'],\n",
       "     capitalization=False,\n",
       "     space_after='',\n",
       "     features=OpencorporaTag('masc,NOUN nomn,sing'),\n",
       "     POS='NOUN',\n",
       "     slovnik_pos='m.',\n",
       "     lemma='god',\n",
       "     isv_id=3086,\n",
       "     genesis=nan,\n",
       "     is_processed=False\n",
       " )]"
      ]
     },
     "execution_count": 140,
     "metadata": {},
     "output_type": "execute_result"
    }
   ],
   "source": [
    "\n",
    "isv_form = \"visokosny god\"\n",
    "\n",
    "tokens_base = compute_annotated_tokens(isv_form, morph, slovnik, fix_diacritics=False)\n",
    "tokens = morphological_flavorise(tokens_base, morph, flavor_rules[LANG])\n",
    "tokens = process_multireplacing(tokens, rules_struct[LANG])\n",
    "tokens"
   ]
  },
  {
   "cell_type": "code",
   "execution_count": 143,
   "id": "84b8457a",
   "metadata": {},
   "outputs": [
    {
     "data": {
      "text/plain": [
       "[Parse(word='krųgly', tag=OpencorporaTag('femn,NOUN nomn,plur'), normal_form='krųgla', score=1.0, methods_stack=((DictionaryAnalyzer(), 'krųgly', 1, 1),)),\n",
       " Parse(word='krųgly', tag=OpencorporaTag('femn,NOUN accs,plur'), normal_form='krųgla', score=1.0, methods_stack=((DictionaryAnalyzer(), 'krųgly', 1, 3),)),\n",
       " Parse(word='krųgly', tag=OpencorporaTag('femn,NOUN sing,gent'), normal_form='krųgla', score=1.0, methods_stack=((DictionaryAnalyzer(), 'krųgly', 1, 4),)),\n",
       " Parse(word='krųgly', tag=OpencorporaTag('femn,NOUN voct,plur'), normal_form='krųgla', score=1.0, methods_stack=((DictionaryAnalyzer(), 'krųgly', 1, 13),)),\n",
       " Parse(word='krųgly', tag=OpencorporaTag('ADJF masc,nomn,sing,anim'), normal_form='krųgly', score=1.0, methods_stack=((DictionaryAnalyzer(), 'krųgly', 16, 0),)),\n",
       " Parse(word='krųgly', tag=OpencorporaTag('ADJF masc,nomn,sing,inan'), normal_form='krųgly', score=1.0, methods_stack=((DictionaryAnalyzer(), 'krųgly', 16, 3),)),\n",
       " Parse(word='krųgly', tag=OpencorporaTag('ADJF masc,accs,sing,inan'), normal_form='krųgly', score=1.0, methods_stack=((DictionaryAnalyzer(), 'krųgly', 16, 9),)),\n",
       " Parse(word='krųgly', tag=OpencorporaTag('ADJF compb'), normal_form='krųgly', score=1.0, methods_stack=((DictionaryAnalyzer(), 'krųgly', 16, 48),))]"
      ]
     },
     "execution_count": 143,
     "metadata": {},
     "output_type": "execute_result"
    }
   ],
   "source": [
    "morph.parse(\"krųgly\")"
   ]
  },
  {
   "cell_type": "code",
   "execution_count": 139,
   "id": "7eb0ef27",
   "metadata": {},
   "outputs": [
    {
     "data": {
      "text/plain": [
       "[]"
      ]
     },
     "execution_count": 139,
     "metadata": {},
     "output_type": "execute_result"
    }
   ],
   "source": [
    "[\n",
    "    c for c in wrong_cases\n",
    "    if b\"\\xcc\\x81\" in c[1].encode(\"utf8\")\n",
    "]"
   ]
  },
  {
   "cell_type": "code",
   "execution_count": 127,
   "id": "432729eb",
   "metadata": {},
   "outputs": [
    {
     "data": {
      "text/plain": [
       "b'\\xd1\\x8b\\xcc\\x81'"
      ]
     },
     "execution_count": 127,
     "metadata": {},
     "output_type": "execute_result"
    }
   ],
   "source": [
    "\"ы́\".encode(\"utf8\")"
   ]
  },
  {
   "cell_type": "code",
   "execution_count": 129,
   "id": "de05a48b",
   "metadata": {},
   "outputs": [
    {
     "data": {
      "text/plain": [
       "'́'"
      ]
     },
     "execution_count": 129,
     "metadata": {},
     "output_type": "execute_result"
    }
   ],
   "source": [
    "b\"\\xcc\\x81\".decode(\"utf8\")"
   ]
  },
  {
   "cell_type": "code",
   "execution_count": null,
   "id": "108b4bfd",
   "metadata": {},
   "outputs": [],
   "source": [
    "KNOWN_FAILURES"
   ]
  },
  {
   "cell_type": "code",
   "execution_count": 108,
   "id": "3397bfd6",
   "metadata": {},
   "outputs": [
    {
     "data": {
      "text/plain": [
       "Counter({'F': 5, 'I': 274, '': 612, 'D': 1, 'E': 4})"
      ]
     },
     "execution_count": 108,
     "metadata": {},
     "output_type": "execute_result"
    }
   ],
   "source": [
    "Counter(c[3] for c in wrong_cases)"
   ]
  },
  {
   "cell_type": "code",
   "execution_count": 105,
   "id": "71ee5dc6",
   "metadata": {},
   "outputs": [
    {
     "data": {
      "text/plain": [
       "0.265625"
      ]
     },
     "execution_count": 105,
     "metadata": {},
     "output_type": "execute_result"
    }
   ],
   "source": [
    "238 / 896"
   ]
  },
  {
   "cell_type": "code",
   "execution_count": 109,
   "id": "fbb6e29b",
   "metadata": {},
   "outputs": [
    {
     "data": {
      "text/plain": [
       "0.30580357142857145"
      ]
     },
     "execution_count": 109,
     "metadata": {},
     "output_type": "execute_result"
    }
   ],
   "source": [
    "274 / 896"
   ]
  },
  {
   "cell_type": "code",
   "execution_count": null,
   "id": "f083ed5d",
   "metadata": {},
   "outputs": [],
   "source": []
  },
  {
   "cell_type": "code",
   "execution_count": 107,
   "id": "60f9031c",
   "metadata": {},
   "outputs": [
    {
     "data": {
      "text/plain": [
       "[('zapisyvati sę',\n",
       "  'записываться',\n",
       "  'v.refl. ipf.',\n",
       "  '',\n",
       "  'записывать [себе|себя]'),\n",
       " ('zaplanovati', 'запланировать', 'v.tr. pf.', 'I', 'заплановать'),\n",
       " ('zapropastiti sę',\n",
       "  'запропаститься',\n",
       "  'v.refl. pf.',\n",
       "  '',\n",
       "  'запропастить [себе|себя]'),\n",
       " ('zapušćeny',\n",
       "  'запущенный',\n",
       "  'adj.',\n",
       "  '',\n",
       "  '[запушщеный|запущеный|запущений|запушщений]'),\n",
       " ('zarěkati sę',\n",
       "  'зарекаться',\n",
       "  'v.refl. ipf.',\n",
       "  '',\n",
       "  '[заерекать|зарикать|зарекать|заеркать] [себе|себя]'),\n",
       " ('zarěkti sę',\n",
       "  'заречься',\n",
       "  'v.refl. pf.',\n",
       "  '',\n",
       "  '[заеркть|заеректь|зарикть|заректь] [себе|себя]'),\n",
       " ('zarezervovati', 'зарезервировать', 'v.tr. pf.', 'I', 'зарезервовать'),\n",
       " ('zaroditi sę',\n",
       "  'зародиться',\n",
       "  'v.refl. pf.',\n",
       "  '',\n",
       "  '[заротить|зародить] [себе|себя]'),\n",
       " ('zasluženy', 'заслуженный', 'adj.', '', '[заслуженый|заслужений]'),\n",
       " ('zasmějati sę', 'засмеяться', 'v.refl. pf.', '', 'засмеять [себе|себя]'),\n",
       " ('zaspany', 'заспанный', 'adj.', '', '[заспаний|заспаный]'),\n",
       " ('zaspati sę', 'заспаться', 'v.refl. pf.', '', 'заспать [себе|себя]'),\n",
       " ('zažegti', 'зажечь', 'v.tr. pf.', '', 'зажегть'),\n",
       " ('zemjany',\n",
       "  'земляной',\n",
       "  'adj.',\n",
       "  '',\n",
       "  '[земляный|земляний|земъяний|земяный|земъяный|земяний]'),\n",
       " ('zemny', 'земной', 'adj.', '', '[земний|земный]'),\n",
       " ('zlåty', 'золотой', 'adj.', '', '[златый|золотый]'),\n",
       " ('zly', 'злой', 'adj.', '', 'злый'),\n",
       " ('zoologičny', 'зоологический', 'adj.', 'I', '[зоологичний|зоологичный]'),\n",
       " ('žalovati sę', 'жаловаться', 'v.refl. ipf.', '', 'жаловать [себе|себя]'),\n",
       " ('žegti', 'жечь', 'v.tr. ipf.', '', 'жегть')]"
      ]
     },
     "execution_count": 107,
     "metadata": {},
     "output_type": "execute_result"
    }
   ],
   "source": [
    "wrong_cases[-30:-10]"
   ]
  },
  {
   "cell_type": "code",
   "execution_count": 100,
   "id": "0f064f32",
   "metadata": {},
   "outputs": [
    {
     "data": {
      "text/plain": [
       "[(('adj.', ''), 169),\n",
       " (('v.refl. ipf.', ''), 134),\n",
       " (('adj.', 'I'), 123),\n",
       " (('v.refl. pf.', ''), 98),\n",
       " (('v.tr. ipf.', 'I'), 64),\n",
       " (('v.tr. pf.', ''), 57),\n",
       " (('v.tr. ipf./pf.', 'I'), 44),\n",
       " (('v.tr. ipf.', ''), 27),\n",
       " (('v.intr. pf.', ''), 23),\n",
       " (('f.', ''), 22),\n",
       " (('m.', ''), 19),\n",
       " (('v.intr. ipf.', 'I'), 16),\n",
       " (('m.anim.', ''), 14),\n",
       " (('v.intr. ipf.', ''), 14),\n",
       " (('v.tr. pf.', 'I'), 8),\n",
       " (('adv.', ''), 7),\n",
       " (('v.intr. ipf./pf.', 'I'), 5),\n",
       " (('n.', ''), 5),\n",
       " (('intj.', ''), 4),\n",
       " (('f.sg.', ''), 4),\n",
       " (('m.sg.', ''), 4),\n",
       " (('v.refl. ipf.', 'I'), 3),\n",
       " (('n.', 'I'), 3),\n",
       " (('m.', 'I'), 3),\n",
       " (('prep.', ''), 3),\n",
       " (('v.tr. ipf.', 'F'), 2),\n",
       " (('n.sg.', 'I'), 2),\n",
       " (('n.sg.', ''), 2),\n",
       " (('v.intr. ipf./pf.', 'F'), 1),\n",
       " (('f.pl.', ''), 1),\n",
       " (('n.pl.', ''), 1),\n",
       " (('m.indecl.', ''), 1),\n",
       " (('m.', 'D'), 1),\n",
       " (('m.sg.', 'E'), 1),\n",
       " (('f.', 'I'), 1),\n",
       " (('v.tr. ipf./pf.', 'F'), 1),\n",
       " (('v.aux. ipf.', ''), 1),\n",
       " (('adj.', 'F'), 1),\n",
       " (('m.', 'E'), 1),\n",
       " (('v.refl. ipf./pf.', 'I'), 1),\n",
       " (('prefix', ''), 1),\n",
       " (('v.aux. pf.', ''), 1),\n",
       " (('v.tr. ipf./pf.', 'E'), 1),\n",
       " (('v.tr. ipf.', 'E'), 1),\n",
       " (('v.refl. pf.', 'I'), 1)]"
      ]
     },
     "execution_count": 100,
     "metadata": {},
     "output_type": "execute_result"
    }
   ],
   "source": [
    "from collections import Counter\n",
    "\n",
    "Counter(wrong_pos).most_common(50)"
   ]
  },
  {
   "cell_type": "code",
   "execution_count": null,
   "id": "88d76461",
   "metadata": {},
   "outputs": [],
   "source": [
    "\n"
   ]
  },
  {
   "cell_type": "code",
   "execution_count": null,
   "id": "661113bf",
   "metadata": {},
   "outputs": [],
   "source": []
  },
  {
   "cell_type": "code",
   "execution_count": 51,
   "id": "c65f0943",
   "metadata": {},
   "outputs": [],
   "source": [
    "from isv_nlp_utils.flavorization.selector import produce_string, tokens_to_string\n",
    "\n"
   ]
  },
  {
   "cell_type": "code",
   "execution_count": 65,
   "id": "90b2d6ba",
   "metadata": {},
   "outputs": [
    {
     "data": {
      "text/plain": [
       "True"
      ]
     },
     "execution_count": 65,
     "metadata": {},
     "output_type": "execute_result"
    }
   ],
   "source": [
    "from itertools import product\n",
    "\n",
    "def tokens_to_exhaustive_string_list(tokens):\n",
    "    variants = [\n",
    "       [text_var + token.space_after for text_var in token.text]\n",
    "       for token in tokens\n",
    "    ]\n",
    "    return product(*variants)\n"
   ]
  },
  {
   "cell_type": "code",
   "execution_count": 60,
   "id": "75771eeb",
   "metadata": {},
   "outputs": [
    {
     "data": {
      "text/plain": [
       "[['-'], ['кратно', 'коротно']]"
      ]
     },
     "execution_count": 60,
     "metadata": {},
     "output_type": "execute_result"
    }
   ],
   "source": [
    "variants"
   ]
  },
  {
   "cell_type": "code",
   "execution_count": 64,
   "id": "c179ea2f",
   "metadata": {},
   "outputs": [
    {
     "data": {
      "text/plain": [
       "True"
      ]
     },
     "execution_count": 64,
     "metadata": {},
     "output_type": "execute_result"
    }
   ],
   "source": [
    "any(\"\".join(var) == expected_match for var in product(*variants))"
   ]
  },
  {
   "cell_type": "code",
   "execution_count": 63,
   "id": "4d66e8b5",
   "metadata": {},
   "outputs": [
    {
     "data": {
      "text/plain": [
       "[('-', 'кратно'), ('-', 'коротно')]"
      ]
     },
     "execution_count": 63,
     "metadata": {},
     "output_type": "execute_result"
    }
   ],
   "source": [
    "[var for var in product(*variants)]"
   ]
  },
  {
   "cell_type": "code",
   "execution_count": 52,
   "id": "c5070fba",
   "metadata": {},
   "outputs": [
    {
     "data": {
      "text/plain": [
       "'-кратно'"
      ]
     },
     "execution_count": 52,
     "metadata": {},
     "output_type": "execute_result"
    }
   ],
   "source": [
    "tokens_to_string(tokens)"
   ]
  },
  {
   "cell_type": "code",
   "execution_count": null,
   "id": "ee0d4c2c",
   "metadata": {},
   "outputs": [],
   "source": []
  },
  {
   "cell_type": "code",
   "execution_count": 41,
   "id": "da78e761",
   "metadata": {},
   "outputs": [],
   "source": [
    "tokens_base = compute_annotated_tokens(isv_form, morph, slovnik)\n",
    "\n",
    "# for i in range(len(tokens)):\n",
    "#     if tokens[i].text == ['novolětny']:\n",
    "#         print(i)"
   ]
  },
  {
   "cell_type": "code",
   "execution_count": 47,
   "id": "601db65b",
   "metadata": {},
   "outputs": [
    {
     "data": {
      "text/plain": [
       "[AnnotatedToken(\n",
       "     text=['-'],\n",
       "     capitalization=False,\n",
       "     space_after='',\n",
       "     features=None,\n",
       "     POS='PUNCT',\n",
       "     slovnik_pos='',\n",
       "     lemma=None,\n",
       "     isv_id=-1,\n",
       "     genesis='',\n",
       "     is_processed=False\n",
       " ),\n",
       " AnnotatedToken(\n",
       "     text=['кратно',\n",
       "      'коротно'],\n",
       "     capitalization=False,\n",
       "     space_after='',\n",
       "     features=OpencorporaTag('ADVB'),\n",
       "     POS='ADVB',\n",
       "     slovnik_pos='',\n",
       "     lemma='kråtno',\n",
       "     isv_id=-1,\n",
       "     genesis='',\n",
       "     is_processed=False\n",
       " )]"
      ]
     },
     "execution_count": 47,
     "metadata": {},
     "output_type": "execute_result"
    }
   ],
   "source": [
    "tokens"
   ]
  },
  {
   "cell_type": "code",
   "execution_count": 46,
   "id": "ce23df19",
   "metadata": {},
   "outputs": [
    {
     "name": "stdout",
     "output_type": "stream",
     "text": [
      "'ORO-OLO'\n",
      "['kråtno']  =>  ['korotno', 'kratno']\n",
      "'Cyrl-Standard'\n",
      "['kratno', 'korotno']  =>  ['krаtno', 'korotno']\n",
      "'Cyrl-Standard'\n",
      "['krаtno', 'korotno']  =>  ['кrаtno', 'кorotno']\n",
      "'Cyrl-Standard'\n",
      "['кrаtno', 'кorotno']  =>  ['кrаtнo', 'кorotнo']\n",
      "'Cyrl-Standard'\n",
      "['кrаtнo', 'кorotнo']  =>  ['кrаtно', 'коrоtно']\n",
      "'Cyrl-Standard'\n",
      "['кrаtно', 'коrоtно']  =>  ['краtно', 'короtно']\n",
      "'Cyrl-Standard'\n",
      "['краtно', 'короtно']  =>  ['кратно', 'коротно']\n"
     ]
    },
    {
     "data": {
      "text/plain": [
       "'-[кратно|коротно]'"
      ]
     },
     "execution_count": 46,
     "metadata": {},
     "output_type": "execute_result"
    }
   ],
   "source": [
    "LANG = \"ru\"\n",
    "tokens = morphological_flavorise(tokens_base, morph, flavor_rules[LANG], debug_indices=[99, 71, 47, 21, 1])\n",
    "tokens = process_multireplacing(tokens, rules_struct[LANG], debug_indices=[99, 71, 47, 21, 1])\n",
    "pretty_stringify(tokens)\n"
   ]
  },
  {
   "cell_type": "code",
   "execution_count": null,
   "id": "3d367540",
   "metadata": {},
   "outputs": [],
   "source": []
  },
  {
   "cell_type": "code",
   "execution_count": 12,
   "id": "4b3c3071",
   "metadata": {},
   "outputs": [],
   "source": [
    "hunspell_names = {\"ru\": \"ru_RU\", \"cs\": \"cs_CZ\"}\n",
    "iso_names = {\"ru\": \"rus\", \"cs\": \"ces\"}\n",
    "ietf_bcp = {\"ru\": \"rus_Cyrl\", \"cs\": \"ces_Latn\"}"
   ]
  },
  {
   "cell_type": "code",
   "execution_count": 13,
   "id": "b492578b",
   "metadata": {},
   "outputs": [
    {
     "name": "stdout",
     "output_type": "stream",
     "text": [
      "ščęstlivy ščęstlivyj\n",
      "'ORO-OLO'\n",
      "['hlådnuju']  =>  ['holodnuju', 'hladnuju']\n",
      "'ORO-OLO'\n",
      "['grådu']  =>  ['gradu', 'gorodu']\n",
      "'ORO-OLO'\n",
      "['sråvnjajųće']  =>  ['sravnjajųće', 'sorovnjajųće']\n",
      "'Č-ŠČ'\n",
      "['ćuđuju']  =>  ['čuđuju', 'ščuđuju']\n",
      "'Č-ŠČ'\n",
      "['hćų']  =>  ['hščų', 'hčų']\n",
      "'Č-ŠČ'\n",
      "['sravnjajųće', 'sorovnjajųće']  =>  ['sravnjajųče', 'sravnjajųšče', 'sorovnjajųče', 'sorovnjajųšče']\n",
      "'Č-ŠČ'\n",
      "['vȯobće']  =>  ['vȯobšče', 'vȯobče']\n",
      "'ŽD'\n",
      "['čuđuju', 'ščuđuju']  =>  ['čudžuju', 'ščužuju', 'ščudžuju', 'čužuju', 'čužduju', 'ščužduju']\n",
      "'ŽD'\n",
      "['gospođa']  =>  ['gospoža', 'gospožda', 'gospodža']\n",
      "'Little Yus (Non-J)'\n",
      "['ščęstlivyj']  =>  ['ščьastlivyj', 'ščеstlivyj']\n",
      "'Little Yus (Non-J)'\n",
      "['vzętь']  =>  ['vzеtь', 'vzьatь']\n",
      "'Little Yus (Non-J)'\n",
      "['ględi']  =>  ['glеdi', 'glьadi']\n",
      "'Little Yus (Non-J)'\n",
      "['žędajų']  =>  ['žьadajų', 'žеdajų']\n",
      "'Little Yus (Non-J)'\n",
      "['svętočno-novolětnyj']  =>  ['svеtočno-novolětnyj', 'svьatočno-novolětnyj']\n",
      "'Little Yus (Non-J)'\n",
      "['porędȯk']  =>  ['porеdȯk', 'porьadȯk']\n",
      "'Little Yus (Non-J)'\n",
      "['ględěl']  =>  ['glеděl', 'glьaděl']\n",
      "'Little Yus (Non-J)'\n",
      "['pamętajų']  =>  ['pamеtajų', 'pamьatajų']\n",
      "'Little Yus (Non-J)'\n",
      "['poględětь']  =>  ['poglеdětь', 'poglьadětь']\n",
      "'Little Yus (Non-J)'\n",
      "['prěględětь']  =>  ['prěglеdětь', 'prěglьadětь']\n",
      "'Little Yus (Non-J)'\n",
      "['desętkah']  =>  ['desеtkah', 'desьatkah']\n",
      "'Big Yus anywhere'\n",
      "['prěporųčitь']  =>  ['prěporočitь', 'prěporučitь']\n",
      "'Big Yus anywhere'\n",
      "['bųdet']  =>  ['bodet', 'budet']\n",
      "'Fleeting O'\n",
      "['porеdȯk', 'porьadȯk']  =>  ['porьadok', 'porеdok']\n",
      "'Softening-Rj'\n",
      "['govorju']  =>  ['govorьu', 'govoru']\n",
      "'Yat-L'\n",
      "['svеtočno-novolětnyj', 'svьatočno-novolětnyj']  =>  ['svьatočno-novoeletnyj', 'svьatočno-novoletnyj', 'svеtočno-novoolotnyj', 'svеtočno-novoeletnyj', 'svеtočno-novoletnyj', 'svьatočno-novoolotnyj']\n",
      "'Yat-R'\n",
      "['prěporočitь', 'prěporučitь']  =>  ['pereporočitь', 'preporučitь', 'priporučitь', 'preporočitь', 'priporočitь', 'perporočitь', 'perporučitь', 'pereporučitь']\n",
      "'Yat-R'\n",
      "['potrěbno']  =>  ['potribno', 'potrebno', 'poterebno', 'poterbno']\n",
      "'Yat-R'\n",
      "['prěglеdětь', 'prěglьadětь']  =>  ['perglеdětь', 'perglьadětь', 'pereglеdětь', 'preglеdětь', 'priglеdětь', 'priglьadětь', 'pereglьadětь', 'preglьadětь']\n",
      "'Iz-'\n",
      "['izmenil']  =>  ['smenil', 'vymenil', 'izmenil']\n",
      "'Second Labialization'\n",
      "['jedna']  =>  ['odna', 'jedna']\n",
      "'Muffled Z'\n",
      "['francuzskom']  =>  ['francuzskom', 'francusskom']\n",
      "'Yot-Ja'\n",
      "['slovjanьskyh']  =>  ['slovяnьskyh', 'slovъяnьskyh']\n",
      "'Yot-Ije'\n",
      "['čitanьje']  =>  ['čitanье', 'čitanие']\n",
      "'Cyrl-Standard'\n",
      "['ščьastlivyj', 'ščеstlivyj']  =>  ['ščьаstlivyj', 'ščеstlivyj']\n",
      "'Cyrl-Standard'\n",
      "['glеdi', 'glьadi']  =>  ['glеdi', 'glьаdi']\n",
      "'Cyrl-Standard'\n",
      "['dar']  =>  ['dаr']\n",
      "'Cyrl-Standard'\n",
      "['porьadok', 'porеdok']  =>  ['porьаdok', 'porеdok']\n",
      "'Cyrl-Standard'\n",
      "['ščьаstlivyj', 'ščеstlivyj']  =>  ['šчьаstlivyj', 'šчеstlivyj']\n",
      "'Cyrl-Standard'\n",
      "['glеdi', 'glьаdi']  =>  ['glедi', 'glьадi']\n",
      "'Cyrl-Standard'\n",
      "['dаr']  =>  ['даr']\n",
      "'Cyrl-Standard'\n",
      "['porьаdok', 'porеdok']  =>  ['porьадok', 'porедok']\n",
      "'Cyrl-Standard'\n",
      "['glедi', 'glьадi']  =>  ['гlедi', 'гlьадi']\n",
      "'Cyrl-Standard'\n",
      "['šчьаstlivyj', 'šчеstlivyj']  =>  ['šчьаstlиvyj', 'šчеstlиvyj']\n",
      "'Cyrl-Standard'\n",
      "['гlедi', 'гlьадi']  =>  ['гlеди', 'гlьади']\n",
      "'Cyrl-Standard'\n",
      "['šчьаstlиvyj', 'šчеstlиvyj']  =>  ['šчьаstlиvyй', 'šчеstlиvyй']\n",
      "'Cyrl-Standard'\n",
      "['porьадok', 'porедok']  =>  ['porьадoк', 'porедoк']\n",
      "'Cyrl-Standard'\n",
      "['šчьаstlиvyй', 'šчеstlиvyй']  =>  ['šчьаstлиvyй', 'šчеstлиvyй']\n",
      "'Cyrl-Standard'\n",
      "['гlеди', 'гlьади']  =>  ['гледи', 'гльади']\n",
      "'Cyrl-Standard'\n",
      "['porьадoк', 'porедoк']  =>  ['pоrьадок', 'pоrедок']\n",
      "'Cyrl-Standard'\n",
      "['pоrьадок', 'pоrедок']  =>  ['поrьадок', 'поrедок']\n",
      "'Cyrl-Standard'\n",
      "['даr']  =>  ['дар']\n",
      "'Cyrl-Standard'\n",
      "['поrьадок', 'поrедок']  =>  ['порьадок', 'поредок']\n",
      "'Cyrl-Standard'\n",
      "['šчьаstлиvyй', 'šчеstлиvyй']  =>  ['šчьасtлиvyй', 'šчесtлиvyй']\n",
      "'Cyrl-Standard'\n",
      "['šчьасtлиvyй', 'šчесtлиvyй']  =>  ['шчьасtлиvyй', 'шчесtлиvyй']\n",
      "'Cyrl-Standard'\n",
      "['шчьасtлиvyй', 'шчесtлиvyй']  =>  ['шчьастлиvyй', 'шчестлиvyй']\n",
      "'Cyrl-Standard'\n",
      "['шчьастлиvyй', 'шчестлиvyй']  =>  ['шчьастливyй', 'шчестливyй']\n",
      "'Cyrl-Standard'\n",
      "['шчьастливyй', 'шчестливyй']  =>  ['шчьастливый', 'шчестливый']\n",
      "'Губная'\n",
      "['словяньскых', 'словъяньскых']  =>  ['словяньскых', 'словляньскых', 'словъяньскых']\n",
      "'Йотация'\n",
      "['шчьастливый', 'шчестливый']  =>  ['шчястливый', 'шчестливый']\n",
      "'Йотация'\n",
      "['гледи', 'гльади']  =>  ['гледи', 'гляди']\n",
      "'Йотация'\n",
      "['порьадок', 'поредок']  =>  ['порядок', 'поредок']\n",
      "'Щ'\n",
      "['шчястливый', 'шчестливый']  =>  ['щястливый', 'щестливый']\n",
      "'Орфография: чя щя'\n",
      "['щястливый', 'щестливый']  =>  ['щестливый', 'щастливый']\n",
      "'Орфография: ный'\n",
      "['святочно-новолетный', 'светочно-новоолотный', 'святочно-новоелетный', 'святочно-новоолотный', 'светочно-новоелетный', 'светочно-новолетный']  =>  ['святочно-новолетный', 'святочно-новоелетний', 'светочно-новоолотный', 'святочно-новоелетный', 'светочно-новоолотний', 'святочно-новоолотный', 'святочно-новоолотний', 'светочно-новоелетный', 'светочно-новолетный', 'светочно-новолетний', 'светочно-новоелетний', 'святочно-новолетний']\n",
      "'Орфография: ный'\n",
      "['важных']  =>  ['важних', 'важных']\n",
      "'Prefix IZ→VY'\n",
      "['iz']  =>  ['se', 'vy', 'z', 'ze', 's']\n",
      "'Prefix IZ→VY'\n",
      "['izměnil']  =>  ['změnil', 'vyměnil', 'seměnil', 'směnil', 'zeměnil']\n",
      "'Prefix IZ→VY'\n",
      "['iz']  =>  ['se', 'vy', 'z', 'ze', 's']\n",
      "'Ending 5'\n",
      "['porędȯk']  =>  ['porędek']\n",
      "'Couple 4'\n",
      "['ščęstlivy']  =>  ['šťęstlivy']\n",
      "'Char 2'\n",
      "['vzduhe']  =>  ['vzduche', 'vzduge']\n",
      "'Char 2'\n",
      "['byh']  =>  ['bych', 'byg']\n",
      "'Char 2'\n",
      "['vsih']  =>  ['vsig', 'vsich']\n",
      "'Char 2'\n",
      "['desętkah']  =>  ['desętkach', 'desętkag']\n",
      "'Char 3'\n",
      "['graciozné']  =>  ['hraciozné', 'graciozné']\n",
      "'Char 3'\n",
      "['fugu']  =>  ['fugu', 'fuhu']\n",
      "'Char 3'\n",
      "['vzduche', 'vzduge']  =>  ['vzduhe', 'vzduche', 'vzduge']\n",
      "'Char 3'\n",
      "['ględi']  =>  ['hlędi', 'ględi']\n",
      "'Char 3'\n",
      "['gradu']  =>  ['gradu', 'hradu']\n",
      "'Char 3'\n",
      "['bych', 'byg']  =>  ['byh', 'bych', 'byg']\n",
      "'Char 3'\n",
      "['nemnogě']  =>  ['nemnogě', 'nemnohě']\n",
      "'Char 3'\n",
      "['vsig', 'vsich']  =>  ['vsig', 'vsich', 'vsih']\n",
      "'Char 3'\n",
      "['gospođa']  =>  ['gospođa', 'hospođa']\n",
      "'Char 3'\n",
      "['mojego']  =>  ['mojeho', 'mojego']\n",
      "'Char 3'\n",
      "['govorim']  =>  ['hovorim', 'govorim']\n",
      "'Char 3'\n",
      "['ględěl']  =>  ['ględěl', 'hlęděl']\n",
      "'Char 3'\n",
      "['poględět']  =>  ['poględět', 'pohlędět']\n",
      "'Char 3'\n",
      "['druge']  =>  ['druge', 'druhe']\n",
      "'Char 3'\n",
      "['prěględět']  =>  ['prěhlędět', 'prěględět']\n",
      "'Char 3'\n",
      "['desętkach', 'desętkag']  =>  ['desętkach', 'desętkah', 'desętkag']\n",
      "'Char 4'\n",
      "['ciđou']  =>  ['cidjou', 'cizou']\n",
      "'Char 4'\n",
      "['gospođa', 'hospođa']  =>  ['gospoza', 'hospoza', 'hospodja', 'gospodja']\n",
      "'Char 6'\n",
      "['šťęstlivy']  =>  ['šťjestlivy', 'šťjastlivy']\n",
      "'Char 6'\n",
      "['vzęt']  =>  ['vzjat', 'vzjet']\n",
      "'Char 6'\n",
      "['hlędi', 'ględi']  =>  ['gljedi', 'hljedi', 'hljadi', 'gljadi']\n",
      "'Char 6'\n",
      "['žędam']  =>  ['žjadam', 'žjedam']\n",
      "'Char 6'\n",
      "['svętočno-novolětny']  =>  ['svjetočno-novolětny', 'svjatočno-novolětny']\n",
      "'Char 6'\n",
      "['porędek']  =>  ['porjadek', 'porjedek']\n",
      "'Char 6'\n",
      "['języků']  =>  ['jjazyků', 'jjezyků']\n",
      "'Char 6'\n",
      "['ględěl', 'hlęděl']  =>  ['hljeděl', 'gljaděl', 'gljeděl', 'hljaděl']\n",
      "'Char 6'\n",
      "['pamętam']  =>  ['pamjatam', 'pamjetam']\n",
      "'Char 6'\n",
      "['prijętně']  =>  ['prijjatně', 'prijjetně']\n",
      "'Char 6'\n",
      "['poględět', 'pohlędět']  =>  ['pogljedět', 'pohljedět', 'pohljadět', 'pogljadět']\n",
      "'Char 6'\n",
      "['języky']  =>  ['jjazyky', 'jjezyky']\n",
      "'Char 6'\n",
      "['prěhlędět', 'prěględět']  =>  ['prěgljadět', 'prěhljadět', 'prěgljedět', 'prěhljedět']\n",
      "'Char 6'\n",
      "['desętkach', 'desętkah', 'desętkag']  =>  ['desjetkag', 'desjetkach', 'desjatkag', 'desjatkach', 'desjetkah', 'desjatkah']\n",
      "'Char 7'\n",
      "['vodų']  =>  ['vodu', 'vodou']\n",
      "'Char 7'\n",
      "['rybų']  =>  ['rybu', 'rybou']\n",
      "'Char 7'\n",
      "['prěporųčit']  =>  ['prěporoučit', 'prěporučit']\n",
      "'Char 7'\n",
      "['ženų']  =>  ['ženou', 'ženu']\n",
      "'Char 7'\n",
      "['temų']  =>  ['temu', 'temou']\n",
      "'Char 7'\n",
      "['sravňajųce']  =>  ['sravňajouce', 'sravňajuce']\n",
      "'Char 7'\n",
      "['bųde']  =>  ['boude', 'bude']\n",
      "'Char 7'\n",
      "['metodų']  =>  ['metodu', 'metodou']\n",
      "'Char 8'\n",
      "['vȯobce']  =>  ['veobce', 'vobce']\n",
      "'Alteration (-ija)'\n",
      "['informacija']  =>  ['informace', 'informacsko', 'informacie']\n",
      "'Replacement (-y)'\n",
      "['šťjestlivy', 'šťjastlivy']  =>  ['šťjestlivý', 'šťjastlivý']\n",
      "'Alteration (-rě-)'\n",
      "['prěporoučit', 'prěporučit']  =>  ['přeporoučit', 'příporoučit', 'příporučit', 'přeporučit']\n",
      "'Alteration (-rě-)'\n",
      "['dobrě']  =>  ['dobře', 'dobří']\n",
      "'Alteration (-rě-)'\n",
      "['potrěbně']  =>  ['potřebně', 'potříbně']\n",
      "'Alteration (-rě-)'\n",
      "['prěhljadět', 'prěhljedět', 'prěgljedět', 'prěgljadět']  =>  ['přehljedět', 'přígljadět', 'příhljedět', 'přegljadět', 'přegljedět', 'přígljedět', 'příhljadět', 'přehljadět']\n",
      "'TODO: Replacement (-?j-)'\n",
      "['šťjestlivý', 'šťjastlivý']  =>  ['šťastlivý', 'šťestlivý']\n",
      "'TODO: Replacement (-?j-)'\n",
      "['gljedi', 'hljedi', 'hljadi', 'gljadi']  =>  ['hledi', 'hladi', 'gladi', 'gledi']\n",
      "'TODO: Replacement: (-rj-)'\n",
      "['porjedek', 'porjadek']  =>  ['pořadek', 'poředek']\n",
      "'Cor 8'\n",
      "['šťastlivý', 'šťestlivý']  =>  ['štěstlivý', 'šťastlivý']\n",
      "'Long vowels'\n",
      "['štěstlivý', 'šťastlivý']  =>  ['štěstlivy', 'šťastlivy']\n"
     ]
    }
   ],
   "source": [
    "flavorized_result = {}\n",
    "\n",
    "for LANG in ['ru', 'cs']:\n",
    "\n",
    "    tokens = morphological_flavorise(tokens_base, morph, flavor_rules[LANG], debug_indices=[99, 71, 47, 21, 1])\n",
    "    tokens = process_multireplacing(tokens, rules_struct[LANG], debug_indices=[99, 71, 47, 21, 1])\n",
    "    flavorized_result[LANG + \"_raw\"] = pretty_stringify(tokens)\n",
    "    \n",
    "    hlang = hunspell_names[LANG]\n",
    "    ilang = iso_names[LANG]\n",
    "    h = init_hunspell(hlang)\n",
    "\n",
    "    flavorized = produce_string(tokens, hlang, ilang)\n",
    "    flavorized_result[LANG] = flavorized\n",
    "    flavorized_result[LANG + \"_sent\"] = list(sentenize(flavorized))\n"
   ]
  },
  {
   "cell_type": "code",
   "execution_count": null,
   "id": "9c53ed32",
   "metadata": {},
   "outputs": [],
   "source": []
  },
  {
   "cell_type": "code",
   "execution_count": null,
   "id": "d98b68f5",
   "metadata": {},
   "outputs": [],
   "source": []
  },
  {
   "cell_type": "code",
   "execution_count": null,
   "id": "cc2ab924",
   "metadata": {},
   "outputs": [],
   "source": []
  },
  {
   "cell_type": "code",
   "execution_count": 16,
   "id": "cf4f91bb",
   "metadata": {},
   "outputs": [],
   "source": [
    "from transformers import AutoTokenizer, AutoModelForSeq2SeqLM\n",
    "\n",
    "tokenizer = AutoTokenizer.from_pretrained(\"facebook/nllb-200-distilled-600M\")\n",
    "\n",
    "model = AutoModelForSeq2SeqLM.from_pretrained(\"facebook/nllb-200-distilled-600M\")\n"
   ]
  },
  {
   "cell_type": "code",
   "execution_count": 17,
   "id": "fc26296f",
   "metadata": {},
   "outputs": [],
   "source": [
    "\n",
    "\n",
    "def translate(text, src_lang, tgt_lang, **kwargs):\n",
    "    tokenizer.src_lang = src_lang\n",
    "    tokenizer.tgt_lang = tgt_lang\n",
    "    results = []\n",
    "    for sent in sentenize(text):\n",
    "        inputs = tokenizer(sent.text, return_tensors='pt')\n",
    "        result = model.generate(\n",
    "            **inputs.to(model.device), \n",
    "            forced_bos_token_id=tokenizer.convert_tokens_to_ids(tgt_lang),\n",
    "            **kwargs\n",
    "        )\n",
    "        results.append(\n",
    "            tokenizer.decode(result[0], skip_special_tokens=True)\n",
    "        )\n",
    "    return results\n"
   ]
  },
  {
   "cell_type": "code",
   "execution_count": null,
   "id": "ea60129b",
   "metadata": {},
   "outputs": [],
   "source": []
  },
  {
   "cell_type": "code",
   "execution_count": 18,
   "id": "ab99ad8d",
   "metadata": {},
   "outputs": [
    {
     "name": "stderr",
     "output_type": "stream",
     "text": [
      "C:\\Users\\79165\\anaconda3\\envs\\repdexai\\lib\\site-packages\\transformers\\generation_utils.py:1207: UserWarning: Neither `max_length` nor `max_new_tokens` have been set, `max_length` will default to 200 (`self.config.max_length`). Controlling `max_length` via the config is deprecated and `max_length` will be removed from the config in v5 of Transformers -- we recommend using `max_new_tokens` to control the maximum length of the generation.\n",
      "  UserWarning,\n"
     ]
    }
   ],
   "source": [
    "translation = {}\n",
    "for LANG in ['cs', 'ru']:\n",
    "    l = ietf_bcp[LANG]\n",
    "    translation[LANG] = translate(flavorized_result[LANG], l, l)\n",
    "    translation"
   ]
  },
  {
   "cell_type": "code",
   "execution_count": null,
   "id": "3b297e85",
   "metadata": {},
   "outputs": [],
   "source": []
  },
  {
   "cell_type": "code",
   "execution_count": 19,
   "id": "62966875",
   "metadata": {
    "scrolled": false
   },
   "outputs": [],
   "source": [
    "from sentence_transformers import SentenceTransformer\n",
    "#from scipy.spatial import distance\n",
    "from scipy.spatial.distance import pdist\n",
    "\n",
    "model_sim = SentenceTransformer('sentence-transformers/LaBSE')\n"
   ]
  },
  {
   "cell_type": "code",
   "execution_count": 20,
   "id": "06d02efb",
   "metadata": {},
   "outputs": [],
   "source": [
    "flavorized_result[LANG] = list(sentenize(flavorized_result[LANG]))"
   ]
  },
  {
   "cell_type": "code",
   "execution_count": 21,
   "id": "07815506",
   "metadata": {},
   "outputs": [
    {
     "name": "stdout",
     "output_type": "stream",
     "text": [
      "----\n",
      "[0.31651057 0.33739552 0.15926062]\n",
      "každy ščęstlivy pės uměje graciozno padati v ćuđų, hlådnų vodų: vzęti rybu fugu iz vȯzduha.\n",
      "\n",
      "Každý šťastný pes umí hravě spadat do hladové vody: chytit rybí fugu s vzduchem.\n",
      "+++ každy štěstlivy pes uměje hraciozné padat v cidjou, hladnou vodu: vzat rybu fugu se vzduhe. +++\n",
      "Каждый щедрый пес умеет грациозно падать в чужую, холодную воду: вытаскивать рыбу фугу из воздуха.\n",
      "+++ каждый щестливый пес умеет грациозно падать в чуждую, холодную воду: взять рыбу фугу из воздуха. +++\n",
      "\n",
      "----\n",
      "[0.37078422 0.24127149 0.38819901]\n",
      "Hćų prěporųčiti: ględi pěše Troicky most v grådu Čeljabinsku, žędam foto za ženų.\n",
      "\n",
      "Připomínám vám, abyste si prohlédli Troickou most v Čelabinské hradě.\n",
      "+++ Hcem přeporoučit: hladi pěše Troicky most v gradu Čelabinskou, žedam foto za ženou. +++\n",
      "Хочу переполнить поручение: посмотреть на Троицкий мост в Челябинске, хочу фотографию жены.\n",
      "+++ Хщу перепоручить: гляди пеше Троицкы мост в городу Челябинску, жадаю фото за жену. +++\n",
      "\n",
      "----\n",
      "[0.43869693 0.33088694 0.20867847]\n",
      "Izměnil byh nemnogo temų, zatože za nas vsih imajų taky maly svętočno-novolětny dar.\n",
      "\n",
      "Moc bych to neměnil, protože máme za sebou taky malý dárek na svátek a novoroční.\n",
      "+++ Změnil bych nemnogě temu, zatože za nas vsig imajem taky maly svetočno-novoletny dar. +++\n",
      "Я бы немного изменил тему, потому что у меня есть для всех нас такой маленький подарок новогодних праздников.\n",
      "+++ Изменил я бы немного тему, затоже за нас всих имаю такий малый святочно-новолетный дар. +++\n",
      "\n",
      "----\n",
      "[0.13255544 0.10209535 0.09358568]\n",
      "Jedna gospođa profesorica iz mojego universiteta, to znači Universiteta Adama Mickiewicza v Poznaǌu, poslala mi je někake teksty, sråvǌajųće porędȯk slov (sintaksis) slovjańskyh językov.\n",
      "\n",
      "Jedna profesora z mé univerzity, značka Adam Mickiewicza na Poznaně, mi poslala texty, které vyřešily syntaxi slovenských jazyků.\n",
      "+++ Jedna gospoza profesorica se mojeho universitete, to znači Universitete Adama Mickiewicza v Poznani, poslala mi je někaka texty, sravňajouce pořadek slov (sintaxis) slovaňské jazyků. +++\n",
      "Одна из профессоров моего университета, а именно Университета Адама Мицкиевица в Познании, послала мне некоторые тексты, сопоставляющие порядок слов словенского языка.\n",
      "+++ Одна госпожа професорица из моего университета, то значи Университета Адама Мицкиеwицза в Познанью, послала мне есть некакие тексты, соровняюще порядок слов (синтаксис) словляньских языков. +++\n",
      "\n",
      "----\n",
      "[0.08439703 0.09345423 0.06159769]\n",
      "Možno to bųde koristno k daĺšej universalizacĳi MS?\n",
      "\n",
      "Je to možná užitečné pro další univerzalizaci MS?\n",
      "+++ Možně to bude koristné k dalšé universalizaciji MS? +++\n",
      "Может ли это быть полезным для дальнейшей универсализации МС?\n",
      "+++ Можно то будет користно к дальшей универсализации МС? +++\n",
      "\n",
      "----\n",
      "[0.55324964 0.52173888 0.34711791]\n",
      "Govorjų uže tutčas, že ne jesm na to voobće ględěl.\n",
      "\n",
      "A já vám říkám, že jsem to neviděl.\n",
      "+++ Hovorim uže tutčas, že ne jesm na to veobce hleděl. +++\n",
      "Я говорю прямо сейчас, но я не смотрю на это.\n",
      "+++ Говорю уже тутчас, же не являюсь на то вообще глядел. +++\n",
      "\n",
      "----\n",
      "[0.15699474 0.15698777 0.05465074]\n",
      "Teksty sųt na češskom, russkom i francuzskom, ako dobro pamętajų.\n",
      "\n",
      "Texty jsou v českém, ruském a francouzském, pokud si to pamatuju.\n",
      "+++ Texty sou na češském, ruském i francuzském, ako dobře pametam. +++\n",
      "Тексты на чешском, русском и французском, если я хорошо помню.\n",
      "+++ Тексты являются на чешском, русском и французском, ако добро паметаю. +++\n",
      "\n",
      "----\n",
      "[0.20285924 0.1770118  0.13712774]\n",
      "Prĳętno čitańje!\n",
      "\n",
      "To je pěkné čtení!\n",
      "+++ Prijetně čitaně! +++\n",
      "Приятно читать!\n",
      "+++ Приятно читанье! +++\n",
      "\n",
      "----\n",
      "[0.17817327 0.10561939 0.1379669 ]\n",
      "V něktoryh slučajah jest potrěbno pogleděti na druge jezyky, da by uznati optimalnu metodu skazati něčto.\n",
      "\n",
      "Někdy je třeba se snažit o to, aby se něco zkažilo v jiném jazyce, aby se zjistilo, že je to nejlepší způsob, jak něco zkažovat.\n",
      "+++ V něktoré slučajech jest potřebně pohladět na druge jazyky, da by uznat optimalnou metodu skazat něčto. +++\n",
      "В некоторых случаях, чтобы узнать оптимальный способ сказать что-то, нужно посмотреть на другой язык.\n",
      "+++ В некторых случаях является потрибно поглядеть на друге языкы, да бы узнать оптимальную методу сказать нечто. +++\n",
      "\n",
      "----\n",
      "[0.13262916 0.17060039 0.19568168]\n",
      "Takože možno prěględěti naš fraznik, tam jest detaljna informacija o několikyh desetkah najvyše važnyh slov.\n",
      "\n",
      "A tak, pokud je možné, přehlédněte náš slovník, je tam podrobná informace o několika desítkách nejdůležitějších slov.\n",
      "+++ Takože možně přehladět naš fraznik, tam jest detalna informace o několiké desetkah najvyše važné slov. +++\n",
      "Также можно просмотреть наш фразу, где есть подробная информация о нескольких десятках самых важных слов.\n",
      "+++ Такоже можно переглядеть наш фразник, там является детальная информация о неколиких десятках найвыше важных слов. +++\n",
      "\n"
     ]
    }
   ],
   "source": [
    "for i, sent1 in enumerate(sentenize(Src)):\n",
    "    \n",
    "    sents = [sent1.text] + [translation[LANG][i] for LANG in ['cs', 'ru']]\n",
    "    vectors = [model_sim.encode(s) for s in sents]\n",
    "    \n",
    "    sim = pdist(vectors, \"cosine\")\n",
    "\n",
    "    print(\"----\")\n",
    "    print(sim)\n",
    "    print(sent1.text)\n",
    "    print()\n",
    "    for LANG in ['cs', 'ru']:\n",
    "        print(translation[LANG][i])\n",
    "        print(\"+++ \" + flavorized_result[LANG + \"_sent\"][i].text + \" +++\")\n",
    "    print()\n"
   ]
  },
  {
   "cell_type": "markdown",
   "id": "2af361ff",
   "metadata": {},
   "source": [
    "## arhiv"
   ]
  },
  {
   "cell_type": "code",
   "execution_count": 14,
   "id": "f839e528",
   "metadata": {},
   "outputs": [
    {
     "data": {
      "text/plain": [
       "'каждый [щестливый|щастливый] пес умеет грациозно падать в [щуждую|чуджую|чуждую|чужую|щужую|щуджую], [холодную|хладную] воду: [взять|взеть] рыбу фугу из воздуха. [Хщу|Хчу] [припоручить|препоручить|препорочить|перпоручить|перепоручить|перепорочить|припорочить|перпорочить]: [гледи|гляди] пеше Троицкы мост в [городу|граду] Челябинску, [жадаю|жедаю] фото за жену. [Выменил|Изменил|Сменил] я бы немного тему, затоже за нас всих имаю такий малый [святочно-новолетный|святочно-новоелетний|светочно-новоолотный|святочно-новоелетный|светочно-новоолотний|святочно-новоолотный|святочно-новоолотний|светочно-новоелетный|светочно-новолетный|светочно-новолетний|светочно-новоелетний|святочно-новолетний] дар. [Одна|Една] [госпожа|господжа|госпожда] професорица из моего университета, то значи Университета Адама Мицкиеwицза в Познанью, послала мне есть некакие тексты, [соровняюще|сравняюще|сравняюче|соровняюче] [порядок|поредок] слов (синтаксис) [словляньских|словяньских|словъяньских] языков. Можно то [бодет|будет] користно к дальшей универсализации МС? [Говорю|Говору] уже тутчас, же не являюсь на то [вообще|вообче] [глядел|гледел]. Тексты являются на чешском, русском и [французском|францусском], ако добро [паметаю|памятаю]. Приятно [читанье|читание]! В некторых случаях является [потрибно|потербно|потеребно|потребно] [погледеть|поглядеть] на друге языкы, да бы узнать оптимальную методу сказать нечто. Такоже можно [перглядеть|прегледеть|переглядеть|перегледеть|преглядеть|приглядеть|пригледеть|пергледеть] наш фразник, там является детальная информация о неколиких [десетках|десятках] найвыше [важних|важных] слов.'"
      ]
     },
     "execution_count": 14,
     "metadata": {},
     "output_type": "execute_result"
    }
   ],
   "source": [
    "flavorized_result['ru_raw']"
   ]
  },
  {
   "cell_type": "code",
   "execution_count": 15,
   "id": "74303ab1",
   "metadata": {},
   "outputs": [
    {
     "data": {
      "text/plain": [
       "[Parse(word='desętkah', tag=OpencorporaTag('subst,NUMR plur,loct'), normal_form='desętka', score=1.0, methods_stack=((DictionaryAnalyzer(), 'desętkah', 479, 7),))]"
      ]
     },
     "execution_count": 15,
     "metadata": {},
     "output_type": "execute_result"
    }
   ],
   "source": [
    "morph.parse(\"desetkah\")"
   ]
  },
  {
   "cell_type": "code",
   "execution_count": 22,
   "id": "f9ac561e",
   "metadata": {},
   "outputs": [
    {
     "ename": "NameError",
     "evalue": "name 'h1' is not defined",
     "output_type": "error",
     "traceback": [
      "\u001b[1;31m---------------------------------------------------------------------------\u001b[0m",
      "\u001b[1;31mNameError\u001b[0m                                 Traceback (most recent call last)",
      "\u001b[1;32m~\\AppData\\Local\\Temp\\ipykernel_23076\\3727421934.py\u001b[0m in \u001b[0;36m<module>\u001b[1;34m\u001b[0m\n\u001b[1;32m----> 1\u001b[1;33m \u001b[0mh1\u001b[0m\u001b[1;33m.\u001b[0m\u001b[0msuggest\u001b[0m\u001b[1;33m(\u001b[0m\u001b[1;34m\"щастливый\"\u001b[0m\u001b[1;33m)\u001b[0m\u001b[1;33m\u001b[0m\u001b[1;33m\u001b[0m\u001b[0m\n\u001b[0m",
      "\u001b[1;31mNameError\u001b[0m: name 'h1' is not defined"
     ]
    }
   ],
   "source": [
    "h1.suggest(\"щастливый\")"
   ]
  },
  {
   "cell_type": "code",
   "execution_count": null,
   "id": "b9041506",
   "metadata": {},
   "outputs": [],
   "source": [
    "from rapidfuzz.string_metric import levenshtein\n",
    "\n",
    "\n",
    "for token in tokens:\n",
    "    w = token.text\n",
    "    if token.POS == \"PUNCT\" or any(\" \" in word for word in w):\n",
    "        continue\n",
    "    known_words = [cand for cand in w if h.spell(cand)]\n",
    "    if len(known_words) == 0:\n",
    "        all_fixes = []\n",
    "        for cand in w:\n",
    "            fixes = h.suggest(cand)\n",
    "            fixes = [f for f in fixes if levenshtein(cand, f) <= 1]\n",
    "            all_fixes += fixes\n",
    "        print(w, \" => \", all_fixes)\n"
   ]
  },
  {
   "cell_type": "code",
   "execution_count": null,
   "id": "eacb1bcc",
   "metadata": {},
   "outputs": [],
   "source": []
  },
  {
   "cell_type": "code",
   "execution_count": null,
   "id": "074461fc",
   "metadata": {},
   "outputs": [],
   "source": []
  },
  {
   "cell_type": "code",
   "execution_count": null,
   "id": "93719f78",
   "metadata": {},
   "outputs": [],
   "source": []
  },
  {
   "cell_type": "code",
   "execution_count": null,
   "id": "2ddf0336",
   "metadata": {},
   "outputs": [],
   "source": []
  },
  {
   "cell_type": "code",
   "execution_count": null,
   "id": "04640b3c",
   "metadata": {},
   "outputs": [],
   "source": []
  },
  {
   "cell_type": "code",
   "execution_count": null,
   "id": "9ce9c249",
   "metadata": {},
   "outputs": [],
   "source": [
    "h = init_hunspell(\"ru_ru\")\n",
    "filter_good_spellings(tokens, h)"
   ]
  },
  {
   "cell_type": "code",
   "execution_count": null,
   "id": "b2b6639a",
   "metadata": {},
   "outputs": [],
   "source": [
    "rus_flavorized = produce_string(tokens, \"rus\")"
   ]
  },
  {
   "cell_type": "code",
   "execution_count": null,
   "id": "abcde876",
   "metadata": {},
   "outputs": [],
   "source": [
    "pretty_stringify(tokens)"
   ]
  },
  {
   "cell_type": "code",
   "execution_count": null,
   "id": "444ec090",
   "metadata": {},
   "outputs": [],
   "source": [
    "# Morphological disambiguation\n",
    "# remove \"-oe\" probably from rules\n",
    "\n",
    "# run on a huge corpus:\n",
    "# hunspell with Levenstein distance 1, check systematic corrections."
   ]
  },
  {
   "cell_type": "code",
   "execution_count": null,
   "id": "23bd2a69",
   "metadata": {},
   "outputs": [],
   "source": [
    "\n"
   ]
  },
  {
   "cell_type": "code",
   "execution_count": null,
   "id": "c41ec121",
   "metadata": {},
   "outputs": [],
   "source": []
  },
  {
   "cell_type": "code",
   "execution_count": null,
   "id": "4b73506f",
   "metadata": {},
   "outputs": [],
   "source": [
    "Src"
   ]
  },
  {
   "cell_type": "code",
   "execution_count": null,
   "id": "b2569e2c",
   "metadata": {},
   "outputs": [],
   "source": []
  },
  {
   "cell_type": "code",
   "execution_count": null,
   "id": "e664a909",
   "metadata": {},
   "outputs": [],
   "source": [
    "\n",
    "sim = 1 - distance.cosine(vec1[i], vec2[j])\n"
   ]
  },
  {
   "cell_type": "code",
   "execution_count": null,
   "id": "1e0a28b3",
   "metadata": {},
   "outputs": [],
   "source": []
  },
  {
   "cell_type": "code",
   "execution_count": null,
   "id": "bc20b3be",
   "metadata": {},
   "outputs": [],
   "source": [
    "import regex as re\n",
    "print(re.sub(\"кы([йехм]|ми)$\", \"ки\\\\1\", \"высокыми\"))\n",
    "re.sub(\"кы([йехм]|ми)$\", \"ки\\\\1\", \"высокыхи\")"
   ]
  },
  {
   "cell_type": "code",
   "execution_count": null,
   "id": "645a7c0b",
   "metadata": {},
   "outputs": [],
   "source": [
    "import regex as re\n",
    "#//, ['$1vy', '$1iz', '$1s']))\n",
    "\n",
    "print(re.sub(\"^(ne|bez)?iz(.+)\", \"\\\\1vy\\\\2\", \"izdati\"))\n",
    "print(re.sub(\"^(ne|bez)?iz(.+)\", \"\\\\1vy\\\\2\", \"bezizhodny\"))\n",
    "print(re.sub(\"^(ne|bez)?iz(.+)\", \"\\\\1vy\\\\2\", \"iz\"))\n"
   ]
  },
  {
   "cell_type": "code",
   "execution_count": null,
   "id": "2dcc4105",
   "metadata": {},
   "outputs": [],
   "source": []
  },
  {
   "cell_type": "markdown",
   "id": "bac5c0e2",
   "metadata": {},
   "source": [
    "## TRY TO EXTRACT PREFIXES"
   ]
  },
  {
   "cell_type": "code",
   "execution_count": 148,
   "id": "e8cf3e86",
   "metadata": {},
   "outputs": [
    {
     "data": {
      "text/html": [
       "<div>\n",
       "<style scoped>\n",
       "    .dataframe tbody tr th:only-of-type {\n",
       "        vertical-align: middle;\n",
       "    }\n",
       "\n",
       "    .dataframe tbody tr th {\n",
       "        vertical-align: top;\n",
       "    }\n",
       "\n",
       "    .dataframe thead th {\n",
       "        text-align: right;\n",
       "    }\n",
       "</style>\n",
       "<table border=\"1\" class=\"dataframe\">\n",
       "  <thead>\n",
       "    <tr style=\"text-align: right;\">\n",
       "      <th></th>\n",
       "      <th>id</th>\n",
       "      <th>isv</th>\n",
       "      <th>addition</th>\n",
       "      <th>partOfSpeech</th>\n",
       "      <th>type</th>\n",
       "      <th>en</th>\n",
       "      <th>sameInLanguages</th>\n",
       "      <th>genesis</th>\n",
       "      <th>ru</th>\n",
       "      <th>be</th>\n",
       "      <th>...</th>\n",
       "      <th>hr_set</th>\n",
       "      <th>pl_set</th>\n",
       "      <th>en_set</th>\n",
       "      <th>de_set</th>\n",
       "      <th>uk_set</th>\n",
       "      <th>eo_set</th>\n",
       "      <th>sk_set</th>\n",
       "      <th>mk_set</th>\n",
       "      <th>ru_set</th>\n",
       "      <th>bg_set</th>\n",
       "    </tr>\n",
       "  </thead>\n",
       "  <tbody>\n",
       "    <tr>\n",
       "      <th>0</th>\n",
       "      <td>5101</td>\n",
       "      <td>a takože</td>\n",
       "      <td>NaN</td>\n",
       "      <td>conj.</td>\n",
       "      <td>1</td>\n",
       "      <td>as well as</td>\n",
       "      <td>NaN</td>\n",
       "      <td>NaN</td>\n",
       "      <td>а также</td>\n",
       "      <td>а таксама, таксама</td>\n",
       "      <td>...</td>\n",
       "      <td>{također, kao i}</td>\n",
       "      <td>{oraz, a także}</td>\n",
       "      <td>{as well as}</td>\n",
       "      <td>{sowie, und auch}</td>\n",
       "      <td>{а також}</td>\n",
       "      <td>{kaj ankaŭ, sed ankaŭ}</td>\n",
       "      <td>{rovnako, no taktiež, ale tiež, takisto, rovna...</td>\n",
       "      <td>{како и, исто така, такуѓере}</td>\n",
       "      <td>{а также}</td>\n",
       "      <td>{също, както и}</td>\n",
       "    </tr>\n",
       "    <tr>\n",
       "      <th>1</th>\n",
       "      <td>1855</td>\n",
       "      <td>a</td>\n",
       "      <td>NaN</td>\n",
       "      <td>conj.</td>\n",
       "      <td>1</td>\n",
       "      <td>and, but</td>\n",
       "      <td>NaN</td>\n",
       "      <td>NaN</td>\n",
       "      <td>а, да</td>\n",
       "      <td>а, ды, дык, га, ага, але</td>\n",
       "      <td>...</td>\n",
       "      <td>{a, i }</td>\n",
       "      <td>{a}</td>\n",
       "      <td>{but, and}</td>\n",
       "      <td>{und, aber}</td>\n",
       "      <td>{та, але, і}</td>\n",
       "      <td>{kaj, sed}</td>\n",
       "      <td>{no, a (odporovacie), avšak, jednako, ale}</td>\n",
       "      <td>{и, а, но}</td>\n",
       "      <td>{да, а}</td>\n",
       "      <td>{и, а, но}</td>\n",
       "    </tr>\n",
       "    <tr>\n",
       "      <th>2</th>\n",
       "      <td>24020</td>\n",
       "      <td>abak</td>\n",
       "      <td>NaN</td>\n",
       "      <td>m.</td>\n",
       "      <td>1</td>\n",
       "      <td>abacus</td>\n",
       "      <td>v z j</td>\n",
       "      <td>I</td>\n",
       "      <td>счеты, абак, абака</td>\n",
       "      <td>абак</td>\n",
       "      <td>...</td>\n",
       "      <td>{abakus}</td>\n",
       "      <td>{abakus, abak}</td>\n",
       "      <td>{abacus}</td>\n",
       "      <td>{Abakus}</td>\n",
       "      <td>{абак, рахівниця}</td>\n",
       "      <td>{abako}</td>\n",
       "      <td>{abakus, počítadlo}</td>\n",
       "      <td>{абакус}</td>\n",
       "      <td>{абак, счеты, абака}</td>\n",
       "      <td>{сметало, абак}</td>\n",
       "    </tr>\n",
       "    <tr>\n",
       "      <th>3</th>\n",
       "      <td>6114</td>\n",
       "      <td>abažur</td>\n",
       "      <td>NaN</td>\n",
       "      <td>m.</td>\n",
       "      <td>1</td>\n",
       "      <td>lampshade</td>\n",
       "      <td>NaN</td>\n",
       "      <td>F</td>\n",
       "      <td>абажур</td>\n",
       "      <td>абажур</td>\n",
       "      <td>...</td>\n",
       "      <td>{sjenilo, abažur}</td>\n",
       "      <td>{abażur}</td>\n",
       "      <td>{lampshade}</td>\n",
       "      <td>{Lampenschirm}</td>\n",
       "      <td>{абажур}</td>\n",
       "      <td>{lampoŝirmilo}</td>\n",
       "      <td>{tienidlo, abažúr (zastaralo)}</td>\n",
       "      <td>{абажур}</td>\n",
       "      <td>{абажур}</td>\n",
       "      <td>{абажур}</td>\n",
       "    </tr>\n",
       "    <tr>\n",
       "      <th>4</th>\n",
       "      <td>35658</td>\n",
       "      <td>abdikacija</td>\n",
       "      <td>NaN</td>\n",
       "      <td>f.</td>\n",
       "      <td>1</td>\n",
       "      <td>abdication</td>\n",
       "      <td>NaN</td>\n",
       "      <td>I</td>\n",
       "      <td>отречение, абдикация, сложение полномочий</td>\n",
       "      <td>абдыкацыя, вырачэнне, адрачэнне, адпінанне, вы...</td>\n",
       "      <td>...</td>\n",
       "      <td>{abdikacija}</td>\n",
       "      <td>{abdykacja}</td>\n",
       "      <td>{abdication}</td>\n",
       "      <td>{Abdankung}</td>\n",
       "      <td>{відречення, зречення}</td>\n",
       "      <td>{abdiko}</td>\n",
       "      <td>{abdikácia}</td>\n",
       "      <td>{откажување, одрекување, абдикација}</td>\n",
       "      <td>{абдикация, сложение полномочий, отречение}</td>\n",
       "      <td>{абдикация}</td>\n",
       "    </tr>\n",
       "    <tr>\n",
       "      <th>...</th>\n",
       "      <td>...</td>\n",
       "      <td>...</td>\n",
       "      <td>...</td>\n",
       "      <td>...</td>\n",
       "      <td>...</td>\n",
       "      <td>...</td>\n",
       "      <td>...</td>\n",
       "      <td>...</td>\n",
       "      <td>...</td>\n",
       "      <td>...</td>\n",
       "      <td>...</td>\n",
       "      <td>...</td>\n",
       "      <td>...</td>\n",
       "      <td>...</td>\n",
       "      <td>...</td>\n",
       "      <td>...</td>\n",
       "      <td>...</td>\n",
       "      <td>...</td>\n",
       "      <td>...</td>\n",
       "      <td>...</td>\n",
       "      <td>...</td>\n",
       "    </tr>\n",
       "    <tr>\n",
       "      <th>17917</th>\n",
       "      <td>-30731</td>\n",
       "      <td>smogti</td>\n",
       "      <td>NaN</td>\n",
       "      <td>v.tr. pf.</td>\n",
       "      <td>NaN</td>\n",
       "      <td>manage to, be able to, cope, make it</td>\n",
       "      <td>NaN</td>\n",
       "      <td>NaN</td>\n",
       "      <td>смочь, суметь</td>\n",
       "      <td>змагчы, здолець</td>\n",
       "      <td>...</td>\n",
       "      <td>{smoći, domoći (se)}</td>\n",
       "      <td>{podołać, sprostać, dać radę}</td>\n",
       "      <td>{manage to, cope, be able to, make it}</td>\n",
       "      <td>{!}</td>\n",
       "      <td>{змогти}</td>\n",
       "      <td>{sukcesi, ekpovi}</td>\n",
       "      <td>{zvládnuť, zmôcť}</td>\n",
       "      <td>{!смогне}</td>\n",
       "      <td>{суметь, смочь}</td>\n",
       "      <td>{!смогвам}</td>\n",
       "    </tr>\n",
       "    <tr>\n",
       "      <th>17918</th>\n",
       "      <td>-37010</td>\n",
       "      <td>terasa</td>\n",
       "      <td>NaN</td>\n",
       "      <td>f.</td>\n",
       "      <td>NaN</td>\n",
       "      <td>terrace</td>\n",
       "      <td>NaN</td>\n",
       "      <td>NaN</td>\n",
       "      <td>терраса</td>\n",
       "      <td>тэраса</td>\n",
       "      <td>...</td>\n",
       "      <td>{terasa}</td>\n",
       "      <td>{taras}</td>\n",
       "      <td>{terrace}</td>\n",
       "      <td>{!}</td>\n",
       "      <td>{тераса}</td>\n",
       "      <td>{teraso}</td>\n",
       "      <td>{terasa}</td>\n",
       "      <td>{тераса}</td>\n",
       "      <td>{терраса}</td>\n",
       "      <td>{!тераса}</td>\n",
       "    </tr>\n",
       "    <tr>\n",
       "      <th>17919</th>\n",
       "      <td>-37001</td>\n",
       "      <td>vråtny dŕžak</td>\n",
       "      <td>NaN</td>\n",
       "      <td>m.</td>\n",
       "      <td>NaN</td>\n",
       "      <td>door handle</td>\n",
       "      <td>bg</td>\n",
       "      <td>NaN</td>\n",
       "      <td>дверная ручка</td>\n",
       "      <td>дзвярная ручка, ручка дзвярэй</td>\n",
       "      <td>...</td>\n",
       "      <td>{kvaka}</td>\n",
       "      <td>{klamka}</td>\n",
       "      <td>{door handle}</td>\n",
       "      <td>{!}</td>\n",
       "      <td>{дверна ручка}</td>\n",
       "      <td>{porda anso}</td>\n",
       "      <td>{vrat), kľučka (dverí}</td>\n",
       "      <td>{квака}</td>\n",
       "      <td>{дверная ручка}</td>\n",
       "      <td>{дръжка на врата }</td>\n",
       "    </tr>\n",
       "    <tr>\n",
       "      <th>17920</th>\n",
       "      <td>-37013</td>\n",
       "      <td>zadumlivy</td>\n",
       "      <td>NaN</td>\n",
       "      <td>adj.</td>\n",
       "      <td>NaN</td>\n",
       "      <td>wistful, thoughtful</td>\n",
       "      <td>NaN</td>\n",
       "      <td>NaN</td>\n",
       "      <td>задумчивый</td>\n",
       "      <td>задуменны, задумлівы, задумённы</td>\n",
       "      <td>...</td>\n",
       "      <td>{zamišljen, sjetan,}</td>\n",
       "      <td>{tęskny, nostaligiczny, ckliwy, tkliwy}</td>\n",
       "      <td>{wistful, thoughtful}</td>\n",
       "      <td>{!}</td>\n",
       "      <td>{задумливий, замислений}</td>\n",
       "      <td>{pensema, meditema}</td>\n",
       "      <td>{tklivý, clivý , tesklivý, zádumčivý}</td>\n",
       "      <td>{замислен, задуман}</td>\n",
       "      <td>{задумчивый}</td>\n",
       "      <td>{!тъжен}</td>\n",
       "    </tr>\n",
       "    <tr>\n",
       "      <th>17921</th>\n",
       "      <td>-37004</td>\n",
       "      <td>zapečętyvati</td>\n",
       "      <td>NaN</td>\n",
       "      <td>v.tr.ipf.</td>\n",
       "      <td>NaN</td>\n",
       "      <td>seal</td>\n",
       "      <td>NaN</td>\n",
       "      <td>NaN</td>\n",
       "      <td>запечатывать, опечатывать</td>\n",
       "      <td>запячатваць, апячатваць</td>\n",
       "      <td>...</td>\n",
       "      <td>{pečatiti, zapečaćivati}</td>\n",
       "      <td>{zapieczętowywać, plombować, opieczętowywać}</td>\n",
       "      <td>{seal}</td>\n",
       "      <td>{!}</td>\n",
       "      <td>{опечатувати, запечатувати}</td>\n",
       "      <td>{sigeli}</td>\n",
       "      <td>{zapečaťovať, pečatiť}</td>\n",
       "      <td>{запечатува}</td>\n",
       "      <td>{запечатывать, опечатывать}</td>\n",
       "      <td>{!запечатвам}</td>\n",
       "    </tr>\n",
       "  </tbody>\n",
       "</table>\n",
       "<p>17922 rows × 43 columns</p>\n",
       "</div>"
      ],
      "text/plain": [
       "          id           isv addition partOfSpeech type  \\\n",
       "0       5101      a takože      NaN        conj.    1   \n",
       "1       1855             a      NaN        conj.    1   \n",
       "2      24020          abak      NaN           m.    1   \n",
       "3       6114        abažur      NaN           m.    1   \n",
       "4      35658    abdikacija      NaN           f.    1   \n",
       "...      ...           ...      ...          ...  ...   \n",
       "17917 -30731        smogti      NaN    v.tr. pf.  NaN   \n",
       "17918 -37010        terasa      NaN           f.  NaN   \n",
       "17919 -37001  vråtny dŕžak      NaN           m.  NaN   \n",
       "17920 -37013     zadumlivy      NaN         adj.  NaN   \n",
       "17921 -37004  zapečętyvati      NaN    v.tr.ipf.  NaN   \n",
       "\n",
       "                                         en sameInLanguages genesis  \\\n",
       "0                                as well as             NaN     NaN   \n",
       "1                                  and, but             NaN     NaN   \n",
       "2                                    abacus           v z j       I   \n",
       "3                                 lampshade             NaN       F   \n",
       "4                                abdication             NaN       I   \n",
       "...                                     ...             ...     ...   \n",
       "17917  manage to, be able to, cope, make it             NaN     NaN   \n",
       "17918                               terrace             NaN     NaN   \n",
       "17919                           door handle              bg     NaN   \n",
       "17920                   wistful, thoughtful             NaN     NaN   \n",
       "17921                                  seal             NaN     NaN   \n",
       "\n",
       "                                              ru  \\\n",
       "0                                        а также   \n",
       "1                                          а, да   \n",
       "2                             счеты, абак, абака   \n",
       "3                                         абажур   \n",
       "4      отречение, абдикация, сложение полномочий   \n",
       "...                                          ...   \n",
       "17917                              смочь, суметь   \n",
       "17918                                    терраса   \n",
       "17919                              дверная ручка   \n",
       "17920                                 задумчивый   \n",
       "17921                  запечатывать, опечатывать   \n",
       "\n",
       "                                                      be  ...  \\\n",
       "0                                     а таксама, таксама  ...   \n",
       "1                               а, ды, дык, га, ага, але  ...   \n",
       "2                                                   абак  ...   \n",
       "3                                                 абажур  ...   \n",
       "4      абдыкацыя, вырачэнне, адрачэнне, адпінанне, вы...  ...   \n",
       "...                                                  ...  ...   \n",
       "17917                                    змагчы, здолець  ...   \n",
       "17918                                             тэраса  ...   \n",
       "17919                      дзвярная ручка, ручка дзвярэй  ...   \n",
       "17920                    задуменны, задумлівы, задумённы  ...   \n",
       "17921                            запячатваць, апячатваць  ...   \n",
       "\n",
       "                         hr_set                                        pl_set  \\\n",
       "0              {također, kao i}                               {oraz, a także}   \n",
       "1                       {a, i }                                           {a}   \n",
       "2                      {abakus}                                {abakus, abak}   \n",
       "3             {sjenilo, abažur}                                      {abażur}   \n",
       "4                  {abdikacija}                                   {abdykacja}   \n",
       "...                         ...                                           ...   \n",
       "17917      {smoći, domoći (se)}                 {podołać, sprostać, dać radę}   \n",
       "17918                  {terasa}                                       {taras}   \n",
       "17919                   {kvaka}                                      {klamka}   \n",
       "17920      {zamišljen, sjetan,}       {tęskny, nostaligiczny, ckliwy, tkliwy}   \n",
       "17921  {pečatiti, zapečaćivati}  {zapieczętowywać, plombować, opieczętowywać}   \n",
       "\n",
       "                                       en_set             de_set  \\\n",
       "0                                {as well as}  {sowie, und auch}   \n",
       "1                                  {but, and}        {und, aber}   \n",
       "2                                    {abacus}           {Abakus}   \n",
       "3                                 {lampshade}     {Lampenschirm}   \n",
       "4                                {abdication}        {Abdankung}   \n",
       "...                                       ...                ...   \n",
       "17917  {manage to, cope, be able to, make it}                {!}   \n",
       "17918                               {terrace}                {!}   \n",
       "17919                           {door handle}                {!}   \n",
       "17920                   {wistful, thoughtful}                {!}   \n",
       "17921                                  {seal}                {!}   \n",
       "\n",
       "                            uk_set                  eo_set  \\\n",
       "0                        {а також}  {kaj ankaŭ, sed ankaŭ}   \n",
       "1                     {та, але, і}              {kaj, sed}   \n",
       "2                {абак, рахівниця}                 {abako}   \n",
       "3                         {абажур}          {lampoŝirmilo}   \n",
       "4           {відречення, зречення}                {abdiko}   \n",
       "...                            ...                     ...   \n",
       "17917                     {змогти}       {sukcesi, ekpovi}   \n",
       "17918                     {тераса}                {teraso}   \n",
       "17919               {дверна ручка}            {porda anso}   \n",
       "17920     {задумливий, замислений}     {pensema, meditema}   \n",
       "17921  {опечатувати, запечатувати}                {sigeli}   \n",
       "\n",
       "                                                  sk_set  \\\n",
       "0      {rovnako, no taktiež, ale tiež, takisto, rovna...   \n",
       "1             {no, a (odporovacie), avšak, jednako, ale}   \n",
       "2                                    {abakus, počítadlo}   \n",
       "3                         {tienidlo, abažúr (zastaralo)}   \n",
       "4                                            {abdikácia}   \n",
       "...                                                  ...   \n",
       "17917                                  {zvládnuť, zmôcť}   \n",
       "17918                                           {terasa}   \n",
       "17919                             {vrat), kľučka (dverí}   \n",
       "17920              {tklivý, clivý , tesklivý, zádumčivý}   \n",
       "17921                             {zapečaťovať, pečatiť}   \n",
       "\n",
       "                                     mk_set  \\\n",
       "0             {како и, исто така, такуѓере}   \n",
       "1                                {и, а, но}   \n",
       "2                                  {абакус}   \n",
       "3                                  {абажур}   \n",
       "4      {откажување, одрекување, абдикација}   \n",
       "...                                     ...   \n",
       "17917                             {!смогне}   \n",
       "17918                              {тераса}   \n",
       "17919                               {квака}   \n",
       "17920                   {замислен, задуман}   \n",
       "17921                          {запечатува}   \n",
       "\n",
       "                                            ru_set              bg_set  \n",
       "0                                        {а также}     {също, както и}  \n",
       "1                                          {да, а}          {и, а, но}  \n",
       "2                             {абак, счеты, абака}     {сметало, абак}  \n",
       "3                                         {абажур}            {абажур}  \n",
       "4      {абдикация, сложение полномочий, отречение}         {абдикация}  \n",
       "...                                            ...                 ...  \n",
       "17917                              {суметь, смочь}          {!смогвам}  \n",
       "17918                                    {терраса}           {!тераса}  \n",
       "17919                              {дверная ручка}  {дръжка на врата }  \n",
       "17920                                 {задумчивый}            {!тъжен}  \n",
       "17921                  {запечатывать, опечатывать}       {!запечатвам}  \n",
       "\n",
       "[17922 rows x 43 columns]"
      ]
     },
     "execution_count": 148,
     "metadata": {},
     "output_type": "execute_result"
    }
   ],
   "source": [
    "slovnik"
   ]
  },
  {
   "cell_type": "code",
   "execution_count": 177,
   "id": "591c2e87",
   "metadata": {},
   "outputs": [],
   "source": [
    "all_verbs = slovnik.query(\"partOfSpeech.str.contains('v.') and not partOfSpeech.str.contains('adv.')\", engine=\"python\").copy()"
   ]
  },
  {
   "cell_type": "code",
   "execution_count": 178,
   "id": "a4b1c4b3",
   "metadata": {},
   "outputs": [
    {
     "data": {
      "text/plain": [
       "råz    371\n",
       "prě    197\n",
       "pri    148\n",
       "pro    121\n",
       "pod     86\n",
       "vȯz     60\n",
       "nas     52\n",
       "odp     50\n",
       "izp     46\n",
       "pos     46\n",
       "ods     44\n",
       "zap     40\n",
       "nap     39\n",
       "obr     39\n",
       "zas     34\n",
       "izs     33\n",
       "obs     32\n",
       "odv     30\n",
       "izk     27\n",
       "obl     27\n",
       "zak     25\n",
       "izv     25\n",
       "Name: isv, dtype: int64"
      ]
     },
     "execution_count": 178,
     "metadata": {},
     "output_type": "execute_result"
    }
   ],
   "source": [
    "all_verbs['isv'].str[:3].value_counts().head(22)"
   ]
  },
  {
   "cell_type": "code",
   "execution_count": 167,
   "id": "a53a385a",
   "metadata": {},
   "outputs": [
    {
     "data": {
      "text/html": [
       "<div>\n",
       "<style scoped>\n",
       "    .dataframe tbody tr th:only-of-type {\n",
       "        vertical-align: middle;\n",
       "    }\n",
       "\n",
       "    .dataframe tbody tr th {\n",
       "        vertical-align: top;\n",
       "    }\n",
       "\n",
       "    .dataframe thead th {\n",
       "        text-align: right;\n",
       "    }\n",
       "</style>\n",
       "<table border=\"1\" class=\"dataframe\">\n",
       "  <thead>\n",
       "    <tr style=\"text-align: right;\">\n",
       "      <th></th>\n",
       "      <th>id</th>\n",
       "      <th>isv</th>\n",
       "      <th>addition</th>\n",
       "      <th>partOfSpeech</th>\n",
       "      <th>type</th>\n",
       "      <th>en</th>\n",
       "      <th>sameInLanguages</th>\n",
       "      <th>genesis</th>\n",
       "      <th>ru</th>\n",
       "      <th>be</th>\n",
       "      <th>...</th>\n",
       "      <th>hr_set</th>\n",
       "      <th>pl_set</th>\n",
       "      <th>en_set</th>\n",
       "      <th>de_set</th>\n",
       "      <th>uk_set</th>\n",
       "      <th>eo_set</th>\n",
       "      <th>sk_set</th>\n",
       "      <th>mk_set</th>\n",
       "      <th>ru_set</th>\n",
       "      <th>bg_set</th>\n",
       "    </tr>\n",
       "  </thead>\n",
       "  <tbody>\n",
       "    <tr>\n",
       "      <th>5</th>\n",
       "      <td>11</td>\n",
       "      <td>abdikovati</td>\n",
       "      <td>NaN</td>\n",
       "      <td>v.intr. ipf.</td>\n",
       "      <td>1</td>\n",
       "      <td>abdicate</td>\n",
       "      <td>NaN</td>\n",
       "      <td>I</td>\n",
       "      <td>отрекаться</td>\n",
       "      <td>адракацца</td>\n",
       "      <td>...</td>\n",
       "      <td>{abdicirati}</td>\n",
       "      <td>{abdykować}</td>\n",
       "      <td>{abdicate}</td>\n",
       "      <td>{abdanken}</td>\n",
       "      <td>{відрекатися}</td>\n",
       "      <td>{abdiki}</td>\n",
       "      <td>{abdikovať}</td>\n",
       "      <td>{абдицира, откажува}</td>\n",
       "      <td>{отрекаться}</td>\n",
       "      <td>{абдикирам}</td>\n",
       "    </tr>\n",
       "    <tr>\n",
       "      <th>16</th>\n",
       "      <td>6119</td>\n",
       "      <td>abonovati</td>\n",
       "      <td>NaN</td>\n",
       "      <td>v.tr. ipf.</td>\n",
       "      <td>1</td>\n",
       "      <td>subscribe, engage</td>\n",
       "      <td>NaN</td>\n",
       "      <td>F</td>\n",
       "      <td>подписываться, абонировать</td>\n",
       "      <td>падпісвацца, абаніраваць</td>\n",
       "      <td>...</td>\n",
       "      <td>{abonirati, pretplatiti (se)}</td>\n",
       "      <td>{abonować, prenumerować}</td>\n",
       "      <td>{subscribe, engage}</td>\n",
       "      <td>{abonnieren}</td>\n",
       "      <td>{підписуватись, брати участь, передплачувати}</td>\n",
       "      <td>{aboni}</td>\n",
       "      <td>{zapísať sa (na odber), prihlásiť sa, predplat...</td>\n",
       "      <td>{абонира, претплатува}</td>\n",
       "      <td>{абонировать, подписываться}</td>\n",
       "      <td>{абонирам}</td>\n",
       "    </tr>\n",
       "    <tr>\n",
       "      <th>28</th>\n",
       "      <td>19625</td>\n",
       "      <td>absorbovati</td>\n",
       "      <td>NaN</td>\n",
       "      <td>v.tr. ipf.</td>\n",
       "      <td>2</td>\n",
       "      <td>absorb</td>\n",
       "      <td>NaN</td>\n",
       "      <td>I</td>\n",
       "      <td>абсорбировать, поглощать</td>\n",
       "      <td>абсарбаваць, паглынаць</td>\n",
       "      <td>...</td>\n",
       "      <td>{apsorbirati, upijati}</td>\n",
       "      <td>{pochłaniać, absorbować}</td>\n",
       "      <td>{absorb}</td>\n",
       "      <td>{absorbieren}</td>\n",
       "      <td>{поглинати,  абсорбувати}</td>\n",
       "      <td>{absorbi, sorbi}</td>\n",
       "      <td>{vstrebávať, absorbovať}</td>\n",
       "      <td>{впива, апсорбира}</td>\n",
       "      <td>{поглощать, абсорбировать}</td>\n",
       "      <td>{абсорбирам}</td>\n",
       "    </tr>\n",
       "    <tr>\n",
       "      <th>29</th>\n",
       "      <td>24056</td>\n",
       "      <td>abstrahovati</td>\n",
       "      <td>NaN</td>\n",
       "      <td>v.tr. ipf./pf.</td>\n",
       "      <td>1</td>\n",
       "      <td>abstract</td>\n",
       "      <td>NaN</td>\n",
       "      <td>I</td>\n",
       "      <td>абстрагировать</td>\n",
       "      <td>абстрагаваць</td>\n",
       "      <td>...</td>\n",
       "      <td>{apstrahirati}</td>\n",
       "      <td>{abstrahować}</td>\n",
       "      <td>{abstract}</td>\n",
       "      <td>{abstrahieren}</td>\n",
       "      <td>{абстрагувати}</td>\n",
       "      <td>{abstrakti}</td>\n",
       "      <td>{abstrahovať}</td>\n",
       "      <td>{издвојува, апстрахира}</td>\n",
       "      <td>{абстрагировать}</td>\n",
       "      <td>{абстрахирам се от}</td>\n",
       "    </tr>\n",
       "    <tr>\n",
       "      <th>43</th>\n",
       "      <td>24070</td>\n",
       "      <td>adaptovati</td>\n",
       "      <td>NaN</td>\n",
       "      <td>v.tr. ipf./pf.</td>\n",
       "      <td>1</td>\n",
       "      <td>adapt</td>\n",
       "      <td>NaN</td>\n",
       "      <td>I</td>\n",
       "      <td>адаптировать</td>\n",
       "      <td>адаптаваць, прыстасаваць</td>\n",
       "      <td>...</td>\n",
       "      <td>{adaprirati, prilagoditi}</td>\n",
       "      <td>{adaptować}</td>\n",
       "      <td>{adapt}</td>\n",
       "      <td>{anpassen}</td>\n",
       "      <td>{адаптувати}</td>\n",
       "      <td>{adapti}</td>\n",
       "      <td>{adaptovať, prispôsobiť}</td>\n",
       "      <td>{прилагодува, адаптира}</td>\n",
       "      <td>{адаптировать}</td>\n",
       "      <td>{адаптирам, пригаждам}</td>\n",
       "    </tr>\n",
       "    <tr>\n",
       "      <th>...</th>\n",
       "      <td>...</td>\n",
       "      <td>...</td>\n",
       "      <td>...</td>\n",
       "      <td>...</td>\n",
       "      <td>...</td>\n",
       "      <td>...</td>\n",
       "      <td>...</td>\n",
       "      <td>...</td>\n",
       "      <td>...</td>\n",
       "      <td>...</td>\n",
       "      <td>...</td>\n",
       "      <td>...</td>\n",
       "      <td>...</td>\n",
       "      <td>...</td>\n",
       "      <td>...</td>\n",
       "      <td>...</td>\n",
       "      <td>...</td>\n",
       "      <td>...</td>\n",
       "      <td>...</td>\n",
       "      <td>...</td>\n",
       "      <td>...</td>\n",
       "    </tr>\n",
       "    <tr>\n",
       "      <th>17905</th>\n",
       "      <td>19473</td>\n",
       "      <td>žužati</td>\n",
       "      <td>NaN</td>\n",
       "      <td>v.intr. ipf.</td>\n",
       "      <td>1</td>\n",
       "      <td>buzz</td>\n",
       "      <td>NaN</td>\n",
       "      <td>NaN</td>\n",
       "      <td>жужжать</td>\n",
       "      <td>гусці, гудзець</td>\n",
       "      <td>...</td>\n",
       "      <td>{zujati}</td>\n",
       "      <td>{brzęczeć}</td>\n",
       "      <td>{buzz}</td>\n",
       "      <td>{!summen}</td>\n",
       "      <td>{деркотіти, дзижчати}</td>\n",
       "      <td>{zumi, zumadi}</td>\n",
       "      <td>{bzučať}</td>\n",
       "      <td>{зуи}</td>\n",
       "      <td>{жужжать}</td>\n",
       "      <td>{жужа}</td>\n",
       "    </tr>\n",
       "    <tr>\n",
       "      <th>17913</th>\n",
       "      <td>-37005</td>\n",
       "      <td>råzpečętati</td>\n",
       "      <td>NaN</td>\n",
       "      <td>v.tr. pf.</td>\n",
       "      <td>NaN</td>\n",
       "      <td>unseal</td>\n",
       "      <td>NaN</td>\n",
       "      <td>NaN</td>\n",
       "      <td>распечатать (открыть)</td>\n",
       "      <td>распячатаць (адчыніць)</td>\n",
       "      <td>...</td>\n",
       "      <td>{raspečatiti, otpečatiti}</td>\n",
       "      <td>{odpieczętować, rozpieczętować}</td>\n",
       "      <td>{unseal}</td>\n",
       "      <td>{!}</td>\n",
       "      <td>{розпечатати}</td>\n",
       "      <td>{!}</td>\n",
       "      <td>{odpečatiť, rozpečatiť}</td>\n",
       "      <td>{отпечати, распечати}</td>\n",
       "      <td>{распечатать (открыть)}</td>\n",
       "      <td>{!разпечатам, отпечатам (отворя)}</td>\n",
       "    </tr>\n",
       "    <tr>\n",
       "      <th>17914</th>\n",
       "      <td>-37006</td>\n",
       "      <td>råzpečętyvati</td>\n",
       "      <td>NaN</td>\n",
       "      <td>v.tr. ipf.</td>\n",
       "      <td>NaN</td>\n",
       "      <td>unseal</td>\n",
       "      <td>NaN</td>\n",
       "      <td>NaN</td>\n",
       "      <td>распечатывать (открывать)</td>\n",
       "      <td>распячатваць (адчыніць)</td>\n",
       "      <td>...</td>\n",
       "      <td>{raspečaćivati, otpečaćivati }</td>\n",
       "      <td>{odpieczętowywać, rozpieczętowywać}</td>\n",
       "      <td>{unseal}</td>\n",
       "      <td>{!}</td>\n",
       "      <td>{розпечатувати}</td>\n",
       "      <td>{malŝlosi, malfermi, elpaki }</td>\n",
       "      <td>{odpečaťovať, rozpečaťovať}</td>\n",
       "      <td>{отпечатува, распечатува}</td>\n",
       "      <td>{распечатывать (открывать)}</td>\n",
       "      <td>{!разпечатвам, отпечатвам (отварям)}</td>\n",
       "    </tr>\n",
       "    <tr>\n",
       "      <th>17917</th>\n",
       "      <td>-30731</td>\n",
       "      <td>smogti</td>\n",
       "      <td>NaN</td>\n",
       "      <td>v.tr. pf.</td>\n",
       "      <td>NaN</td>\n",
       "      <td>manage to, be able to, cope, make it</td>\n",
       "      <td>NaN</td>\n",
       "      <td>NaN</td>\n",
       "      <td>смочь, суметь</td>\n",
       "      <td>змагчы, здолець</td>\n",
       "      <td>...</td>\n",
       "      <td>{smoći, domoći (se)}</td>\n",
       "      <td>{podołać, sprostać, dać radę}</td>\n",
       "      <td>{manage to, cope, be able to, make it}</td>\n",
       "      <td>{!}</td>\n",
       "      <td>{змогти}</td>\n",
       "      <td>{sukcesi, ekpovi}</td>\n",
       "      <td>{zvládnuť, zmôcť}</td>\n",
       "      <td>{!смогне}</td>\n",
       "      <td>{суметь, смочь}</td>\n",
       "      <td>{!смогвам}</td>\n",
       "    </tr>\n",
       "    <tr>\n",
       "      <th>17921</th>\n",
       "      <td>-37004</td>\n",
       "      <td>zapečętyvati</td>\n",
       "      <td>NaN</td>\n",
       "      <td>v.tr.ipf.</td>\n",
       "      <td>NaN</td>\n",
       "      <td>seal</td>\n",
       "      <td>NaN</td>\n",
       "      <td>NaN</td>\n",
       "      <td>запечатывать, опечатывать</td>\n",
       "      <td>запячатваць, апячатваць</td>\n",
       "      <td>...</td>\n",
       "      <td>{pečatiti, zapečaćivati}</td>\n",
       "      <td>{zapieczętowywać, plombować, opieczętowywać}</td>\n",
       "      <td>{seal}</td>\n",
       "      <td>{!}</td>\n",
       "      <td>{опечатувати, запечатувати}</td>\n",
       "      <td>{sigeli}</td>\n",
       "      <td>{zapečaťovať, pečatiť}</td>\n",
       "      <td>{запечатува}</td>\n",
       "      <td>{запечатывать, опечатывать}</td>\n",
       "      <td>{!запечатвам}</td>\n",
       "    </tr>\n",
       "  </tbody>\n",
       "</table>\n",
       "<p>4985 rows × 43 columns</p>\n",
       "</div>"
      ],
      "text/plain": [
       "          id            isv addition    partOfSpeech type  \\\n",
       "5         11     abdikovati      NaN    v.intr. ipf.    1   \n",
       "16      6119      abonovati      NaN      v.tr. ipf.    1   \n",
       "28     19625    absorbovati      NaN      v.tr. ipf.    2   \n",
       "29     24056   abstrahovati      NaN  v.tr. ipf./pf.    1   \n",
       "43     24070     adaptovati      NaN  v.tr. ipf./pf.    1   \n",
       "...      ...            ...      ...             ...  ...   \n",
       "17905  19473         žužati      NaN    v.intr. ipf.    1   \n",
       "17913 -37005    råzpečętati      NaN       v.tr. pf.  NaN   \n",
       "17914 -37006  råzpečętyvati      NaN      v.tr. ipf.  NaN   \n",
       "17917 -30731         smogti      NaN       v.tr. pf.  NaN   \n",
       "17921 -37004   zapečętyvati      NaN       v.tr.ipf.  NaN   \n",
       "\n",
       "                                         en sameInLanguages genesis  \\\n",
       "5                                  abdicate             NaN       I   \n",
       "16                        subscribe, engage             NaN       F   \n",
       "28                                   absorb             NaN       I   \n",
       "29                                 abstract             NaN       I   \n",
       "43                                    adapt             NaN       I   \n",
       "...                                     ...             ...     ...   \n",
       "17905                                  buzz             NaN     NaN   \n",
       "17913                                unseal             NaN     NaN   \n",
       "17914                                unseal             NaN     NaN   \n",
       "17917  manage to, be able to, cope, make it             NaN     NaN   \n",
       "17921                                  seal             NaN     NaN   \n",
       "\n",
       "                               ru                        be  ...  \\\n",
       "5                      отрекаться                 адракацца  ...   \n",
       "16     подписываться, абонировать  падпісвацца, абаніраваць  ...   \n",
       "28       абсорбировать, поглощать    абсарбаваць, паглынаць  ...   \n",
       "29                 абстрагировать              абстрагаваць  ...   \n",
       "43                   адаптировать  адаптаваць, прыстасаваць  ...   \n",
       "...                           ...                       ...  ...   \n",
       "17905                     жужжать            гусці, гудзець  ...   \n",
       "17913       распечатать (открыть)    распячатаць (адчыніць)  ...   \n",
       "17914   распечатывать (открывать)   распячатваць (адчыніць)  ...   \n",
       "17917               смочь, суметь           змагчы, здолець  ...   \n",
       "17921   запечатывать, опечатывать   запячатваць, апячатваць  ...   \n",
       "\n",
       "                               hr_set  \\\n",
       "5                        {abdicirati}   \n",
       "16      {abonirati, pretplatiti (se)}   \n",
       "28             {apsorbirati, upijati}   \n",
       "29                     {apstrahirati}   \n",
       "43          {adaprirati, prilagoditi}   \n",
       "...                               ...   \n",
       "17905                        {zujati}   \n",
       "17913       {raspečatiti, otpečatiti}   \n",
       "17914  {raspečaćivati, otpečaćivati }   \n",
       "17917            {smoći, domoći (se)}   \n",
       "17921        {pečatiti, zapečaćivati}   \n",
       "\n",
       "                                             pl_set  \\\n",
       "5                                       {abdykować}   \n",
       "16                         {abonować, prenumerować}   \n",
       "28                         {pochłaniać, absorbować}   \n",
       "29                                    {abstrahować}   \n",
       "43                                      {adaptować}   \n",
       "...                                             ...   \n",
       "17905                                    {brzęczeć}   \n",
       "17913               {odpieczętować, rozpieczętować}   \n",
       "17914           {odpieczętowywać, rozpieczętowywać}   \n",
       "17917                 {podołać, sprostać, dać radę}   \n",
       "17921  {zapieczętowywać, plombować, opieczętowywać}   \n",
       "\n",
       "                                       en_set          de_set  \\\n",
       "5                                  {abdicate}      {abdanken}   \n",
       "16                        {subscribe, engage}    {abonnieren}   \n",
       "28                                   {absorb}   {absorbieren}   \n",
       "29                                 {abstract}  {abstrahieren}   \n",
       "43                                    {adapt}      {anpassen}   \n",
       "...                                       ...             ...   \n",
       "17905                                  {buzz}       {!summen}   \n",
       "17913                                {unseal}             {!}   \n",
       "17914                                {unseal}             {!}   \n",
       "17917  {manage to, cope, be able to, make it}             {!}   \n",
       "17921                                  {seal}             {!}   \n",
       "\n",
       "                                              uk_set  \\\n",
       "5                                      {відрекатися}   \n",
       "16     {підписуватись, брати участь, передплачувати}   \n",
       "28                         {поглинати,  абсорбувати}   \n",
       "29                                    {абстрагувати}   \n",
       "43                                      {адаптувати}   \n",
       "...                                              ...   \n",
       "17905                          {деркотіти, дзижчати}   \n",
       "17913                                  {розпечатати}   \n",
       "17914                                {розпечатувати}   \n",
       "17917                                       {змогти}   \n",
       "17921                    {опечатувати, запечатувати}   \n",
       "\n",
       "                              eo_set  \\\n",
       "5                           {abdiki}   \n",
       "16                           {aboni}   \n",
       "28                  {absorbi, sorbi}   \n",
       "29                       {abstrakti}   \n",
       "43                          {adapti}   \n",
       "...                              ...   \n",
       "17905                 {zumi, zumadi}   \n",
       "17913                            {!}   \n",
       "17914  {malŝlosi, malfermi, elpaki }   \n",
       "17917              {sukcesi, ekpovi}   \n",
       "17921                       {sigeli}   \n",
       "\n",
       "                                                  sk_set  \\\n",
       "5                                            {abdikovať}   \n",
       "16     {zapísať sa (na odber), prihlásiť sa, predplat...   \n",
       "28                              {vstrebávať, absorbovať}   \n",
       "29                                         {abstrahovať}   \n",
       "43                              {adaptovať, prispôsobiť}   \n",
       "...                                                  ...   \n",
       "17905                                           {bzučať}   \n",
       "17913                            {odpečatiť, rozpečatiť}   \n",
       "17914                        {odpečaťovať, rozpečaťovať}   \n",
       "17917                                  {zvládnuť, zmôcť}   \n",
       "17921                             {zapečaťovať, pečatiť}   \n",
       "\n",
       "                          mk_set                        ru_set  \\\n",
       "5           {абдицира, откажува}                  {отрекаться}   \n",
       "16        {абонира, претплатува}  {абонировать, подписываться}   \n",
       "28            {впива, апсорбира}    {поглощать, абсорбировать}   \n",
       "29       {издвојува, апстрахира}              {абстрагировать}   \n",
       "43       {прилагодува, адаптира}                {адаптировать}   \n",
       "...                          ...                           ...   \n",
       "17905                      {зуи}                     {жужжать}   \n",
       "17913      {отпечати, распечати}       {распечатать (открыть)}   \n",
       "17914  {отпечатува, распечатува}   {распечатывать (открывать)}   \n",
       "17917                  {!смогне}               {суметь, смочь}   \n",
       "17921               {запечатува}   {запечатывать, опечатывать}   \n",
       "\n",
       "                                     bg_set  \n",
       "5                               {абдикирам}  \n",
       "16                               {абонирам}  \n",
       "28                             {абсорбирам}  \n",
       "29                      {абстрахирам се от}  \n",
       "43                   {адаптирам, пригаждам}  \n",
       "...                                     ...  \n",
       "17905                                {жужа}  \n",
       "17913     {!разпечатам, отпечатам (отворя)}  \n",
       "17914  {!разпечатвам, отпечатвам (отварям)}  \n",
       "17917                            {!смогвам}  \n",
       "17921                         {!запечатвам}  \n",
       "\n",
       "[4985 rows x 43 columns]"
      ]
     },
     "execution_count": 167,
     "metadata": {},
     "output_type": "execute_result"
    }
   ],
   "source": [
    "all_verbs"
   ]
  },
  {
   "cell_type": "code",
   "execution_count": 163,
   "id": "ef42fb32",
   "metadata": {},
   "outputs": [
    {
     "data": {
      "text/plain": [
       "True"
      ]
     },
     "execution_count": 163,
     "metadata": {},
     "output_type": "execute_result"
    }
   ],
   "source": [
    "\"de\" in all_verbs['isv'].str[:2].unique()"
   ]
  },
  {
   "cell_type": "code",
   "execution_count": 197,
   "id": "b53baa23",
   "metadata": {},
   "outputs": [],
   "source": [
    "possible_prefixes = {\n",
    "    \"ne\", \"bez\", \"naj\",\n",
    "    \"do\", \"iz\", \"na\", \"nad\", \"nedo\", \"o\", \"ob\", \"ob\", \"obez\", \"od\", \"po\", \"pod\", \n",
    "    \"prě\", \"prěd\", \"pri\", \"pro\", \n",
    "    \"raz\", \"råz\",\n",
    "    \"de\", \n",
    "    \"s\", \"so\", \"sȯ\",\n",
    "    \"su\", \"sų\", \"u\", \"v\", \n",
    "    \"vo\", \"voz\", \"vȯz\", \"vȯ\",\n",
    "    \"vy\", \"za\"\n",
    "}"
   ]
  },
  {
   "cell_type": "code",
   "execution_count": 199,
   "id": "5923af2b",
   "metadata": {},
   "outputs": [
    {
     "data": {
      "text/html": [
       "<div>\n",
       "<style scoped>\n",
       "    .dataframe tbody tr th:only-of-type {\n",
       "        vertical-align: middle;\n",
       "    }\n",
       "\n",
       "    .dataframe tbody tr th {\n",
       "        vertical-align: top;\n",
       "    }\n",
       "\n",
       "    .dataframe thead th {\n",
       "        text-align: right;\n",
       "    }\n",
       "</style>\n",
       "<table border=\"1\" class=\"dataframe\">\n",
       "  <thead>\n",
       "    <tr style=\"text-align: right;\">\n",
       "      <th></th>\n",
       "      <th>isv</th>\n",
       "      <th>partOfSpeech</th>\n",
       "      <th>en</th>\n",
       "    </tr>\n",
       "  </thead>\n",
       "  <tbody>\n",
       "    <tr>\n",
       "      <th>3695</th>\n",
       "      <td>iměti, imati</td>\n",
       "      <td>v.aux. ipf.</td>\n",
       "      <td>must, have to</td>\n",
       "    </tr>\n",
       "    <tr>\n",
       "      <th>3696</th>\n",
       "      <td>iměti, imati</td>\n",
       "      <td>v.tr. ipf.</td>\n",
       "      <td>have, possess, own</td>\n",
       "    </tr>\n",
       "    <tr>\n",
       "      <th>4473</th>\n",
       "      <td>je, jest</td>\n",
       "      <td>v.ipf.</td>\n",
       "      <td>there is</td>\n",
       "    </tr>\n",
       "    <tr>\n",
       "      <th>5287</th>\n",
       "      <td>kopijovati, kopirovati</td>\n",
       "      <td>v.tr. ipf.</td>\n",
       "      <td>copy</td>\n",
       "    </tr>\n",
       "    <tr>\n",
       "      <th>7618</th>\n",
       "      <td>ne sȯglasiti sę, ne sųglasiti sę</td>\n",
       "      <td>v.refl. pf.</td>\n",
       "      <td>disagree, dissent</td>\n",
       "    </tr>\n",
       "    <tr>\n",
       "      <th>7619</th>\n",
       "      <td>ne sȯglašati sę, ne sųglašati sę</td>\n",
       "      <td>v.refl. ipf.</td>\n",
       "      <td>disagree, dissent</td>\n",
       "    </tr>\n",
       "    <tr>\n",
       "      <th>9155</th>\n",
       "      <td>ogluhnųti, oglušeti</td>\n",
       "      <td>v.intr. pf.</td>\n",
       "      <td>become deaf</td>\n",
       "    </tr>\n",
       "    <tr>\n",
       "      <th>14068</th>\n",
       "      <td>sȯglåsiti sę, sųglåsiti sę</td>\n",
       "      <td>v.refl. ipf.</td>\n",
       "      <td>agree, consent, concur</td>\n",
       "    </tr>\n",
       "    <tr>\n",
       "      <th>14074</th>\n",
       "      <td>sȯglašati sę, sųglašati sę</td>\n",
       "      <td>v.refl. ipf.</td>\n",
       "      <td>agree, consent, concur</td>\n",
       "    </tr>\n",
       "    <tr>\n",
       "      <th>14113</th>\n",
       "      <td>sȯočati sę s, sųočati sę s</td>\n",
       "      <td>v.refl. ipf.</td>\n",
       "      <td>face, deal with</td>\n",
       "    </tr>\n",
       "    <tr>\n",
       "      <th>14114</th>\n",
       "      <td>sȯočiti sę s, sųočiti sę s</td>\n",
       "      <td>v.refl. ipf.</td>\n",
       "      <td>face, deal with</td>\n",
       "    </tr>\n",
       "    <tr>\n",
       "      <th>16483</th>\n",
       "      <td>vladati, vlåděti</td>\n",
       "      <td>v.intr. ipf.</td>\n",
       "      <td>reign, rule</td>\n",
       "    </tr>\n",
       "    <tr>\n",
       "      <th>16484</th>\n",
       "      <td>vladati, vlåděti</td>\n",
       "      <td>v.intr. ipf.</td>\n",
       "      <td>govern, control, manage, be in control of</td>\n",
       "    </tr>\n",
       "    <tr>\n",
       "      <th>16485</th>\n",
       "      <td>vladati, vlåděti</td>\n",
       "      <td>v.intr. ipf.</td>\n",
       "      <td>wield, master, be skillful at, be able to use</td>\n",
       "    </tr>\n",
       "    <tr>\n",
       "      <th>16486</th>\n",
       "      <td>vladati, vlåděti</td>\n",
       "      <td>v.intr. ipf.</td>\n",
       "      <td>#be proficient in</td>\n",
       "    </tr>\n",
       "    <tr>\n",
       "      <th>16487</th>\n",
       "      <td>vladati, vlåděti</td>\n",
       "      <td>v.intr. ipf.</td>\n",
       "      <td>prevail</td>\n",
       "    </tr>\n",
       "    <tr>\n",
       "      <th>16488</th>\n",
       "      <td>vladati, vlåděti</td>\n",
       "      <td>v.intr. ipf.</td>\n",
       "      <td>dominate, be prevalent</td>\n",
       "    </tr>\n",
       "    <tr>\n",
       "      <th>16489</th>\n",
       "      <td>vladati, vlåděti</td>\n",
       "      <td>v.intr. ipf.</td>\n",
       "      <td>own, possess</td>\n",
       "    </tr>\n",
       "    <tr>\n",
       "      <th>16490</th>\n",
       "      <td>vladati, vlåděti</td>\n",
       "      <td>v.intr. ipf.</td>\n",
       "      <td>#be master of, be in possession of</td>\n",
       "    </tr>\n",
       "  </tbody>\n",
       "</table>\n",
       "</div>"
      ],
      "text/plain": [
       "                                    isv  partOfSpeech  \\\n",
       "3695                       iměti, imati   v.aux. ipf.   \n",
       "3696                       iměti, imati    v.tr. ipf.   \n",
       "4473                           je, jest        v.ipf.   \n",
       "5287             kopijovati, kopirovati    v.tr. ipf.   \n",
       "7618   ne sȯglasiti sę, ne sųglasiti sę   v.refl. pf.   \n",
       "7619   ne sȯglašati sę, ne sųglašati sę  v.refl. ipf.   \n",
       "9155                ogluhnųti, oglušeti   v.intr. pf.   \n",
       "14068        sȯglåsiti sę, sųglåsiti sę  v.refl. ipf.   \n",
       "14074        sȯglašati sę, sųglašati sę  v.refl. ipf.   \n",
       "14113        sȯočati sę s, sųočati sę s  v.refl. ipf.   \n",
       "14114        sȯočiti sę s, sųočiti sę s  v.refl. ipf.   \n",
       "16483                  vladati, vlåděti  v.intr. ipf.   \n",
       "16484                  vladati, vlåděti  v.intr. ipf.   \n",
       "16485                  vladati, vlåděti  v.intr. ipf.   \n",
       "16486                  vladati, vlåděti  v.intr. ipf.   \n",
       "16487                  vladati, vlåděti  v.intr. ipf.   \n",
       "16488                  vladati, vlåděti  v.intr. ipf.   \n",
       "16489                  vladati, vlåděti  v.intr. ipf.   \n",
       "16490                  vladati, vlåděti  v.intr. ipf.   \n",
       "\n",
       "                                                  en  \n",
       "3695                                   must, have to  \n",
       "3696                              have, possess, own  \n",
       "4473                                        there is  \n",
       "5287                                            copy  \n",
       "7618                               disagree, dissent  \n",
       "7619                               disagree, dissent  \n",
       "9155                                     become deaf  \n",
       "14068                         agree, consent, concur  \n",
       "14074                         agree, consent, concur  \n",
       "14113                                face, deal with  \n",
       "14114                                face, deal with  \n",
       "16483                                    reign, rule  \n",
       "16484      govern, control, manage, be in control of  \n",
       "16485  wield, master, be skillful at, be able to use  \n",
       "16486                              #be proficient in  \n",
       "16487                                        prevail  \n",
       "16488                         dominate, be prevalent  \n",
       "16489                                   own, possess  \n",
       "16490             #be master of, be in possession of  "
      ]
     },
     "execution_count": 199,
     "metadata": {},
     "output_type": "execute_result"
    }
   ],
   "source": [
    "res = all_verbs.query(f\"isv.str.contains(',')\", engine=\"python\")[[\"isv\", \"partOfSpeech\", \"en\"]]\n",
    "res"
   ]
  },
  {
   "cell_type": "code",
   "execution_count": 181,
   "id": "df5c47d1",
   "metadata": {},
   "outputs": [],
   "source": [
    "#all_verbs['prefix'] = \"?\"\n",
    "#all_verbs['verb_stem'] = \"?\""
   ]
  },
  {
   "cell_type": "code",
   "execution_count": 227,
   "id": "68fe07c7",
   "metadata": {},
   "outputs": [
    {
     "name": "stdout",
     "output_type": "stream",
     "text": [
      "od (304, 45)\n",
      "                         isv  partOfSpeech\n",
      "8706          odbačati vlěvo  v.intr. ipf.\n",
      "8707  odbačati vpravo/vdesno  v.intr. ipf.\n",
      "8708                odběgati  v.intr. ipf.\n",
      "8709                 odběgti   v.intr. pf.\n",
      "8710                odbirati    v.tr. ipf.\n",
      "råz (0, 45)\n",
      "Empty DataFrame\n",
      "Columns: [isv, partOfSpeech]\n",
      "Index: []\n",
      "de (0, 45)\n",
      "Empty DataFrame\n",
      "Columns: [isv, partOfSpeech]\n",
      "Index: []\n",
      "sȯ (0, 45)\n",
      "Empty DataFrame\n",
      "Columns: [isv, partOfSpeech]\n",
      "Index: []\n",
      "so (0, 45)\n",
      "Empty DataFrame\n",
      "Columns: [isv, partOfSpeech]\n",
      "Index: []\n",
      "v (154, 45)\n",
      "              isv  partOfSpeech\n",
      "16060      vabiti    v.tr. ipf.\n",
      "16064   vagati sę  v.refl. ipf.\n",
      "16070      vajati    v.tr. ipf.\n",
      "16086      valiti    v.tr. ipf.\n",
      "16087  valjati sę  v.refl. ipf.\n",
      "po (327, 45)\n",
      "                 isv  partOfSpeech\n",
      "10286       poběditi   v.intr. pf.\n",
      "10287       poběđati  v.intr. ipf.\n",
      "10288        poběgti   v.intr. pf.\n",
      "10289         pobiti   v.intr. pf.\n",
      "10292  poblågodariti     v.tr. pf.\n",
      "ob (238, 45)\n",
      "             isv  partOfSpeech\n",
      "8267    obagriti     v.tr. pf.\n",
      "8272    občiti s        v.ipf.\n",
      "8273      občiti  v.intr. ipf.\n",
      "8276  občudovati    v.tr. ipf.\n",
      "8277    obdariti     v.tr. pf.\n",
      "raz (1, 45)\n",
      "          isv partOfSpeech\n",
      "12589  raziti   v.tr. ipf.\n",
      "vy (0, 45)\n",
      "Empty DataFrame\n",
      "Columns: [isv, partOfSpeech]\n",
      "Index: []\n",
      "ne (15, 45)\n",
      "                 isv partOfSpeech\n",
      "7614      ne ljubiti   v.tr. ipf.\n",
      "7615    ne poslušati    v.tr. pf.\n",
      "7617      ne slušati   v.tr. ipf.\n",
      "7668    nedoråzuměti    v.tr. pf.\n",
      "7669  nedoråzuměvati   v.tr. ipf.\n",
      "nad (19, 45)\n",
      "              isv  partOfSpeech\n",
      "7095       nadati     v.tr. pf.\n",
      "7096     nadavati    v.tr. ipf.\n",
      "7098  nadějati sę  v.refl. ipf.\n",
      "7100     nadělati     v.tr. pf.\n",
      "7101       naděti     v.tr. pf.\n",
      "prě (197, 45)\n",
      "                 isv  partOfSpeech\n",
      "11229  prěadresovati     v.tr. pf.\n",
      "11232    prěbudovati     v.tr. pf.\n",
      "11233  prěbudovyvati    v.tr. ipf.\n",
      "11235      prěbyvati  v.intr. ipf.\n",
      "11237      prěcěniti     v.tr. pf.\n",
      "pri (148, 45)\n",
      "                 isv  partOfSpeech\n",
      "11652        pribiti     v.tr. pf.\n",
      "11653      pribivati    v.tr. ipf.\n",
      "11655  približati sę  v.refl. ipf.\n",
      "11657  približiti sę   v.refl. pf.\n",
      "11660        pribyti   v.intr. pf.\n",
      "obez (0, 45)\n",
      "Empty DataFrame\n",
      "Columns: [isv, partOfSpeech]\n",
      "Index: []\n",
      "sų (20, 45)\n",
      "                   isv  partOfSpeech\n",
      "14619           sųditi    v.tr. ipf.\n",
      "14620           sųditi    v.tr. ipf.\n",
      "14628  sųharmonizovati   v.intr. pf.\n",
      "14641     sųmněvati sę  v.refl. ipf.\n",
      "14646      sųmŕkati sę  v.refl. ipf.\n",
      "do (105, 45)\n",
      "                 isv  partOfSpeech\n",
      "1983        dobaviti     v.tr. pf.\n",
      "1984       dobavjati    v.tr. ipf.\n",
      "1985     doběgati do  v.intr. ipf.\n",
      "1988         dobrěti  v.intr. ipf.\n",
      "2013  dobyti ponovno     v.tr. pf.\n",
      "voz (0, 45)\n",
      "Empty DataFrame\n",
      "Columns: [isv, partOfSpeech]\n",
      "Index: []\n",
      "iz (315, 45)\n",
      "               isv  partOfSpeech\n",
      "3900   izbaviti sę   v.refl. pf.\n",
      "3901      izbaviti     v.tr. pf.\n",
      "3902      izbaviti     v.tr. pf.\n",
      "3903  izbavjati sę  v.refl. ipf.\n",
      "3904     izbavjati    v.tr. ipf.\n",
      "vȯ (0, 45)\n",
      "Empty DataFrame\n",
      "Columns: [isv, partOfSpeech]\n",
      "Index: []\n",
      "na (266, 45)\n",
      "              isv partOfSpeech\n",
      "7050     nabajati  v.intr. pf.\n",
      "7051     nabajati  v.intr. pf.\n",
      "7053  naběgati sę  v.refl. pf.\n",
      "7054     nabirati   v.tr. ipf.\n",
      "7055       nabiti    v.tr. pf.\n",
      "u (250, 45)\n",
      "              isv  partOfSpeech\n",
      "15542  uběditi sę   v.refl. pf.\n",
      "15543     uběditi     v.tr. pf.\n",
      "15546  uběđati sę  v.refl. ipf.\n",
      "15547     uběđati    v.tr. ipf.\n",
      "15551     uběgati  v.intr. ipf.\n",
      "za (266, 45)\n",
      "                  isv partOfSpeech\n",
      "17066  zabarikadovati    v.tr. pf.\n",
      "17070        zabaviti    v.tr. pf.\n",
      "17071       zabavjati   v.tr. ipf.\n",
      "17075   zabezpamęćati   v.tr. ipf.\n",
      "17076   zabezpamętiti    v.tr. pf.\n",
      "vo (7, 45)\n",
      "            isv  partOfSpeech\n",
      "16566  voditi k        v.ipf.\n",
      "16567    voditi    v.tr. ipf.\n",
      "16600  vojevati  v.intr. ipf.\n",
      "16621    volěti    v.tr. ipf.\n",
      "16645   vonjati  v.intr. ipf.\n",
      "naj (9, 45)\n",
      "              isv  partOfSpeech\n",
      "7187       najdti     v.tr. pf.\n",
      "7188  najedati sę  v.refl. ipf.\n",
      "7195   najesti sę   v.refl. pf.\n",
      "7196       najęti     v.tr. pf.\n",
      "7197       najęti     v.tr. pf.\n",
      "su (4, 45)\n",
      "             isv  partOfSpeech\n",
      "14648     sunųti     v.tr. pf.\n",
      "14677  surfovati  v.intr. ipf.\n",
      "14699     sušiti    v.tr. ipf.\n",
      "14708     suvati    v.tr. ipf.\n",
      "bez (2, 45)\n",
      "                isv  partOfSpeech\n",
      "784  bezpokojiti sę  v.refl. ipf.\n",
      "785     bezpokojiti    v.tr. ipf.\n",
      "vȯz (0, 45)\n",
      "Empty DataFrame\n",
      "Columns: [isv, partOfSpeech]\n",
      "Index: []\n",
      "pod (86, 45)\n",
      "                           isv partOfSpeech\n",
      "10327                 podariti    v.tr. pf.\n",
      "10329                   podati    v.tr. pf.\n",
      "10331  podavati parų prikladov       v.ipf.\n",
      "10332                 podavati   v.tr. ipf.\n",
      "10333                podbirati   v.tr. ipf.\n",
      "nedo (3, 45)\n",
      "                 isv  partOfSpeech\n",
      "7668    nedoråzuměti     v.tr. pf.\n",
      "7669  nedoråzuměvati    v.tr. ipf.\n",
      "7678     nedostavati  v.intr. ipf.\n",
      "o (878, 45)\n",
      "             isv  partOfSpeech\n",
      "8267    obagriti     v.tr. pf.\n",
      "8272    občiti s        v.ipf.\n",
      "8273      občiti  v.intr. ipf.\n",
      "8276  občudovati    v.tr. ipf.\n",
      "8277    obdariti     v.tr. pf.\n",
      "pro (121, 45)\n",
      "                   isv  partOfSpeech\n",
      "11950     probijati sę  v.refl. ipf.\n",
      "11951       probiti sę   v.refl. pf.\n",
      "11952          probiti     v.tr. pf.\n",
      "11953        probivati    v.tr. ipf.\n",
      "11960  probovati snova    v.tr. ipf.\n",
      "prěd (44, 45)\n",
      "             isv partOfSpeech\n",
      "11252    prědati    v.tr. pf.\n",
      "11253    prědati    v.tr. pf.\n",
      "11254    prědati    v.tr. pf.\n",
      "11256  prědavati   v.tr. ipf.\n",
      "11257  prědavati   v.tr. ipf.\n",
      "s (343, 45)\n",
      "              isv  partOfSpeech\n",
      "13330      saditi    v.tr. ipf.\n",
      "13382   samoubiti   v.intr. pf.\n",
      "13410  sběgati sę  v.refl. ipf.\n",
      "13411   sběgti sę   v.refl. pf.\n",
      "13413  sbirati sę  v.refl. ipf.\n"
     ]
    }
   ],
   "source": [
    "sizes = {}\n",
    "for pref in possible_prefixes:\n",
    "    res = all_verbs.query(\n",
    "        f\"isv.str.startswith('{pref}') and prefix.str.startswith('?') and not isv.str.contains(',')\", \n",
    "        engine=\"python\"\n",
    "    )\n",
    "    print(pref, res.shape)\n",
    "    sizes[pref] = len(res)\n",
    "    print(res[['isv', 'partOfSpeech']].head(5))\n"
   ]
  },
  {
   "cell_type": "code",
   "execution_count": 228,
   "id": "a1b54e75",
   "metadata": {},
   "outputs": [
    {
     "name": "stdout",
     "output_type": "stream",
     "text": [
      "4122\n"
     ]
    },
    {
     "data": {
      "text/plain": [
       "{'od': 304,\n",
       " 'råz': 0,\n",
       " 'de': 0,\n",
       " 'sȯ': 0,\n",
       " 'so': 0,\n",
       " 'v': 154,\n",
       " 'po': 327,\n",
       " 'ob': 238,\n",
       " 'raz': 1,\n",
       " 'vy': 0,\n",
       " 'ne': 15,\n",
       " 'nad': 19,\n",
       " 'prě': 197,\n",
       " 'pri': 148,\n",
       " 'obez': 0,\n",
       " 'sų': 20,\n",
       " 'do': 105,\n",
       " 'voz': 0,\n",
       " 'iz': 315,\n",
       " 'vȯ': 0,\n",
       " 'na': 266,\n",
       " 'u': 250,\n",
       " 'za': 266,\n",
       " 'vo': 7,\n",
       " 'naj': 9,\n",
       " 'su': 4,\n",
       " 'bez': 2,\n",
       " 'vȯz': 0,\n",
       " 'pod': 86,\n",
       " 'nedo': 3,\n",
       " 'o': 878,\n",
       " 'pro': 121,\n",
       " 'prěd': 44,\n",
       " 's': 343}"
      ]
     },
     "execution_count": 228,
     "metadata": {},
     "output_type": "execute_result"
    }
   ],
   "source": [
    "print(sum(sizes.values()))\n",
    "sizes"
   ]
  },
  {
   "cell_type": "code",
   "execution_count": 230,
   "id": "6560b5f3",
   "metadata": {},
   "outputs": [
    {
     "data": {
      "text/plain": [
       "(4482, 2745)"
      ]
     },
     "execution_count": 230,
     "metadata": {},
     "output_type": "execute_result"
    }
   ],
   "source": [
    "len(all_verbs.isv.unique()), len(all_verbs.en.unique())"
   ]
  },
  {
   "cell_type": "code",
   "execution_count": 235,
   "id": "2f59bb69",
   "metadata": {},
   "outputs": [],
   "source": [
    "all_verbs.to_pickle(\"partial_verb_prefixes.pkl\")"
   ]
  },
  {
   "cell_type": "code",
   "execution_count": 239,
   "id": "79e80c75",
   "metadata": {},
   "outputs": [
    {
     "data": {
      "text/plain": [
       "'nutiati'"
      ]
     },
     "execution_count": 239,
     "metadata": {},
     "output_type": "execute_result"
    }
   ],
   "source": [
    "'ěti' 'nųti'\n",
    "\n",
    "\n",
    "'ati' 'yvati' 'ivati'\n",
    "'iti' 'jati'\n",
    "# obnoviti „to renew” > obnavjati\n",
    "\n",
    "'nuti' 'ati'\n",
    "# if the verb is monosyllabic and ending in a vowel, the imperfective verb has -vati:\n",
    "# prodati „to sell” > prodavati\n"
   ]
  },
  {
   "cell_type": "code",
   "execution_count": 6,
   "id": "174dad23",
   "metadata": {},
   "outputs": [
    {
     "data": {
      "text/plain": [
       "<function conllu.parser.parse_dict_value(value: str) -> Union[Dict[str, Union[str, NoneType]], NoneType]>"
      ]
     },
     "execution_count": 6,
     "metadata": {},
     "output_type": "execute_result"
    }
   ],
   "source": [
    "from conllu.parser import parse_dict_value\n",
    "\n",
    "parse_dict_value(\"\")"
   ]
  },
  {
   "cell_type": "code",
   "execution_count": null,
   "id": "0a7e3271",
   "metadata": {},
   "outputs": [],
   "source": []
  },
  {
   "cell_type": "code",
   "execution_count": 240,
   "id": "7e9e37a6",
   "metadata": {},
   "outputs": [
    {
     "name": "stdout",
     "output_type": "stream",
     "text": [
      "['abdikovati' 'odkazati sę' 'odkazyvati sę']\n",
      "['absorbovati' 'vpiti' 'vpivati']\n",
      "['akumulovati' 'gromaditi' 'nagromaditi' 'nagromađati']\n",
      "['amputovati' 'odimati' 'odjęti']\n",
      "['aplodovati' 'dodati' 'dodavati']\n",
      "['avansovati' 'idti vprěd']\n",
      "['bajati' 'nabajati']\n",
      "['bajati' 'nabajati']\n",
      "['barikadovati' 'zabarikadovati']\n",
      "['běgati' 'běgti' 'poběgti']\n",
      "['bělěti' 'obělěti']\n",
      "['bezpokojiti sę' 'nepokojiti sę']\n",
      "['bezpokojiti' 'obezpokojiti']\n",
      "['biti' 'pobiti']\n",
      "['blågodariti' 'dękovati' 'poblågodariti' 'podękovati']\n",
      "['blågoslavjati' 'blågosloviti']\n",
      "['blågoželati' 'čestitati' 'poblågoželati']\n",
      "['blazniti sę' 'blaznovati']\n",
      "['blejati' 'mekati']\n",
      "['blěskati' 'blěsknųti']\n",
      "['blěstěti' 'leskati' 'lesknųti']\n",
      "['bližiti sę' 'podhoditi (k)' 'podȯjdti (k)' 'podstųpati k' 'podstųpiti k']\n",
      "['bljunųti' 'bljuvati' 'izbljuvati']\n",
      "['blokovati' 'zablokovati']\n",
      "['bodati sę' 'bodnųti sę' 'bosti sę']\n",
      "['bodati' 'bodnųti' 'bosti']\n",
      "['bolěti' 'hvorěti']\n",
      "['bolěti' 'zabolěti']\n",
      "['bråniti' 'obråniti' 'obranjati']\n",
      "['brati' 'jęti' 'vzęti']\n",
      "['bråzditi' 'hmuriti' 'nahmuriti']\n",
      "['breknųti' 'nabreknųti']\n",
      "['briti sę' 'briti' 'goliti sę' 'goliti' 'obriti sę' 'obriti' 'ogoliti sę'\n",
      " 'ogoliti']\n",
      "['brusiti' 'mlěti' 'råzmlěti' 'smlěti']\n",
      "['bryzgati' 'bryzgnųti']\n",
      "['buditi sę' 'probuditi sę']\n",
      "['buditi' 'råzbuditi']\n",
      "['budovati' 'izbudovati' 'sbudovati']\n",
      "['buhnųti' 'prskati' 'prsknųti']\n",
      "['byti sȯglåsny' 'dogovarjati sę' 'dogovoriti sę']\n",
      "['byvati' 'dějati sę' 'dogoditi sę' 'slučati sę' 'slučiti sę' 'stati sę']\n",
      "['bzděti' 'bzdnųti' 'nabzděti' 'pŕděti']\n",
      "['cěliti' 'měriti' 'pricěliti']\n",
      "['cělovati' 'pocělovati']\n",
      "['cmokati' 'mljaskati']\n",
      "['cvěsti' 'cvětati' 'cvětnųti']\n",
      "['čaditi' 'načaditi']\n",
      "['činiti' 'učiniti']\n",
      "['čisliti' 'sčisliti' 'sčitati' 'sčityvati']\n",
      "['čistiti' 'izčistiti']\n",
      "['čitati' 'pročitati']\n"
     ]
    },
    {
     "data": {
      "text/plain": [
       "1682"
      ]
     },
     "execution_count": 240,
     "metadata": {},
     "output_type": "execute_result"
    }
   ],
   "source": [
    "num_doubles = 0\n",
    "i = 0\n",
    "for en_trans in all_verbs.en.unique():\n",
    "    res = all_verbs.query(\n",
    "        f\"en == '{en_trans}'\", \n",
    "    engine=\"python\")\n",
    "    if len(res) == 1:\n",
    "        continue\n",
    "\n",
    "    if i <= 50:\n",
    "        # break\n",
    "        print(res.isv.values)\n",
    "    i += 1\n",
    "i"
   ]
  },
  {
   "cell_type": "code",
   "execution_count": null,
   "id": "9a61dbe2",
   "metadata": {},
   "outputs": [],
   "source": [
    "# чота типа\n",
    "# взять префикс\n",
    "# взять все англопереводы\n",
    "# посмотреть дублирующиесся записи\n",
    "# если есть запись без такого префикса\n",
    "# то какое-то условие на окончание\n",
    "# надо додумать\n",
    "# и тогда можно автовыставить стем этим двум словам"
   ]
  },
  {
   "cell_type": "code",
   "execution_count": null,
   "id": "2942cddf",
   "metadata": {},
   "outputs": [],
   "source": [
    "# функция \n",
    "# is_same_nest(first_row, second_row):"
   ]
  },
  {
   "cell_type": "code",
   "execution_count": 226,
   "id": "7e420c77",
   "metadata": {},
   "outputs": [
    {
     "data": {
      "text/html": [
       "<div>\n",
       "<style scoped>\n",
       "    .dataframe tbody tr th:only-of-type {\n",
       "        vertical-align: middle;\n",
       "    }\n",
       "\n",
       "    .dataframe tbody tr th {\n",
       "        vertical-align: top;\n",
       "    }\n",
       "\n",
       "    .dataframe thead th {\n",
       "        text-align: right;\n",
       "    }\n",
       "</style>\n",
       "<table border=\"1\" class=\"dataframe\">\n",
       "  <thead>\n",
       "    <tr style=\"text-align: right;\">\n",
       "      <th></th>\n",
       "      <th>id</th>\n",
       "      <th>isv</th>\n",
       "      <th>addition</th>\n",
       "      <th>partOfSpeech</th>\n",
       "      <th>type</th>\n",
       "      <th>en</th>\n",
       "      <th>sameInLanguages</th>\n",
       "      <th>genesis</th>\n",
       "      <th>ru</th>\n",
       "      <th>be</th>\n",
       "      <th>...</th>\n",
       "      <th>en_set</th>\n",
       "      <th>de_set</th>\n",
       "      <th>uk_set</th>\n",
       "      <th>eo_set</th>\n",
       "      <th>sk_set</th>\n",
       "      <th>mk_set</th>\n",
       "      <th>ru_set</th>\n",
       "      <th>bg_set</th>\n",
       "      <th>prefix</th>\n",
       "      <th>verb_stem</th>\n",
       "    </tr>\n",
       "  </thead>\n",
       "  <tbody>\n",
       "    <tr>\n",
       "      <th>3900</th>\n",
       "      <td>5887</td>\n",
       "      <td>izbaviti sę</td>\n",
       "      <td>(+2)</td>\n",
       "      <td>v.refl. pf.</td>\n",
       "      <td>1</td>\n",
       "      <td>get rid of, remove</td>\n",
       "      <td>NaN</td>\n",
       "      <td>NaN</td>\n",
       "      <td>избавиться</td>\n",
       "      <td>пазбавіцца</td>\n",
       "      <td>...</td>\n",
       "      <td>{remove, get rid of}</td>\n",
       "      <td>{!loszuwerden, entfernen}</td>\n",
       "      <td>{позбутися}</td>\n",
       "      <td>{forigi}</td>\n",
       "      <td>{odstrániť, zbaviť sa}</td>\n",
       "      <td>{ се спаси, се ослободи}</td>\n",
       "      <td>{избавиться}</td>\n",
       "      <td>{отървавам се}</td>\n",
       "      <td>?</td>\n",
       "      <td>?</td>\n",
       "    </tr>\n",
       "    <tr>\n",
       "      <th>3901</th>\n",
       "      <td>17493</td>\n",
       "      <td>izbaviti</td>\n",
       "      <td>NaN</td>\n",
       "      <td>v.tr. pf.</td>\n",
       "      <td>1</td>\n",
       "      <td>rescue, deliver</td>\n",
       "      <td>NaN</td>\n",
       "      <td>NaN</td>\n",
       "      <td>спасти, освободить</td>\n",
       "      <td>выратаваць, вызваліць</td>\n",
       "      <td>...</td>\n",
       "      <td>{deliver, rescue}</td>\n",
       "      <td>{liefern, !Rettung}</td>\n",
       "      <td>{звільнити, врятувати}</td>\n",
       "      <td>{!savi, savu}</td>\n",
       "      <td>{spasiť, oslobodiť}</td>\n",
       "      <td>{избави, спаси}</td>\n",
       "      <td>{освободить, спасти}</td>\n",
       "      <td>{избавям се}</td>\n",
       "      <td>?</td>\n",
       "      <td>?</td>\n",
       "    </tr>\n",
       "    <tr>\n",
       "      <th>3902</th>\n",
       "      <td>17495</td>\n",
       "      <td>izbaviti</td>\n",
       "      <td>(+2)</td>\n",
       "      <td>v.tr. pf.</td>\n",
       "      <td>1</td>\n",
       "      <td>rid of, relieve of</td>\n",
       "      <td>NaN</td>\n",
       "      <td>NaN</td>\n",
       "      <td>избавить</td>\n",
       "      <td>пазбавіць</td>\n",
       "      <td>...</td>\n",
       "      <td>{relieve of, rid of}</td>\n",
       "      <td>{!loszuwerden, entlasten}</td>\n",
       "      <td>{позбавити}</td>\n",
       "      <td>{helpu de, !forigi}</td>\n",
       "      <td>{zbaviť}</td>\n",
       "      <td>{избави, ослободи}</td>\n",
       "      <td>{избавить}</td>\n",
       "      <td>{отървавам}</td>\n",
       "      <td>?</td>\n",
       "      <td>?</td>\n",
       "    </tr>\n",
       "    <tr>\n",
       "      <th>3903</th>\n",
       "      <td>5888</td>\n",
       "      <td>izbavjati sę</td>\n",
       "      <td>(+2)</td>\n",
       "      <td>v.refl. ipf.</td>\n",
       "      <td>1</td>\n",
       "      <td>get rid of, remove</td>\n",
       "      <td>NaN</td>\n",
       "      <td>NaN</td>\n",
       "      <td>избавляться</td>\n",
       "      <td>пазбаўляцца</td>\n",
       "      <td>...</td>\n",
       "      <td>{remove, get rid of}</td>\n",
       "      <td>{!loszuwerden, entfernen}</td>\n",
       "      <td>{звільнятися від, позбавлятися}</td>\n",
       "      <td>{forigi}</td>\n",
       "      <td>{zbavovať sa, odstraňovať}</td>\n",
       "      <td>{се спаси, се избави, се ослободи}</td>\n",
       "      <td>{избавляться}</td>\n",
       "      <td>{избавям се}</td>\n",
       "      <td>?</td>\n",
       "      <td>?</td>\n",
       "    </tr>\n",
       "    <tr>\n",
       "      <th>3904</th>\n",
       "      <td>17497</td>\n",
       "      <td>izbavjati</td>\n",
       "      <td>NaN</td>\n",
       "      <td>v.tr. ipf.</td>\n",
       "      <td>1</td>\n",
       "      <td>rescue, deliver</td>\n",
       "      <td>NaN</td>\n",
       "      <td>NaN</td>\n",
       "      <td>спасать, освобождать</td>\n",
       "      <td>ратаваць, вызваляць</td>\n",
       "      <td>...</td>\n",
       "      <td>{deliver, rescue}</td>\n",
       "      <td>{liefern, !Rettung}</td>\n",
       "      <td>{звільнити, врятувати}</td>\n",
       "      <td>{!savi, savu}</td>\n",
       "      <td>{oslobodzovať, zachraňovať}</td>\n",
       "      <td>{спасува, ослободува}</td>\n",
       "      <td>{спасать, освобождать}</td>\n",
       "      <td>{спасявам}</td>\n",
       "      <td>?</td>\n",
       "      <td>?</td>\n",
       "    </tr>\n",
       "    <tr>\n",
       "      <th>...</th>\n",
       "      <td>...</td>\n",
       "      <td>...</td>\n",
       "      <td>...</td>\n",
       "      <td>...</td>\n",
       "      <td>...</td>\n",
       "      <td>...</td>\n",
       "      <td>...</td>\n",
       "      <td>...</td>\n",
       "      <td>...</td>\n",
       "      <td>...</td>\n",
       "      <td>...</td>\n",
       "      <td>...</td>\n",
       "      <td>...</td>\n",
       "      <td>...</td>\n",
       "      <td>...</td>\n",
       "      <td>...</td>\n",
       "      <td>...</td>\n",
       "      <td>...</td>\n",
       "      <td>...</td>\n",
       "      <td>...</td>\n",
       "      <td>...</td>\n",
       "    </tr>\n",
       "    <tr>\n",
       "      <th>4389</th>\n",
       "      <td>5858</td>\n",
       "      <td>izznačati</td>\n",
       "      <td>NaN</td>\n",
       "      <td>v.tr. ipf.</td>\n",
       "      <td>1</td>\n",
       "      <td>define, mark out</td>\n",
       "      <td>NaN</td>\n",
       "      <td>NaN</td>\n",
       "      <td>определять, обозначать, отмечать</td>\n",
       "      <td>вызначаць, пазначаць, адзначаць</td>\n",
       "      <td>...</td>\n",
       "      <td>{define, mark out}</td>\n",
       "      <td>{!definieren, abstecken}</td>\n",
       "      <td>{визначати, позначати}</td>\n",
       "      <td>{atentu eksteren, !difini}</td>\n",
       "      <td>{definovať, vyznačovať, označovať}</td>\n",
       "      <td>{означува, објаснува, дефинира}</td>\n",
       "      <td>{обозначать, определять, отмечать}</td>\n",
       "      <td>{определям, маркирам}</td>\n",
       "      <td>?</td>\n",
       "      <td>?</td>\n",
       "    </tr>\n",
       "    <tr>\n",
       "      <th>4391</th>\n",
       "      <td>5857</td>\n",
       "      <td>izznačiti</td>\n",
       "      <td>NaN</td>\n",
       "      <td>v.tr. pf.</td>\n",
       "      <td>1</td>\n",
       "      <td>define, mark out</td>\n",
       "      <td>NaN</td>\n",
       "      <td>NaN</td>\n",
       "      <td>определить, обозначить, отметить</td>\n",
       "      <td>вызначыць, пазначыць, адзначыць</td>\n",
       "      <td>...</td>\n",
       "      <td>{define, mark out}</td>\n",
       "      <td>{!definieren, abstecken}</td>\n",
       "      <td>{позначити, визначити}</td>\n",
       "      <td>{atentu eksteren, !difini}</td>\n",
       "      <td>{označiť, vyznačiť, definovať}</td>\n",
       "      <td>{објасни, означи, дефинира}</td>\n",
       "      <td>{отметить, обозначить, определить}</td>\n",
       "      <td>{маркира, определя}</td>\n",
       "      <td>?</td>\n",
       "      <td>?</td>\n",
       "    </tr>\n",
       "    <tr>\n",
       "      <th>4393</th>\n",
       "      <td>6244</td>\n",
       "      <td>izzvati</td>\n",
       "      <td>(izzȯve)</td>\n",
       "      <td>v.tr. pf.</td>\n",
       "      <td>1</td>\n",
       "      <td>challenge, provoke</td>\n",
       "      <td>NaN</td>\n",
       "      <td>NaN</td>\n",
       "      <td>вызвать, спровоцировать</td>\n",
       "      <td>вы́клікаць, справакаваць</td>\n",
       "      <td>...</td>\n",
       "      <td>{provoke, challenge}</td>\n",
       "      <td>{!Herausforderung, provozieren}</td>\n",
       "      <td>{викликати, спровокувати}</td>\n",
       "      <td>{!defio, provoki}</td>\n",
       "      <td>{vyprovokovať, vyzvať}</td>\n",
       "      <td>{предизвика, провоцира}</td>\n",
       "      <td>{спровоцировать, вызвать}</td>\n",
       "      <td>{предизвикам, провокирам}</td>\n",
       "      <td>?</td>\n",
       "      <td>?</td>\n",
       "    </tr>\n",
       "    <tr>\n",
       "      <th>4394</th>\n",
       "      <td>6243</td>\n",
       "      <td>izzyvati</td>\n",
       "      <td>NaN</td>\n",
       "      <td>v.tr. ipf.</td>\n",
       "      <td>1</td>\n",
       "      <td>challenge, provoke</td>\n",
       "      <td>NaN</td>\n",
       "      <td>NaN</td>\n",
       "      <td>вызывать, провоцировать</td>\n",
       "      <td>выкліка́ць, правакаваць</td>\n",
       "      <td>...</td>\n",
       "      <td>{provoke, challenge}</td>\n",
       "      <td>{!Herausforderung, provozieren}</td>\n",
       "      <td>{провокувати, викликати}</td>\n",
       "      <td>{!defio, provoki}</td>\n",
       "      <td>{provokovať, vyzývať}</td>\n",
       "      <td>{провоцира, предизвикува}</td>\n",
       "      <td>{провоцировать, вызывать}</td>\n",
       "      <td>{провокирам, предизвиквам}</td>\n",
       "      <td>?</td>\n",
       "      <td>?</td>\n",
       "    </tr>\n",
       "    <tr>\n",
       "      <th>4395</th>\n",
       "      <td>2932</td>\n",
       "      <td>izžęti</td>\n",
       "      <td>(izžne)</td>\n",
       "      <td>v.tr. pf.</td>\n",
       "      <td>1</td>\n",
       "      <td>reap</td>\n",
       "      <td>NaN</td>\n",
       "      <td>NaN</td>\n",
       "      <td>собрать урожай, сжать (рожь)</td>\n",
       "      <td>збіраць ураджай, збіраць урод, зжаць жыта, паж...</td>\n",
       "      <td>...</td>\n",
       "      <td>{reap}</td>\n",
       "      <td>{!ernten}</td>\n",
       "      <td>{зібрати врожай, зжати, вижати}</td>\n",
       "      <td>{!rikoltos}</td>\n",
       "      <td>{zožať, pozberať, pokosiť}</td>\n",
       "      <td>{ожнее}</td>\n",
       "      <td>{сжать (рожь), собрать урожай}</td>\n",
       "      <td>{ожъна, изжъна}</td>\n",
       "      <td>?</td>\n",
       "      <td>?</td>\n",
       "    </tr>\n",
       "  </tbody>\n",
       "</table>\n",
       "<p>315 rows × 45 columns</p>\n",
       "</div>"
      ],
      "text/plain": [
       "         id           isv  addition  partOfSpeech type                  en  \\\n",
       "3900   5887   izbaviti sę      (+2)   v.refl. pf.    1  get rid of, remove   \n",
       "3901  17493      izbaviti       NaN     v.tr. pf.    1     rescue, deliver   \n",
       "3902  17495      izbaviti      (+2)     v.tr. pf.    1  rid of, relieve of   \n",
       "3903   5888  izbavjati sę      (+2)  v.refl. ipf.    1  get rid of, remove   \n",
       "3904  17497     izbavjati       NaN    v.tr. ipf.    1     rescue, deliver   \n",
       "...     ...           ...       ...           ...  ...                 ...   \n",
       "4389   5858     izznačati       NaN    v.tr. ipf.    1    define, mark out   \n",
       "4391   5857     izznačiti       NaN     v.tr. pf.    1    define, mark out   \n",
       "4393   6244       izzvati  (izzȯve)     v.tr. pf.    1  challenge, provoke   \n",
       "4394   6243      izzyvati       NaN    v.tr. ipf.    1  challenge, provoke   \n",
       "4395   2932        izžęti   (izžne)     v.tr. pf.    1                reap   \n",
       "\n",
       "     sameInLanguages genesis                                ru  \\\n",
       "3900             NaN     NaN                        избавиться   \n",
       "3901             NaN     NaN                спасти, освободить   \n",
       "3902             NaN     NaN                          избавить   \n",
       "3903             NaN     NaN                       избавляться   \n",
       "3904             NaN     NaN              спасать, освобождать   \n",
       "...              ...     ...                               ...   \n",
       "4389             NaN     NaN  определять, обозначать, отмечать   \n",
       "4391             NaN     NaN  определить, обозначить, отметить   \n",
       "4393             NaN     NaN           вызвать, спровоцировать   \n",
       "4394             NaN     NaN           вызывать, провоцировать   \n",
       "4395             NaN     NaN      собрать урожай, сжать (рожь)   \n",
       "\n",
       "                                                     be  ...  \\\n",
       "3900                                         пазбавіцца  ...   \n",
       "3901                              выратаваць, вызваліць  ...   \n",
       "3902                                          пазбавіць  ...   \n",
       "3903                                        пазбаўляцца  ...   \n",
       "3904                                ратаваць, вызваляць  ...   \n",
       "...                                                 ...  ...   \n",
       "4389                    вызначаць, пазначаць, адзначаць  ...   \n",
       "4391                    вызначыць, пазначыць, адзначыць  ...   \n",
       "4393                           вы́клікаць, справакаваць  ...   \n",
       "4394                            выкліка́ць, правакаваць  ...   \n",
       "4395  збіраць ураджай, збіраць урод, зжаць жыта, паж...  ...   \n",
       "\n",
       "                    en_set                           de_set  \\\n",
       "3900  {remove, get rid of}        {!loszuwerden, entfernen}   \n",
       "3901     {deliver, rescue}              {liefern, !Rettung}   \n",
       "3902  {relieve of, rid of}        {!loszuwerden, entlasten}   \n",
       "3903  {remove, get rid of}        {!loszuwerden, entfernen}   \n",
       "3904     {deliver, rescue}              {liefern, !Rettung}   \n",
       "...                    ...                              ...   \n",
       "4389    {define, mark out}         {!definieren, abstecken}   \n",
       "4391    {define, mark out}         {!definieren, abstecken}   \n",
       "4393  {provoke, challenge}  {!Herausforderung, provozieren}   \n",
       "4394  {provoke, challenge}  {!Herausforderung, provozieren}   \n",
       "4395                {reap}                        {!ernten}   \n",
       "\n",
       "                               uk_set                      eo_set  \\\n",
       "3900                      {позбутися}                    {forigi}   \n",
       "3901           {звільнити, врятувати}               {!savi, savu}   \n",
       "3902                      {позбавити}         {helpu de, !forigi}   \n",
       "3903  {звільнятися від, позбавлятися}                    {forigi}   \n",
       "3904           {звільнити, врятувати}               {!savi, savu}   \n",
       "...                               ...                         ...   \n",
       "4389           {визначати, позначати}  {atentu eksteren, !difini}   \n",
       "4391           {позначити, визначити}  {atentu eksteren, !difini}   \n",
       "4393        {викликати, спровокувати}           {!defio, provoki}   \n",
       "4394         {провокувати, викликати}           {!defio, provoki}   \n",
       "4395  {зібрати врожай, зжати, вижати}                 {!rikoltos}   \n",
       "\n",
       "                                  sk_set                              mk_set  \\\n",
       "3900              {odstrániť, zbaviť sa}            { се спаси, се ослободи}   \n",
       "3901                 {spasiť, oslobodiť}                     {избави, спаси}   \n",
       "3902                            {zbaviť}                  {избави, ослободи}   \n",
       "3903          {zbavovať sa, odstraňovať}  {се спаси, се избави, се ослободи}   \n",
       "3904         {oslobodzovať, zachraňovať}               {спасува, ослободува}   \n",
       "...                                  ...                                 ...   \n",
       "4389  {definovať, vyznačovať, označovať}     {означува, објаснува, дефинира}   \n",
       "4391      {označiť, vyznačiť, definovať}         {објасни, означи, дефинира}   \n",
       "4393              {vyprovokovať, vyzvať}             {предизвика, провоцира}   \n",
       "4394               {provokovať, vyzývať}           {провоцира, предизвикува}   \n",
       "4395          {zožať, pozberať, pokosiť}                             {ожнее}   \n",
       "\n",
       "                                  ru_set                      bg_set prefix  \\\n",
       "3900                        {избавиться}              {отървавам се}      ?   \n",
       "3901                {освободить, спасти}                {избавям се}      ?   \n",
       "3902                          {избавить}                 {отървавам}      ?   \n",
       "3903                       {избавляться}                {избавям се}      ?   \n",
       "3904              {спасать, освобождать}                  {спасявам}      ?   \n",
       "...                                  ...                         ...    ...   \n",
       "4389  {обозначать, определять, отмечать}       {определям, маркирам}      ?   \n",
       "4391  {отметить, обозначить, определить}         {маркира, определя}      ?   \n",
       "4393           {спровоцировать, вызвать}   {предизвикам, провокирам}      ?   \n",
       "4394           {провоцировать, вызывать}  {провокирам, предизвиквам}      ?   \n",
       "4395      {сжать (рожь), собрать урожай}             {ожъна, изжъна}      ?   \n",
       "\n",
       "     verb_stem  \n",
       "3900         ?  \n",
       "3901         ?  \n",
       "3902         ?  \n",
       "3903         ?  \n",
       "3904         ?  \n",
       "...        ...  \n",
       "4389         ?  \n",
       "4391         ?  \n",
       "4393         ?  \n",
       "4394         ?  \n",
       "4395         ?  \n",
       "\n",
       "[315 rows x 45 columns]"
      ]
     },
     "execution_count": 226,
     "metadata": {},
     "output_type": "execute_result"
    }
   ],
   "source": [
    "pref = \"iz\"\n",
    "res = all_verbs.query(\n",
    "    f\"isv.str.startswith('{pref}') and prefix.str.startswith('?') and not isv.str.contains(',')\", \n",
    "    engine=\"python\")\n",
    "\n",
    "res"
   ]
  },
  {
   "cell_type": "code",
   "execution_count": 224,
   "id": "1dfcc2b9",
   "metadata": {},
   "outputs": [],
   "source": [
    "add_info(\"\", res.index)\n"
   ]
  },
  {
   "cell_type": "code",
   "execution_count": 213,
   "id": "e2e93be0",
   "metadata": {},
   "outputs": [],
   "source": [
    "res = all_verbs.query(\n",
    "    f\"ru.str.contains('пиха')\", \n",
    "    engine=\"python\")\n",
    "\n",
    "#all_verbs.loc[res.index, 'verb_stem'] = \"phati/pihati\"\n",
    "#all_verbs.loc[res.index, 'prefix'] = ['na’', '’', 'vȯ’', 'v’', 'za’']\n",
    "\n"
   ]
  },
  {
   "cell_type": "code",
   "execution_count": 206,
   "id": "58e54149",
   "metadata": {},
   "outputs": [],
   "source": [
    "INDICES = [i for i in res.index if i not in [16627, 17010]]\n",
    "add_info(pref, INDICES)\n"
   ]
  },
  {
   "cell_type": "code",
   "execution_count": null,
   "id": "bd870a69",
   "metadata": {},
   "outputs": [],
   "source": []
  },
  {
   "cell_type": "code",
   "execution_count": 187,
   "id": "5c9d5291",
   "metadata": {},
   "outputs": [],
   "source": [
    "INDICES = [1717, 1736, 1739, 1806, 1826]\n",
    "add_info(\"de\", INDICES)\n",
    "\n",
    "INDICES = [1875]\n",
    "add_info(\"dez\", INDICES)\n",
    "\n"
   ]
  },
  {
   "cell_type": "code",
   "execution_count": 192,
   "id": "590a917f",
   "metadata": {},
   "outputs": [],
   "source": [
    "INDICES = [i for i in res.index if i not in [17034, 17010]]\n",
    "add_info(\"vy\", INDICES)\n",
    "add_info(\"\", [17034, 17010])\n"
   ]
  },
  {
   "cell_type": "code",
   "execution_count": 186,
   "id": "c8cf2b1f",
   "metadata": {},
   "outputs": [],
   "source": [
    "def add_info(pref, indices):\n",
    "    all_verbs.loc[\n",
    "        indices,\n",
    "        'prefix'\n",
    "    ] = pref + \"’\"\n",
    "    all_verbs.loc[\n",
    "        indices,\n",
    "        'verb_stem'\n",
    "    ] = res['isv'].str[len(pref):]\n"
   ]
  },
  {
   "cell_type": "code",
   "execution_count": null,
   "id": "d7ee518d",
   "metadata": {},
   "outputs": [],
   "source": []
  }
 ],
 "metadata": {
  "kernelspec": {
   "display_name": "Python [conda env:isvbase]",
   "language": "python",
   "name": "conda-env-isvbase-py"
  },
  "language_info": {
   "codemirror_mode": {
    "name": "ipython",
    "version": 3
   },
   "file_extension": ".py",
   "mimetype": "text/x-python",
   "name": "python",
   "nbconvert_exporter": "python",
   "pygments_lexer": "ipython3",
   "version": "3.8.16"
  }
 },
 "nbformat": 4,
 "nbformat_minor": 5
}
